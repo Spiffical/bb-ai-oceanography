{
 "cells": [
  {
   "cell_type": "markdown",
   "id": "21b03da2-e168-4730-889e-997ca763cbcc",
   "metadata": {},
   "source": [
    "Adapted code from: https://gist.github.com/lmcinnes/7a39a9f103f25300aee07201bb0a9b8a\n",
    "\n",
    "For vis: https://lmcinnes.github.io/datamapplot_examples/ArXiv_data_map_example.html"
   ]
  },
  {
   "cell_type": "code",
   "execution_count": 1,
   "id": "1c32b9d2-d3f5-4e92-82fc-bd282c86e14c",
   "metadata": {},
   "outputs": [],
   "source": [
    "import numpy as np\n",
    "import pandas as pd\n",
    "# import datasets\n",
    "import fast_hdbscan\n",
    "import umap\n",
    "import numba\n",
    "\n",
    "import sklearn .metrics\n",
    "import vectorizers\n",
    "import vectorizers.transformers\n",
    "import sklearn.feature_extraction\n",
    "import scipy.sparse\n",
    "\n",
    "import sentence_transformers\n",
    "\n",
    "from sklearn.utils.extmath import randomized_svd\n",
    "from sklearn.preprocessing import normalize"
   ]
  },
  {
   "cell_type": "markdown",
   "id": "d6df6f02-4a63-441b-9a9f-3235e9fcecbd",
   "metadata": {},
   "source": [
    "# Building a map and clusters"
   ]
  },
  {
   "cell_type": "code",
   "execution_count": 98,
   "id": "d98a3049-21da-4263-b0e7-9e2e03f15009",
   "metadata": {},
   "outputs": [],
   "source": [
    "embedding_model = sentence_transformers.SentenceTransformer(\"all-mpnet-base-v2\", device=\"cuda\")"
   ]
  },
  {
   "cell_type": "code",
   "execution_count": 127,
   "id": "154e064a-eec4-4180-9d62-4bba6329e95c",
   "metadata": {
    "scrolled": true
   },
   "outputs": [
    {
     "data": {
      "text/html": [
       "<div>\n",
       "<style scoped>\n",
       "    .dataframe tbody tr th:only-of-type {\n",
       "        vertical-align: middle;\n",
       "    }\n",
       "\n",
       "    .dataframe tbody tr th {\n",
       "        vertical-align: top;\n",
       "    }\n",
       "\n",
       "    .dataframe thead th {\n",
       "        text-align: right;\n",
       "    }\n",
       "</style>\n",
       "<table border=\"1\" class=\"dataframe\">\n",
       "  <thead>\n",
       "    <tr style=\"text-align: right;\">\n",
       "      <th></th>\n",
       "      <th>index</th>\n",
       "      <th>Unnamed: 0</th>\n",
       "      <th>Unnamed: 1</th>\n",
       "      <th>Unnamed: 2</th>\n",
       "      <th>Title</th>\n",
       "      <th>Year</th>\n",
       "      <th>Journal</th>\n",
       "      <th>Unnamed: 6</th>\n",
       "      <th>Unnamed: 7</th>\n",
       "      <th>Unnamed: 8</th>\n",
       "      <th>...</th>\n",
       "      <th>Unnamed: 35</th>\n",
       "      <th>Unnamed: 36</th>\n",
       "      <th>Unnamed: 37</th>\n",
       "      <th>Manual Labelling</th>\n",
       "      <th>Zero-shot labelling (lower = more relevant)</th>\n",
       "      <th>Relevant to Oceanography? (lower = more relevant)</th>\n",
       "      <th>Unnamed: 41</th>\n",
       "      <th>Unnamed: 42</th>\n",
       "      <th>Notes / Comments</th>\n",
       "      <th>Include / Exclude</th>\n",
       "    </tr>\n",
       "  </thead>\n",
       "  <tbody>\n",
       "    <tr>\n",
       "      <th>0</th>\n",
       "      <td>0</td>\n",
       "      <td>Liu Y.; Meng Z.; Chen W.; Liang Y.; Chen W.; C...</td>\n",
       "      <td>Liu, Yuyao (57240197700); Meng, Zhou (72018949...</td>\n",
       "      <td>57240197700; 7201894926; 57213686853; 57218294...</td>\n",
       "      <td>Ocean Fronts and Their Acoustic Effects: A Review</td>\n",
       "      <td>2022</td>\n",
       "      <td>Journal of Marine Science and Engineering</td>\n",
       "      <td>NaN</td>\n",
       "      <td>10</td>\n",
       "      <td>12</td>\n",
       "      <td>...</td>\n",
       "      <td>2-s2.0-85144836521</td>\n",
       "      <td>NaN</td>\n",
       "      <td>NaN</td>\n",
       "      <td>Acoustic classification</td>\n",
       "      <td>Acoustic classification (0.386); Sea floor map...</td>\n",
       "      <td>1.115355</td>\n",
       "      <td>AI</td>\n",
       "      <td>NaN</td>\n",
       "      <td>NaN</td>\n",
       "      <td>Included</td>\n",
       "    </tr>\n",
       "    <tr>\n",
       "      <th>1</th>\n",
       "      <td>1</td>\n",
       "      <td>Luo X.; Chen L.; Zhou H.; Cao H.</td>\n",
       "      <td>Luo, Xinwei (36995012900); Chen, Lu (581222398...</td>\n",
       "      <td>36995012900; 58122239800; 58122239900; 5771425...</td>\n",
       "      <td>A Survey of Underwater Acoustic Target Recogni...</td>\n",
       "      <td>2023</td>\n",
       "      <td>Journal of Marine Science and Engineering</td>\n",
       "      <td>NaN</td>\n",
       "      <td>11</td>\n",
       "      <td>2</td>\n",
       "      <td>...</td>\n",
       "      <td>2-s2.0-85149119509</td>\n",
       "      <td>NaN</td>\n",
       "      <td>NaN</td>\n",
       "      <td>Acoustic classification</td>\n",
       "      <td>Acoustic classification (0.368); Detection of ...</td>\n",
       "      <td>1.355405</td>\n",
       "      <td>AI</td>\n",
       "      <td>NaN</td>\n",
       "      <td>NaN</td>\n",
       "      <td>Included</td>\n",
       "    </tr>\n",
       "    <tr>\n",
       "      <th>2</th>\n",
       "      <td>2</td>\n",
       "      <td>Zhufeng L.; Xiaofang L.; Na W.; Qingyang Z.</td>\n",
       "      <td>Zhufeng, Lei (57201702161); Xiaofang, Lei (579...</td>\n",
       "      <td>57201702161; 57949172700; 57948807100; 5794892...</td>\n",
       "      <td>Present status and challenges of underwater ac...</td>\n",
       "      <td>2022</td>\n",
       "      <td>Frontiers in Physics</td>\n",
       "      <td>NaN</td>\n",
       "      <td>10</td>\n",
       "      <td>NaN</td>\n",
       "      <td>...</td>\n",
       "      <td>2-s2.0-85140965810</td>\n",
       "      <td>NaN</td>\n",
       "      <td>NaN</td>\n",
       "      <td>Acoustic classification</td>\n",
       "      <td>Acoustic classification (0.379); Contaminated ...</td>\n",
       "      <td>1.386320</td>\n",
       "      <td>AI</td>\n",
       "      <td>NaN</td>\n",
       "      <td>NaN</td>\n",
       "      <td>Included</td>\n",
       "    </tr>\n",
       "    <tr>\n",
       "      <th>3</th>\n",
       "      <td>3</td>\n",
       "      <td>NaN</td>\n",
       "      <td>NaN</td>\n",
       "      <td>NaN</td>\n",
       "      <td>Categorizing Shallow Marine Soundscapes Using ...</td>\n",
       "      <td>2023</td>\n",
       "      <td>Journal of Marine Science and Engineering</td>\n",
       "      <td>NaN</td>\n",
       "      <td>NaN</td>\n",
       "      <td>NaN</td>\n",
       "      <td>...</td>\n",
       "      <td>NaN</td>\n",
       "      <td>NaN</td>\n",
       "      <td>NaN</td>\n",
       "      <td>Acoustic classification</td>\n",
       "      <td>Acoustic classification (0.349); Marine ecolog...</td>\n",
       "      <td>1.151325</td>\n",
       "      <td>AI</td>\n",
       "      <td>NaN</td>\n",
       "      <td>NaN</td>\n",
       "      <td>Included</td>\n",
       "    </tr>\n",
       "    <tr>\n",
       "      <th>4</th>\n",
       "      <td>4</td>\n",
       "      <td>NaN</td>\n",
       "      <td>NaN</td>\n",
       "      <td>NaN</td>\n",
       "      <td>Automated cataloguing of American silver perch...</td>\n",
       "      <td>2023</td>\n",
       "      <td>Bioacoustics</td>\n",
       "      <td>NaN</td>\n",
       "      <td>NaN</td>\n",
       "      <td>NaN</td>\n",
       "      <td>...</td>\n",
       "      <td>NaN</td>\n",
       "      <td>NaN</td>\n",
       "      <td>NaN</td>\n",
       "      <td>Acoustic classification</td>\n",
       "      <td>Whale identification (0.425); Acoustic classif...</td>\n",
       "      <td>1.388355</td>\n",
       "      <td>AI</td>\n",
       "      <td>NaN</td>\n",
       "      <td>NaN</td>\n",
       "      <td>Included</td>\n",
       "    </tr>\n",
       "    <tr>\n",
       "      <th>...</th>\n",
       "      <td>...</td>\n",
       "      <td>...</td>\n",
       "      <td>...</td>\n",
       "      <td>...</td>\n",
       "      <td>...</td>\n",
       "      <td>...</td>\n",
       "      <td>...</td>\n",
       "      <td>...</td>\n",
       "      <td>...</td>\n",
       "      <td>...</td>\n",
       "      <td>...</td>\n",
       "      <td>...</td>\n",
       "      <td>...</td>\n",
       "      <td>...</td>\n",
       "      <td>...</td>\n",
       "      <td>...</td>\n",
       "      <td>...</td>\n",
       "      <td>...</td>\n",
       "      <td>...</td>\n",
       "      <td>...</td>\n",
       "      <td>...</td>\n",
       "    </tr>\n",
       "    <tr>\n",
       "      <th>1117</th>\n",
       "      <td>1609</td>\n",
       "      <td>NaN</td>\n",
       "      <td>NaN</td>\n",
       "      <td>NaN</td>\n",
       "      <td>Species-environment associations and predicted...</td>\n",
       "      <td>2017</td>\n",
       "      <td>Avian Conservation and Ecology</td>\n",
       "      <td>NaN</td>\n",
       "      <td>NaN</td>\n",
       "      <td>NaN</td>\n",
       "      <td>...</td>\n",
       "      <td>NaN</td>\n",
       "      <td>NaN</td>\n",
       "      <td>NaN</td>\n",
       "      <td>Species distribution</td>\n",
       "      <td>Species distribution (0.395); Invasive species...</td>\n",
       "      <td>1.357163</td>\n",
       "      <td>AI</td>\n",
       "      <td>NaN</td>\n",
       "      <td>NaN</td>\n",
       "      <td>Included</td>\n",
       "    </tr>\n",
       "    <tr>\n",
       "      <th>1118</th>\n",
       "      <td>1613</td>\n",
       "      <td>NaN</td>\n",
       "      <td>NaN</td>\n",
       "      <td>NaN</td>\n",
       "      <td>A Deep learning method for accurate and fast i...</td>\n",
       "      <td>2018</td>\n",
       "      <td>Ecological Informatics</td>\n",
       "      <td>NaN</td>\n",
       "      <td>NaN</td>\n",
       "      <td>NaN</td>\n",
       "      <td>...</td>\n",
       "      <td>NaN</td>\n",
       "      <td>NaN</td>\n",
       "      <td>NaN</td>\n",
       "      <td>Invasive species monitoring</td>\n",
       "      <td>Underwater photography (0.352); Coral reef mon...</td>\n",
       "      <td>1.294072</td>\n",
       "      <td>AI</td>\n",
       "      <td>NaN</td>\n",
       "      <td>NaN</td>\n",
       "      <td>Included</td>\n",
       "    </tr>\n",
       "    <tr>\n",
       "      <th>1119</th>\n",
       "      <td>1614</td>\n",
       "      <td>NaN</td>\n",
       "      <td>NaN</td>\n",
       "      <td>NaN</td>\n",
       "      <td>Deep convolutional neural networks capabilitie...</td>\n",
       "      <td>2018</td>\n",
       "      <td>Atmosphere</td>\n",
       "      <td>NaN</td>\n",
       "      <td>NaN</td>\n",
       "      <td>NaN</td>\n",
       "      <td>...</td>\n",
       "      <td>NaN</td>\n",
       "      <td>NaN</td>\n",
       "      <td>NaN</td>\n",
       "      <td>Climate modelling,\\nNatural disaster forecasting</td>\n",
       "      <td>Climate modelling (0.408); Ocean chemistry det...</td>\n",
       "      <td>1.340750</td>\n",
       "      <td>AI</td>\n",
       "      <td>NaN</td>\n",
       "      <td>NaN</td>\n",
       "      <td>Included</td>\n",
       "    </tr>\n",
       "    <tr>\n",
       "      <th>1120</th>\n",
       "      <td>1621</td>\n",
       "      <td>NaN</td>\n",
       "      <td>NaN</td>\n",
       "      <td>NaN</td>\n",
       "      <td>Recruitment forecasting of yellowfin tuna in t...</td>\n",
       "      <td>2016</td>\n",
       "      <td>Ecological Informatics</td>\n",
       "      <td>NaN</td>\n",
       "      <td>NaN</td>\n",
       "      <td>NaN</td>\n",
       "      <td>...</td>\n",
       "      <td>NaN</td>\n",
       "      <td>NaN</td>\n",
       "      <td>NaN</td>\n",
       "      <td>Invasive species monitoring</td>\n",
       "      <td>Marine ecology (0.420); Natural disaster forec...</td>\n",
       "      <td>1.396317</td>\n",
       "      <td>AI</td>\n",
       "      <td>NaN</td>\n",
       "      <td>NaN</td>\n",
       "      <td>Included</td>\n",
       "    </tr>\n",
       "    <tr>\n",
       "      <th>1121</th>\n",
       "      <td>1622</td>\n",
       "      <td>NaN</td>\n",
       "      <td>NaN</td>\n",
       "      <td>NaN</td>\n",
       "      <td>Hindcast modeling of oil slick persistence fro...</td>\n",
       "      <td>2017</td>\n",
       "      <td>Remote Sensing of Environment</td>\n",
       "      <td>NaN</td>\n",
       "      <td>NaN</td>\n",
       "      <td>NaN</td>\n",
       "      <td>...</td>\n",
       "      <td>NaN</td>\n",
       "      <td>NaN</td>\n",
       "      <td>NaN</td>\n",
       "      <td>Contaminated Ocean Water detection</td>\n",
       "      <td>Ocean circulation and currents (0.404); Ocean ...</td>\n",
       "      <td>1.286471</td>\n",
       "      <td>AI</td>\n",
       "      <td>NaN</td>\n",
       "      <td>NaN</td>\n",
       "      <td>Included</td>\n",
       "    </tr>\n",
       "  </tbody>\n",
       "</table>\n",
       "<p>1122 rows × 46 columns</p>\n",
       "</div>"
      ],
      "text/plain": [
       "      index                                         Unnamed: 0  \\\n",
       "0         0  Liu Y.; Meng Z.; Chen W.; Liang Y.; Chen W.; C...   \n",
       "1         1                   Luo X.; Chen L.; Zhou H.; Cao H.   \n",
       "2         2        Zhufeng L.; Xiaofang L.; Na W.; Qingyang Z.   \n",
       "3         3                                                NaN   \n",
       "4         4                                                NaN   \n",
       "...     ...                                                ...   \n",
       "1117   1609                                                NaN   \n",
       "1118   1613                                                NaN   \n",
       "1119   1614                                                NaN   \n",
       "1120   1621                                                NaN   \n",
       "1121   1622                                                NaN   \n",
       "\n",
       "                                             Unnamed: 1  \\\n",
       "0     Liu, Yuyao (57240197700); Meng, Zhou (72018949...   \n",
       "1     Luo, Xinwei (36995012900); Chen, Lu (581222398...   \n",
       "2     Zhufeng, Lei (57201702161); Xiaofang, Lei (579...   \n",
       "3                                                   NaN   \n",
       "4                                                   NaN   \n",
       "...                                                 ...   \n",
       "1117                                                NaN   \n",
       "1118                                                NaN   \n",
       "1119                                                NaN   \n",
       "1120                                                NaN   \n",
       "1121                                                NaN   \n",
       "\n",
       "                                             Unnamed: 2  \\\n",
       "0     57240197700; 7201894926; 57213686853; 57218294...   \n",
       "1     36995012900; 58122239800; 58122239900; 5771425...   \n",
       "2     57201702161; 57949172700; 57948807100; 5794892...   \n",
       "3                                                   NaN   \n",
       "4                                                   NaN   \n",
       "...                                                 ...   \n",
       "1117                                                NaN   \n",
       "1118                                                NaN   \n",
       "1119                                                NaN   \n",
       "1120                                                NaN   \n",
       "1121                                                NaN   \n",
       "\n",
       "                                                  Title  Year  \\\n",
       "0     Ocean Fronts and Their Acoustic Effects: A Review  2022   \n",
       "1     A Survey of Underwater Acoustic Target Recogni...  2023   \n",
       "2     Present status and challenges of underwater ac...  2022   \n",
       "3     Categorizing Shallow Marine Soundscapes Using ...  2023   \n",
       "4     Automated cataloguing of American silver perch...  2023   \n",
       "...                                                 ...   ...   \n",
       "1117  Species-environment associations and predicted...  2017   \n",
       "1118  A Deep learning method for accurate and fast i...  2018   \n",
       "1119  Deep convolutional neural networks capabilitie...  2018   \n",
       "1120  Recruitment forecasting of yellowfin tuna in t...  2016   \n",
       "1121  Hindcast modeling of oil slick persistence fro...  2017   \n",
       "\n",
       "                                        Journal  Unnamed: 6 Unnamed: 7  \\\n",
       "0     Journal of Marine Science and Engineering         NaN         10   \n",
       "1     Journal of Marine Science and Engineering         NaN         11   \n",
       "2                          Frontiers in Physics         NaN         10   \n",
       "3     Journal of Marine Science and Engineering         NaN        NaN   \n",
       "4                                  Bioacoustics         NaN        NaN   \n",
       "...                                         ...         ...        ...   \n",
       "1117             Avian Conservation and Ecology         NaN        NaN   \n",
       "1118                     Ecological Informatics         NaN        NaN   \n",
       "1119                                 Atmosphere         NaN        NaN   \n",
       "1120                     Ecological Informatics         NaN        NaN   \n",
       "1121              Remote Sensing of Environment         NaN        NaN   \n",
       "\n",
       "     Unnamed: 8  ...         Unnamed: 35 Unnamed: 36 Unnamed: 37  \\\n",
       "0            12  ...  2-s2.0-85144836521         NaN         NaN   \n",
       "1             2  ...  2-s2.0-85149119509         NaN         NaN   \n",
       "2           NaN  ...  2-s2.0-85140965810         NaN         NaN   \n",
       "3           NaN  ...                 NaN         NaN         NaN   \n",
       "4           NaN  ...                 NaN         NaN         NaN   \n",
       "...         ...  ...                 ...         ...         ...   \n",
       "1117        NaN  ...                 NaN         NaN         NaN   \n",
       "1118        NaN  ...                 NaN         NaN         NaN   \n",
       "1119        NaN  ...                 NaN         NaN         NaN   \n",
       "1120        NaN  ...                 NaN         NaN         NaN   \n",
       "1121        NaN  ...                 NaN         NaN         NaN   \n",
       "\n",
       "                                      Manual Labelling  \\\n",
       "0                              Acoustic classification   \n",
       "1                              Acoustic classification   \n",
       "2                              Acoustic classification   \n",
       "3                              Acoustic classification   \n",
       "4                              Acoustic classification   \n",
       "...                                                ...   \n",
       "1117                              Species distribution   \n",
       "1118                       Invasive species monitoring   \n",
       "1119  Climate modelling,\\nNatural disaster forecasting   \n",
       "1120                       Invasive species monitoring   \n",
       "1121                Contaminated Ocean Water detection   \n",
       "\n",
       "            Zero-shot labelling (lower = more relevant)  \\\n",
       "0     Acoustic classification (0.386); Sea floor map...   \n",
       "1     Acoustic classification (0.368); Detection of ...   \n",
       "2     Acoustic classification (0.379); Contaminated ...   \n",
       "3     Acoustic classification (0.349); Marine ecolog...   \n",
       "4     Whale identification (0.425); Acoustic classif...   \n",
       "...                                                 ...   \n",
       "1117  Species distribution (0.395); Invasive species...   \n",
       "1118  Underwater photography (0.352); Coral reef mon...   \n",
       "1119  Climate modelling (0.408); Ocean chemistry det...   \n",
       "1120  Marine ecology (0.420); Natural disaster forec...   \n",
       "1121  Ocean circulation and currents (0.404); Ocean ...   \n",
       "\n",
       "     Relevant to Oceanography? (lower = more relevant) Unnamed: 41  \\\n",
       "0                                             1.115355          AI   \n",
       "1                                             1.355405          AI   \n",
       "2                                             1.386320          AI   \n",
       "3                                             1.151325          AI   \n",
       "4                                             1.388355          AI   \n",
       "...                                                ...         ...   \n",
       "1117                                          1.357163          AI   \n",
       "1118                                          1.294072          AI   \n",
       "1119                                          1.340750          AI   \n",
       "1120                                          1.396317          AI   \n",
       "1121                                          1.286471          AI   \n",
       "\n",
       "     Unnamed: 42 Notes / Comments Include / Exclude  \n",
       "0            NaN              NaN          Included  \n",
       "1            NaN              NaN          Included  \n",
       "2            NaN              NaN          Included  \n",
       "3            NaN              NaN          Included  \n",
       "4            NaN              NaN          Included  \n",
       "...          ...              ...               ...  \n",
       "1117         NaN              NaN          Included  \n",
       "1118         NaN              NaN          Included  \n",
       "1119         NaN              NaN          Included  \n",
       "1120         NaN              NaN          Included  \n",
       "1121         NaN              NaN          Included  \n",
       "\n",
       "[1122 rows x 46 columns]"
      ]
     },
     "execution_count": 127,
     "metadata": {},
     "output_type": "execute_result"
    }
   ],
   "source": [
    "dataset = pd.read_csv(\"./Search String H Results - Literature Reviews.csv\", keep_default_na=False, na_values=[''])\n",
    "dataset.drop_duplicates(subset=[\"Title\"], inplace=True)\n",
    "dataset = dataset[~(dataset[\"Manual Labelling\"] == \"N/A\")]\n",
    "dataset.reset_index(inplace=True)\n",
    "dataset\n",
    "# dataset.head()"
   ]
  },
  {
   "cell_type": "code",
   "execution_count": 128,
   "id": "6de9c290-dfb1-4d7b-9c2d-5316a265b55d",
   "metadata": {},
   "outputs": [],
   "source": [
    "data_strings = pd.DataFrame(dataset)[[\"Title\", \"Abstract\"]]"
   ]
  },
  {
   "cell_type": "code",
   "execution_count": 129,
   "id": "ef58045e-b531-4a57-9f11-5d83df38cb56",
   "metadata": {},
   "outputs": [
    {
     "data": {
      "application/vnd.jupyter.widget-view+json": {
       "model_id": "933513d2b643416991b5cdfba4d46014",
       "version_major": 2,
       "version_minor": 0
      },
      "text/plain": [
       "Batches:   0%|          | 0/36 [00:00<?, ?it/s]"
      ]
     },
     "metadata": {},
     "output_type": "display_data"
    }
   ],
   "source": [
    "data_vectors = embedding_model.encode(data_strings.Title + \"\\n\\n\" + data_strings.Abstract, show_progress_bar=True)"
   ]
  },
  {
   "cell_type": "code",
   "execution_count": 130,
   "id": "b424896a-8d69-4223-976b-d6adc73208f1",
   "metadata": {},
   "outputs": [
    {
     "name": "stderr",
     "output_type": "stream",
     "text": [
      "/home/taylor/miniforge3/envs/kom/lib/python3.11/site-packages/umap/umap_.py:1943: UserWarning: n_jobs value -1 overridden to 1 by setting random_state. Use no seed for parallelism.\n",
      "  warn(f\"n_jobs value {self.n_jobs} overridden to 1 by setting random_state. Use no seed for parallelism.\")\n"
     ]
    }
   ],
   "source": [
    "data_map = umap.UMAP(metric=\"cosine\", n_components=2, random_state=42).fit_transform(data_vectors)"
   ]
  },
  {
   "cell_type": "code",
   "execution_count": 131,
   "id": "1051c11f-87fb-4a7b-bf50-f97912285035",
   "metadata": {},
   "outputs": [
    {
     "data": {
      "image/png": "[encoded data removed]",
      "text/plain": [
       "<Figure size 640x480 with 1 Axes>"
      ]
     },
     "metadata": {},
     "output_type": "display_data"
    }
   ],
   "source": [
    "import matplotlib.pyplot as plt\n",
    "\n",
    "plt.scatter(*data_map.T)\n",
    "plt.show()"
   ]
  },
  {
   "cell_type": "markdown",
   "id": "2953fdc0-a6b3-4c09-8473-aee0f2242166",
   "metadata": {},
   "source": [
    "Now we need to do some clustering; for this I'll use HDBCSAN (more specifically fast_hdbscan seeing as it is faster and more flexible at reaching into some of the internals). I want layers of clusters not a strict hierarchy, so we'll use some HDBSCAN based tricks to make that possible. I also want to keep track of a bunch of information which will then be used to feed back into the cluster naming -- the cluster centroid in the map layout; the cluster centroid in the original high-d embedding space; what the subclusters are; and the actual data points in each cluster.\r\n",
    "\r\n",
    "After that we'll throw together some quick functions to get topical and distinctive sentences and extract keywords."
   ]
  },
  {
   "cell_type": "code",
   "execution_count": 132,
   "id": "eada7958-cafe-463c-80ef-7f825f12da76",
   "metadata": {},
   "outputs": [],
   "source": [
    "@numba.njit(fastmath=True)\n",
    "def layer_from_clustering(\n",
    "    point_vectors,\n",
    "    point_locations,\n",
    "    cluster_label_vector,\n",
    "    cluster_membership_vector,\n",
    "    base_clusters,\n",
    "    membership_strength_threshold=0.2,\n",
    "):\n",
    "    n_clusters = len(set(cluster_label_vector)) - 1\n",
    "    \n",
    "    average_vectors = np.zeros((n_clusters, point_vectors.shape[1]), dtype=np.float32)\n",
    "    average_locations = np.zeros((n_clusters, point_locations.shape[1]), dtype=np.float32)\n",
    "    total_weights = np.zeros(n_clusters, dtype=np.float32)\n",
    "    pointsets = [set([-1 for i in range(0)]) for i in range(n_clusters)]\n",
    "    metaclusters = [set([-1 for i in range(0)]) for i in range(n_clusters)]\n",
    "\n",
    "    for i in range(cluster_label_vector.shape[0]):\n",
    "        cluster_num = cluster_label_vector[i]\n",
    "        if cluster_num >= 0:\n",
    "            average_vectors[cluster_num] += cluster_membership_vector[i] * point_vectors[i]\n",
    "            average_locations[cluster_num] += cluster_membership_vector[i] * point_locations[i]\n",
    "            total_weights[cluster_num] += cluster_membership_vector[i]\n",
    "            \n",
    "            if cluster_membership_vector[i] > membership_strength_threshold:\n",
    "                pointsets[cluster_num].add(i)\n",
    "                sub_cluster = base_clusters[i]\n",
    "                if sub_cluster != -1:\n",
    "                    metaclusters[cluster_num].add(sub_cluster)\n",
    "                \n",
    "    for c in range(n_clusters):\n",
    "        average_vectors[c] /= total_weights[c]\n",
    "        average_locations[c] /= total_weights[c]\n",
    "        \n",
    "    return average_vectors, average_locations, pointsets, metaclusters\n",
    "                \n",
    "            \n",
    "def build_cluster_layers(\n",
    "    point_vectors,\n",
    "    point_locations,\n",
    "    *,\n",
    "    min_clusters=2,\n",
    "    min_samples=5,\n",
    "    base_min_cluster_size=10,\n",
    "    membership_strength_threshold=0.2,\n",
    "    next_cluster_size_quantile=0.8,\n",
    "):\n",
    "    vector_layers = []\n",
    "    location_layers = []\n",
    "    pointset_layers = []\n",
    "    metacluster_layers = []\n",
    "    \n",
    "    min_cluster_size = base_min_cluster_size\n",
    "    \n",
    "    sklearn_tree = fast_hdbscan.hdbscan.KDTree(point_locations)\n",
    "    numba_tree = fast_hdbscan.numba_kdtree.kdtree_to_numba(sklearn_tree)\n",
    "    edges = fast_hdbscan.boruvka.parallel_boruvka(\n",
    "        numba_tree, min_samples=min_cluster_size if min_samples is None else min_samples\n",
    "    )\n",
    "    sorted_mst = edges[np.argsort(edges.T[2])]\n",
    "    uncondensed_tree = fast_hdbscan.cluster_trees.mst_to_linkage_tree(sorted_mst)\n",
    "    new_tree = fast_hdbscan.cluster_trees.condense_tree(uncondensed_tree, base_min_cluster_size)\n",
    "    leaves = fast_hdbscan.cluster_trees.extract_leaves(new_tree)\n",
    "    clusters = fast_hdbscan.cluster_trees.get_cluster_label_vector(new_tree, leaves, 0.0)\n",
    "    point_probs = fast_hdbscan.cluster_trees.get_point_membership_strength_vector(new_tree, leaves, clusters)\n",
    "\n",
    "\n",
    "    cluster_ids = np.unique(clusters[clusters >= 0])\n",
    "    base_clusters = clusters.copy()\n",
    "    n_clusters_in_layer = cluster_ids.shape[0]\n",
    "    \n",
    "    base_layer = True\n",
    "\n",
    "    while n_clusters_in_layer >= min_clusters:\n",
    "        layer_vectors, layer_locations, layer_pointsets, layer_metaclusters = layer_from_clustering(\n",
    "            point_vectors,\n",
    "            point_locations,\n",
    "            clusters,\n",
    "            point_probs,\n",
    "            base_clusters,\n",
    "            membership_strength_threshold,            \n",
    "        )\n",
    "            \n",
    "        if not base_layer:\n",
    "            layer_metacluster_selection = np.asarray([len(x) > 1 for x in layer_metaclusters])\n",
    "            layer_metaclusters = [\n",
    "                list(x) for x, select in zip(layer_metaclusters, layer_metacluster_selection) if select\n",
    "            ]\n",
    "            layer_pointsets = [\n",
    "                list(x) for x, select in zip(layer_pointsets, layer_metacluster_selection) if select\n",
    "            ]\n",
    "            layer_vectors = layer_vectors[layer_metacluster_selection]\n",
    "            layer_locations=  layer_locations[layer_metacluster_selection]\n",
    "            \n",
    "        vector_layers.append(layer_vectors)\n",
    "        location_layers.append(layer_locations)\n",
    "        pointset_layers.append(layer_pointsets)\n",
    "        metacluster_layers.append(layer_metaclusters)\n",
    "        \n",
    "        last_min_cluster_size = min_cluster_size\n",
    "        min_cluster_size = int(np.quantile([len(x) for x in layer_pointsets], next_cluster_size_quantile))\n",
    "        print(len(layer_vectors), last_min_cluster_size, min_cluster_size)\n",
    "        \n",
    "        new_tree = fast_hdbscan.cluster_trees.condense_tree(uncondensed_tree, min_cluster_size)\n",
    "        leaves = fast_hdbscan.cluster_trees.extract_leaves(new_tree)\n",
    "        clusters = fast_hdbscan.cluster_trees.get_cluster_label_vector(new_tree, leaves, 0.0)\n",
    "        point_probs = fast_hdbscan.cluster_trees.get_point_membership_strength_vector(new_tree, leaves, clusters)\n",
    "        \n",
    "        cluster_ids = np.unique(clusters[clusters >= 0])\n",
    "        n_clusters_in_layer = np.max(clusters) + 1\n",
    "        base_layer = False\n",
    "       \n",
    "    pointset_layers = [[list(pointset) for pointset in layer] for layer in pointset_layers]\n",
    "    return vector_layers, location_layers, pointset_layers, metacluster_layers\n",
    "\n",
    "\n",
    "def diversify(query_vector, candidate_neighbor_vectors, alpha=1.0, max_candidates=16):\n",
    "    distance_to_query = np.squeeze(sklearn.metrics.pairwise_distances(\n",
    "        [query_vector], candidate_neighbor_vectors, metric=\"cosine\")\n",
    "    )\n",
    "                                   \n",
    "    retained_neighbor_indices = [0]\n",
    "    for i, vector in enumerate(candidate_neighbor_vectors[1:], 1):\n",
    "        retained_neighbor_distances = sklearn.metrics.pairwise_distances(\n",
    "            [vector], candidate_neighbor_vectors[retained_neighbor_indices], metric=\"cosine\"\n",
    "        )[0]\n",
    "        for j in range(retained_neighbor_distances.shape[0]):\n",
    "            if alpha * distance_to_query[i] > retained_neighbor_distances[j]:\n",
    "                break\n",
    "        else:\n",
    "            retained_neighbor_indices.append(i)\n",
    "            if len(retained_neighbor_indices) >= max_candidates:\n",
    "                return retained_neighbor_indices\n",
    "            \n",
    "    return retained_neighbor_indices\n",
    "\n",
    "\n",
    "def topical_sentences_for_cluster(docs, vector_array, pointset, centroid_vector, n_sentence_examples=16):\n",
    "    sentences = docs.values[pointset]\n",
    "\n",
    "    sent_vectors = vector_array[pointset]\n",
    "    candidate_neighbor_indices = np.argsort(\n",
    "        np.squeeze(sklearn.metrics.pairwise_distances([centroid_vector], sent_vectors, metric=\"cosine\"))\n",
    "    )\n",
    "    candidate_neighbors = sent_vectors[candidate_neighbor_indices]\n",
    "    topical_sentence_indices = candidate_neighbor_indices[\n",
    "        diversify(centroid_vector, candidate_neighbors)[:n_sentence_examples]\n",
    "    ]\n",
    "    topical_sentences = [sentences[i] for i in topical_sentence_indices]\n",
    "    return topical_sentences\n",
    "\n",
    "def distinctive_sentences_for_cluster(\n",
    "    cluster_num, docs, vector_array, pointset_layer, cluster_neighbors, n_sentence_examples=16\n",
    "):\n",
    "    pointset = pointset_layer[cluster_num]\n",
    "    sentences = docs.values[pointset]\n",
    "\n",
    "    local_vectors = vector_array[sum([pointset_layer[x] for x in cluster_neighbors], [])]\n",
    "    vectors_for_svd = normalize(local_vectors - local_vectors.mean(axis=0))\n",
    "    U, S, Vh = randomized_svd(vectors_for_svd, 64)\n",
    "    transformed_docs = (local_vectors @ Vh.T)\n",
    "    transformed_docs = np.where(transformed_docs > 0, transformed_docs, 0)\n",
    "    class_labels = np.repeat(\n",
    "        np.arange(\n",
    "            len(cluster_neighbors)\n",
    "        ), \n",
    "        [len(pointset_layer[x]) for x in cluster_neighbors]\n",
    "    )\n",
    "    iwt = vectorizers.transformers.InformationWeightTransformer().fit(transformed_docs, class_labels)\n",
    "    sentence_weights = np.sum(transformed_docs[:len(pointset)] * iwt.information_weights_, axis=1)\n",
    "    distinctive_sentence_indices = np.argsort(sentence_weights)[:n_sentence_examples * 3]\n",
    "    distinctive_sentence_vectors = vector_array[distinctive_sentence_indices]\n",
    "    diversified_candidates = diversify(\n",
    "        vector_array[pointset_layer[cluster_num]].mean(axis=0), \n",
    "        distinctive_sentence_vectors\n",
    "    )\n",
    "    distinctive_sentence_indices = distinctive_sentence_indices[diversified_candidates[:n_sentence_examples]]\n",
    "    distinctive_sentences = [sentences[i] for i in distinctive_sentence_indices]\n",
    "    return distinctive_sentences\n",
    "\n",
    "def longest_keyphrases(candidate_keyphrases):\n",
    "    result = []\n",
    "    for i, phrase in enumerate(candidate_keyphrases):\n",
    "        for other in candidate_keyphrases:\n",
    "            if f\" {phrase}\" in other or f\"{phrase} \" in other:\n",
    "                phrase = other\n",
    "                \n",
    "        if phrase not in result:\n",
    "            candidate_keyphrases[i] = phrase\n",
    "            result.append(phrase)\n",
    "            \n",
    "    return result\n",
    "\n",
    "def contrastive_keywords_for_layer(\n",
    "    full_count_matrix, \n",
    "    inverse_vocab, \n",
    "    pointset_layer, \n",
    "    doc_vectors, \n",
    "    vocab_vectors, \n",
    "    n_keywords=16, \n",
    "    prior_strength=0.1,\n",
    "    weight_power=2.0\n",
    "):\n",
    "    count_matrix = full_count_matrix[sum(pointset_layer, []), :]\n",
    "    column_mask = np.squeeze(np.asarray(count_matrix.sum(axis=0))) > 0.0\n",
    "    count_matrix = count_matrix[:, column_mask]\n",
    "    column_map = np.arange(full_count_matrix.shape[1])[column_mask]\n",
    "    \n",
    "    class_labels = np.repeat(np.arange(len(pointset_layer)), [len(x) for x in pointset_layer])\n",
    "    iwt = vectorizers.transformers.InformationWeightTransformer(\n",
    "        prior_strength=prior_strength, weight_power=weight_power\n",
    "    ).fit(\n",
    "        count_matrix, class_labels\n",
    "    )\n",
    "    count_matrix.data = np.log(count_matrix.data + 1)\n",
    "    count_matrix.eliminate_zeros()\n",
    "    \n",
    "    weighted_matrix = iwt.transform(count_matrix)\n",
    "    \n",
    "    contrastive_keyword_layer = []\n",
    "    \n",
    "    from_row = 0\n",
    "    for i in range(len(pointset_layer)):\n",
    "        to_row = from_row + len(pointset_layer[i])\n",
    "        contrastive_scores = np.squeeze(np.asarray(weighted_matrix[from_row:to_row].sum(axis=0)))\n",
    "        contrastive_keyword_indices = np.argsort(contrastive_scores)[-4 * n_keywords:]\n",
    "        contrastive_keywords = [inverse_vocab[column_map[j]] for j in reversed(contrastive_keyword_indices)]\n",
    "        contrastive_keywords = longest_keyphrases(contrastive_keywords)\n",
    "        \n",
    "        centroid_vector = np.mean(doc_vectors[pointset_layer[i]], axis=0)\n",
    "        keyword_vectors = np.asarray([vocab_vectors[word] for word in contrastive_keywords])\n",
    "        chosen_indices = diversify(centroid_vector, keyword_vectors, alpha=0.66)[:n_keywords]\n",
    "        contrastive_keywords = [contrastive_keywords[j] for j in chosen_indices]\n",
    "        \n",
    "        contrastive_keyword_layer.append(contrastive_keywords)\n",
    "        from_row = to_row\n",
    "        \n",
    "    return contrastive_keyword_layer"
   ]
  },
  {
   "cell_type": "markdown",
   "id": "8aaf7830-fc8f-448a-ae61-79c7419fbad6",
   "metadata": {},
   "source": [
    "So now we just cluster, picking a minimim base cluster size and let the choices of layering from there be decided by the algorithm. This does not take long."
   ]
  },
  {
   "cell_type": "code",
   "execution_count": 139,
   "id": "78fba921-866f-4f46-b974-2af935204d2b",
   "metadata": {},
   "outputs": [
    {
     "name": "stdout",
     "output_type": "stream",
     "text": [
      "21 20 55\n",
      "6 55 137\n",
      "3 137 345\n",
      "21\n",
      "CPU times: user 21.4 ms, sys: 350 µs, total: 21.8 ms\n",
      "Wall time: 9.43 ms\n"
     ]
    }
   ],
   "source": [
    "%%time\n",
    "vector_layers, location_layers, pointset_layers, metacluster_layers = build_cluster_layers(\n",
    "    data_vectors, data_map, base_min_cluster_size=20, min_clusters=3,\n",
    ")\n",
    "print(len(vector_layers[0]))"
   ]
  },
  {
   "cell_type": "code",
   "execution_count": 140,
   "id": "905c6526-b77e-42c7-8478-895f3e622557",
   "metadata": {},
   "outputs": [],
   "source": [
    "# vector_layers\n",
    "# location_layers\n",
    "# pointset_layers\n",
    "# metacluster_layers"
   ]
  },
  {
   "cell_type": "markdown",
   "id": "cd226e50-d00b-445a-aaa8-d27486c0e09f",
   "metadata": {},
   "source": [
    "# Extracting useful cluster information for topic naming"
   ]
  },
  {
   "cell_type": "markdown",
   "id": "7da4c4be-29bf-4cae-ab1d-e7e89c1234ec",
   "metadata": {},
   "source": [
    "Next I'm going to need a little more information, since for distinctive sentences (and later on as well) it will help to know what nearby clusters are. We could write something to do this efficiently, but there aren't that many clusters so we'll just brute-force the whole thing."
   ]
  },
  {
   "cell_type": "code",
   "execution_count": 141,
   "id": "96fd6f6b-7d11-4330-a8c6-5629caebe708",
   "metadata": {},
   "outputs": [],
   "source": [
    "layer_cluster_neighbors = [\n",
    "    np.argsort(\n",
    "        sklearn.metrics.pairwise_distances(layer, metric=\"cosine\"), \n",
    "        axis=1\n",
    "    )[:, :16]\n",
    "    for layer in vector_layers\n",
    "]"
   ]
  },
  {
   "cell_type": "markdown",
   "id": "fb356566-23ae-4fe8-be7f-4cabd6d90c70",
   "metadata": {},
   "source": [
    "Now we can generate topical sentences (sentences most similar to the cluster centroid, up to some diversification) and distinctive sentences (sentences that most strongly distinguish this cluster from nearby ones) for all the clusters."
   ]
  },
  {
   "cell_type": "code",
   "execution_count": 142,
   "id": "350a8ae6-7bd1-4b53-b5f9-df716b755909",
   "metadata": {},
   "outputs": [
    {
     "name": "stdout",
     "output_type": "stream",
     "text": [
      "CPU times: user 153 ms, sys: 52 µs, total: 153 ms\n",
      "Wall time: 149 ms\n"
     ]
    }
   ],
   "source": [
    "%%time\n",
    "topical_sentences_per_cluster = [\n",
    "    [\n",
    "        topical_sentences_for_cluster(data_strings[\"Title\"], data_vectors, pointset, cluster_vector)\n",
    "        for pointset, cluster_vector in zip(pointset_layers[i], vector_layers[i])\n",
    "    ]\n",
    "    for i in range(len(pointset_layers))\n",
    "]"
   ]
  },
  {
   "cell_type": "code",
   "execution_count": 143,
   "id": "710d0e24-d180-4ab8-bd1b-1cb18d5a42b3",
   "metadata": {},
   "outputs": [
    {
     "name": "stdout",
     "output_type": "stream",
     "text": [
      "CPU times: user 2.21 s, sys: 642 ms, total: 2.85 s\n",
      "Wall time: 821 ms\n"
     ]
    }
   ],
   "source": [
    "%%time\n",
    "distinctive_sentences_per_cluster = [\n",
    "    [\n",
    "        distinctive_sentences_for_cluster(\n",
    "            topic_num, data_strings[\"Title\"], data_vectors, pointset_layers[i], layer_cluster_neighbors[i][topic_num]\n",
    "        )\n",
    "        for topic_num in range(len(pointset_layers[i]))\n",
    "    ]\n",
    "    for i in range(len(pointset_layers))\n",
    "]"
   ]
  },
  {
   "cell_type": "markdown",
   "id": "0d9e8a3c-4fef-429e-aa5b-796189e3bed7",
   "metadata": {},
   "source": [
    "Next I'm going to want some keywords for each cluster. I'm just stealing from other similar code I wrote here, so please excuse the mess -- this was just a \"get it done\" effort. In essence this is really much the same as BERTopic's c-TF-IDF except it uses the slightly newer supervised information weighting instead c-IDF. It also helps to use a decent n-gram range and beef up the min_df to get more informative keywords."
   ]
  },
  {
   "cell_type": "code",
   "execution_count": 144,
   "id": "4b65ef63-b818-40ad-8d1f-0eca2be8c8cd",
   "metadata": {},
   "outputs": [
    {
     "name": "stdout",
     "output_type": "stream",
     "text": [
      "CPU times: user 466 ms, sys: 51.8 ms, total: 518 ms\n",
      "Wall time: 518 ms\n"
     ]
    },
    {
     "data": {
      "text/plain": [
       "1287"
      ]
     },
     "execution_count": 144,
     "metadata": {},
     "output_type": "execute_result"
    }
   ],
   "source": [
    "%%time\n",
    "cv = sklearn.feature_extraction.text.CountVectorizer(lowercase=True, min_df=25, token_pattern='(?u)\\\\b\\\\w[-\\'\\\\w]+\\\\b', ngram_range=(1,4))\n",
    "full_count_matrix = cv.fit_transform(data_strings[\"Title\"] + \" \" + data_strings[\"Abstract\"])\n",
    "acceptable_vocab = [v for v in cv.vocabulary_ if v.split()[0] not in sklearn.feature_extraction.text.ENGLISH_STOP_WORDS and v.split()[-1] not in sklearn.feature_extraction.text.ENGLISH_STOP_WORDS]\n",
    "acceptable_indices = [cv.vocabulary_[v] for v in acceptable_vocab]\n",
    "full_count_matrix = full_count_matrix[:, acceptable_indices]\n",
    "inverse_vocab = {i:w for i, w in enumerate(acceptable_vocab)}\n",
    "vocab = acceptable_vocab\n",
    "len(vocab)"
   ]
  },
  {
   "cell_type": "code",
   "execution_count": 145,
   "id": "cf4dcfac-12e6-4869-bc10-db48ec7551cc",
   "metadata": {},
   "outputs": [
    {
     "data": {
      "application/vnd.jupyter.widget-view+json": {
       "model_id": "1c300c4d25674dfaa805d3229a5e6a17",
       "version_major": 2,
       "version_minor": 0
      },
      "text/plain": [
       "Batches:   0%|          | 0/41 [00:00<?, ?it/s]"
      ]
     },
     "metadata": {},
     "output_type": "display_data"
    }
   ],
   "source": [
    "vocab_vectors = dict(zip(vocab, embedding_model.encode(vocab, show_progress_bar=True)))"
   ]
  },
  {
   "cell_type": "code",
   "execution_count": 146,
   "id": "fdd57084-d32f-47a5-9939-36d953a4452d",
   "metadata": {},
   "outputs": [
    {
     "name": "stdout",
     "output_type": "stream",
     "text": [
      "CPU times: user 168 ms, sys: 178 µs, total: 168 ms\n",
      "Wall time: 165 ms\n"
     ]
    }
   ],
   "source": [
    "%%time\n",
    "contrastive_keyword_layers = [\n",
    "        contrastive_keywords_for_layer(\n",
    "        full_count_matrix, \n",
    "        inverse_vocab, \n",
    "        pointset_layers[layer_num], \n",
    "        data_vectors,\n",
    "        vocab_vectors,\n",
    "    )\n",
    "    for layer_num in range(len(pointset_layers))\n",
    "]"
   ]
  },
  {
   "cell_type": "markdown",
   "id": "7de041a5-8ed4-46cb-8d93-8e24809210f8",
   "metadata": {},
   "source": [
    "# Naming the lowest layer of topics"
   ]
  },
  {
   "cell_type": "markdown",
   "id": "cda0d009-0b58-43c1-bc4f-b2253aa30589",
   "metadata": {},
   "source": [
    "Now we get to the point of using an LLM to create topic names. I went through a few iterations of things like this, and this is what the prompt generation evolved into; if I was starting from scratch I think we could write this much more cleanly. Still, it gets the job done."
   ]
  },
  {
   "cell_type": "code",
   "execution_count": 147,
   "id": "3236f165-d6a1-416b-9a3c-582ff3323a63",
   "metadata": {},
   "outputs": [],
   "source": [
    "def create_prompt(\n",
    "    i, \n",
    "    contrastive_keyword_layer=contrastive_keyword_layers[0], \n",
    "    topical_sentences_per_cluster=topical_sentences_per_cluster[0],\n",
    "    distinctive_sentences_per_cluster=distinctive_sentences_per_cluster[0],\n",
    "    base_cluster_neighbors=layer_cluster_neighbors[0],\n",
    "):\n",
    "    prompt_text = \"--\\n\\nBelow is a information about a group of titles from machine learning articles:\\n\\n\"\n",
    "    prompt_text += \"Distinguishing keywords for this group:\\n - \\\"\" + \", \".join(contrastive_keyword_layer[i]) + \"\\\"\\n\"\n",
    "    prompt_text += \"\\nSample topical titles from the group include:\\n\"\n",
    "    for text in topical_sentences_per_cluster[i]:\n",
    "        prompt_text += f\" - \\\"{text}\\\"\\n\"\n",
    "    prompt_text += \"\\nSample distinctive titles from the group include:\\n\"\n",
    "    for text in distinctive_sentences_per_cluster[i]:\n",
    "        prompt_text += f\" - \\\"{text}\\\"\\n\"\n",
    "\n",
    "    prompt_text += \"\\n\\nSimilar titles from different groups with distinct topics include:\\n\"\n",
    "    for n in base_cluster_neighbors[i][:3]:\n",
    "        for text in distinctive_sentences_per_cluster[n][:2]:\n",
    "            prompt_text += f\"- \\\"{text}\\\"\\n\"\n",
    "\n",
    "    prompt_text += \"\\n\\nThe short distinguishing topic name for the group that had the keywords:\\n - \\\"\" + \", \".join(contrastive_keyword_layer[i][:8]) + \"\\\" \\n\"\n",
    "    prompt_text += \"is:\\n\"\n",
    "    return prompt_text"
   ]
  },
  {
   "cell_type": "markdown",
   "id": "229c8901-3dbf-448c-9f95-63a700c98469",
   "metadata": {},
   "source": [
    "Now we need out LLM. A quantized version of Mistral 7B is not bad, but pick the model that works for you. If you have a GPU this goes a lot faster. If you have a big GPU you will probably want a better model. In general the most powerful model that you can run on the hardware you have is likely your best bet."
   ]
  },
  {
   "cell_type": "code",
   "execution_count": 148,
   "id": "46cfa2dd-9925-46d7-b2b4-001a1d7c8e93",
   "metadata": {},
   "outputs": [],
   "source": [
    "from llama_cpp import Llama"
   ]
  },
  {
   "cell_type": "code",
   "execution_count": 149,
   "id": "997815e7-9fa4-4336-87b8-420b462a18a7",
   "metadata": {},
   "outputs": [],
   "source": [
    "# !wget https://huggingface.co/TheBloke/OpenHermes-2.5-Mistral-7B-GGUF/resolve/main/openhermes-2.5-mistral-7b.Q4_K_M.gguf"
   ]
  },
  {
   "cell_type": "code",
   "execution_count": 150,
   "id": "1d82b0c0-7aa7-4ff9-8256-16501ee3a45d",
   "metadata": {},
   "outputs": [],
   "source": [
    "llm = Llama(model_path=\"openhermes-2.5-mistral-7b.Q4_K_M.gguf\", n_gpu_layers=-1, n_ctx=4096, stop=[\"--\", \"\\n\"], verbose=False)"
   ]
  },
  {
   "cell_type": "markdown",
   "id": "487bdcbb-2461-4ffa-ae43-dcd88ee46d40",
   "metadata": {},
   "source": [
    "Before we run this in earnest let's try it out on the first cluster to make sure it works."
   ]
  },
  {
   "cell_type": "code",
   "execution_count": 151,
   "id": "acf4938a-eadc-4eaa-a3c8-7ffe62c4843a",
   "metadata": {},
   "outputs": [
    {
     "data": {
      "text/plain": [
       "{'id': 'cmpl-2e144ad7-fa4f-49dd-a5b4-227237b68b3a',\n",
       " 'object': 'text_completion',\n",
       " 'created': 1713983668,\n",
       " 'model': 'openhermes-2.5-mistral-7b.Q4_K_M.gguf',\n",
       " 'choices': [{'text': ' - Arctic Sea Ice Machine Learning\\n\\n\\nSimilar topics from different groups with distinct topics include:\\n- \"',\n",
       "   'index': 0,\n",
       "   'logprobs': None,\n",
       "   'finish_reason': 'length'}],\n",
       " 'usage': {'prompt_tokens': 868, 'completion_tokens': 24, 'total_tokens': 892}}"
      ]
     },
     "execution_count": 151,
     "metadata": {},
     "output_type": "execute_result"
    }
   ],
   "source": [
    "llm(create_prompt(0), max_tokens=24, temperature=0.75)"
   ]
  },
  {
   "cell_type": "markdown",
   "id": "62db9e96-1cfe-4ef5-85c8-1a9ad8f6903a",
   "metadata": {},
   "source": [
    "Looks good enough. Obviously we'll need to clean up the output a little, but that's easy enough to add. Let's write a function to do the naming ..."
   ]
  },
  {
   "cell_type": "code",
   "execution_count": 152,
   "id": "51efa8e5-da7b-4886-aaec-0384664f4e12",
   "metadata": {},
   "outputs": [],
   "source": [
    "import tqdm\n",
    "import string"
   ]
  },
  {
   "cell_type": "code",
   "execution_count": 153,
   "id": "6aef7603-9b31-4702-9058-7883b26faad6",
   "metadata": {},
   "outputs": [],
   "source": [
    "def base_level_topic_names(\n",
    "    topical_sentence_layer,\n",
    "    distinctive_sentence_layer,\n",
    "    contrastive_keyword_layer,\n",
    "    base_cluster_neighbors,\n",
    "    from_topic_index=0,\n",
    "    to_topic_index=10,\n",
    "):\n",
    "    topic_names = []\n",
    "    for i in tqdm.notebook.tqdm(range(from_topic_index, to_topic_index)):\n",
    "        topic_naming_prompt = create_prompt(\n",
    "            i, \n",
    "            contrastive_keyword_layer=contrastive_keyword_layer, \n",
    "            topical_sentences_per_cluster=topical_sentence_layer,\n",
    "            distinctive_sentences_per_cluster=distinctive_sentence_layer,\n",
    "            base_cluster_neighbors=base_cluster_neighbors,\n",
    "        )\n",
    "        topic_name = llm(topic_naming_prompt)['choices'][0]['text']\n",
    "        if \"\\n\" in topic_name:\n",
    "            topic_name = topic_name.lstrip(\"\\n \")\n",
    "            topic_name = topic_name.split(\"\\n\")[0]\n",
    "        topic_name = string.capwords(topic_name.strip(string.punctuation + string.whitespace))\n",
    "        topic_names.append(topic_name)\n",
    "\n",
    "    return topic_names"
   ]
  },
  {
   "cell_type": "markdown",
   "id": "635ba9e4-cb70-4e7d-add3-4ffa98aa6a72",
   "metadata": {},
   "source": [
    "And away we go ...\r\n",
    "\r\n"
   ]
  },
  {
   "cell_type": "code",
   "execution_count": 154,
   "id": "b01a24e0-ce1e-46c5-8318-d4f82f6bac51",
   "metadata": {},
   "outputs": [
    {
     "data": {
      "application/vnd.jupyter.widget-view+json": {
       "model_id": "530b1e0940a2401b853cdb427b3564e1",
       "version_major": 2,
       "version_minor": 0
      },
      "text/plain": [
       "  0%|          | 0/21 [00:00<?, ?it/s]"
      ]
     },
     "metadata": {},
     "output_type": "display_data"
    },
    {
     "name": "stdout",
     "output_type": "stream",
     "text": [
      "CPU times: user 9h 22min 42s, sys: 21min 48s, total: 9h 44min 30s\n",
      "Wall time: 29min\n"
     ]
    }
   ],
   "source": [
    "%%time\n",
    "layer0_topics = base_level_topic_names(\n",
    "    topical_sentences_per_cluster[0],\n",
    "    distinctive_sentences_per_cluster[0],\n",
    "    contrastive_keyword_layers[0],\n",
    "    layer_cluster_neighbors[0],\n",
    "    to_topic_index=len(contrastive_keyword_layers[0])\n",
    ")"
   ]
  },
  {
   "cell_type": "code",
   "execution_count": 155,
   "id": "c2482649-7f56-4243-9efc-563f71af2668",
   "metadata": {},
   "outputs": [
    {
     "data": {
      "text/plain": [
       "['Sea Ice And Arctic Radar',\n",
       " 'Acoustic Whale Species Detection',\n",
       " 'Ocean Dynamics Simulations',\n",
       " 'Wave Forecasting And Power Prediction With Lstm',\n",
       " 'Marine Dynamics And Control Using Machine Learning',\n",
       " 'Hydroclimatic Forecasting',\n",
       " 'Machine Learning In Water Quality Management',\n",
       " 'Ocean Carbon Cycle',\n",
       " 'Flood Risk Planning With Machine Learning',\n",
       " 'Storm Surge Forecasting With Ai Models',\n",
       " 'Marine Ai Applications',\n",
       " 'Image-based Machine Learning In Oceanography',\n",
       " 'Aquaculture And Ocean Imaging',\n",
       " 'Ocean Surface Chlorophyll-a Retrieval And',\n",
       " 'Coastal Wetland Machine Learning',\n",
       " 'Machine Learning Water Quality Predictions',\n",
       " 'Coastal Water Quality Forecasting',\n",
       " 'Species Distribution And Habitat Modeling',\n",
       " 'Aquatic Chemicals And Water Quality',\n",
       " 'Oil Spill Detection And Monitoring',\n",
       " 'Environmental Monitoring & Pollutant Detection']"
      ]
     },
     "execution_count": 155,
     "metadata": {},
     "output_type": "execute_result"
    }
   ],
   "source": [
    "layer0_topics"
   ]
  },
  {
   "cell_type": "markdown",
   "id": "a0c38063-1b74-4123-a962-84fe320330fa",
   "metadata": {},
   "source": [
    "# Naming all the other layers of topics"
   ]
  },
  {
   "cell_type": "markdown",
   "id": "8287b425-96b5-4f3b-ac5e-cd08a9d3ce98",
   "metadata": {},
   "source": [
    "Now we have the other layers to deal with. Since these are larger clusters it is harder to get representative sentences that cover the full breadth and still fit in the prompt context size. However we did keep track of sub-clusters and now we have names for all those sub-clusters, so we can provide that instead. Of course if there are too many sub-clusters that can be tricky as well. So pick out the topical sub-topic names and distinctive sub-topic names (with a large selection) -- we just need to embed all the cluster names we've got so far."
   ]
  },
  {
   "cell_type": "code",
   "execution_count": 156,
   "id": "0c381a54-5bd8-4394-b6ad-0eafeb95d2c1",
   "metadata": {},
   "outputs": [
    {
     "data": {
      "application/vnd.jupyter.widget-view+json": {
       "model_id": "e526963b1d41457f90b6e4d06b562e7f",
       "version_major": 2,
       "version_minor": 0
      },
      "text/plain": [
       "Batches:   0%|          | 0/1 [00:00<?, ?it/s]"
      ]
     },
     "metadata": {},
     "output_type": "display_data"
    }
   ],
   "source": [
    "embeddings_of_layer0_topics = embedding_model.encode(layer0_topics, show_progress_bar=True)"
   ]
  },
  {
   "cell_type": "code",
   "execution_count": 157,
   "id": "00ab9603-2a7d-4cd9-b2b0-1c13429a9de1",
   "metadata": {},
   "outputs": [],
   "source": [
    "def topical_subtopics_for_cluster(\n",
    "    metacluster, pointset, doc_vectors, base_layer_topic_names, base_layer_pointsets, n_subtopics=32\n",
    "):\n",
    "    centroid_vector = np.mean(doc_vectors[pointset], axis=0)\n",
    "    subtopic_vectors = np.asarray([np.mean(doc_vectors[base_layer_pointsets[n]], axis=0) for n in metacluster])\n",
    "    candidate_neighbor_indices = np.argsort(\n",
    "        np.squeeze(sklearn.metrics.pairwise_distances([centroid_vector], subtopic_vectors, metric=\"cosine\"))\n",
    "    )[:2 * n_subtopics]\n",
    "    candidate_neighbors = subtopic_vectors[candidate_neighbor_indices]\n",
    "    topical_subtopic_indices = candidate_neighbor_indices[\n",
    "        diversify(centroid_vector, candidate_neighbors, alpha=0.66, max_candidates=n_subtopics)\n",
    "    ][:n_subtopics]\n",
    "    topical_subtopics = [base_layer_topic_names[metacluster[i]] for i in topical_subtopic_indices]\n",
    "    return topical_subtopics\n",
    "\n",
    "\n",
    "def contrastive_subtopics_for_cluster(\n",
    "    cluster_neighbors, meta_clusters, base_layer_topic_embeddings, base_layer_topic_names, n_subtopics=24\n",
    "):\n",
    "    topic_names = [base_layer_topic_names[x] for x in meta_clusters[cluster_neighbors[0]]]\n",
    "    local_vectors = base_layer_topic_embeddings[sum([meta_clusters[x] for x in cluster_neighbors], [])]\n",
    "    U, S, Vh = np.linalg.svd(local_vectors - local_vectors.mean(axis=0))\n",
    "    transformed_docs = (local_vectors @ Vh.T)\n",
    "    transformed_docs = np.where(transformed_docs > 0, transformed_docs, 0)\n",
    "    class_labels = np.repeat(np.arange(len(cluster_neighbors)), [len(meta_clusters[x]) for x in cluster_neighbors])\n",
    "    iwt = vectorizers.transformers.InformationWeightTransformer().fit(transformed_docs, class_labels)\n",
    "    topic_name_weights = np.sum(transformed_docs[:len(topic_names)] * iwt.information_weights_, axis=1)\n",
    "    distinctive_topic_indices = np.argsort(topic_name_weights)[:n_subtopics * 3]\n",
    "    distinctive_topic_vectors = base_layer_topic_embeddings[distinctive_topic_indices]\n",
    "    diversified_candidates = diversify(\n",
    "        base_layer_topic_embeddings[meta_clusters[cluster_neighbors[0]]].mean(axis=0), \n",
    "        distinctive_topic_vectors\n",
    "    )\n",
    "    distinctive_topic_indices = distinctive_topic_indices[diversified_candidates[:n_subtopics]]\n",
    "    distinctive_sentences = [topic_names[i] for i in distinctive_topic_indices]\n",
    "    return distinctive_sentences"
   ]
  },
  {
   "cell_type": "markdown",
   "id": "f776aef8-adff-46f0-9945-d3efa65dbac9",
   "metadata": {},
   "source": [
    "Now we just need to build that information for all the layers and clusters ..."
   ]
  },
  {
   "cell_type": "code",
   "execution_count": 158,
   "id": "f7b4d913-951d-4af7-870a-051ab1e1db65",
   "metadata": {},
   "outputs": [
    {
     "name": "stdout",
     "output_type": "stream",
     "text": [
      "CPU times: user 12.6 ms, sys: 25 µs, total: 12.6 ms\n",
      "Wall time: 12.3 ms\n"
     ]
    }
   ],
   "source": [
    "%%time\n",
    "topical_subtopic_layers = [\n",
    "    [\n",
    "        topical_subtopics_for_cluster(\n",
    "            metacluster_layers[layer_num][cluster_num],\n",
    "            pointset_layers[layer_num][cluster_num],\n",
    "            data_vectors,\n",
    "            layer0_topics,\n",
    "            pointset_layers[0],\n",
    "            n_subtopics=32\n",
    "        )\n",
    "        for cluster_num in range(len(metacluster_layers[layer_num]))\n",
    "    ]\n",
    "    for layer_num in range(1, len(metacluster_layers))\n",
    "]"
   ]
  },
  {
   "cell_type": "code",
   "execution_count": 159,
   "id": "035814ac-a644-4b08-8b07-c1390f2fb47a",
   "metadata": {},
   "outputs": [
    {
     "name": "stdout",
     "output_type": "stream",
     "text": [
      "CPU times: user 159 ms, sys: 1.96 ms, total: 160 ms\n",
      "Wall time: 78.9 ms\n"
     ]
    },
    {
     "name": "stderr",
     "output_type": "stream",
     "text": [
      "/home/taylor/miniforge3/envs/kom/lib/python3.11/site-packages/vectorizers/transformers/info_weight.py:269: RuntimeWarning: invalid value encountered in power\n",
      "  self.supervised_weights_ = np.power(\n",
      "/home/taylor/miniforge3/envs/kom/lib/python3.11/site-packages/vectorizers/transformers/info_weight.py:269: RuntimeWarning: invalid value encountered in power\n",
      "  self.supervised_weights_ = np.power(\n",
      "/home/taylor/miniforge3/envs/kom/lib/python3.11/site-packages/vectorizers/transformers/info_weight.py:269: RuntimeWarning: invalid value encountered in power\n",
      "  self.supervised_weights_ = np.power(\n",
      "/home/taylor/miniforge3/envs/kom/lib/python3.11/site-packages/vectorizers/transformers/info_weight.py:254: RuntimeWarning: invalid value encountered in power\n",
      "  self.information_weights_ = np.power(\n",
      "/home/taylor/miniforge3/envs/kom/lib/python3.11/site-packages/vectorizers/transformers/info_weight.py:269: RuntimeWarning: invalid value encountered in power\n",
      "  self.supervised_weights_ = np.power(\n",
      "/home/taylor/miniforge3/envs/kom/lib/python3.11/site-packages/vectorizers/transformers/info_weight.py:254: RuntimeWarning: invalid value encountered in power\n",
      "  self.information_weights_ = np.power(\n"
     ]
    }
   ],
   "source": [
    "%%time\n",
    "contrastive_subtopic_layers = [\n",
    "    [\n",
    "        contrastive_subtopics_for_cluster(\n",
    "            layer_cluster_neighbors[layer_num][cluster_num],\n",
    "            metacluster_layers[layer_num],\n",
    "            embeddings_of_layer0_topics,\n",
    "            layer0_topics,\n",
    "            n_subtopics=24\n",
    "        )\n",
    "        for cluster_num in range(len(metacluster_layers[layer_num]))\n",
    "    ]\n",
    "    for layer_num in range(1, len(metacluster_layers))\n",
    "]"
   ]
  },
  {
   "cell_type": "markdown",
   "id": "93387457-1022-4df4-936d-f9deab7fe334",
   "metadata": {},
   "source": [
    "Given that we are using the sub-topic names we need a different prompt construction."
   ]
  },
  {
   "cell_type": "code",
   "execution_count": 160,
   "id": "04d201f9-849a-4788-80c2-cb6441bc6aad",
   "metadata": {},
   "outputs": [],
   "source": [
    "def create_prompt_from_subtopics(\n",
    "    i,\n",
    "    contrastive_keyword_layer,\n",
    "    subtopic_layer,\n",
    "    topical_sentences_layer,\n",
    "    distinctive_sentences_layer,\n",
    "    cluster_neighbors\n",
    "):\n",
    "    prompt_text = \"--\\n\\nBelow is a information about a group of titles from machine learning articles that are all on the same topic:\\n\\n\"\n",
    "    prompt_text += \"Distinguishing keywords for this group: \\\"\" + \", \".join(contrastive_keyword_layer[i]) + \"\\\"\\n\"\n",
    "    prompt_text += \"Sample sub-topics from the group include:\\n\"\n",
    "    for text in subtopic_layer[i][:24]:\n",
    "        prompt_text += f\"- \\\"{text}\\\"\\n\"\n",
    "    prompt_text += \"Sample topical titles include:\\n\"\n",
    "    for text in topical_sentences_layer[i][:4]:\n",
    "        prompt_text += f\"- \\\"{text}\\\"\\n\"\n",
    "    prompt_text += \"Sample distinctive titles of the topic include:\\n\"\n",
    "    for text in distinctive_sentences_layer[i][:4]:\n",
    "        prompt_text += f\"- \\\"{text}\\\"\\n\"        \n",
    "    \n",
    "\n",
    "    prompt_text += \"\\n\\nSimilar titles from different groups with distinct topics include:\\n\"\n",
    "    for n in cluster_neighbors[i][:3]:\n",
    "        for text in topical_sentences_layer[n][:2]:\n",
    "            prompt_text += f\"- \\\"{text}\\\"\\n\"\n",
    "    prompt_text += \"\\nSub-topics from different but similar groups include:\\n\"\n",
    "    for n in cluster_neighbors[i][:3]:\n",
    "        for text in subtopic_layer[n][:4]:\n",
    "            prompt_text += f\"- \\\"{text}\\\"\\n\"    \n",
    "            \n",
    "    prompt_text += \"\\n\\nThe short distinguishing topic name for the group that had the keywords \\\"\" + \", \".join(contrastive_keyword_layer[i]) + \"\\\" \"\n",
    "    prompt_text += \"is:\"\n",
    "    return prompt_text"
   ]
  },
  {
   "cell_type": "markdown",
   "id": "093a2e99-bfef-42d4-a5fe-5a3a1ae1b5c6",
   "metadata": {},
   "source": [
    "Then we just need a function for do all the naming and clean uip the output names ..."
   ]
  },
  {
   "cell_type": "code",
   "execution_count": 161,
   "id": "f1c023b6-7a9a-428c-8908-326ef7fda105",
   "metadata": {},
   "outputs": [],
   "source": [
    "def subtopics_and_keywords_to_topic_name(\n",
    "    subtopics_layer,\n",
    "    contrastive_keyword_layer,\n",
    "    topical_sentences_layer,\n",
    "    distinctive_sentences_layer,\n",
    "    cluster_neighbors,\n",
    "    from_topic_index=0,\n",
    "    to_topic_index=10,\n",
    "):\n",
    "    topic_names = []\n",
    "    for i in tqdm.notebook.tqdm(range(from_topic_index, to_topic_index)):\n",
    "        topic_naming_prompt = create_prompt_from_subtopics(\n",
    "            i, \n",
    "            contrastive_keyword_layer, \n",
    "            subtopics_layer,\n",
    "            topical_sentences_layer,\n",
    "            distinctive_sentences_layer,\n",
    "            cluster_neighbors,\n",
    "        )\n",
    "        topic_name = llm(topic_naming_prompt)['choices'][0]['text']\n",
    "        if \"\\n\" in topic_name:\n",
    "            topic_name = topic_name.lstrip(\"\\n \")\n",
    "            topic_name = topic_name.split(\"\\n\")[0]\n",
    "        topic_name = string.capwords(topic_name.strip(string.punctuation + string.whitespace))\n",
    "\n",
    "        topic_names.append(topic_name)\n",
    "\n",
    "    return topic_names"
   ]
  },
  {
   "cell_type": "markdown",
   "id": "8b217e14-8de3-41aa-851f-7762d1a15073",
   "metadata": {},
   "source": [
    "And we can start naming topics for the other layers ..."
   ]
  },
  {
   "cell_type": "code",
   "execution_count": 162,
   "id": "ece6590f-5b90-4f41-8e26-96aed00ffc4d",
   "metadata": {},
   "outputs": [
    {
     "data": {
      "application/vnd.jupyter.widget-view+json": {
       "model_id": "37ac575a275044b59a0f0ea47b5e6093",
       "version_major": 2,
       "version_minor": 0
      },
      "text/plain": [
       "  0%|          | 0/6 [00:00<?, ?it/s]"
      ]
     },
     "metadata": {},
     "output_type": "display_data"
    },
    {
     "name": "stdout",
     "output_type": "stream",
     "text": [
      "CPU times: user 2h 24min 25s, sys: 5min 47s, total: 2h 30min 13s\n",
      "Wall time: 7min 27s\n"
     ]
    }
   ],
   "source": [
    "%%time\n",
    "layer1_topics = subtopics_and_keywords_to_topic_name(\n",
    "    [a + b for a,b in zip(topical_subtopic_layers[0], contrastive_subtopic_layers[0])],\n",
    "    contrastive_keyword_layers[1],\n",
    "    topical_sentences_per_cluster[1],\n",
    "    distinctive_sentences_per_cluster[1],\n",
    "    layer_cluster_neighbors[1],\n",
    "    from_topic_index=0,\n",
    "    to_topic_index=len(topical_subtopic_layers[0]),\n",
    ")"
   ]
  },
  {
   "cell_type": "code",
   "execution_count": 163,
   "id": "0d6f4f6e-af2f-4e62-a3fd-937d2079e46b",
   "metadata": {},
   "outputs": [
    {
     "data": {
      "application/vnd.jupyter.widget-view+json": {
       "model_id": "3c7afcb173be4cc5adf1ddeca4ac51f4",
       "version_major": 2,
       "version_minor": 0
      },
      "text/plain": [
       "  0%|          | 0/3 [00:00<?, ?it/s]"
      ]
     },
     "metadata": {},
     "output_type": "display_data"
    },
    {
     "name": "stdout",
     "output_type": "stream",
     "text": [
      "CPU times: user 1h 15min 19s, sys: 2min 58s, total: 1h 18min 18s\n",
      "Wall time: 3min 52s\n"
     ]
    }
   ],
   "source": [
    "%%time\n",
    "layer2_topics = subtopics_and_keywords_to_topic_name(\n",
    "    [a + b for a,b in zip(topical_subtopic_layers[1], contrastive_subtopic_layers[1])],\n",
    "    contrastive_keyword_layers[2],\n",
    "    topical_sentences_per_cluster[2],\n",
    "    distinctive_sentences_per_cluster[2],\n",
    "    layer_cluster_neighbors[2],\n",
    "    from_topic_index=0,\n",
    "    to_topic_index=len(topical_subtopic_layers[1]),\n",
    ")"
   ]
  },
  {
   "cell_type": "code",
   "execution_count": 164,
   "id": "3fdab5df-cffc-4add-a8d4-b01735439ccb",
   "metadata": {},
   "outputs": [
    {
     "ename": "IndexError",
     "evalue": "list index out of range",
     "output_type": "error",
     "traceback": [
      "\u001b[0;31m---------------------------------------------------------------------------\u001b[0m",
      "\u001b[0;31mIndexError\u001b[0m                                Traceback (most recent call last)",
      "File \u001b[0;32m<timed exec>:2\u001b[0m\n",
      "\u001b[0;31mIndexError\u001b[0m: list index out of range"
     ]
    }
   ],
   "source": [
    "%%time\n",
    "layer3_topics = subtopics_and_keywords_to_topic_name(\n",
    "    [a + b for a,b in zip(topical_subtopic_layers[2], contrastive_subtopic_layers[2])],\n",
    "    contrastive_keyword_layers[3],\n",
    "    topical_sentences_per_cluster[3],\n",
    "    distinctive_sentences_per_cluster[3],\n",
    "    layer_cluster_neighbors[3],\n",
    "    from_topic_index=0,\n",
    "    to_topic_index=len(topical_subtopic_layers[2]),\n",
    ")"
   ]
  },
  {
   "cell_type": "markdown",
   "id": "f0642b4d-8544-49af-abdb-a37b3d44b088",
   "metadata": {},
   "source": [
    "The last problem that tends to occur is that we end up repeating topic names, particulary having high level topic names get repeated at lower levels where we want something more specific. But we can lookmfor those cases and try to get the LLM to generate a more specific topic name."
   ]
  },
  {
   "cell_type": "code",
   "execution_count": 165,
   "id": "dfd4d181-86a1-44c1-87ee-dbc38c6ac7fe",
   "metadata": {},
   "outputs": [],
   "source": [
    "def create_final_remedy_prompt(original_topic_names, docs, vector_array, pointset, centroid_vector):\n",
    "    sentences = topical_sentences_for_cluster(docs, vector_array, pointset, centroid_vector, n_sentence_examples=64)\n",
    "    prompt_text = \"A set of titles from machine learning articles was described as having a topic of one of \" + \", \".join(original_topic_names) + \".\\n\"\n",
    "    prompt_text += \"These topic names were not specific enough and were shared with other different but similar groups of titles.\\n\"\n",
    "    prompt_text += \"A sampling of titles from this specific set of titles includes:\\n\"\n",
    "    for sentence in np.random.choice(sentences, size=min(len(sentences), 64), replace=False):\n",
    "        prompt_text += f\"- {sentence}\\n\"\n",
    "\n",
    "    prompt_text += f\"\\n\\nThe current name for this topic of these paragraphs is: {original_topic_names[-1]}\\n\"\n",
    "    prompt_text += \"A better and more specific name that still captures the topic of these article titles is: \"\n",
    "    return prompt_text"
   ]
  },
  {
   "cell_type": "code",
   "execution_count": 166,
   "id": "0c27b31f-f06b-495f-a40e-c65d5f3550ab",
   "metadata": {},
   "outputs": [],
   "source": [
    "# all_layer_topics = [layer0_topics, layer1_topics, layer2_topics, layer3_topics]\n",
    "all_layer_topics = [layer0_topics, layer1_topics, layer2_topics]"
   ]
  },
  {
   "cell_type": "markdown",
   "id": "bfa3b3ca-ca62-4f63-88f8-ae97655501f1",
   "metadata": {},
   "source": [
    "And now we just go through the layers and fix up topic names; generating the topic label vectors suitable for input directly into [DataMapPlot](https://github.com/TutteInstitute/datamapplot):"
   ]
  },
  {
   "cell_type": "code",
   "execution_count": 167,
   "id": "3dbaaff1-8e1d-4c34-88b3-54aea72763f2",
   "metadata": {},
   "outputs": [
    {
     "name": "stdout",
     "output_type": "stream",
     "text": [
      "Working on layer 2\n",
      "Working on cluster 0\n",
      "Working on layer 1\n",
      "Working on cluster 0\n",
      "Working on layer 0\n",
      "Working on cluster 0\n",
      "Image-based Machine Learning In Oceanography --> Deep Learning Applications For Identifying Marine Life In Underwater Images after 1 attempts\n",
      "CPU times: user 14min 5s, sys: 30.2 s, total: 14min 35s\n",
      "Wall time: 44.1 s\n"
     ]
    }
   ],
   "source": [
    "%%time\n",
    "layer_clusters = [np.full(data_map.shape[0], \"Unlabelled\", dtype=object) for i in range(len(all_layer_topics))]\n",
    "unique_names = set([])\n",
    "for n in range(len(all_layer_topics) - 1, -1, -1):\n",
    "    print(f\"Working on layer {n}\")\n",
    "    for i, (name, indices) in enumerate(zip(all_layer_topics[n], pointset_layers[n])):\n",
    "        if i % 100 == 0:\n",
    "            print(f\"Working on cluster {i}\")\n",
    "        n_attempts = 0\n",
    "        recapped_name = string.capwords(name.strip(string.punctuation + string.whitespace))\n",
    "        unique_name = recapped_name\n",
    "        original_topic_names = [unique_name]\n",
    "        while unique_name in unique_names and n_attempts < 8:\n",
    "            prompt_text = create_final_remedy_prompt(\n",
    "                original_topic_names, data_strings[\"Title\"], data_vectors, indices, vector_layers[n][i]\n",
    "            )\n",
    "            unique_name = llm(prompt_text, max_tokens=36)['choices'][0]['text']\n",
    "            if \"\\n\" in unique_name:\n",
    "                unique_name = unique_name.lstrip(\"\\n \")\n",
    "                unique_name = unique_name.split(\"\\n\")[0]\n",
    "            unique_name = string.capwords(unique_name.strip(string.punctuation + string.whitespace))\n",
    "            original_topic_names.append(unique_name)\n",
    "            n_attempts += 1\n",
    "        if n_attempts > 0:\n",
    "            print(f\"{name} --> {unique_name} after {n_attempts} attempts\")\n",
    "        unique_names.add(unique_name)\n",
    "        layer_clusters[n][indices] = unique_name"
   ]
  },
  {
   "cell_type": "markdown",
   "id": "3666271b-2e9a-4c35-ad43-9c5d5f1d7f1f",
   "metadata": {},
   "source": [
    "A quick glance at the topic names generated for the two uppermost layers shows we mostly did a decent job. Obviously with a little more care we could do a lot better, but for something essentially entirely auotmated this is not so bad. At worst you can go in an clean up some of the topic names by hand."
   ]
  },
  {
   "cell_type": "code",
   "execution_count": 168,
   "id": "194adbc0-0eec-4fa1-8090-46aabf75b575",
   "metadata": {},
   "outputs": [
    {
     "data": {
      "text/plain": [
       "['Sea Ice And Arctic Radar',\n",
       " 'Acoustic Whale Species Detection',\n",
       " 'Ocean Dynamics Simulations',\n",
       " 'Wave Forecasting And Power Prediction With Lstm',\n",
       " 'Marine Dynamics And Control Using Machine Learning',\n",
       " 'Hydroclimatic Forecasting',\n",
       " 'Machine Learning In Water Quality Management',\n",
       " 'Ocean Carbon Cycle',\n",
       " 'Flood Risk Planning With Machine Learning',\n",
       " 'Storm Surge Forecasting With Ai Models',\n",
       " 'Marine Ai Applications',\n",
       " 'Image-based Machine Learning In Oceanography',\n",
       " 'Aquaculture And Ocean Imaging',\n",
       " 'Ocean Surface Chlorophyll-a Retrieval And',\n",
       " 'Coastal Wetland Machine Learning',\n",
       " 'Machine Learning Water Quality Predictions',\n",
       " 'Coastal Water Quality Forecasting',\n",
       " 'Species Distribution And Habitat Modeling',\n",
       " 'Aquatic Chemicals And Water Quality',\n",
       " 'Oil Spill Detection And Monitoring',\n",
       " 'Environmental Monitoring & Pollutant Detection']"
      ]
     },
     "execution_count": 168,
     "metadata": {},
     "output_type": "execute_result"
    }
   ],
   "source": [
    "all_layer_topics"
   ]
  },
  {
   "cell_type": "markdown",
   "id": "baca6ac6-baa1-4e08-92b0-1627ec6d2770",
   "metadata": {},
   "source": [
    "# Create an interactive plot and save as HTML"
   ]
  },
  {
   "cell_type": "code",
   "execution_count": 204,
   "id": "f493ca61-95ce-4ee6-ace8-8209baef8451",
   "metadata": {},
   "outputs": [],
   "source": [
    "import datamapplot\n",
    "import colorcet as cc\n",
    "import matplotlib\n",
    "\n"
   ]
  },
  {
   "cell_type": "code",
   "execution_count": 273,
   "id": "6771ee69-cfa8-4b65-ba3e-2d4aedc380a0",
   "metadata": {},
   "outputs": [
    {
     "data": {
      "text/html": [
       "\n",
       "            <iframe\n",
       "                width=100%\n",
       "                height=800\n",
       "                frameborder=\"0\"\n",
       "                srcdoc=\"\n",
       "&lt;!DOCTYPE html&gt;\n",
       "&lt;html&gt;\n",
       "  &lt;head&gt;\n",
       "    &lt;meta http-equiv=&quot;content-type&quot; content=&quot;text/html; charset=UTF-8&quot; /&gt;\n",
       "    &lt;title&gt;Oceanography + ML Landscape&lt;/title&gt;\n",
       "    \n",
       "    &lt;link rel=&quot;preconnect&quot; href=&quot;https://fonts.googleapis.com&quot;&gt;\n",
       "    &lt;link rel=&quot;preconnect&quot; href=&quot;https://fonts.gstatic.com&quot; crossorigin&gt;\n",
       "    &lt;link href=&quot;https://fonts.googleapis.com/css2?family=Cinzel&amp;display=swap&quot; rel=&quot;stylesheet&quot;&gt;\n",
       "    \n",
       "       \n",
       "    &lt;link rel=&quot;stylesheet&quot; href=&quot;https://maxcdn.bootstrapcdn.com/bootstrap/3.2.0/css/bootstrap-theme.min.css&quot; /&gt;\n",
       "    &lt;link rel=&quot;stylesheet&quot; href=&quot;https://maxcdn.bootstrapcdn.com/font-awesome/4.6.3/css/font-awesome.min.css&quot; /&gt;\n",
       "    &lt;script src=&quot;https://unpkg.com/deck.gl@latest/dist.min.js&quot;&gt;&lt;/script&gt;\n",
       "    \n",
       "    &lt;script src=&quot;https://unpkg.com/fflate@0.8.0&quot;&gt;&lt;/script&gt;\n",
       "    \n",
       "    &lt;style&gt;\n",
       "        body {\n",
       "          margin: 0;\n",
       "          padding: 0;\n",
       "          overflow: hidden;\n",
       "          background: #000000;\n",
       "        }\n",
       "\n",
       "        #deck-container {\n",
       "          width: 100vw;\n",
       "          height: 100vh;\n",
       "        }\n",
       "\n",
       "        #deck-container canvas {\n",
       "          z-index: 1;\n",
       "          background: #000000;\n",
       "        }\n",
       "\n",
       "        .deck-tooltip {\n",
       "            \n",
       "            font-size: 0.8em;\n",
       "            font-family: Cinzel;\n",
       "            color: #ffffff !important;\n",
       "            background-color: #000000aa !important;\n",
       "            border-radius: 12px;\n",
       "            box-shadow: 2px 3px 10px #00000044;\n",
       "            max-width: 25%;\n",
       "        }\n",
       "        \n",
       "        #loading {\n",
       "            width: 100%;\n",
       "            height: 100%;\n",
       "            top: 0px;\n",
       "            left: 0px;\n",
       "            position: absolute;\n",
       "            display: block; \n",
       "            z-index: 99\n",
       "        }\n",
       "\n",
       "        #loading-image {\n",
       "            position: absolute;\n",
       "            top: 45%;\n",
       "            left: 47.5%;\n",
       "            z-index: 100\n",
       "        }\n",
       "        \n",
       "        #title-container {\n",
       "            position: absolute;\n",
       "            top: 0;\n",
       "            left: 0;\n",
       "            margin: 16px;\n",
       "            padding: 12px;\n",
       "            border-radius: 16px;\n",
       "            line-height: 0.95;\n",
       "            z-index: 2;\n",
       "            font-family: Cinzel;\n",
       "            color: #ffffff;\n",
       "            background: #000000aa;\n",
       "            box-shadow: 2px 3px 10px #00000044;\n",
       "        }\n",
       "        \n",
       "        \n",
       "        #search-container{\n",
       "            position: absolute;\n",
       "            left: -16px;\n",
       "            margin: 16px;\n",
       "            padding: 12px;\n",
       "            border-radius: 16px;\n",
       "            z-index: 2;\n",
       "            font-family: Cinzel;\n",
       "            color: #ffffff;\n",
       "            background: #000000aa;\n",
       "            width: fit-content;\n",
       "            box-shadow: 2px 3px 10px #00000044;\n",
       "        }\n",
       "        input {\n",
       "            margin: 2px;\n",
       "            padding: 4px;\n",
       "            border-radius: 8px;\n",
       "            color: #ffffff;\n",
       "            background: #000000dd;\n",
       "            border: 1px solid 222222ff;\n",
       "            transition: 0.5s;\n",
       "            outline: none;\n",
       "        }\n",
       "        input:focus {\n",
       "          border: 2px solid #555;\n",
       "        }\n",
       "        \n",
       "        \n",
       "    &lt;/style&gt;\n",
       "  &lt;/head&gt;\n",
       "  &lt;body&gt;\n",
       "    &lt;div id=&quot;loading&quot;&gt;\n",
       "        &lt;img id=&quot;loading-image&quot; src=&quot;https://i.gifer.com/ZKZg.gif&quot; alt=&quot;Loading...&quot; width=&quot;5%&quot;/&gt;\n",
       "    &lt;/div&gt;\n",
       "    \n",
       "    &lt;div id=&quot;title-container&quot;&gt;\n",
       "        &lt;span style=&quot;font-family:Cinzel;font-size:36pt;color:#ffffff&quot;&gt;\n",
       "            Oceanography + ML Landscape\n",
       "        &lt;/span&gt;&lt;br/&gt;\n",
       "        &lt;span style=&quot;font-family:Cinzel;font-size:18pt;color:#777777&quot;&gt;\n",
       "            Papers using Machine Learning for Oceanographic research\n",
       "        &lt;/span&gt;\n",
       "        \n",
       "        &lt;div id=&quot;search-container&quot;&gt;\n",
       "            &lt;input autocomplete=&quot;off&quot; type=&quot;search&quot; id=&quot;search&quot; placeholder=&quot;🔍&quot;&gt;\n",
       "        &lt;/div&gt;\n",
       "        \n",
       "    &lt;/div&gt;\n",
       "    \n",
       "    \n",
       "    &lt;div id=&quot;deck-container&quot;&gt;\n",
       "    &lt;/div&gt;\n",
       "    \n",
       "  &lt;/body&gt;\n",
       "  &lt;script type=&quot;module&quot;&gt;\n",
       "    import { ArrowLoader } from &#x27;https://cdn.jsdelivr.net/npm/@loaders.gl/arrow@4.1.0-alpha.10/+esm&#x27;\n",
       "    import { JSONLoader } from &#x27;https://cdn.jsdelivr.net/npm/@loaders.gl/json@4.0.5/+esm&#x27;\n",
       "    \n",
       "\n",
       "    \n",
       "    const pointDataBase64 = &quot;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&quot;;\n",
       "    const pointDataBuffer = fflate.strToU8(atob(pointDataBase64), true);\n",
       "    const pointData = await loaders.parse(pointDataBuffer, ArrowLoader);\n",
       "    const hoverDataBase64 = &quot;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&quot;;\n",
       "    const hoverDataBuffer = fflate.strToU8(atob(hoverDataBase64), true);\n",
       "    const unzippedHoverData = fflate.gunzipSync(hoverDataBuffer);\n",
       "    const hoverData = await loaders.parse(unzippedHoverData, ArrowLoader);\n",
       "    const labelDataBase64 = &quot;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&quot;;\n",
       "    const labelDataBuffer = fflate.strToU8(atob(labelDataBase64), true);\n",
       "    const unzippedLabelData = fflate.gunzipSync(labelDataBuffer);    \n",
       "    const labelData = await loaders.parse(unzippedLabelData, JSONLoader);\n",
       "    \n",
       "    \n",
       "    const DATA = {src: pointData.data, length: pointData.data.x.length}\n",
       "\n",
       "    const container = document.getElementById(&#x27;deck-container&#x27;);\n",
       "    const pointLayer = new deck.ScatterplotLayer({\n",
       "        id: &#x27;dataPointLayer&#x27;,\n",
       "        data: DATA,\n",
       "        getPosition: (object, {index, data}) =&gt; {\n",
       "            return [data.src.x[index], data.src.y[index]];\n",
       "        },\n",
       "        \n",
       "        getRadius: (object, {index, data}) =&gt; {\n",
       "            return data.src.size[index];\n",
       "        },\n",
       "        \n",
       "        getFillColor: (object, {index, data}) =&gt; {\n",
       "            return [\n",
       "                data.src.r[index], \n",
       "                data.src.g[index], \n",
       "                data.src.b[index],\n",
       "                180\n",
       "            ]\n",
       "        },\n",
       "        getLineColor: (object, {index, data}) =&gt; {\n",
       "            return [\n",
       "                data.src.r[index], \n",
       "                data.src.g[index], \n",
       "                data.src.b[index],\n",
       "                32\n",
       "            ]\n",
       "        },       \n",
       "        getLineColor: [5, 5, 5, 128],\n",
       "        getLineWidth: 0.001,\n",
       "        highlightColor: [170, 0, 0, 187], \n",
       "        lineWidthMaxPixels: 8,\n",
       "        lineWidthMinPixels: 0.1,\n",
       "        radiusMaxPixels: 18, \n",
       "        radiusMinPixels: 1,\n",
       "        radiusUnits: &quot;common&quot;, \n",
       "        lineWidthUnits: &quot;common&quot;, \n",
       "        autoHighlight: true,\n",
       "        pickable: true, \n",
       "        stroked: true\n",
       "    });\n",
       "    const labelLayer = new deck.TextLayer({\n",
       "        id: &quot;textLabelLayer&quot;,\n",
       "        data: labelData,\n",
       "        pickable: false,\n",
       "        getPosition: d =&gt; [d.x, d.y],\n",
       "        getText: d =&gt; d.label,\n",
       "        getColor: [255, 255, 255, 255],\n",
       "        getSize: d =&gt; d.size,\n",
       "        sizeScale: 1,\n",
       "        sizeMinPixels: 12,\n",
       "        sizeMaxPixels: 36,\n",
       "        outlineWidth: 8,\n",
       "        outlineColor: [17, 17, 17, 221],\n",
       "        getBackgroundColor: [0, 0, 0, 64],\n",
       "        getBackgroundPadding: [15, 15, 15, 15],\n",
       "        background: true,\n",
       "        characterSet: &quot;auto&quot;,\n",
       "        fontFamily: &quot;Cinzel&quot;,\n",
       "        lineHeight: 0.95,\n",
       "        fontSettings: {&quot;sdf&quot;: true},\n",
       "        getTextAnchor: &quot;middle&quot;,\n",
       "        getAlignmentBaseline: &quot;center&quot;,\n",
       "        lineHeight: 0.95,\n",
       "        elevation: 100,\n",
       "        // CollideExtension options\n",
       "        collisionEnabled: true,\n",
       "        getCollisionPriority: d =&gt; d.size,\n",
       "        collisionTestProps: {\n",
       "          sizeScale: 3,\n",
       "          sizeMaxPixels: 36 * 2,\n",
       "          sizeMinPixels: 12 * 2\n",
       "        },\n",
       "        extensions: [new deck.CollisionFilterExtension()],\n",
       "    });\n",
       "    \n",
       "    const boundaryLayer = new deck.PolygonLayer({\n",
       "        data: labelData,\n",
       "        stroked: true,\n",
       "        filled: false,\n",
       "        getLineColor: d =&gt; [d.r, d.g, d.b, d.a],\n",
       "        getPolygon: d =&gt; d.polygon,\n",
       "        lineWidthUnits: &quot;common&quot;,\n",
       "        getLineWidth: d =&gt; d.size * d.size,\n",
       "        lineWidthScale: 1 * 5e-5,\n",
       "        lineJointRounded: true,\n",
       "        lineWidthMaxPixels: 4,\n",
       "        lineWidthMinPixels: 0.0,\n",
       "    });\n",
       "    \n",
       "\n",
       "    const deckgl = new deck.DeckGL({\n",
       "      container: container,\n",
       "      initialViewState: {\n",
       "        latitude: 2.627113,\n",
       "        longitude: 5.3597164,\n",
       "        zoom: 5.338328586940042\n",
       "      },\n",
       "      controller: true,\n",
       "      \n",
       "      layers: [pointLayer, boundaryLayer, labelLayer],\n",
       "      \n",
       "      \n",
       "      onClick: ({index}, event) =&gt; window.open(`http://google.com/search?q=&quot;${hoverData.data.hover_text[index]}&quot;`),\n",
       "      \n",
       "      getTooltip: ({index}) =&gt; hoverData.data.hover_text[index]\n",
       "    });\n",
       "    \n",
       "    document.getElementById(&quot;loading&quot;).style.display = &quot;none&quot;;\n",
       "        \n",
       "    \n",
       "        function selectPoints(item, conditional) {\n",
       "        var layerId;\n",
       "        if (item) {\n",
       "            for (var i = 0; i &lt; DATA.length; i++) {\n",
       "                if (conditional(i)) {\n",
       "                    DATA.src.selected[i] = 1;\n",
       "                } else {\n",
       "                    DATA.src.selected[i] = 0;\n",
       "                }\n",
       "            }\n",
       "            layerId = &#x27;selectedPointLayer&#x27; + item;\n",
       "        } else {\n",
       "            for (var i = 0; i &lt; DATA.length; i++) {\n",
       "                DATA.src.selected[i] = 1;\n",
       "            }\n",
       "            layerId = &#x27;dataPointLayer&#x27;;\n",
       "        }\n",
       "        const selectedPointLayer = pointLayer.clone(\n",
       "            {\n",
       "                id: layerId,\n",
       "                data: DATA,\n",
       "                getFilterValue: (object, {index, data}) =&gt; data.src.selected[index],\n",
       "                filterRange: [1, 2],\n",
       "                extensions: [new deck.DataFilterExtension({filterSize: 1})]\n",
       "            }\n",
       "        );\n",
       "        deckgl.setProps(\n",
       "            {layers: \n",
       "                [selectedPointLayer].concat(deckgl.props.layers.slice(1,))\n",
       "            }\n",
       "        );\n",
       "    }\n",
       "    \n",
       "    const search = document.getElementById(&quot;search&quot;);\n",
       "    search.addEventListener(&quot;input&quot;, (event) =&gt; {\n",
       "            const search_term = event.target.value.toLowerCase();\n",
       "            selectPoints(search_term, (i) =&gt; hoverData.data.hover_text[i].toLowerCase().includes(search_term));\n",
       "        }\n",
       "    );\n",
       "    \n",
       "    \n",
       "    &lt;/script&gt;\n",
       "&lt;/html&gt;\"\n",
       "            ></iframe>\n",
       "        "
      ],
      "text/plain": [
       "<InteractiveFigure width=100% height=800>"
      ]
     },
     "execution_count": 273,
     "metadata": {},
     "output_type": "execute_result"
    }
   ],
   "source": [
    "plot = datamapplot.create_interactive_plot(\n",
    "    data_map,\n",
    "    layer_clusters[0],\n",
    "    # layer_clusters[1],\n",
    "    layer_clusters[2],\n",
    "    hover_text=dataset['Title'],\n",
    "    font_family=\"Cinzel\",\n",
    "    cluster_boundary_polygons=True,\n",
    "    # cluster_boundary_line_width=6,\n",
    "    title=\"Oceanography + ML Landscape\",\n",
    "    sub_title=\"Papers using Machine Learning for Oceanographic research\",\n",
    "    enable_search=True,\n",
    "    darkmode=True,\n",
    "    # use_medoids=True,\n",
    "    color_label_text=False,\n",
    "    # inline_data=False,\n",
    "    # offline_data_prefix=\"bb-ai-1\",\n",
    "    on_click=\"window.open(`http://google.com/search?q=\\\"{hover_text}\\\"`)\",\n",
    "    cmap=matplotlib.colormaps.get_cmap(\"cet_glasbey\"),\n",
    "    # palette_hue_shift=0.2,\n",
    "    # palette_hue_radius_dependence=3,\n",
    "    min_fontsize=18,\n",
    "    max_fontsize=18,\n",
    "    marker_size_array=[len(x) for x in dataset['Title']],\n",
    "    point_radius_min_pixels=1,\n",
    "    point_radius_max_pixels=18,\n",
    ")\n",
    "plot"
   ]
  },
  {
   "cell_type": "code",
   "execution_count": 274,
   "id": "f2d73e24-0b55-45eb-b672-35a89994f902",
   "metadata": {},
   "outputs": [],
   "source": [
    "plot.save(\"index.html\")"
   ]
  },
  {
   "cell_type": "code",
   "execution_count": null,
   "id": "d29692d2-1cf8-4d07-b545-a98362ee6a67",
   "metadata": {},
   "outputs": [],
   "source": []
  }
 ],
 "metadata": {
  "kernelspec": {
   "display_name": "Python 3 (ipykernel)",
   "language": "python",
   "name": "python3"
  },
  "language_info": {
   "codemirror_mode": {
    "name": "ipython",
    "version": 3
   },
   "file_extension": ".py",
   "mimetype": "text/x-python",
   "name": "python",
   "nbconvert_exporter": "python",
   "pygments_lexer": "ipython3",
   "version": "3.11.6"
  }
 },
 "nbformat": 4,
 "nbformat_minor": 5
}
