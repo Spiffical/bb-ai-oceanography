{
 "cells": [
  {
   "cell_type": "markdown",
   "id": "21b03da2-e168-4730-889e-997ca763cbcc",
   "metadata": {},
   "source": [
    "Adapted code from: https://gist.github.com/lmcinnes/7a39a9f103f25300aee07201bb0a9b8a\n",
    "\n",
    "For vis: https://lmcinnes.github.io/datamapplot_examples/ArXiv_data_map_example.html"
   ]
  },
  {
   "cell_type": "code",
   "execution_count": 1,
   "id": "1c32b9d2-d3f5-4e92-82fc-bd282c86e14c",
   "metadata": {},
   "outputs": [],
   "source": [
    "import numpy as np\n",
    "import pandas as pd\n",
    "# import datasets\n",
    "import fast_hdbscan\n",
    "import umap\n",
    "import numba\n",
    "\n",
    "import sklearn .metrics\n",
    "import vectorizers\n",
    "import vectorizers.transformers\n",
    "import sklearn.feature_extraction\n",
    "import scipy.sparse\n",
    "\n",
    "import sentence_transformers\n",
    "\n",
    "from sklearn.utils.extmath import randomized_svd\n",
    "from sklearn.preprocessing import normalize"
   ]
  },
  {
   "cell_type": "markdown",
   "id": "d6df6f02-4a63-441b-9a9f-3235e9fcecbd",
   "metadata": {},
   "source": [
    "# Building a map and clusters"
   ]
  },
  {
   "cell_type": "code",
   "execution_count": 98,
   "id": "d98a3049-21da-4263-b0e7-9e2e03f15009",
   "metadata": {},
   "outputs": [],
   "source": [
    "embedding_model = sentence_transformers.SentenceTransformer(\"all-mpnet-base-v2\", device=\"cuda\")"
   ]
  },
  {
   "cell_type": "code",
   "execution_count": 127,
   "id": "154e064a-eec4-4180-9d62-4bba6329e95c",
   "metadata": {
    "scrolled": true
   },
   "outputs": [
    {
     "data": {
      "text/html": [
       "<div>\n",
       "<style scoped>\n",
       "    .dataframe tbody tr th:only-of-type {\n",
       "        vertical-align: middle;\n",
       "    }\n",
       "\n",
       "    .dataframe tbody tr th {\n",
       "        vertical-align: top;\n",
       "    }\n",
       "\n",
       "    .dataframe thead th {\n",
       "        text-align: right;\n",
       "    }\n",
       "</style>\n",
       "<table border=\"1\" class=\"dataframe\">\n",
       "  <thead>\n",
       "    <tr style=\"text-align: right;\">\n",
       "      <th></th>\n",
       "      <th>index</th>\n",
       "      <th>Unnamed: 0</th>\n",
       "      <th>Unnamed: 1</th>\n",
       "      <th>Unnamed: 2</th>\n",
       "      <th>Title</th>\n",
       "      <th>Year</th>\n",
       "      <th>Journal</th>\n",
       "      <th>Unnamed: 6</th>\n",
       "      <th>Unnamed: 7</th>\n",
       "      <th>Unnamed: 8</th>\n",
       "      <th>...</th>\n",
       "      <th>Unnamed: 35</th>\n",
       "      <th>Unnamed: 36</th>\n",
       "      <th>Unnamed: 37</th>\n",
       "      <th>Manual Labelling</th>\n",
       "      <th>Zero-shot labelling (lower = more relevant)</th>\n",
       "      <th>Relevant to Oceanography? (lower = more relevant)</th>\n",
       "      <th>Unnamed: 41</th>\n",
       "      <th>Unnamed: 42</th>\n",
       "      <th>Notes / Comments</th>\n",
       "      <th>Include / Exclude</th>\n",
       "    </tr>\n",
       "  </thead>\n",
       "  <tbody>\n",
       "    <tr>\n",
       "      <th>0</th>\n",
       "      <td>0</td>\n",
       "      <td>Liu Y.; Meng Z.; Chen W.; Liang Y.; Chen W.; C...</td>\n",
       "      <td>Liu, Yuyao (57240197700); Meng, Zhou (72018949...</td>\n",
       "      <td>57240197700; 7201894926; 57213686853; 57218294...</td>\n",
       "      <td>Ocean Fronts and Their Acoustic Effects: A Review</td>\n",
       "      <td>2022</td>\n",
       "      <td>Journal of Marine Science and Engineering</td>\n",
       "      <td>NaN</td>\n",
       "      <td>10</td>\n",
       "      <td>12</td>\n",
       "      <td>...</td>\n",
       "      <td>2-s2.0-85144836521</td>\n",
       "      <td>NaN</td>\n",
       "      <td>NaN</td>\n",
       "      <td>Acoustic classification</td>\n",
       "      <td>Acoustic classification (0.386); Sea floor map...</td>\n",
       "      <td>1.115355</td>\n",
       "      <td>AI</td>\n",
       "      <td>NaN</td>\n",
       "      <td>NaN</td>\n",
       "      <td>Included</td>\n",
       "    </tr>\n",
       "    <tr>\n",
       "      <th>1</th>\n",
       "      <td>1</td>\n",
       "      <td>Luo X.; Chen L.; Zhou H.; Cao H.</td>\n",
       "      <td>Luo, Xinwei (36995012900); Chen, Lu (581222398...</td>\n",
       "      <td>36995012900; 58122239800; 58122239900; 5771425...</td>\n",
       "      <td>A Survey of Underwater Acoustic Target Recogni...</td>\n",
       "      <td>2023</td>\n",
       "      <td>Journal of Marine Science and Engineering</td>\n",
       "      <td>NaN</td>\n",
       "      <td>11</td>\n",
       "      <td>2</td>\n",
       "      <td>...</td>\n",
       "      <td>2-s2.0-85149119509</td>\n",
       "      <td>NaN</td>\n",
       "      <td>NaN</td>\n",
       "      <td>Acoustic classification</td>\n",
       "      <td>Acoustic classification (0.368); Detection of ...</td>\n",
       "      <td>1.355405</td>\n",
       "      <td>AI</td>\n",
       "      <td>NaN</td>\n",
       "      <td>NaN</td>\n",
       "      <td>Included</td>\n",
       "    </tr>\n",
       "    <tr>\n",
       "      <th>2</th>\n",
       "      <td>2</td>\n",
       "      <td>Zhufeng L.; Xiaofang L.; Na W.; Qingyang Z.</td>\n",
       "      <td>Zhufeng, Lei (57201702161); Xiaofang, Lei (579...</td>\n",
       "      <td>57201702161; 57949172700; 57948807100; 5794892...</td>\n",
       "      <td>Present status and challenges of underwater ac...</td>\n",
       "      <td>2022</td>\n",
       "      <td>Frontiers in Physics</td>\n",
       "      <td>NaN</td>\n",
       "      <td>10</td>\n",
       "      <td>NaN</td>\n",
       "      <td>...</td>\n",
       "      <td>2-s2.0-85140965810</td>\n",
       "      <td>NaN</td>\n",
       "      <td>NaN</td>\n",
       "      <td>Acoustic classification</td>\n",
       "      <td>Acoustic classification (0.379); Contaminated ...</td>\n",
       "      <td>1.386320</td>\n",
       "      <td>AI</td>\n",
       "      <td>NaN</td>\n",
       "      <td>NaN</td>\n",
       "      <td>Included</td>\n",
       "    </tr>\n",
       "    <tr>\n",
       "      <th>3</th>\n",
       "      <td>3</td>\n",
       "      <td>NaN</td>\n",
       "      <td>NaN</td>\n",
       "      <td>NaN</td>\n",
       "      <td>Categorizing Shallow Marine Soundscapes Using ...</td>\n",
       "      <td>2023</td>\n",
       "      <td>Journal of Marine Science and Engineering</td>\n",
       "      <td>NaN</td>\n",
       "      <td>NaN</td>\n",
       "      <td>NaN</td>\n",
       "      <td>...</td>\n",
       "      <td>NaN</td>\n",
       "      <td>NaN</td>\n",
       "      <td>NaN</td>\n",
       "      <td>Acoustic classification</td>\n",
       "      <td>Acoustic classification (0.349); Marine ecolog...</td>\n",
       "      <td>1.151325</td>\n",
       "      <td>AI</td>\n",
       "      <td>NaN</td>\n",
       "      <td>NaN</td>\n",
       "      <td>Included</td>\n",
       "    </tr>\n",
       "    <tr>\n",
       "      <th>4</th>\n",
       "      <td>4</td>\n",
       "      <td>NaN</td>\n",
       "      <td>NaN</td>\n",
       "      <td>NaN</td>\n",
       "      <td>Automated cataloguing of American silver perch...</td>\n",
       "      <td>2023</td>\n",
       "      <td>Bioacoustics</td>\n",
       "      <td>NaN</td>\n",
       "      <td>NaN</td>\n",
       "      <td>NaN</td>\n",
       "      <td>...</td>\n",
       "      <td>NaN</td>\n",
       "      <td>NaN</td>\n",
       "      <td>NaN</td>\n",
       "      <td>Acoustic classification</td>\n",
       "      <td>Whale identification (0.425); Acoustic classif...</td>\n",
       "      <td>1.388355</td>\n",
       "      <td>AI</td>\n",
       "      <td>NaN</td>\n",
       "      <td>NaN</td>\n",
       "      <td>Included</td>\n",
       "    </tr>\n",
       "    <tr>\n",
       "      <th>...</th>\n",
       "      <td>...</td>\n",
       "      <td>...</td>\n",
       "      <td>...</td>\n",
       "      <td>...</td>\n",
       "      <td>...</td>\n",
       "      <td>...</td>\n",
       "      <td>...</td>\n",
       "      <td>...</td>\n",
       "      <td>...</td>\n",
       "      <td>...</td>\n",
       "      <td>...</td>\n",
       "      <td>...</td>\n",
       "      <td>...</td>\n",
       "      <td>...</td>\n",
       "      <td>...</td>\n",
       "      <td>...</td>\n",
       "      <td>...</td>\n",
       "      <td>...</td>\n",
       "      <td>...</td>\n",
       "      <td>...</td>\n",
       "      <td>...</td>\n",
       "    </tr>\n",
       "    <tr>\n",
       "      <th>1117</th>\n",
       "      <td>1609</td>\n",
       "      <td>NaN</td>\n",
       "      <td>NaN</td>\n",
       "      <td>NaN</td>\n",
       "      <td>Species-environment associations and predicted...</td>\n",
       "      <td>2017</td>\n",
       "      <td>Avian Conservation and Ecology</td>\n",
       "      <td>NaN</td>\n",
       "      <td>NaN</td>\n",
       "      <td>NaN</td>\n",
       "      <td>...</td>\n",
       "      <td>NaN</td>\n",
       "      <td>NaN</td>\n",
       "      <td>NaN</td>\n",
       "      <td>Species distribution</td>\n",
       "      <td>Species distribution (0.395); Invasive species...</td>\n",
       "      <td>1.357163</td>\n",
       "      <td>AI</td>\n",
       "      <td>NaN</td>\n",
       "      <td>NaN</td>\n",
       "      <td>Included</td>\n",
       "    </tr>\n",
       "    <tr>\n",
       "      <th>1118</th>\n",
       "      <td>1613</td>\n",
       "      <td>NaN</td>\n",
       "      <td>NaN</td>\n",
       "      <td>NaN</td>\n",
       "      <td>A Deep learning method for accurate and fast i...</td>\n",
       "      <td>2018</td>\n",
       "      <td>Ecological Informatics</td>\n",
       "      <td>NaN</td>\n",
       "      <td>NaN</td>\n",
       "      <td>NaN</td>\n",
       "      <td>...</td>\n",
       "      <td>NaN</td>\n",
       "      <td>NaN</td>\n",
       "      <td>NaN</td>\n",
       "      <td>Invasive species monitoring</td>\n",
       "      <td>Underwater photography (0.352); Coral reef mon...</td>\n",
       "      <td>1.294072</td>\n",
       "      <td>AI</td>\n",
       "      <td>NaN</td>\n",
       "      <td>NaN</td>\n",
       "      <td>Included</td>\n",
       "    </tr>\n",
       "    <tr>\n",
       "      <th>1119</th>\n",
       "      <td>1614</td>\n",
       "      <td>NaN</td>\n",
       "      <td>NaN</td>\n",
       "      <td>NaN</td>\n",
       "      <td>Deep convolutional neural networks capabilitie...</td>\n",
       "      <td>2018</td>\n",
       "      <td>Atmosphere</td>\n",
       "      <td>NaN</td>\n",
       "      <td>NaN</td>\n",
       "      <td>NaN</td>\n",
       "      <td>...</td>\n",
       "      <td>NaN</td>\n",
       "      <td>NaN</td>\n",
       "      <td>NaN</td>\n",
       "      <td>Climate modelling,\\nNatural disaster forecasting</td>\n",
       "      <td>Climate modelling (0.408); Ocean chemistry det...</td>\n",
       "      <td>1.340750</td>\n",
       "      <td>AI</td>\n",
       "      <td>NaN</td>\n",
       "      <td>NaN</td>\n",
       "      <td>Included</td>\n",
       "    </tr>\n",
       "    <tr>\n",
       "      <th>1120</th>\n",
       "      <td>1621</td>\n",
       "      <td>NaN</td>\n",
       "      <td>NaN</td>\n",
       "      <td>NaN</td>\n",
       "      <td>Recruitment forecasting of yellowfin tuna in t...</td>\n",
       "      <td>2016</td>\n",
       "      <td>Ecological Informatics</td>\n",
       "      <td>NaN</td>\n",
       "      <td>NaN</td>\n",
       "      <td>NaN</td>\n",
       "      <td>...</td>\n",
       "      <td>NaN</td>\n",
       "      <td>NaN</td>\n",
       "      <td>NaN</td>\n",
       "      <td>Invasive species monitoring</td>\n",
       "      <td>Marine ecology (0.420); Natural disaster forec...</td>\n",
       "      <td>1.396317</td>\n",
       "      <td>AI</td>\n",
       "      <td>NaN</td>\n",
       "      <td>NaN</td>\n",
       "      <td>Included</td>\n",
       "    </tr>\n",
       "    <tr>\n",
       "      <th>1121</th>\n",
       "      <td>1622</td>\n",
       "      <td>NaN</td>\n",
       "      <td>NaN</td>\n",
       "      <td>NaN</td>\n",
       "      <td>Hindcast modeling of oil slick persistence fro...</td>\n",
       "      <td>2017</td>\n",
       "      <td>Remote Sensing of Environment</td>\n",
       "      <td>NaN</td>\n",
       "      <td>NaN</td>\n",
       "      <td>NaN</td>\n",
       "      <td>...</td>\n",
       "      <td>NaN</td>\n",
       "      <td>NaN</td>\n",
       "      <td>NaN</td>\n",
       "      <td>Contaminated Ocean Water detection</td>\n",
       "      <td>Ocean circulation and currents (0.404); Ocean ...</td>\n",
       "      <td>1.286471</td>\n",
       "      <td>AI</td>\n",
       "      <td>NaN</td>\n",
       "      <td>NaN</td>\n",
       "      <td>Included</td>\n",
       "    </tr>\n",
       "  </tbody>\n",
       "</table>\n",
       "<p>1122 rows × 46 columns</p>\n",
       "</div>"
      ],
      "text/plain": [
       "      index                                         Unnamed: 0  \\\n",
       "0         0  Liu Y.; Meng Z.; Chen W.; Liang Y.; Chen W.; C...   \n",
       "1         1                   Luo X.; Chen L.; Zhou H.; Cao H.   \n",
       "2         2        Zhufeng L.; Xiaofang L.; Na W.; Qingyang Z.   \n",
       "3         3                                                NaN   \n",
       "4         4                                                NaN   \n",
       "...     ...                                                ...   \n",
       "1117   1609                                                NaN   \n",
       "1118   1613                                                NaN   \n",
       "1119   1614                                                NaN   \n",
       "1120   1621                                                NaN   \n",
       "1121   1622                                                NaN   \n",
       "\n",
       "                                             Unnamed: 1  \\\n",
       "0     Liu, Yuyao (57240197700); Meng, Zhou (72018949...   \n",
       "1     Luo, Xinwei (36995012900); Chen, Lu (581222398...   \n",
       "2     Zhufeng, Lei (57201702161); Xiaofang, Lei (579...   \n",
       "3                                                   NaN   \n",
       "4                                                   NaN   \n",
       "...                                                 ...   \n",
       "1117                                                NaN   \n",
       "1118                                                NaN   \n",
       "1119                                                NaN   \n",
       "1120                                                NaN   \n",
       "1121                                                NaN   \n",
       "\n",
       "                                             Unnamed: 2  \\\n",
       "0     57240197700; 7201894926; 57213686853; 57218294...   \n",
       "1     36995012900; 58122239800; 58122239900; 5771425...   \n",
       "2     57201702161; 57949172700; 57948807100; 5794892...   \n",
       "3                                                   NaN   \n",
       "4                                                   NaN   \n",
       "...                                                 ...   \n",
       "1117                                                NaN   \n",
       "1118                                                NaN   \n",
       "1119                                                NaN   \n",
       "1120                                                NaN   \n",
       "1121                                                NaN   \n",
       "\n",
       "                                                  Title  Year  \\\n",
       "0     Ocean Fronts and Their Acoustic Effects: A Review  2022   \n",
       "1     A Survey of Underwater Acoustic Target Recogni...  2023   \n",
       "2     Present status and challenges of underwater ac...  2022   \n",
       "3     Categorizing Shallow Marine Soundscapes Using ...  2023   \n",
       "4     Automated cataloguing of American silver perch...  2023   \n",
       "...                                                 ...   ...   \n",
       "1117  Species-environment associations and predicted...  2017   \n",
       "1118  A Deep learning method for accurate and fast i...  2018   \n",
       "1119  Deep convolutional neural networks capabilitie...  2018   \n",
       "1120  Recruitment forecasting of yellowfin tuna in t...  2016   \n",
       "1121  Hindcast modeling of oil slick persistence fro...  2017   \n",
       "\n",
       "                                        Journal  Unnamed: 6 Unnamed: 7  \\\n",
       "0     Journal of Marine Science and Engineering         NaN         10   \n",
       "1     Journal of Marine Science and Engineering         NaN         11   \n",
       "2                          Frontiers in Physics         NaN         10   \n",
       "3     Journal of Marine Science and Engineering         NaN        NaN   \n",
       "4                                  Bioacoustics         NaN        NaN   \n",
       "...                                         ...         ...        ...   \n",
       "1117             Avian Conservation and Ecology         NaN        NaN   \n",
       "1118                     Ecological Informatics         NaN        NaN   \n",
       "1119                                 Atmosphere         NaN        NaN   \n",
       "1120                     Ecological Informatics         NaN        NaN   \n",
       "1121              Remote Sensing of Environment         NaN        NaN   \n",
       "\n",
       "     Unnamed: 8  ...         Unnamed: 35 Unnamed: 36 Unnamed: 37  \\\n",
       "0            12  ...  2-s2.0-85144836521         NaN         NaN   \n",
       "1             2  ...  2-s2.0-85149119509         NaN         NaN   \n",
       "2           NaN  ...  2-s2.0-85140965810         NaN         NaN   \n",
       "3           NaN  ...                 NaN         NaN         NaN   \n",
       "4           NaN  ...                 NaN         NaN         NaN   \n",
       "...         ...  ...                 ...         ...         ...   \n",
       "1117        NaN  ...                 NaN         NaN         NaN   \n",
       "1118        NaN  ...                 NaN         NaN         NaN   \n",
       "1119        NaN  ...                 NaN         NaN         NaN   \n",
       "1120        NaN  ...                 NaN         NaN         NaN   \n",
       "1121        NaN  ...                 NaN         NaN         NaN   \n",
       "\n",
       "                                      Manual Labelling  \\\n",
       "0                              Acoustic classification   \n",
       "1                              Acoustic classification   \n",
       "2                              Acoustic classification   \n",
       "3                              Acoustic classification   \n",
       "4                              Acoustic classification   \n",
       "...                                                ...   \n",
       "1117                              Species distribution   \n",
       "1118                       Invasive species monitoring   \n",
       "1119  Climate modelling,\\nNatural disaster forecasting   \n",
       "1120                       Invasive species monitoring   \n",
       "1121                Contaminated Ocean Water detection   \n",
       "\n",
       "            Zero-shot labelling (lower = more relevant)  \\\n",
       "0     Acoustic classification (0.386); Sea floor map...   \n",
       "1     Acoustic classification (0.368); Detection of ...   \n",
       "2     Acoustic classification (0.379); Contaminated ...   \n",
       "3     Acoustic classification (0.349); Marine ecolog...   \n",
       "4     Whale identification (0.425); Acoustic classif...   \n",
       "...                                                 ...   \n",
       "1117  Species distribution (0.395); Invasive species...   \n",
       "1118  Underwater photography (0.352); Coral reef mon...   \n",
       "1119  Climate modelling (0.408); Ocean chemistry det...   \n",
       "1120  Marine ecology (0.420); Natural disaster forec...   \n",
       "1121  Ocean circulation and currents (0.404); Ocean ...   \n",
       "\n",
       "     Relevant to Oceanography? (lower = more relevant) Unnamed: 41  \\\n",
       "0                                             1.115355          AI   \n",
       "1                                             1.355405          AI   \n",
       "2                                             1.386320          AI   \n",
       "3                                             1.151325          AI   \n",
       "4                                             1.388355          AI   \n",
       "...                                                ...         ...   \n",
       "1117                                          1.357163          AI   \n",
       "1118                                          1.294072          AI   \n",
       "1119                                          1.340750          AI   \n",
       "1120                                          1.396317          AI   \n",
       "1121                                          1.286471          AI   \n",
       "\n",
       "     Unnamed: 42 Notes / Comments Include / Exclude  \n",
       "0            NaN              NaN          Included  \n",
       "1            NaN              NaN          Included  \n",
       "2            NaN              NaN          Included  \n",
       "3            NaN              NaN          Included  \n",
       "4            NaN              NaN          Included  \n",
       "...          ...              ...               ...  \n",
       "1117         NaN              NaN          Included  \n",
       "1118         NaN              NaN          Included  \n",
       "1119         NaN              NaN          Included  \n",
       "1120         NaN              NaN          Included  \n",
       "1121         NaN              NaN          Included  \n",
       "\n",
       "[1122 rows x 46 columns]"
      ]
     },
     "execution_count": 127,
     "metadata": {},
     "output_type": "execute_result"
    }
   ],
   "source": [
    "dataset = pd.read_csv(\"./Search String H Results - Literature Reviews.csv\", keep_default_na=False, na_values=[''])\n",
    "dataset.drop_duplicates(subset=[\"Title\"], inplace=True)\n",
    "dataset = dataset[~(dataset[\"Manual Labelling\"] == \"N/A\")]\n",
    "dataset.reset_index(inplace=True)\n",
    "dataset\n",
    "# dataset.head()"
   ]
  },
  {
   "cell_type": "code",
   "execution_count": 128,
   "id": "6de9c290-dfb1-4d7b-9c2d-5316a265b55d",
   "metadata": {},
   "outputs": [],
   "source": [
    "data_strings = pd.DataFrame(dataset)[[\"Title\", \"Abstract\"]]"
   ]
  },
  {
   "cell_type": "code",
   "execution_count": 129,
   "id": "ef58045e-b531-4a57-9f11-5d83df38cb56",
   "metadata": {},
   "outputs": [
    {
     "data": {
      "application/vnd.jupyter.widget-view+json": {
       "model_id": "933513d2b643416991b5cdfba4d46014",
       "version_major": 2,
       "version_minor": 0
      },
      "text/plain": [
       "Batches:   0%|          | 0/36 [00:00<?, ?it/s]"
      ]
     },
     "metadata": {},
     "output_type": "display_data"
    }
   ],
   "source": [
    "data_vectors = embedding_model.encode(data_strings.Title + \"\\n\\n\" + data_strings.Abstract, show_progress_bar=True)"
   ]
  },
  {
   "cell_type": "code",
   "execution_count": 130,
   "id": "b424896a-8d69-4223-976b-d6adc73208f1",
   "metadata": {},
   "outputs": [
    {
     "name": "stderr",
     "output_type": "stream",
     "text": [
      "/home/taylor/miniforge3/envs/kom/lib/python3.11/site-packages/umap/umap_.py:1943: UserWarning: n_jobs value -1 overridden to 1 by setting random_state. Use no seed for parallelism.\n",
      "  warn(f\"n_jobs value {self.n_jobs} overridden to 1 by setting random_state. Use no seed for parallelism.\")\n"
     ]
    }
   ],
   "source": [
    "data_map = umap.UMAP(metric=\"cosine\", n_components=2, random_state=42).fit_transform(data_vectors)"
   ]
  },
  {
   "cell_type": "code",
   "execution_count": 131,
   "id": "1051c11f-87fb-4a7b-bf50-f97912285035",
   "metadata": {},
   "outputs": [
    {
     "data": {
      "image/png": "[encoded data removed]",
      "text/plain": [
       "<Figure size 640x480 with 1 Axes>"
      ]
     },
     "metadata": {},
     "output_type": "display_data"
    }
   ],
   "source": [
    "import matplotlib.pyplot as plt\n",
    "\n",
    "plt.scatter(*data_map.T)\n",
    "plt.show()"
   ]
  },
  {
   "cell_type": "markdown",
   "id": "2953fdc0-a6b3-4c09-8473-aee0f2242166",
   "metadata": {},
   "source": [
    "Now we need to do some clustering; for this I'll use HDBCSAN (more specifically fast_hdbscan seeing as it is faster and more flexible at reaching into some of the internals). I want layers of clusters not a strict hierarchy, so we'll use some HDBSCAN based tricks to make that possible. I also want to keep track of a bunch of information which will then be used to feed back into the cluster naming -- the cluster centroid in the map layout; the cluster centroid in the original high-d embedding space; what the subclusters are; and the actual data points in each cluster.\r\n",
    "\r\n",
    "After that we'll throw together some quick functions to get topical and distinctive sentences and extract keywords."
   ]
  },
  {
   "cell_type": "code",
   "execution_count": 132,
   "id": "eada7958-cafe-463c-80ef-7f825f12da76",
   "metadata": {},
   "outputs": [],
   "source": [
    "@numba.njit(fastmath=True)\n",
    "def layer_from_clustering(\n",
    "    point_vectors,\n",
    "    point_locations,\n",
    "    cluster_label_vector,\n",
    "    cluster_membership_vector,\n",
    "    base_clusters,\n",
    "    membership_strength_threshold=0.2,\n",
    "):\n",
    "    n_clusters = len(set(cluster_label_vector)) - 1\n",
    "    \n",
    "    average_vectors = np.zeros((n_clusters, point_vectors.shape[1]), dtype=np.float32)\n",
    "    average_locations = np.zeros((n_clusters, point_locations.shape[1]), dtype=np.float32)\n",
    "    total_weights = np.zeros(n_clusters, dtype=np.float32)\n",
    "    pointsets = [set([-1 for i in range(0)]) for i in range(n_clusters)]\n",
    "    metaclusters = [set([-1 for i in range(0)]) for i in range(n_clusters)]\n",
    "\n",
    "    for i in range(cluster_label_vector.shape[0]):\n",
    "        cluster_num = cluster_label_vector[i]\n",
    "        if cluster_num >= 0:\n",
    "            average_vectors[cluster_num] += cluster_membership_vector[i] * point_vectors[i]\n",
    "            average_locations[cluster_num] += cluster_membership_vector[i] * point_locations[i]\n",
    "            total_weights[cluster_num] += cluster_membership_vector[i]\n",
    "            \n",
    "            if cluster_membership_vector[i] > membership_strength_threshold:\n",
    "                pointsets[cluster_num].add(i)\n",
    "                sub_cluster = base_clusters[i]\n",
    "                if sub_cluster != -1:\n",
    "                    metaclusters[cluster_num].add(sub_cluster)\n",
    "                \n",
    "    for c in range(n_clusters):\n",
    "        average_vectors[c] /= total_weights[c]\n",
    "        average_locations[c] /= total_weights[c]\n",
    "        \n",
    "    return average_vectors, average_locations, pointsets, metaclusters\n",
    "                \n",
    "            \n",
    "def build_cluster_layers(\n",
    "    point_vectors,\n",
    "    point_locations,\n",
    "    *,\n",
    "    min_clusters=2,\n",
    "    min_samples=5,\n",
    "    base_min_cluster_size=10,\n",
    "    membership_strength_threshold=0.2,\n",
    "    next_cluster_size_quantile=0.8,\n",
    "):\n",
    "    vector_layers = []\n",
    "    location_layers = []\n",
    "    pointset_layers = []\n",
    "    metacluster_layers = []\n",
    "    \n",
    "    min_cluster_size = base_min_cluster_size\n",
    "    \n",
    "    sklearn_tree = fast_hdbscan.hdbscan.KDTree(point_locations)\n",
    "    numba_tree = fast_hdbscan.numba_kdtree.kdtree_to_numba(sklearn_tree)\n",
    "    edges = fast_hdbscan.boruvka.parallel_boruvka(\n",
    "        numba_tree, min_samples=min_cluster_size if min_samples is None else min_samples\n",
    "    )\n",
    "    sorted_mst = edges[np.argsort(edges.T[2])]\n",
    "    uncondensed_tree = fast_hdbscan.cluster_trees.mst_to_linkage_tree(sorted_mst)\n",
    "    new_tree = fast_hdbscan.cluster_trees.condense_tree(uncondensed_tree, base_min_cluster_size)\n",
    "    leaves = fast_hdbscan.cluster_trees.extract_leaves(new_tree)\n",
    "    clusters = fast_hdbscan.cluster_trees.get_cluster_label_vector(new_tree, leaves, 0.0)\n",
    "    point_probs = fast_hdbscan.cluster_trees.get_point_membership_strength_vector(new_tree, leaves, clusters)\n",
    "\n",
    "\n",
    "    cluster_ids = np.unique(clusters[clusters >= 0])\n",
    "    base_clusters = clusters.copy()\n",
    "    n_clusters_in_layer = cluster_ids.shape[0]\n",
    "    \n",
    "    base_layer = True\n",
    "\n",
    "    while n_clusters_in_layer >= min_clusters:\n",
    "        layer_vectors, layer_locations, layer_pointsets, layer_metaclusters = layer_from_clustering(\n",
    "            point_vectors,\n",
    "            point_locations,\n",
    "            clusters,\n",
    "            point_probs,\n",
    "            base_clusters,\n",
    "            membership_strength_threshold,            \n",
    "        )\n",
    "            \n",
    "        if not base_layer:\n",
    "            layer_metacluster_selection = np.asarray([len(x) > 1 for x in layer_metaclusters])\n",
    "            layer_metaclusters = [\n",
    "                list(x) for x, select in zip(layer_metaclusters, layer_metacluster_selection) if select\n",
    "            ]\n",
    "            layer_pointsets = [\n",
    "                list(x) for x, select in zip(layer_pointsets, layer_metacluster_selection) if select\n",
    "            ]\n",
    "            layer_vectors = layer_vectors[layer_metacluster_selection]\n",
    "            layer_locations=  layer_locations[layer_metacluster_selection]\n",
    "            \n",
    "        vector_layers.append(layer_vectors)\n",
    "        location_layers.append(layer_locations)\n",
    "        pointset_layers.append(layer_pointsets)\n",
    "        metacluster_layers.append(layer_metaclusters)\n",
    "        \n",
    "        last_min_cluster_size = min_cluster_size\n",
    "        min_cluster_size = int(np.quantile([len(x) for x in layer_pointsets], next_cluster_size_quantile))\n",
    "        print(len(layer_vectors), last_min_cluster_size, min_cluster_size)\n",
    "        \n",
    "        new_tree = fast_hdbscan.cluster_trees.condense_tree(uncondensed_tree, min_cluster_size)\n",
    "        leaves = fast_hdbscan.cluster_trees.extract_leaves(new_tree)\n",
    "        clusters = fast_hdbscan.cluster_trees.get_cluster_label_vector(new_tree, leaves, 0.0)\n",
    "        point_probs = fast_hdbscan.cluster_trees.get_point_membership_strength_vector(new_tree, leaves, clusters)\n",
    "        \n",
    "        cluster_ids = np.unique(clusters[clusters >= 0])\n",
    "        n_clusters_in_layer = np.max(clusters) + 1\n",
    "        base_layer = False\n",
    "       \n",
    "    pointset_layers = [[list(pointset) for pointset in layer] for layer in pointset_layers]\n",
    "    return vector_layers, location_layers, pointset_layers, metacluster_layers\n",
    "\n",
    "\n",
    "def diversify(query_vector, candidate_neighbor_vectors, alpha=1.0, max_candidates=16):\n",
    "    distance_to_query = np.squeeze(sklearn.metrics.pairwise_distances(\n",
    "        [query_vector], candidate_neighbor_vectors, metric=\"cosine\")\n",
    "    )\n",
    "                                   \n",
    "    retained_neighbor_indices = [0]\n",
    "    for i, vector in enumerate(candidate_neighbor_vectors[1:], 1):\n",
    "        retained_neighbor_distances = sklearn.metrics.pairwise_distances(\n",
    "            [vector], candidate_neighbor_vectors[retained_neighbor_indices], metric=\"cosine\"\n",
    "        )[0]\n",
    "        for j in range(retained_neighbor_distances.shape[0]):\n",
    "            if alpha * distance_to_query[i] > retained_neighbor_distances[j]:\n",
    "                break\n",
    "        else:\n",
    "            retained_neighbor_indices.append(i)\n",
    "            if len(retained_neighbor_indices) >= max_candidates:\n",
    "                return retained_neighbor_indices\n",
    "            \n",
    "    return retained_neighbor_indices\n",
    "\n",
    "\n",
    "def topical_sentences_for_cluster(docs, vector_array, pointset, centroid_vector, n_sentence_examples=16):\n",
    "    sentences = docs.values[pointset]\n",
    "\n",
    "    sent_vectors = vector_array[pointset]\n",
    "    candidate_neighbor_indices = np.argsort(\n",
    "        np.squeeze(sklearn.metrics.pairwise_distances([centroid_vector], sent_vectors, metric=\"cosine\"))\n",
    "    )\n",
    "    candidate_neighbors = sent_vectors[candidate_neighbor_indices]\n",
    "    topical_sentence_indices = candidate_neighbor_indices[\n",
    "        diversify(centroid_vector, candidate_neighbors)[:n_sentence_examples]\n",
    "    ]\n",
    "    topical_sentences = [sentences[i] for i in topical_sentence_indices]\n",
    "    return topical_sentences\n",
    "\n",
    "def distinctive_sentences_for_cluster(\n",
    "    cluster_num, docs, vector_array, pointset_layer, cluster_neighbors, n_sentence_examples=16\n",
    "):\n",
    "    pointset = pointset_layer[cluster_num]\n",
    "    sentences = docs.values[pointset]\n",
    "\n",
    "    local_vectors = vector_array[sum([pointset_layer[x] for x in cluster_neighbors], [])]\n",
    "    vectors_for_svd = normalize(local_vectors - local_vectors.mean(axis=0))\n",
    "    U, S, Vh = randomized_svd(vectors_for_svd, 64)\n",
    "    transformed_docs = (local_vectors @ Vh.T)\n",
    "    transformed_docs = np.where(transformed_docs > 0, transformed_docs, 0)\n",
    "    class_labels = np.repeat(\n",
    "        np.arange(\n",
    "            len(cluster_neighbors)\n",
    "        ), \n",
    "        [len(pointset_layer[x]) for x in cluster_neighbors]\n",
    "    )\n",
    "    iwt = vectorizers.transformers.InformationWeightTransformer().fit(transformed_docs, class_labels)\n",
    "    sentence_weights = np.sum(transformed_docs[:len(pointset)] * iwt.information_weights_, axis=1)\n",
    "    distinctive_sentence_indices = np.argsort(sentence_weights)[:n_sentence_examples * 3]\n",
    "    distinctive_sentence_vectors = vector_array[distinctive_sentence_indices]\n",
    "    diversified_candidates = diversify(\n",
    "        vector_array[pointset_layer[cluster_num]].mean(axis=0), \n",
    "        distinctive_sentence_vectors\n",
    "    )\n",
    "    distinctive_sentence_indices = distinctive_sentence_indices[diversified_candidates[:n_sentence_examples]]\n",
    "    distinctive_sentences = [sentences[i] for i in distinctive_sentence_indices]\n",
    "    return distinctive_sentences\n",
    "\n",
    "def longest_keyphrases(candidate_keyphrases):\n",
    "    result = []\n",
    "    for i, phrase in enumerate(candidate_keyphrases):\n",
    "        for other in candidate_keyphrases:\n",
    "            if f\" {phrase}\" in other or f\"{phrase} \" in other:\n",
    "                phrase = other\n",
    "                \n",
    "        if phrase not in result:\n",
    "            candidate_keyphrases[i] = phrase\n",
    "            result.append(phrase)\n",
    "            \n",
    "    return result\n",
    "\n",
    "def contrastive_keywords_for_layer(\n",
    "    full_count_matrix, \n",
    "    inverse_vocab, \n",
    "    pointset_layer, \n",
    "    doc_vectors, \n",
    "    vocab_vectors, \n",
    "    n_keywords=16, \n",
    "    prior_strength=0.1,\n",
    "    weight_power=2.0\n",
    "):\n",
    "    count_matrix = full_count_matrix[sum(pointset_layer, []), :]\n",
    "    column_mask = np.squeeze(np.asarray(count_matrix.sum(axis=0))) > 0.0\n",
    "    count_matrix = count_matrix[:, column_mask]\n",
    "    column_map = np.arange(full_count_matrix.shape[1])[column_mask]\n",
    "    \n",
    "    class_labels = np.repeat(np.arange(len(pointset_layer)), [len(x) for x in pointset_layer])\n",
    "    iwt = vectorizers.transformers.InformationWeightTransformer(\n",
    "        prior_strength=prior_strength, weight_power=weight_power\n",
    "    ).fit(\n",
    "        count_matrix, class_labels\n",
    "    )\n",
    "    count_matrix.data = np.log(count_matrix.data + 1)\n",
    "    count_matrix.eliminate_zeros()\n",
    "    \n",
    "    weighted_matrix = iwt.transform(count_matrix)\n",
    "    \n",
    "    contrastive_keyword_layer = []\n",
    "    \n",
    "    from_row = 0\n",
    "    for i in range(len(pointset_layer)):\n",
    "        to_row = from_row + len(pointset_layer[i])\n",
    "        contrastive_scores = np.squeeze(np.asarray(weighted_matrix[from_row:to_row].sum(axis=0)))\n",
    "        contrastive_keyword_indices = np.argsort(contrastive_scores)[-4 * n_keywords:]\n",
    "        contrastive_keywords = [inverse_vocab[column_map[j]] for j in reversed(contrastive_keyword_indices)]\n",
    "        contrastive_keywords = longest_keyphrases(contrastive_keywords)\n",
    "        \n",
    "        centroid_vector = np.mean(doc_vectors[pointset_layer[i]], axis=0)\n",
    "        keyword_vectors = np.asarray([vocab_vectors[word] for word in contrastive_keywords])\n",
    "        chosen_indices = diversify(centroid_vector, keyword_vectors, alpha=0.66)[:n_keywords]\n",
    "        contrastive_keywords = [contrastive_keywords[j] for j in chosen_indices]\n",
    "        \n",
    "        contrastive_keyword_layer.append(contrastive_keywords)\n",
    "        from_row = to_row\n",
    "        \n",
    "    return contrastive_keyword_layer"
   ]
  },
  {
   "cell_type": "markdown",
   "id": "8aaf7830-fc8f-448a-ae61-79c7419fbad6",
   "metadata": {},
   "source": [
    "So now we just cluster, picking a minimim base cluster size and let the choices of layering from there be decided by the algorithm. This does not take long."
   ]
  },
  {
   "cell_type": "code",
   "execution_count": 139,
   "id": "78fba921-866f-4f46-b974-2af935204d2b",
   "metadata": {},
   "outputs": [
    {
     "name": "stdout",
     "output_type": "stream",
     "text": [
      "21 20 55\n",
      "6 55 137\n",
      "3 137 345\n",
      "21\n",
      "CPU times: user 21.4 ms, sys: 350 µs, total: 21.8 ms\n",
      "Wall time: 9.43 ms\n"
     ]
    }
   ],
   "source": [
    "%%time\n",
    "vector_layers, location_layers, pointset_layers, metacluster_layers = build_cluster_layers(\n",
    "    data_vectors, data_map, base_min_cluster_size=20, min_clusters=3,\n",
    ")\n",
    "print(len(vector_layers[0]))"
   ]
  },
  {
   "cell_type": "code",
   "execution_count": 140,
   "id": "905c6526-b77e-42c7-8478-895f3e622557",
   "metadata": {},
   "outputs": [],
   "source": [
    "# vector_layers\n",
    "# location_layers\n",
    "# pointset_layers\n",
    "# metacluster_layers"
   ]
  },
  {
   "cell_type": "markdown",
   "id": "cd226e50-d00b-445a-aaa8-d27486c0e09f",
   "metadata": {},
   "source": [
    "# Extracting useful cluster information for topic naming"
   ]
  },
  {
   "cell_type": "markdown",
   "id": "7da4c4be-29bf-4cae-ab1d-e7e89c1234ec",
   "metadata": {},
   "source": [
    "Next I'm going to need a little more information, since for distinctive sentences (and later on as well) it will help to know what nearby clusters are. We could write something to do this efficiently, but there aren't that many clusters so we'll just brute-force the whole thing."
   ]
  },
  {
   "cell_type": "code",
   "execution_count": 141,
   "id": "96fd6f6b-7d11-4330-a8c6-5629caebe708",
   "metadata": {},
   "outputs": [],
   "source": [
    "layer_cluster_neighbors = [\n",
    "    np.argsort(\n",
    "        sklearn.metrics.pairwise_distances(layer, metric=\"cosine\"), \n",
    "        axis=1\n",
    "    )[:, :16]\n",
    "    for layer in vector_layers\n",
    "]"
   ]
  },
  {
   "cell_type": "markdown",
   "id": "fb356566-23ae-4fe8-be7f-4cabd6d90c70",
   "metadata": {},
   "source": [
    "Now we can generate topical sentences (sentences most similar to the cluster centroid, up to some diversification) and distinctive sentences (sentences that most strongly distinguish this cluster from nearby ones) for all the clusters."
   ]
  },
  {
   "cell_type": "code",
   "execution_count": 142,
   "id": "350a8ae6-7bd1-4b53-b5f9-df716b755909",
   "metadata": {},
   "outputs": [
    {
     "name": "stdout",
     "output_type": "stream",
     "text": [
      "CPU times: user 153 ms, sys: 52 µs, total: 153 ms\n",
      "Wall time: 149 ms\n"
     ]
    }
   ],
   "source": [
    "%%time\n",
    "topical_sentences_per_cluster = [\n",
    "    [\n",
    "        topical_sentences_for_cluster(data_strings[\"Title\"], data_vectors, pointset, cluster_vector)\n",
    "        for pointset, cluster_vector in zip(pointset_layers[i], vector_layers[i])\n",
    "    ]\n",
    "    for i in range(len(pointset_layers))\n",
    "]"
   ]
  },
  {
   "cell_type": "code",
   "execution_count": 143,
   "id": "710d0e24-d180-4ab8-bd1b-1cb18d5a42b3",
   "metadata": {},
   "outputs": [
    {
     "name": "stdout",
     "output_type": "stream",
     "text": [
      "CPU times: user 2.21 s, sys: 642 ms, total: 2.85 s\n",
      "Wall time: 821 ms\n"
     ]
    }
   ],
   "source": [
    "%%time\n",
    "distinctive_sentences_per_cluster = [\n",
    "    [\n",
    "        distinctive_sentences_for_cluster(\n",
    "            topic_num, data_strings[\"Title\"], data_vectors, pointset_layers[i], layer_cluster_neighbors[i][topic_num]\n",
    "        )\n",
    "        for topic_num in range(len(pointset_layers[i]))\n",
    "    ]\n",
    "    for i in range(len(pointset_layers))\n",
    "]"
   ]
  },
  {
   "cell_type": "markdown",
   "id": "0d9e8a3c-4fef-429e-aa5b-796189e3bed7",
   "metadata": {},
   "source": [
    "Next I'm going to want some keywords for each cluster. I'm just stealing from other similar code I wrote here, so please excuse the mess -- this was just a \"get it done\" effort. In essence this is really much the same as BERTopic's c-TF-IDF except it uses the slightly newer supervised information weighting instead c-IDF. It also helps to use a decent n-gram range and beef up the min_df to get more informative keywords."
   ]
  },
  {
   "cell_type": "code",
   "execution_count": 144,
   "id": "4b65ef63-b818-40ad-8d1f-0eca2be8c8cd",
   "metadata": {},
   "outputs": [
    {
     "name": "stdout",
     "output_type": "stream",
     "text": [
      "CPU times: user 466 ms, sys: 51.8 ms, total: 518 ms\n",
      "Wall time: 518 ms\n"
     ]
    },
    {
     "data": {
      "text/plain": [
       "1287"
      ]
     },
     "execution_count": 144,
     "metadata": {},
     "output_type": "execute_result"
    }
   ],
   "source": [
    "%%time\n",
    "cv = sklearn.feature_extraction.text.CountVectorizer(lowercase=True, min_df=25, token_pattern='(?u)\\\\b\\\\w[-\\'\\\\w]+\\\\b', ngram_range=(1,4))\n",
    "full_count_matrix = cv.fit_transform(data_strings[\"Title\"] + \" \" + data_strings[\"Abstract\"])\n",
    "acceptable_vocab = [v for v in cv.vocabulary_ if v.split()[0] not in sklearn.feature_extraction.text.ENGLISH_STOP_WORDS and v.split()[-1] not in sklearn.feature_extraction.text.ENGLISH_STOP_WORDS]\n",
    "acceptable_indices = [cv.vocabulary_[v] for v in acceptable_vocab]\n",
    "full_count_matrix = full_count_matrix[:, acceptable_indices]\n",
    "inverse_vocab = {i:w for i, w in enumerate(acceptable_vocab)}\n",
    "vocab = acceptable_vocab\n",
    "len(vocab)"
   ]
  },
  {
   "cell_type": "code",
   "execution_count": 145,
   "id": "cf4dcfac-12e6-4869-bc10-db48ec7551cc",
   "metadata": {},
   "outputs": [
    {
     "data": {
      "application/vnd.jupyter.widget-view+json": {
       "model_id": "1c300c4d25674dfaa805d3229a5e6a17",
       "version_major": 2,
       "version_minor": 0
      },
      "text/plain": [
       "Batches:   0%|          | 0/41 [00:00<?, ?it/s]"
      ]
     },
     "metadata": {},
     "output_type": "display_data"
    }
   ],
   "source": [
    "vocab_vectors = dict(zip(vocab, embedding_model.encode(vocab, show_progress_bar=True)))"
   ]
  },
  {
   "cell_type": "code",
   "execution_count": 146,
   "id": "fdd57084-d32f-47a5-9939-36d953a4452d",
   "metadata": {},
   "outputs": [
    {
     "name": "stdout",
     "output_type": "stream",
     "text": [
      "CPU times: user 168 ms, sys: 178 µs, total: 168 ms\n",
      "Wall time: 165 ms\n"
     ]
    }
   ],
   "source": [
    "%%time\n",
    "contrastive_keyword_layers = [\n",
    "        contrastive_keywords_for_layer(\n",
    "        full_count_matrix, \n",
    "        inverse_vocab, \n",
    "        pointset_layers[layer_num], \n",
    "        data_vectors,\n",
    "        vocab_vectors,\n",
    "    )\n",
    "    for layer_num in range(len(pointset_layers))\n",
    "]"
   ]
  },
  {
   "cell_type": "markdown",
   "id": "7de041a5-8ed4-46cb-8d93-8e24809210f8",
   "metadata": {},
   "source": [
    "# Naming the lowest layer of topics"
   ]
  },
  {
   "cell_type": "markdown",
   "id": "cda0d009-0b58-43c1-bc4f-b2253aa30589",
   "metadata": {},
   "source": [
    "Now we get to the point of using an LLM to create topic names. I went through a few iterations of things like this, and this is what the prompt generation evolved into; if I was starting from scratch I think we could write this much more cleanly. Still, it gets the job done."
   ]
  },
  {
   "cell_type": "code",
   "execution_count": 147,
   "id": "3236f165-d6a1-416b-9a3c-582ff3323a63",
   "metadata": {},
   "outputs": [],
   "source": [
    "def create_prompt(\n",
    "    i, \n",
    "    contrastive_keyword_layer=contrastive_keyword_layers[0], \n",
    "    topical_sentences_per_cluster=topical_sentences_per_cluster[0],\n",
    "    distinctive_sentences_per_cluster=distinctive_sentences_per_cluster[0],\n",
    "    base_cluster_neighbors=layer_cluster_neighbors[0],\n",
    "):\n",
    "    prompt_text = \"--\\n\\nBelow is a information about a group of titles from machine learning articles:\\n\\n\"\n",
    "    prompt_text += \"Distinguishing keywords for this group:\\n - \\\"\" + \", \".join(contrastive_keyword_layer[i]) + \"\\\"\\n\"\n",
    "    prompt_text += \"\\nSample topical titles from the group include:\\n\"\n",
    "    for text in topical_sentences_per_cluster[i]:\n",
    "        prompt_text += f\" - \\\"{text}\\\"\\n\"\n",
    "    prompt_text += \"\\nSample distinctive titles from the group include:\\n\"\n",
    "    for text in distinctive_sentences_per_cluster[i]:\n",
    "        prompt_text += f\" - \\\"{text}\\\"\\n\"\n",
    "\n",
    "    prompt_text += \"\\n\\nSimilar titles from different groups with distinct topics include:\\n\"\n",
    "    for n in base_cluster_neighbors[i][:3]:\n",
    "        for text in distinctive_sentences_per_cluster[n][:2]:\n",
    "            prompt_text += f\"- \\\"{text}\\\"\\n\"\n",
    "\n",
    "    prompt_text += \"\\n\\nThe short distinguishing topic name for the group that had the keywords:\\n - \\\"\" + \", \".join(contrastive_keyword_layer[i][:8]) + \"\\\" \\n\"\n",
    "    prompt_text += \"is:\\n\"\n",
    "    return prompt_text"
   ]
  },
  {
   "cell_type": "markdown",
   "id": "229c8901-3dbf-448c-9f95-63a700c98469",
   "metadata": {},
   "source": [
    "Now we need out LLM. A quantized version of Mistral 7B is not bad, but pick the model that works for you. If you have a GPU this goes a lot faster. If you have a big GPU you will probably want a better model. In general the most powerful model that you can run on the hardware you have is likely your best bet."
   ]
  },
  {
   "cell_type": "code",
   "execution_count": 148,
   "id": "46cfa2dd-9925-46d7-b2b4-001a1d7c8e93",
   "metadata": {},
   "outputs": [],
   "source": [
    "from llama_cpp import Llama"
   ]
  },
  {
   "cell_type": "code",
   "execution_count": 149,
   "id": "997815e7-9fa4-4336-87b8-420b462a18a7",
   "metadata": {},
   "outputs": [],
   "source": [
    "# !wget https://huggingface.co/TheBloke/OpenHermes-2.5-Mistral-7B-GGUF/resolve/main/openhermes-2.5-mistral-7b.Q4_K_M.gguf"
   ]
  },
  {
   "cell_type": "code",
   "execution_count": 150,
   "id": "1d82b0c0-7aa7-4ff9-8256-16501ee3a45d",
   "metadata": {},
   "outputs": [],
   "source": [
    "llm = Llama(model_path=\"openhermes-2.5-mistral-7b.Q4_K_M.gguf\", n_gpu_layers=-1, n_ctx=4096, stop=[\"--\", \"\\n\"], verbose=False)"
   ]
  },
  {
   "cell_type": "markdown",
   "id": "487bdcbb-2461-4ffa-ae43-dcd88ee46d40",
   "metadata": {},
   "source": [
    "Before we run this in earnest let's try it out on the first cluster to make sure it works."
   ]
  },
  {
   "cell_type": "code",
   "execution_count": 151,
   "id": "acf4938a-eadc-4eaa-a3c8-7ffe62c4843a",
   "metadata": {},
   "outputs": [
    {
     "data": {
      "text/plain": [
       "{'id': 'cmpl-2e144ad7-fa4f-49dd-a5b4-227237b68b3a',\n",
       " 'object': 'text_completion',\n",
       " 'created': 1713983668,\n",
       " 'model': 'openhermes-2.5-mistral-7b.Q4_K_M.gguf',\n",
       " 'choices': [{'text': ' - Arctic Sea Ice Machine Learning\\n\\n\\nSimilar topics from different groups with distinct topics include:\\n- \"',\n",
       "   'index': 0,\n",
       "   'logprobs': None,\n",
       "   'finish_reason': 'length'}],\n",
       " 'usage': {'prompt_tokens': 868, 'completion_tokens': 24, 'total_tokens': 892}}"
      ]
     },
     "execution_count": 151,
     "metadata": {},
     "output_type": "execute_result"
    }
   ],
   "source": [
    "llm(create_prompt(0), max_tokens=24, temperature=0.75)"
   ]
  },
  {
   "cell_type": "markdown",
   "id": "62db9e96-1cfe-4ef5-85c8-1a9ad8f6903a",
   "metadata": {},
   "source": [
    "Looks good enough. Obviously we'll need to clean up the output a little, but that's easy enough to add. Let's write a function to do the naming ..."
   ]
  },
  {
   "cell_type": "code",
   "execution_count": 152,
   "id": "51efa8e5-da7b-4886-aaec-0384664f4e12",
   "metadata": {},
   "outputs": [],
   "source": [
    "import tqdm\n",
    "import string"
   ]
  },
  {
   "cell_type": "code",
   "execution_count": 153,
   "id": "6aef7603-9b31-4702-9058-7883b26faad6",
   "metadata": {},
   "outputs": [],
   "source": [
    "def base_level_topic_names(\n",
    "    topical_sentence_layer,\n",
    "    distinctive_sentence_layer,\n",
    "    contrastive_keyword_layer,\n",
    "    base_cluster_neighbors,\n",
    "    from_topic_index=0,\n",
    "    to_topic_index=10,\n",
    "):\n",
    "    topic_names = []\n",
    "    for i in tqdm.notebook.tqdm(range(from_topic_index, to_topic_index)):\n",
    "        topic_naming_prompt = create_prompt(\n",
    "            i, \n",
    "            contrastive_keyword_layer=contrastive_keyword_layer, \n",
    "            topical_sentences_per_cluster=topical_sentence_layer,\n",
    "            distinctive_sentences_per_cluster=distinctive_sentence_layer,\n",
    "            base_cluster_neighbors=base_cluster_neighbors,\n",
    "        )\n",
    "        topic_name = llm(topic_naming_prompt)['choices'][0]['text']\n",
    "        if \"\\n\" in topic_name:\n",
    "            topic_name = topic_name.lstrip(\"\\n \")\n",
    "            topic_name = topic_name.split(\"\\n\")[0]\n",
    "        topic_name = string.capwords(topic_name.strip(string.punctuation + string.whitespace))\n",
    "        topic_names.append(topic_name)\n",
    "\n",
    "    return topic_names"
   ]
  },
  {
   "cell_type": "markdown",
   "id": "635ba9e4-cb70-4e7d-add3-4ffa98aa6a72",
   "metadata": {},
   "source": [
    "And away we go ...\r\n",
    "\r\n"
   ]
  },
  {
   "cell_type": "code",
   "execution_count": 154,
   "id": "b01a24e0-ce1e-46c5-8318-d4f82f6bac51",
   "metadata": {},
   "outputs": [
    {
     "data": {
      "application/vnd.jupyter.widget-view+json": {
       "model_id": "530b1e0940a2401b853cdb427b3564e1",
       "version_major": 2,
       "version_minor": 0
      },
      "text/plain": [
       "  0%|          | 0/21 [00:00<?, ?it/s]"
      ]
     },
     "metadata": {},
     "output_type": "display_data"
    },
    {
     "name": "stdout",
     "output_type": "stream",
     "text": [
      "CPU times: user 9h 22min 42s, sys: 21min 48s, total: 9h 44min 30s\n",
      "Wall time: 29min\n"
     ]
    }
   ],
   "source": [
    "%%time\n",
    "layer0_topics = base_level_topic_names(\n",
    "    topical_sentences_per_cluster[0],\n",
    "    distinctive_sentences_per_cluster[0],\n",
    "    contrastive_keyword_layers[0],\n",
    "    layer_cluster_neighbors[0],\n",
    "    to_topic_index=len(contrastive_keyword_layers[0])\n",
    ")"
   ]
  },
  {
   "cell_type": "code",
   "execution_count": 155,
   "id": "c2482649-7f56-4243-9efc-563f71af2668",
   "metadata": {},
   "outputs": [
    {
     "data": {
      "text/plain": [
       "['Sea Ice And Arctic Radar',\n",
       " 'Acoustic Whale Species Detection',\n",
       " 'Ocean Dynamics Simulations',\n",
       " 'Wave Forecasting And Power Prediction With Lstm',\n",
       " 'Marine Dynamics And Control Using Machine Learning',\n",
       " 'Hydroclimatic Forecasting',\n",
       " 'Machine Learning In Water Quality Management',\n",
       " 'Ocean Carbon Cycle',\n",
       " 'Flood Risk Planning With Machine Learning',\n",
       " 'Storm Surge Forecasting With Ai Models',\n",
       " 'Marine Ai Applications',\n",
       " 'Image-based Machine Learning In Oceanography',\n",
       " 'Aquaculture And Ocean Imaging',\n",
       " 'Ocean Surface Chlorophyll-a Retrieval And',\n",
       " 'Coastal Wetland Machine Learning',\n",
       " 'Machine Learning Water Quality Predictions',\n",
       " 'Coastal Water Quality Forecasting',\n",
       " 'Species Distribution And Habitat Modeling',\n",
       " 'Aquatic Chemicals And Water Quality',\n",
       " 'Oil Spill Detection And Monitoring',\n",
       " 'Environmental Monitoring & Pollutant Detection']"
      ]
     },
     "execution_count": 155,
     "metadata": {},
     "output_type": "execute_result"
    }
   ],
   "source": [
    "layer0_topics"
   ]
  },
  {
   "cell_type": "markdown",
   "id": "a0c38063-1b74-4123-a962-84fe320330fa",
   "metadata": {},
   "source": [
    "# Naming all the other layers of topics"
   ]
  },
  {
   "cell_type": "markdown",
   "id": "8287b425-96b5-4f3b-ac5e-cd08a9d3ce98",
   "metadata": {},
   "source": [
    "Now we have the other layers to deal with. Since these are larger clusters it is harder to get representative sentences that cover the full breadth and still fit in the prompt context size. However we did keep track of sub-clusters and now we have names for all those sub-clusters, so we can provide that instead. Of course if there are too many sub-clusters that can be tricky as well. So pick out the topical sub-topic names and distinctive sub-topic names (with a large selection) -- we just need to embed all the cluster names we've got so far."
   ]
  },
  {
   "cell_type": "code",
   "execution_count": 156,
   "id": "0c381a54-5bd8-4394-b6ad-0eafeb95d2c1",
   "metadata": {},
   "outputs": [
    {
     "data": {
      "application/vnd.jupyter.widget-view+json": {
       "model_id": "e526963b1d41457f90b6e4d06b562e7f",
       "version_major": 2,
       "version_minor": 0
      },
      "text/plain": [
       "Batches:   0%|          | 0/1 [00:00<?, ?it/s]"
      ]
     },
     "metadata": {},
     "output_type": "display_data"
    }
   ],
   "source": [
    "embeddings_of_layer0_topics = embedding_model.encode(layer0_topics, show_progress_bar=True)"
   ]
  },
  {
   "cell_type": "code",
   "execution_count": 157,
   "id": "00ab9603-2a7d-4cd9-b2b0-1c13429a9de1",
   "metadata": {},
   "outputs": [],
   "source": [
    "def topical_subtopics_for_cluster(\n",
    "    metacluster, pointset, doc_vectors, base_layer_topic_names, base_layer_pointsets, n_subtopics=32\n",
    "):\n",
    "    centroid_vector = np.mean(doc_vectors[pointset], axis=0)\n",
    "    subtopic_vectors = np.asarray([np.mean(doc_vectors[base_layer_pointsets[n]], axis=0) for n in metacluster])\n",
    "    candidate_neighbor_indices = np.argsort(\n",
    "        np.squeeze(sklearn.metrics.pairwise_distances([centroid_vector], subtopic_vectors, metric=\"cosine\"))\n",
    "    )[:2 * n_subtopics]\n",
    "    candidate_neighbors = subtopic_vectors[candidate_neighbor_indices]\n",
    "    topical_subtopic_indices = candidate_neighbor_indices[\n",
    "        diversify(centroid_vector, candidate_neighbors, alpha=0.66, max_candidates=n_subtopics)\n",
    "    ][:n_subtopics]\n",
    "    topical_subtopics = [base_layer_topic_names[metacluster[i]] for i in topical_subtopic_indices]\n",
    "    return topical_subtopics\n",
    "\n",
    "\n",
    "def contrastive_subtopics_for_cluster(\n",
    "    cluster_neighbors, meta_clusters, base_layer_topic_embeddings, base_layer_topic_names, n_subtopics=24\n",
    "):\n",
    "    topic_names = [base_layer_topic_names[x] for x in meta_clusters[cluster_neighbors[0]]]\n",
    "    local_vectors = base_layer_topic_embeddings[sum([meta_clusters[x] for x in cluster_neighbors], [])]\n",
    "    U, S, Vh = np.linalg.svd(local_vectors - local_vectors.mean(axis=0))\n",
    "    transformed_docs = (local_vectors @ Vh.T)\n",
    "    transformed_docs = np.where(transformed_docs > 0, transformed_docs, 0)\n",
    "    class_labels = np.repeat(np.arange(len(cluster_neighbors)), [len(meta_clusters[x]) for x in cluster_neighbors])\n",
    "    iwt = vectorizers.transformers.InformationWeightTransformer().fit(transformed_docs, class_labels)\n",
    "    topic_name_weights = np.sum(transformed_docs[:len(topic_names)] * iwt.information_weights_, axis=1)\n",
    "    distinctive_topic_indices = np.argsort(topic_name_weights)[:n_subtopics * 3]\n",
    "    distinctive_topic_vectors = base_layer_topic_embeddings[distinctive_topic_indices]\n",
    "    diversified_candidates = diversify(\n",
    "        base_layer_topic_embeddings[meta_clusters[cluster_neighbors[0]]].mean(axis=0), \n",
    "        distinctive_topic_vectors\n",
    "    )\n",
    "    distinctive_topic_indices = distinctive_topic_indices[diversified_candidates[:n_subtopics]]\n",
    "    distinctive_sentences = [topic_names[i] for i in distinctive_topic_indices]\n",
    "    return distinctive_sentences"
   ]
  },
  {
   "cell_type": "markdown",
   "id": "f776aef8-adff-46f0-9945-d3efa65dbac9",
   "metadata": {},
   "source": [
    "Now we just need to build that information for all the layers and clusters ..."
   ]
  },
  {
   "cell_type": "code",
   "execution_count": 158,
   "id": "f7b4d913-951d-4af7-870a-051ab1e1db65",
   "metadata": {},
   "outputs": [
    {
     "name": "stdout",
     "output_type": "stream",
     "text": [
      "CPU times: user 12.6 ms, sys: 25 µs, total: 12.6 ms\n",
      "Wall time: 12.3 ms\n"
     ]
    }
   ],
   "source": [
    "%%time\n",
    "topical_subtopic_layers = [\n",
    "    [\n",
    "        topical_subtopics_for_cluster(\n",
    "            metacluster_layers[layer_num][cluster_num],\n",
    "            pointset_layers[layer_num][cluster_num],\n",
    "            data_vectors,\n",
    "            layer0_topics,\n",
    "            pointset_layers[0],\n",
    "            n_subtopics=32\n",
    "        )\n",
    "        for cluster_num in range(len(metacluster_layers[layer_num]))\n",
    "    ]\n",
    "    for layer_num in range(1, len(metacluster_layers))\n",
    "]"
   ]
  },
  {
   "cell_type": "code",
   "execution_count": 159,
   "id": "035814ac-a644-4b08-8b07-c1390f2fb47a",
   "metadata": {},
   "outputs": [
    {
     "name": "stdout",
     "output_type": "stream",
     "text": [
      "CPU times: user 159 ms, sys: 1.96 ms, total: 160 ms\n",
      "Wall time: 78.9 ms\n"
     ]
    },
    {
     "name": "stderr",
     "output_type": "stream",
     "text": [
      "/home/taylor/miniforge3/envs/kom/lib/python3.11/site-packages/vectorizers/transformers/info_weight.py:269: RuntimeWarning: invalid value encountered in power\n",
      "  self.supervised_weights_ = np.power(\n",
      "/home/taylor/miniforge3/envs/kom/lib/python3.11/site-packages/vectorizers/transformers/info_weight.py:269: RuntimeWarning: invalid value encountered in power\n",
      "  self.supervised_weights_ = np.power(\n",
      "/home/taylor/miniforge3/envs/kom/lib/python3.11/site-packages/vectorizers/transformers/info_weight.py:269: RuntimeWarning: invalid value encountered in power\n",
      "  self.supervised_weights_ = np.power(\n",
      "/home/taylor/miniforge3/envs/kom/lib/python3.11/site-packages/vectorizers/transformers/info_weight.py:254: RuntimeWarning: invalid value encountered in power\n",
      "  self.information_weights_ = np.power(\n",
      "/home/taylor/miniforge3/envs/kom/lib/python3.11/site-packages/vectorizers/transformers/info_weight.py:269: RuntimeWarning: invalid value encountered in power\n",
      "  self.supervised_weights_ = np.power(\n",
      "/home/taylor/miniforge3/envs/kom/lib/python3.11/site-packages/vectorizers/transformers/info_weight.py:254: RuntimeWarning: invalid value encountered in power\n",
      "  self.information_weights_ = np.power(\n"
     ]
    }
   ],
   "source": [
    "%%time\n",
    "contrastive_subtopic_layers = [\n",
    "    [\n",
    "        contrastive_subtopics_for_cluster(\n",
    "            layer_cluster_neighbors[layer_num][cluster_num],\n",
    "            metacluster_layers[layer_num],\n",
    "            embeddings_of_layer0_topics,\n",
    "            layer0_topics,\n",
    "            n_subtopics=24\n",
    "        )\n",
    "        for cluster_num in range(len(metacluster_layers[layer_num]))\n",
    "    ]\n",
    "    for layer_num in range(1, len(metacluster_layers))\n",
    "]"
   ]
  },
  {
   "cell_type": "markdown",
   "id": "93387457-1022-4df4-936d-f9deab7fe334",
   "metadata": {},
   "source": [
    "Given that we are using the sub-topic names we need a different prompt construction."
   ]
  },
  {
   "cell_type": "code",
   "execution_count": 160,
   "id": "04d201f9-849a-4788-80c2-cb6441bc6aad",
   "metadata": {},
   "outputs": [],
   "source": [
    "def create_prompt_from_subtopics(\n",
    "    i,\n",
    "    contrastive_keyword_layer,\n",
    "    subtopic_layer,\n",
    "    topical_sentences_layer,\n",
    "    distinctive_sentences_layer,\n",
    "    cluster_neighbors\n",
    "):\n",
    "    prompt_text = \"--\\n\\nBelow is a information about a group of titles from machine learning articles that are all on the same topic:\\n\\n\"\n",
    "    prompt_text += \"Distinguishing keywords for this group: \\\"\" + \", \".join(contrastive_keyword_layer[i]) + \"\\\"\\n\"\n",
    "    prompt_text += \"Sample sub-topics from the group include:\\n\"\n",
    "    for text in subtopic_layer[i][:24]:\n",
    "        prompt_text += f\"- \\\"{text}\\\"\\n\"\n",
    "    prompt_text += \"Sample topical titles include:\\n\"\n",
    "    for text in topical_sentences_layer[i][:4]:\n",
    "        prompt_text += f\"- \\\"{text}\\\"\\n\"\n",
    "    prompt_text += \"Sample distinctive titles of the topic include:\\n\"\n",
    "    for text in distinctive_sentences_layer[i][:4]:\n",
    "        prompt_text += f\"- \\\"{text}\\\"\\n\"        \n",
    "    \n",
    "\n",
    "    prompt_text += \"\\n\\nSimilar titles from different groups with distinct topics include:\\n\"\n",
    "    for n in cluster_neighbors[i][:3]:\n",
    "        for text in topical_sentences_layer[n][:2]:\n",
    "            prompt_text += f\"- \\\"{text}\\\"\\n\"\n",
    "    prompt_text += \"\\nSub-topics from different but similar groups include:\\n\"\n",
    "    for n in cluster_neighbors[i][:3]:\n",
    "        for text in subtopic_layer[n][:4]:\n",
    "            prompt_text += f\"- \\\"{text}\\\"\\n\"    \n",
    "            \n",
    "    prompt_text += \"\\n\\nThe short distinguishing topic name for the group that had the keywords \\\"\" + \", \".join(contrastive_keyword_layer[i]) + \"\\\" \"\n",
    "    prompt_text += \"is:\"\n",
    "    return prompt_text"
   ]
  },
  {
   "cell_type": "markdown",
   "id": "093a2e99-bfef-42d4-a5fe-5a3a1ae1b5c6",
   "metadata": {},
   "source": [
    "Then we just need a function for do all the naming and clean uip the output names ..."
   ]
  },
  {
   "cell_type": "code",
   "execution_count": 161,
   "id": "f1c023b6-7a9a-428c-8908-326ef7fda105",
   "metadata": {},
   "outputs": [],
   "source": [
    "def subtopics_and_keywords_to_topic_name(\n",
    "    subtopics_layer,\n",
    "    contrastive_keyword_layer,\n",
    "    topical_sentences_layer,\n",
    "    distinctive_sentences_layer,\n",
    "    cluster_neighbors,\n",
    "    from_topic_index=0,\n",
    "    to_topic_index=10,\n",
    "):\n",
    "    topic_names = []\n",
    "    for i in tqdm.notebook.tqdm(range(from_topic_index, to_topic_index)):\n",
    "        topic_naming_prompt = create_prompt_from_subtopics(\n",
    "            i, \n",
    "            contrastive_keyword_layer, \n",
    "            subtopics_layer,\n",
    "            topical_sentences_layer,\n",
    "            distinctive_sentences_layer,\n",
    "            cluster_neighbors,\n",
    "        )\n",
    "        topic_name = llm(topic_naming_prompt)['choices'][0]['text']\n",
    "        if \"\\n\" in topic_name:\n",
    "            topic_name = topic_name.lstrip(\"\\n \")\n",
    "            topic_name = topic_name.split(\"\\n\")[0]\n",
    "        topic_name = string.capwords(topic_name.strip(string.punctuation + string.whitespace))\n",
    "\n",
    "        topic_names.append(topic_name)\n",
    "\n",
    "    return topic_names"
   ]
  },
  {
   "cell_type": "markdown",
   "id": "8b217e14-8de3-41aa-851f-7762d1a15073",
   "metadata": {},
   "source": [
    "And we can start naming topics for the other layers ..."
   ]
  },
  {
   "cell_type": "code",
   "execution_count": 162,
   "id": "ece6590f-5b90-4f41-8e26-96aed00ffc4d",
   "metadata": {},
   "outputs": [
    {
     "data": {
      "application/vnd.jupyter.widget-view+json": {
       "model_id": "37ac575a275044b59a0f0ea47b5e6093",
       "version_major": 2,
       "version_minor": 0
      },
      "text/plain": [
       "  0%|          | 0/6 [00:00<?, ?it/s]"
      ]
     },
     "metadata": {},
     "output_type": "display_data"
    },
    {
     "name": "stdout",
     "output_type": "stream",
     "text": [
      "CPU times: user 2h 24min 25s, sys: 5min 47s, total: 2h 30min 13s\n",
      "Wall time: 7min 27s\n"
     ]
    }
   ],
   "source": [
    "%%time\n",
    "layer1_topics = subtopics_and_keywords_to_topic_name(\n",
    "    [a + b for a,b in zip(topical_subtopic_layers[0], contrastive_subtopic_layers[0])],\n",
    "    contrastive_keyword_layers[1],\n",
    "    topical_sentences_per_cluster[1],\n",
    "    distinctive_sentences_per_cluster[1],\n",
    "    layer_cluster_neighbors[1],\n",
    "    from_topic_index=0,\n",
    "    to_topic_index=len(topical_subtopic_layers[0]),\n",
    ")"
   ]
  },
  {
   "cell_type": "code",
   "execution_count": 163,
   "id": "0d6f4f6e-af2f-4e62-a3fd-937d2079e46b",
   "metadata": {},
   "outputs": [
    {
     "data": {
      "application/vnd.jupyter.widget-view+json": {
       "model_id": "3c7afcb173be4cc5adf1ddeca4ac51f4",
       "version_major": 2,
       "version_minor": 0
      },
      "text/plain": [
       "  0%|          | 0/3 [00:00<?, ?it/s]"
      ]
     },
     "metadata": {},
     "output_type": "display_data"
    },
    {
     "name": "stdout",
     "output_type": "stream",
     "text": [
      "CPU times: user 1h 15min 19s, sys: 2min 58s, total: 1h 18min 18s\n",
      "Wall time: 3min 52s\n"
     ]
    }
   ],
   "source": [
    "%%time\n",
    "layer2_topics = subtopics_and_keywords_to_topic_name(\n",
    "    [a + b for a,b in zip(topical_subtopic_layers[1], contrastive_subtopic_layers[1])],\n",
    "    contrastive_keyword_layers[2],\n",
    "    topical_sentences_per_cluster[2],\n",
    "    distinctive_sentences_per_cluster[2],\n",
    "    layer_cluster_neighbors[2],\n",
    "    from_topic_index=0,\n",
    "    to_topic_index=len(topical_subtopic_layers[1]),\n",
    ")"
   ]
  },
  {
   "cell_type": "code",
   "execution_count": 164,
   "id": "3fdab5df-cffc-4add-a8d4-b01735439ccb",
   "metadata": {},
   "outputs": [
    {
     "ename": "IndexError",
     "evalue": "list index out of range",
     "output_type": "error",
     "traceback": [
      "\u001b[0;31m---------------------------------------------------------------------------\u001b[0m",
      "\u001b[0;31mIndexError\u001b[0m                                Traceback (most recent call last)",
      "File \u001b[0;32m<timed exec>:2\u001b[0m\n",
      "\u001b[0;31mIndexError\u001b[0m: list index out of range"
     ]
    }
   ],
   "source": [
    "%%time\n",
    "layer3_topics = subtopics_and_keywords_to_topic_name(\n",
    "    [a + b for a,b in zip(topical_subtopic_layers[2], contrastive_subtopic_layers[2])],\n",
    "    contrastive_keyword_layers[3],\n",
    "    topical_sentences_per_cluster[3],\n",
    "    distinctive_sentences_per_cluster[3],\n",
    "    layer_cluster_neighbors[3],\n",
    "    from_topic_index=0,\n",
    "    to_topic_index=len(topical_subtopic_layers[2]),\n",
    ")"
   ]
  },
  {
   "cell_type": "markdown",
   "id": "f0642b4d-8544-49af-abdb-a37b3d44b088",
   "metadata": {},
   "source": [
    "The last problem that tends to occur is that we end up repeating topic names, particulary having high level topic names get repeated at lower levels where we want something more specific. But we can lookmfor those cases and try to get the LLM to generate a more specific topic name."
   ]
  },
  {
   "cell_type": "code",
   "execution_count": 165,
   "id": "dfd4d181-86a1-44c1-87ee-dbc38c6ac7fe",
   "metadata": {},
   "outputs": [],
   "source": [
    "def create_final_remedy_prompt(original_topic_names, docs, vector_array, pointset, centroid_vector):\n",
    "    sentences = topical_sentences_for_cluster(docs, vector_array, pointset, centroid_vector, n_sentence_examples=64)\n",
    "    prompt_text = \"A set of titles from machine learning articles was described as having a topic of one of \" + \", \".join(original_topic_names) + \".\\n\"\n",
    "    prompt_text += \"These topic names were not specific enough and were shared with other different but similar groups of titles.\\n\"\n",
    "    prompt_text += \"A sampling of titles from this specific set of titles includes:\\n\"\n",
    "    for sentence in np.random.choice(sentences, size=min(len(sentences), 64), replace=False):\n",
    "        prompt_text += f\"- {sentence}\\n\"\n",
    "\n",
    "    prompt_text += f\"\\n\\nThe current name for this topic of these paragraphs is: {original_topic_names[-1]}\\n\"\n",
    "    prompt_text += \"A better and more specific name that still captures the topic of these article titles is: \"\n",
    "    return prompt_text"
   ]
  },
  {
   "cell_type": "code",
   "execution_count": 166,
   "id": "0c27b31f-f06b-495f-a40e-c65d5f3550ab",
   "metadata": {},
   "outputs": [],
   "source": [
    "# all_layer_topics = [layer0_topics, layer1_topics, layer2_topics, layer3_topics]\n",
    "all_layer_topics = [layer0_topics, layer1_topics, layer2_topics]"
   ]
  },
  {
   "cell_type": "markdown",
   "id": "bfa3b3ca-ca62-4f63-88f8-ae97655501f1",
   "metadata": {},
   "source": [
    "And now we just go through the layers and fix up topic names; generating the topic label vectors suitable for input directly into [DataMapPlot](https://github.com/TutteInstitute/datamapplot):"
   ]
  },
  {
   "cell_type": "code",
   "execution_count": 167,
   "id": "3dbaaff1-8e1d-4c34-88b3-54aea72763f2",
   "metadata": {},
   "outputs": [
    {
     "name": "stdout",
     "output_type": "stream",
     "text": [
      "Working on layer 2\n",
      "Working on cluster 0\n",
      "Working on layer 1\n",
      "Working on cluster 0\n",
      "Working on layer 0\n",
      "Working on cluster 0\n",
      "Image-based Machine Learning In Oceanography --> Deep Learning Applications For Identifying Marine Life In Underwater Images after 1 attempts\n",
      "CPU times: user 14min 5s, sys: 30.2 s, total: 14min 35s\n",
      "Wall time: 44.1 s\n"
     ]
    }
   ],
   "source": [
    "%%time\n",
    "layer_clusters = [np.full(data_map.shape[0], \"Unlabelled\", dtype=object) for i in range(len(all_layer_topics))]\n",
    "unique_names = set([])\n",
    "for n in range(len(all_layer_topics) - 1, -1, -1):\n",
    "    print(f\"Working on layer {n}\")\n",
    "    for i, (name, indices) in enumerate(zip(all_layer_topics[n], pointset_layers[n])):\n",
    "        if i % 100 == 0:\n",
    "            print(f\"Working on cluster {i}\")\n",
    "        n_attempts = 0\n",
    "        recapped_name = string.capwords(name.strip(string.punctuation + string.whitespace))\n",
    "        unique_name = recapped_name\n",
    "        original_topic_names = [unique_name]\n",
    "        while unique_name in unique_names and n_attempts < 8:\n",
    "            prompt_text = create_final_remedy_prompt(\n",
    "                original_topic_names, data_strings[\"Title\"], data_vectors, indices, vector_layers[n][i]\n",
    "            )\n",
    "            unique_name = llm(prompt_text, max_tokens=36)['choices'][0]['text']\n",
    "            if \"\\n\" in unique_name:\n",
    "                unique_name = unique_name.lstrip(\"\\n \")\n",
    "                unique_name = unique_name.split(\"\\n\")[0]\n",
    "            unique_name = string.capwords(unique_name.strip(string.punctuation + string.whitespace))\n",
    "            original_topic_names.append(unique_name)\n",
    "            n_attempts += 1\n",
    "        if n_attempts > 0:\n",
    "            print(f\"{name} --> {unique_name} after {n_attempts} attempts\")\n",
    "        unique_names.add(unique_name)\n",
    "        layer_clusters[n][indices] = unique_name"
   ]
  },
  {
   "cell_type": "markdown",
   "id": "3666271b-2e9a-4c35-ad43-9c5d5f1d7f1f",
   "metadata": {},
   "source": [
    "A quick glance at the topic names generated for the two uppermost layers shows we mostly did a decent job. Obviously with a little more care we could do a lot better, but for something essentially entirely auotmated this is not so bad. At worst you can go in an clean up some of the topic names by hand."
   ]
  },
  {
   "cell_type": "code",
   "execution_count": 168,
   "id": "194adbc0-0eec-4fa1-8090-46aabf75b575",
   "metadata": {},
   "outputs": [
    {
     "data": {
      "text/plain": [
       "['Sea Ice And Arctic Radar',\n",
       " 'Acoustic Whale Species Detection',\n",
       " 'Ocean Dynamics Simulations',\n",
       " 'Wave Forecasting And Power Prediction With Lstm',\n",
       " 'Marine Dynamics And Control Using Machine Learning',\n",
       " 'Hydroclimatic Forecasting',\n",
       " 'Machine Learning In Water Quality Management',\n",
       " 'Ocean Carbon Cycle',\n",
       " 'Flood Risk Planning With Machine Learning',\n",
       " 'Storm Surge Forecasting With Ai Models',\n",
       " 'Marine Ai Applications',\n",
       " 'Image-based Machine Learning In Oceanography',\n",
       " 'Aquaculture And Ocean Imaging',\n",
       " 'Ocean Surface Chlorophyll-a Retrieval And',\n",
       " 'Coastal Wetland Machine Learning',\n",
       " 'Machine Learning Water Quality Predictions',\n",
       " 'Coastal Water Quality Forecasting',\n",
       " 'Species Distribution And Habitat Modeling',\n",
       " 'Aquatic Chemicals And Water Quality',\n",
       " 'Oil Spill Detection And Monitoring',\n",
       " 'Environmental Monitoring & Pollutant Detection']"
      ]
     },
     "execution_count": 168,
     "metadata": {},
     "output_type": "execute_result"
    }
   ],
   "source": [
    "all_layer_topics"
   ]
  },
  {
   "cell_type": "markdown",
   "id": "baca6ac6-baa1-4e08-92b0-1627ec6d2770",
   "metadata": {},
   "source": [
    "# Create an interactive plot and save as HTML"
   ]
  },
  {
   "cell_type": "code",
   "execution_count": 204,
   "id": "f493ca61-95ce-4ee6-ace8-8209baef8451",
   "metadata": {},
   "outputs": [],
   "source": [
    "import datamapplot\n",
    "import colorcet as cc\n",
    "import matplotlib\n",
    "\n"
   ]
  },
  {
   "cell_type": "code",
   "execution_count": 220,
   "id": "6771ee69-cfa8-4b65-ba3e-2d4aedc380a0",
   "metadata": {},
   "outputs": [
    {
     "data": {
      "text/html": [
       "\n",
       "            <iframe\n",
       "                width=100%\n",
       "                height=800\n",
       "                frameborder=\"0\"\n",
       "                srcdoc=\"\n",
       "&lt;!DOCTYPE html&gt;\n",
       "&lt;html&gt;\n",
       "  &lt;head&gt;\n",
       "    &lt;meta http-equiv=&quot;content-type&quot; content=&quot;text/html; charset=UTF-8&quot; /&gt;\n",
       "    &lt;title&gt;Oceanography Machine Learning Landscape&lt;/title&gt;\n",
       "    \n",
       "    &lt;link rel=&quot;preconnect&quot; href=&quot;https://fonts.googleapis.com&quot;&gt;\n",
       "    &lt;link rel=&quot;preconnect&quot; href=&quot;https://fonts.gstatic.com&quot; crossorigin&gt;\n",
       "    &lt;link href=&quot;https://fonts.googleapis.com/css2?family=Cinzel&amp;display=swap&quot; rel=&quot;stylesheet&quot;&gt;\n",
       "    \n",
       "       \n",
       "    &lt;link rel=&quot;stylesheet&quot; href=&quot;https://maxcdn.bootstrapcdn.com/bootstrap/3.2.0/css/bootstrap-theme.min.css&quot; /&gt;\n",
       "    &lt;link rel=&quot;stylesheet&quot; href=&quot;https://maxcdn.bootstrapcdn.com/font-awesome/4.6.3/css/font-awesome.min.css&quot; /&gt;\n",
       "    &lt;script src=&quot;https://unpkg.com/deck.gl@latest/dist.min.js&quot;&gt;&lt;/script&gt;\n",
       "    \n",
       "    &lt;style&gt;\n",
       "        body {\n",
       "          margin: 0;\n",
       "          padding: 0;\n",
       "          overflow: hidden;\n",
       "          background: #000000;\n",
       "        }\n",
       "\n",
       "        #deck-container {\n",
       "          width: 100vw;\n",
       "          height: 100vh;\n",
       "        }\n",
       "\n",
       "        #deck-container canvas {\n",
       "          z-index: 1;\n",
       "          background: #000000;\n",
       "        }\n",
       "\n",
       "        .deck-tooltip {\n",
       "            \n",
       "            font-size: 0.8em;\n",
       "            font-family: Cinzel;\n",
       "            color: #ffffff !important;\n",
       "            background-color: #000000aa !important;\n",
       "            border-radius: 12px;\n",
       "            box-shadow: 2px 3px 10px #00000044;\n",
       "            max-width: 25%;\n",
       "        }\n",
       "        \n",
       "        #loading {\n",
       "            width: 100%;\n",
       "            height: 100%;\n",
       "            top: 0px;\n",
       "            left: 0px;\n",
       "            position: absolute;\n",
       "            display: block; \n",
       "            z-index: 99\n",
       "        }\n",
       "\n",
       "        #loading-image {\n",
       "            position: absolute;\n",
       "            top: 45%;\n",
       "            left: 47.5%;\n",
       "            z-index: 100\n",
       "        }\n",
       "        \n",
       "        #title-container {\n",
       "            position: absolute;\n",
       "            top: 0;\n",
       "            left: 0;\n",
       "            margin: 16px;\n",
       "            padding: 12px;\n",
       "            border-radius: 16px;\n",
       "            line-height: 0.95;\n",
       "            z-index: 2;\n",
       "            font-family: Cinzel;\n",
       "            color: #ffffff;\n",
       "            background: #000000aa;\n",
       "            box-shadow: 2px 3px 10px #00000044;\n",
       "        }\n",
       "        \n",
       "        \n",
       "        #search-container{\n",
       "            position: absolute;\n",
       "            left: -16px;\n",
       "            margin: 16px;\n",
       "            padding: 12px;\n",
       "            border-radius: 16px;\n",
       "            z-index: 2;\n",
       "            font-family: Cinzel;\n",
       "            color: #ffffff;\n",
       "            background: #000000aa;\n",
       "            width: fit-content;\n",
       "            box-shadow: 2px 3px 10px #00000044;\n",
       "        }\n",
       "        input {\n",
       "            margin: 2px;\n",
       "            padding: 4px;\n",
       "            border-radius: 8px;\n",
       "            color: #ffffff;\n",
       "            background: #000000dd;\n",
       "            border: 1px solid 222222ff;\n",
       "            transition: 0.5s;\n",
       "            outline: none;\n",
       "        }\n",
       "        input:focus {\n",
       "          border: 2px solid #555;\n",
       "        }\n",
       "        \n",
       "        \n",
       "    &lt;/style&gt;\n",
       "  &lt;/head&gt;\n",
       "  &lt;body&gt;\n",
       "    &lt;div id=&quot;loading&quot;&gt;\n",
       "        &lt;img id=&quot;loading-image&quot; src=&quot;https://i.gifer.com/ZKZg.gif&quot; alt=&quot;Loading...&quot; width=&quot;5%&quot;/&gt;\n",
       "    &lt;/div&gt;\n",
       "    \n",
       "    &lt;div id=&quot;title-container&quot;&gt;\n",
       "        &lt;span style=&quot;font-family:Cinzel;font-size:36pt;color:#ffffff&quot;&gt;\n",
       "            Oceanography Machine Learning Landscape\n",
       "        &lt;/span&gt;&lt;br/&gt;\n",
       "        &lt;span style=&quot;font-family:Cinzel;font-size:18pt;color:#777777&quot;&gt;\n",
       "            A data map of papers using Machine Learning for Oceanographic research\n",
       "        &lt;/span&gt;\n",
       "        \n",
       "        &lt;div id=&quot;search-container&quot;&gt;\n",
       "            &lt;input autocomplete=&quot;off&quot; type=&quot;search&quot; id=&quot;search&quot; placeholder=&quot;🔍&quot;&gt;\n",
       "        &lt;/div&gt;\n",
       "        \n",
       "    &lt;/div&gt;\n",
       "    \n",
       "    \n",
       "    &lt;div id=&quot;deck-container&quot;&gt;\n",
       "    &lt;/div&gt;\n",
       "    \n",
       "  &lt;/body&gt;\n",
       "  &lt;script type=&quot;module&quot;&gt;\n",
       "    import { ArrowLoader } from &#x27;https://cdn.jsdelivr.net/npm/@loaders.gl/arrow@4.1.0-alpha.10/+esm&#x27;\n",
       "    import { JSONLoader } from &#x27;https://cdn.jsdelivr.net/npm/@loaders.gl/json@4.0.5/+esm&#x27;\n",
       "    \n",
       "    import { ZipLoader } from &#x27;https://cdn.jsdelivr.net/npm/@loaders.gl/zip@4.1.0-alpha.10/+esm&#x27;\n",
       "    import { CSVLoader } from &#x27;https://cdn.jsdelivr.net/npm/@loaders.gl/csv@4.1.0-alpha.10/+esm&#x27;\n",
       "    \n",
       "\n",
       "    \n",
       "    const pointData = await loaders.load(&quot;./docs/bb-ai-1_point_df.arrow&quot;, ArrowLoader);\n",
       "    const unzippedHoverData = await loaders.load(&quot;./docs/bb-ai-1_point_hover_data.zip&quot;, ZipLoader);\n",
       "    const hoverData = await loaders.parse(unzippedHoverData[&quot;point_hover_data.arrow&quot;], ArrowLoader);\n",
       "    const unzippedLabelData = await loaders.load(&quot;./docs/bb-ai-1_label_data.zip&quot;, ZipLoader);\n",
       "    const labelData = await loaders.parse(unzippedLabelData[&quot;label_data.json&quot;], JSONLoader);\n",
       "    \n",
       "    \n",
       "    const DATA = {src: pointData.data, length: pointData.data.x.length}\n",
       "\n",
       "    const container = document.getElementById(&#x27;deck-container&#x27;);\n",
       "    const pointLayer = new deck.ScatterplotLayer({\n",
       "        id: &#x27;dataPointLayer&#x27;,\n",
       "        data: DATA,\n",
       "        getPosition: (object, {index, data}) =&gt; {\n",
       "            return [data.src.x[index], data.src.y[index]];\n",
       "        },\n",
       "        \n",
       "        getRadius: 0.46652111542950875,\n",
       "        \n",
       "        getFillColor: (object, {index, data}) =&gt; {\n",
       "            return [\n",
       "                data.src.r[index], \n",
       "                data.src.g[index], \n",
       "                data.src.b[index],\n",
       "                180\n",
       "            ]\n",
       "        },\n",
       "        getLineColor: (object, {index, data}) =&gt; {\n",
       "            return [\n",
       "                data.src.r[index], \n",
       "                data.src.g[index], \n",
       "                data.src.b[index],\n",
       "                32\n",
       "            ]\n",
       "        },       \n",
       "        getLineColor: [5, 5, 5, 128],\n",
       "        getLineWidth: 0.001,\n",
       "        highlightColor: [170, 0, 0, 187], \n",
       "        lineWidthMaxPixels: 8,\n",
       "        lineWidthMinPixels: 0.1,\n",
       "        radiusMaxPixels: 24, \n",
       "        radiusMinPixels: 0.01,\n",
       "        radiusUnits: &quot;common&quot;, \n",
       "        lineWidthUnits: &quot;common&quot;, \n",
       "        autoHighlight: true,\n",
       "        pickable: true, \n",
       "        stroked: true\n",
       "    });\n",
       "    const labelLayer = new deck.TextLayer({\n",
       "        id: &quot;textLabelLayer&quot;,\n",
       "        data: labelData,\n",
       "        pickable: false,\n",
       "        getPosition: d =&gt; [d.x, d.y],\n",
       "        getText: d =&gt; d.label,\n",
       "        getColor: [255, 255, 255, 255],\n",
       "        getSize: d =&gt; d.size,\n",
       "        sizeScale: 1,\n",
       "        sizeMinPixels: 12,\n",
       "        sizeMaxPixels: 36,\n",
       "        outlineWidth: 8,\n",
       "        outlineColor: [17, 17, 17, 221],\n",
       "        getBackgroundColor: [0, 0, 0, 64],\n",
       "        getBackgroundPadding: [15, 15, 15, 15],\n",
       "        background: true,\n",
       "        characterSet: &quot;auto&quot;,\n",
       "        fontFamily: &quot;Cinzel&quot;,\n",
       "        lineHeight: 0.95,\n",
       "        fontSettings: {&quot;sdf&quot;: true},\n",
       "        getTextAnchor: &quot;middle&quot;,\n",
       "        getAlignmentBaseline: &quot;center&quot;,\n",
       "        lineHeight: 0.95,\n",
       "        elevation: 100,\n",
       "        // CollideExtension options\n",
       "        collisionEnabled: true,\n",
       "        getCollisionPriority: d =&gt; d.size,\n",
       "        collisionTestProps: {\n",
       "          sizeScale: 3,\n",
       "          sizeMaxPixels: 36 * 2,\n",
       "          sizeMinPixels: 12 * 2\n",
       "        },\n",
       "        extensions: [new deck.CollisionFilterExtension()],\n",
       "    });\n",
       "    \n",
       "    const boundaryLayer = new deck.PolygonLayer({\n",
       "        data: labelData,\n",
       "        stroked: true,\n",
       "        filled: false,\n",
       "        getLineColor: d =&gt; [d.r, d.g, d.b, d.a],\n",
       "        getPolygon: d =&gt; d.polygon,\n",
       "        lineWidthUnits: &quot;common&quot;,\n",
       "        getLineWidth: d =&gt; d.size * d.size,\n",
       "        lineWidthScale: 1 * 5e-5,\n",
       "        lineJointRounded: true,\n",
       "        lineWidthMaxPixels: 4,\n",
       "        lineWidthMinPixels: 0.0,\n",
       "    });\n",
       "    \n",
       "\n",
       "    const deckgl = new deck.DeckGL({\n",
       "      container: container,\n",
       "      initialViewState: {\n",
       "        latitude: 2.627113,\n",
       "        longitude: 5.3597164,\n",
       "        zoom: 5.338328586940042\n",
       "      },\n",
       "      controller: true,\n",
       "      \n",
       "      layers: [pointLayer, boundaryLayer, labelLayer],\n",
       "      \n",
       "      \n",
       "      onClick: ({index}, event) =&gt; window.open(`http://google.com/search?q=&quot;${hoverData.data.hover_text[index]}&quot;`),\n",
       "      \n",
       "      getTooltip: ({index}) =&gt; hoverData.data.hover_text[index]\n",
       "    });\n",
       "    \n",
       "    document.getElementById(&quot;loading&quot;).style.display = &quot;none&quot;;\n",
       "        \n",
       "    \n",
       "        function selectPoints(item, conditional) {\n",
       "        var layerId;\n",
       "        if (item) {\n",
       "            for (var i = 0; i &lt; DATA.length; i++) {\n",
       "                if (conditional(i)) {\n",
       "                    DATA.src.selected[i] = 1;\n",
       "                } else {\n",
       "                    DATA.src.selected[i] = 0;\n",
       "                }\n",
       "            }\n",
       "            layerId = &#x27;selectedPointLayer&#x27; + item;\n",
       "        } else {\n",
       "            for (var i = 0; i &lt; DATA.length; i++) {\n",
       "                DATA.src.selected[i] = 1;\n",
       "            }\n",
       "            layerId = &#x27;dataPointLayer&#x27;;\n",
       "        }\n",
       "        const selectedPointLayer = pointLayer.clone(\n",
       "            {\n",
       "                id: layerId,\n",
       "                data: DATA,\n",
       "                getFilterValue: (object, {index, data}) =&gt; data.src.selected[index],\n",
       "                filterRange: [1, 2],\n",
       "                extensions: [new deck.DataFilterExtension({filterSize: 1})]\n",
       "            }\n",
       "        );\n",
       "        deckgl.setProps(\n",
       "            {layers: \n",
       "                [selectedPointLayer].concat(deckgl.props.layers.slice(1,))\n",
       "            }\n",
       "        );\n",
       "    }\n",
       "    \n",
       "    const search = document.getElementById(&quot;search&quot;);\n",
       "    search.addEventListener(&quot;input&quot;, (event) =&gt; {\n",
       "            const search_term = event.target.value.toLowerCase();\n",
       "            selectPoints(search_term, (i) =&gt; hoverData.data.hover_text[i].toLowerCase().includes(search_term));\n",
       "        }\n",
       "    );\n",
       "    \n",
       "    \n",
       "    &lt;/script&gt;\n",
       "&lt;/html&gt;\"\n",
       "            ></iframe>\n",
       "        "
      ],
      "text/plain": [
       "<InteractiveFigure width=100% height=800>"
      ]
     },
     "execution_count": 220,
     "metadata": {},
     "output_type": "execute_result"
    }
   ],
   "source": [
    "plot = datamapplot.create_interactive_plot(\n",
    "    data_map,\n",
    "    *layer_clusters,\n",
    "    # layer_clusters[2],\n",
    "    hover_text=dataset['Title'],\n",
    "    font_family=\"Cinzel\",\n",
    "    cluster_boundary_polygons=True,\n",
    "    # cluster_boundary_line_width=6,\n",
    "    title=\"Oceanography Machine Learning Landscape\",\n",
    "    sub_title=\"A data map of papers using Machine Learning for Oceanographic research\",\n",
    "    enable_search=True,\n",
    "    darkmode=True,\n",
    "    use_medoids=True,\n",
    "    color_label_text=False,\n",
    "    inline_data=False,\n",
    "    offline_data_prefix=\"./docs/bb-ai-1\",\n",
    "    on_click=\"window.open(`http://google.com/search?q=\\\"{hover_text}\\\"`)\",\n",
    "    cmap=matplotlib.colormaps.get_cmap(\"cet_glasbey\"),\n",
    "    palette_hue_shift=0.9,\n",
    ")\n",
    "plot"
   ]
  },
  {
   "cell_type": "code",
   "execution_count": 221,
   "id": "f2d73e24-0b55-45eb-b672-35a89994f902",
   "metadata": {},
   "outputs": [],
   "source": [
    "plot.save(\"./docs/index.html\")"
   ]
  },
  {
   "cell_type": "code",
   "execution_count": null,
   "id": "d29692d2-1cf8-4d07-b545-a98362ee6a67",
   "metadata": {},
   "outputs": [],
   "source": []
  }
 ],
 "metadata": {
  "kernelspec": {
   "display_name": "Python 3 (ipykernel)",
   "language": "python",
   "name": "python3"
  },
  "language_info": {
   "codemirror_mode": {
    "name": "ipython",
    "version": 3
   },
   "file_extension": ".py",
   "mimetype": "text/x-python",
   "name": "python",
   "nbconvert_exporter": "python",
   "pygments_lexer": "ipython3",
   "version": "3.11.6"
  }
 },
 "nbformat": 4,
 "nbformat_minor": 5
}
