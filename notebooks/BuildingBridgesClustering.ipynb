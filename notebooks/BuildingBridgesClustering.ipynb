{
 "cells": [
  {
   "cell_type": "code",
   "execution_count": 604,
   "id": "43258b90-640b-4b13-9718-9a1af8e922cd",
   "metadata": {},
   "outputs": [
    {
     "data": {
      "text/plain": [
       "True"
      ]
     },
     "execution_count": 604,
     "metadata": {},
     "output_type": "execute_result"
    }
   ],
   "source": [
    "from dotenv import load_dotenv\n",
    "from langchain.vectorstores import FAISS\n",
    "from langchain_openai.embeddings import OpenAIEmbeddings\n",
    "import pandas as pd\n",
    "import torch\n",
    "from tqdm.auto import trange\n",
    "torch.cuda.is_available()"
   ]
  },
  {
   "cell_type": "code",
   "execution_count": 605,
   "id": "4c8b3ebd-3420-45a0-bf31-7ac80b92589a",
   "metadata": {},
   "outputs": [
    {
     "data": {
      "text/plain": [
       "True"
      ]
     },
     "execution_count": 605,
     "metadata": {},
     "output_type": "execute_result"
    }
   ],
   "source": [
    "load_dotenv()"
   ]
  },
  {
   "cell_type": "code",
   "execution_count": 606,
   "id": "dce60c6b-a885-43f4-a105-d4b42f35f923",
   "metadata": {},
   "outputs": [
    {
     "name": "stdout",
     "output_type": "stream",
     "text": [
      "1626\n"
     ]
    }
   ],
   "source": [
    "papers = pd.read_excel(\"./Search String H Results.xlsx\")\n",
    "print(len(papers))"
   ]
  },
  {
   "cell_type": "code",
   "execution_count": 607,
   "id": "19597cfa-8646-4a76-9624-09430e7e9b6a",
   "metadata": {},
   "outputs": [],
   "source": [
    "categories = [\n",
    "    \"Oceanography\",\n",
    "]\n",
    "vectorstore = FAISS.from_embeddings\n",
    "embeddings = HuggingFaceEmbeddings(model_name=\"sentence-transformers/all-mpnet-base-v2\", model_kwargs=dict(device=\"cuda:0\"))\n",
    "\n",
    "category_embeddings = embeddings.embed_documents(categories)\n",
    "db = FAISS.from_embeddings(list(zip(categories, category_embeddings)), embeddings)"
   ]
  },
  {
   "cell_type": "code",
   "execution_count": 608,
   "id": "de27048b-b1f8-4626-ac66-630356378108",
   "metadata": {},
   "outputs": [
    {
     "data": {
      "application/vnd.jupyter.widget-view+json": {
       "model_id": "8d21bfc7953147b68c19e3d5bca64f6c",
       "version_major": 2,
       "version_minor": 0
      },
      "text/plain": [
       "  0%|          | 0/1626 [00:00<?, ?it/s]"
      ]
     },
     "metadata": {},
     "output_type": "display_data"
    }
   ],
   "source": [
    "oceanography_score = []\n",
    "for i in trange(len(papers)):\n",
    "    text = papers.loc[i]['Title'] + \"\\n\\n\" + papers.loc[i]['Abstract']\n",
    "\n",
    "    top_4 = db.similarity_search_with_score(text, k=1)\n",
    "    label = [score for doc, score in top_4][0]\n",
    "    oceanography_score.append(label)\n",
    "\n",
    "papers['oceanography_score'] = oceanography_score.copy()\n",
    "    "
   ]
  },
  {
   "cell_type": "code",
   "execution_count": 609,
   "id": "7f098a30-9a13-4b48-b487-c0d0a04d249e",
   "metadata": {},
   "outputs": [
    {
     "data": {
      "text/plain": [
       "[(Document(page_content='Oceanography'), 1.1977897)]"
      ]
     },
     "execution_count": 609,
     "metadata": {},
     "output_type": "execute_result"
    }
   ],
   "source": [
    "top_4"
   ]
  },
  {
   "cell_type": "code",
   "execution_count": 621,
   "id": "c550f1cb-2eb1-4b5c-81a7-3f19c447317b",
   "metadata": {},
   "outputs": [],
   "source": [
    "categories = [\n",
    "    \"Whale identification\",\n",
    "    \"Microplastics\",\n",
    "    \"Erosion\",\n",
    "    \"Ocean circulation and currents\",\n",
    "    \"Climate modelling\",\n",
    "    \"Detection of man-made objects\",\n",
    "    \"Algae and harmful algae bloom detection\",\n",
    "    \"Regime dynamics\",\n",
    "    \"Species distribution\",\n",
    "    \"Shipping, navigation, and logistics\",\n",
    "    \"Water level prediciton\",\n",
    "    \"Infrastructure monitoring and corrosion detection\",\n",
    "    \"Eelgrass monitoring\",\n",
    "    \"Contaminated Ocean Water detection\",\n",
    "    \"Fleet monitoring\",\n",
    "    \"Acoustic classification\",\n",
    "    \"Biodiversity monitoring\",\n",
    "    \"Plankton identification\",\n",
    "    \"Invasive species monitoring\",\n",
    "    \"Seaweed monitoring\",\n",
    "    \"Disease detection\",\n",
    "    \"Natural disaster forecasting\",\n",
    "    \"Engineering\",\n",
    "    \"Coastal geomorphology\",\n",
    "    \"Ocean chemistry detection\",\n",
    "    \"Underwater photography\",\n",
    "    \"Climate engineering\",\n",
    "    \"Fishing and seafood\",\n",
    "    \"Power generation\",\n",
    "    \"Resource management\",\n",
    "    \"Unmanned vehicles\",\n",
    "    \"Ice monitoring\",\n",
    "    \"Sea floor mapping and bathymetry\",\n",
    "    \"Marine ecology\",\n",
    "    \"Coral reef monitoring and bleaching\",\n",
    "    \"Taxonomy\",\n",
    "]\n",
    "\n",
    "vectorstore = FAISS.from_embeddings\n",
    "\n",
    "# embeddings = HuggingFaceEmbeddings(model_name=\"sentence-transformers/all-mpnet-base-v2\", model_kwargs=dict(device=\"cuda:0\"))\n",
    "embeddings = OpenAIEmbeddings()\n",
    "\n",
    "category_embeddings = embeddings.embed_documents(categories)\n",
    "db = FAISS.from_embeddings(list(zip(categories, category_embeddings)), embeddings)"
   ]
  },
  {
   "cell_type": "code",
   "execution_count": 622,
   "id": "9028f247-9227-49e0-becf-b45652dbf642",
   "metadata": {},
   "outputs": [
    {
     "data": {
      "application/vnd.jupyter.widget-view+json": {
       "model_id": "6faf6436ef5642a49d3cdd9d93414f19",
       "version_major": 2,
       "version_minor": 0
      },
      "text/plain": [
       "  0%|          | 0/1626 [00:00<?, ?it/s]"
      ]
     },
     "metadata": {},
     "output_type": "display_data"
    }
   ],
   "source": [
    "for i in trange(len(papers)):\n",
    "    if papers.iloc[i]['oceanography_score'] > 1.1:\n",
    "        continue\n",
    "        \n",
    "    text = papers.iloc[i]['Title'] + \"\\n\\n\" + papers.iloc[i]['Abstract']\n",
    "    top_4 = db.similarity_search_with_score(text)\n",
    "    \n",
    "    if top_4[0][1] > 1:\n",
    "        print(i)\n",
    "        print(papers.iloc[i]['oceanography_score'])\n",
    "        print(text)\n",
    "        print()\n",
    "        for t in top_4:\n",
    "            print(t)\n",
    "        print()\n"
   ]
  },
  {
   "cell_type": "code",
   "execution_count": null,
   "id": "14332df8-eb73-4922-b3fb-7fc77a8f2dca",
   "metadata": {},
   "outputs": [],
   "source": []
  },
  {
   "cell_type": "code",
   "execution_count": 623,
   "id": "b4a6eabc-e73a-4ea5-93de-3b500647bea6",
   "metadata": {},
   "outputs": [
    {
     "data": {
      "application/vnd.jupyter.widget-view+json": {
       "model_id": "6e70872f3b1b42238da8f60c53fcd68b",
       "version_major": 2,
       "version_minor": 0
      },
      "text/plain": [
       "  0%|          | 0/1626 [00:00<?, ?it/s]"
      ]
     },
     "metadata": {},
     "output_type": "display_data"
    }
   ],
   "source": [
    "labels = []\n",
    "for i in trange(len(papers)):\n",
    "    text = papers.loc[i]['Title'] + \"\\n\\n\" + papers.loc[i]['Abstract']\n",
    "\n",
    "    top_4 = db.similarity_search_with_score(text)\n",
    "    label = \"; \".join([f\"{doc.page_content} ({score.round(3):.3f})\" for doc, score in top_4])\n",
    "    labels.append(label)"
   ]
  },
  {
   "cell_type": "code",
   "execution_count": 624,
   "id": "293e3b29-239d-40ba-b30c-584518cc4a9a",
   "metadata": {},
   "outputs": [],
   "source": [
    "papers['Auto Application'] = labels"
   ]
  },
  {
   "cell_type": "code",
   "execution_count": null,
   "id": "ac8709f8-3a1b-47f9-89e9-3b1cf9559017",
   "metadata": {},
   "outputs": [],
   "source": []
  },
  {
   "cell_type": "code",
   "execution_count": 625,
   "id": "e442307c-23da-460f-ab14-c076d23a3bf0",
   "metadata": {},
   "outputs": [],
   "source": [
    "papers.to_excel(\"topics.xlsx\")"
   ]
  },
  {
   "cell_type": "code",
   "execution_count": 626,
   "id": "929d1b12-5fab-4227-bc09-005fcf356d5b",
   "metadata": {
    "editable": true,
    "slideshow": {
     "slide_type": ""
    },
    "tags": []
   },
   "outputs": [
    {
     "name": "stdout",
     "output_type": "stream",
     "text": [
      "Whale identification\n",
      "Microplastics\n",
      "Erosion\n",
      "Ocean circulation and currents\n",
      "Climate modelling\n",
      "Detection of man-made objects\n",
      "Algae and harmful algae bloom detection\n",
      "Regime dynamics\n",
      "Species distribution\n",
      "Shipping, navigation, and logistics\n",
      "Water level prediciton\n",
      "Infrastructure monitoring and corrosion detection\n",
      "Eelgrass monitoring\n",
      "Contaminated Ocean Water detection\n",
      "Fleet monitoring\n",
      "Acoustic classification\n",
      "Biodiversity monitoring\n",
      "Plankton identification\n",
      "Invasive species monitoring\n",
      "Seaweed monitoring\n",
      "Disease detection\n",
      "Natural disaster forecasting\n",
      "Engineering\n",
      "Coastal geomorphology\n",
      "Ocean chemistry detection\n",
      "Underwater photography\n",
      "Climate engineering\n",
      "Fishing and seafood\n",
      "Power generation\n",
      "Resource management\n",
      "Unmanned vehicles\n",
      "Ice monitoring\n",
      "Sea floor mapping and bathymetry\n",
      "Marine ecology\n",
      "Coral reef monitoring and bleaching\n",
      "Taxonomy\n"
     ]
    }
   ],
   "source": [
    "for c in categories:\n",
    "    print(c)"
   ]
  },
  {
   "cell_type": "code",
   "execution_count": 630,
   "id": "1a75fa50-cac0-43de-ba4a-c03669362d38",
   "metadata": {},
   "outputs": [],
   "source": [
    "papers['abstract_words'] = papers['Abstract'].str.split().str.len()"
   ]
  },
  {
   "cell_type": "code",
   "execution_count": 631,
   "id": "2185152f-f3b3-4ec6-b184-2ebfce8e0a03",
   "metadata": {},
   "outputs": [],
   "source": [
    "papers['title_words'] = papers['Title'].str.split().str.len()"
   ]
  },
  {
   "cell_type": "code",
   "execution_count": 636,
   "id": "937a7521-d193-4393-9e40-86204e34e0b8",
   "metadata": {},
   "outputs": [
    {
     "data": {
      "text/plain": [
       "395112"
      ]
     },
     "execution_count": 636,
     "metadata": {},
     "output_type": "execute_result"
    }
   ],
   "source": [
    "papers['abstract_words'].sum()"
   ]
  },
  {
   "cell_type": "code",
   "execution_count": 637,
   "id": "921b2b91-8a77-4c91-93ac-b402968fd2ec",
   "metadata": {},
   "outputs": [
    {
     "data": {
      "text/plain": [
       "22458"
      ]
     },
     "execution_count": 637,
     "metadata": {},
     "output_type": "execute_result"
    }
   ],
   "source": [
    "papers['title_words'].sum()"
   ]
  },
  {
   "cell_type": "code",
   "execution_count": null,
   "id": "6b603312-832c-4a39-85b5-4a5e7362f1f4",
   "metadata": {},
   "outputs": [],
   "source": []
  }
 ],
 "metadata": {
  "kernelspec": {
   "display_name": "Python 3 (ipykernel)",
   "language": "python",
   "name": "python3"
  },
  "language_info": {
   "codemirror_mode": {
    "name": "ipython",
    "version": 3
   },
   "file_extension": ".py",
   "mimetype": "text/x-python",
   "name": "python",
   "nbconvert_exporter": "python",
   "pygments_lexer": "ipython3",
   "version": "3.11.6"
  }
 },
 "nbformat": 4,
 "nbformat_minor": 5
}
