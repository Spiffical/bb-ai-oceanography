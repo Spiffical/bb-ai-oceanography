{
 "cells": [
  {
   "cell_type": "markdown",
   "id": "21b03da2-e168-4730-889e-997ca763cbcc",
   "metadata": {},
   "source": [
    "Adapted code from: https://gist.github.com/lmcinnes/7a39a9f103f25300aee07201bb0a9b8a\n",
    "\n",
    "For vis: https://lmcinnes.github.io/datamapplot_examples/ArXiv_data_map_example.html"
   ]
  },
  {
   "cell_type": "code",
   "execution_count": 1,
   "id": "1c32b9d2-d3f5-4e92-82fc-bd282c86e14c",
   "metadata": {},
   "outputs": [],
   "source": [
    "import numpy as np\n",
    "import pandas as pd\n",
    "# import datasets\n",
    "import fast_hdbscan\n",
    "import umap\n",
    "import numba\n",
    "\n",
    "import sklearn .metrics\n",
    "import vectorizers\n",
    "import vectorizers.transformers\n",
    "import sklearn.feature_extraction\n",
    "import scipy.sparse\n",
    "\n",
    "import sentence_transformers\n",
    "\n",
    "from sklearn.utils.extmath import randomized_svd\n",
    "from sklearn.preprocessing import normalize"
   ]
  },
  {
   "cell_type": "markdown",
   "id": "d6df6f02-4a63-441b-9a9f-3235e9fcecbd",
   "metadata": {},
   "source": [
    "# Building a map and clusters"
   ]
  },
  {
   "cell_type": "code",
   "execution_count": 98,
   "id": "d98a3049-21da-4263-b0e7-9e2e03f15009",
   "metadata": {},
   "outputs": [],
   "source": [
    "embedding_model = sentence_transformers.SentenceTransformer(\"all-mpnet-base-v2\", device=\"cuda\")"
   ]
  },
  {
   "cell_type": "code",
   "execution_count": 275,
   "id": "154e064a-eec4-4180-9d62-4bba6329e95c",
   "metadata": {
    "scrolled": true
   },
   "outputs": [
    {
     "data": {
      "text/html": [
       "<div>\n",
       "<style scoped>\n",
       "    .dataframe tbody tr th:only-of-type {\n",
       "        vertical-align: middle;\n",
       "    }\n",
       "\n",
       "    .dataframe tbody tr th {\n",
       "        vertical-align: top;\n",
       "    }\n",
       "\n",
       "    .dataframe thead th {\n",
       "        text-align: right;\n",
       "    }\n",
       "</style>\n",
       "<table border=\"1\" class=\"dataframe\">\n",
       "  <thead>\n",
       "    <tr style=\"text-align: right;\">\n",
       "      <th></th>\n",
       "      <th>index</th>\n",
       "      <th>Unnamed: 0</th>\n",
       "      <th>Unnamed: 1</th>\n",
       "      <th>Unnamed: 2</th>\n",
       "      <th>Title</th>\n",
       "      <th>Year</th>\n",
       "      <th>Journal</th>\n",
       "      <th>Unnamed: 6</th>\n",
       "      <th>Unnamed: 7</th>\n",
       "      <th>Unnamed: 8</th>\n",
       "      <th>...</th>\n",
       "      <th>Unnamed: 35</th>\n",
       "      <th>Unnamed: 36</th>\n",
       "      <th>Unnamed: 37</th>\n",
       "      <th>Manual Labelling</th>\n",
       "      <th>Zero-shot labelling (lower = more relevant)</th>\n",
       "      <th>Relevant to Oceanography? (lower = more relevant)</th>\n",
       "      <th>Unnamed: 41</th>\n",
       "      <th>Unnamed: 42</th>\n",
       "      <th>Notes / Comments</th>\n",
       "      <th>Include / Exclude</th>\n",
       "    </tr>\n",
       "  </thead>\n",
       "  <tbody>\n",
       "    <tr>\n",
       "      <th>0</th>\n",
       "      <td>0</td>\n",
       "      <td>Liu Y.; Meng Z.; Chen W.; Liang Y.; Chen W.; C...</td>\n",
       "      <td>Liu, Yuyao (57240197700); Meng, Zhou (72018949...</td>\n",
       "      <td>57240197700; 7201894926; 57213686853; 57218294...</td>\n",
       "      <td>Ocean Fronts and Their Acoustic Effects: A Review</td>\n",
       "      <td>2022</td>\n",
       "      <td>Journal of Marine Science and Engineering</td>\n",
       "      <td>NaN</td>\n",
       "      <td>10</td>\n",
       "      <td>12</td>\n",
       "      <td>...</td>\n",
       "      <td>2-s2.0-85144836521</td>\n",
       "      <td>NaN</td>\n",
       "      <td>NaN</td>\n",
       "      <td>Acoustic classification</td>\n",
       "      <td>Acoustic classification (0.386); Sea floor map...</td>\n",
       "      <td>1.115355</td>\n",
       "      <td>AI</td>\n",
       "      <td>NaN</td>\n",
       "      <td>NaN</td>\n",
       "      <td>Included</td>\n",
       "    </tr>\n",
       "    <tr>\n",
       "      <th>1</th>\n",
       "      <td>1</td>\n",
       "      <td>Luo X.; Chen L.; Zhou H.; Cao H.</td>\n",
       "      <td>Luo, Xinwei (36995012900); Chen, Lu (581222398...</td>\n",
       "      <td>36995012900; 58122239800; 58122239900; 5771425...</td>\n",
       "      <td>A Survey of Underwater Acoustic Target Recogni...</td>\n",
       "      <td>2023</td>\n",
       "      <td>Journal of Marine Science and Engineering</td>\n",
       "      <td>NaN</td>\n",
       "      <td>11</td>\n",
       "      <td>2</td>\n",
       "      <td>...</td>\n",
       "      <td>2-s2.0-85149119509</td>\n",
       "      <td>NaN</td>\n",
       "      <td>NaN</td>\n",
       "      <td>Acoustic classification</td>\n",
       "      <td>Acoustic classification (0.368); Detection of ...</td>\n",
       "      <td>1.355405</td>\n",
       "      <td>AI</td>\n",
       "      <td>NaN</td>\n",
       "      <td>NaN</td>\n",
       "      <td>Included</td>\n",
       "    </tr>\n",
       "    <tr>\n",
       "      <th>2</th>\n",
       "      <td>2</td>\n",
       "      <td>Zhufeng L.; Xiaofang L.; Na W.; Qingyang Z.</td>\n",
       "      <td>Zhufeng, Lei (57201702161); Xiaofang, Lei (579...</td>\n",
       "      <td>57201702161; 57949172700; 57948807100; 5794892...</td>\n",
       "      <td>Present status and challenges of underwater ac...</td>\n",
       "      <td>2022</td>\n",
       "      <td>Frontiers in Physics</td>\n",
       "      <td>NaN</td>\n",
       "      <td>10</td>\n",
       "      <td>NaN</td>\n",
       "      <td>...</td>\n",
       "      <td>2-s2.0-85140965810</td>\n",
       "      <td>NaN</td>\n",
       "      <td>NaN</td>\n",
       "      <td>Acoustic classification</td>\n",
       "      <td>Acoustic classification (0.379); Contaminated ...</td>\n",
       "      <td>1.386320</td>\n",
       "      <td>AI</td>\n",
       "      <td>NaN</td>\n",
       "      <td>NaN</td>\n",
       "      <td>Included</td>\n",
       "    </tr>\n",
       "    <tr>\n",
       "      <th>3</th>\n",
       "      <td>3</td>\n",
       "      <td>NaN</td>\n",
       "      <td>NaN</td>\n",
       "      <td>NaN</td>\n",
       "      <td>Categorizing Shallow Marine Soundscapes Using ...</td>\n",
       "      <td>2023</td>\n",
       "      <td>Journal of Marine Science and Engineering</td>\n",
       "      <td>NaN</td>\n",
       "      <td>NaN</td>\n",
       "      <td>NaN</td>\n",
       "      <td>...</td>\n",
       "      <td>NaN</td>\n",
       "      <td>NaN</td>\n",
       "      <td>NaN</td>\n",
       "      <td>Acoustic classification</td>\n",
       "      <td>Acoustic classification (0.349); Marine ecolog...</td>\n",
       "      <td>1.151325</td>\n",
       "      <td>AI</td>\n",
       "      <td>NaN</td>\n",
       "      <td>NaN</td>\n",
       "      <td>Included</td>\n",
       "    </tr>\n",
       "    <tr>\n",
       "      <th>4</th>\n",
       "      <td>4</td>\n",
       "      <td>NaN</td>\n",
       "      <td>NaN</td>\n",
       "      <td>NaN</td>\n",
       "      <td>Automated cataloguing of American silver perch...</td>\n",
       "      <td>2023</td>\n",
       "      <td>Bioacoustics</td>\n",
       "      <td>NaN</td>\n",
       "      <td>NaN</td>\n",
       "      <td>NaN</td>\n",
       "      <td>...</td>\n",
       "      <td>NaN</td>\n",
       "      <td>NaN</td>\n",
       "      <td>NaN</td>\n",
       "      <td>Acoustic classification</td>\n",
       "      <td>Whale identification (0.425); Acoustic classif...</td>\n",
       "      <td>1.388355</td>\n",
       "      <td>AI</td>\n",
       "      <td>NaN</td>\n",
       "      <td>NaN</td>\n",
       "      <td>Included</td>\n",
       "    </tr>\n",
       "    <tr>\n",
       "      <th>...</th>\n",
       "      <td>...</td>\n",
       "      <td>...</td>\n",
       "      <td>...</td>\n",
       "      <td>...</td>\n",
       "      <td>...</td>\n",
       "      <td>...</td>\n",
       "      <td>...</td>\n",
       "      <td>...</td>\n",
       "      <td>...</td>\n",
       "      <td>...</td>\n",
       "      <td>...</td>\n",
       "      <td>...</td>\n",
       "      <td>...</td>\n",
       "      <td>...</td>\n",
       "      <td>...</td>\n",
       "      <td>...</td>\n",
       "      <td>...</td>\n",
       "      <td>...</td>\n",
       "      <td>...</td>\n",
       "      <td>...</td>\n",
       "      <td>...</td>\n",
       "    </tr>\n",
       "    <tr>\n",
       "      <th>692</th>\n",
       "      <td>1609</td>\n",
       "      <td>NaN</td>\n",
       "      <td>NaN</td>\n",
       "      <td>NaN</td>\n",
       "      <td>Species-environment associations and predicted...</td>\n",
       "      <td>2017</td>\n",
       "      <td>Avian Conservation and Ecology</td>\n",
       "      <td>NaN</td>\n",
       "      <td>NaN</td>\n",
       "      <td>NaN</td>\n",
       "      <td>...</td>\n",
       "      <td>NaN</td>\n",
       "      <td>NaN</td>\n",
       "      <td>NaN</td>\n",
       "      <td>Species distribution</td>\n",
       "      <td>Species distribution (0.395); Invasive species...</td>\n",
       "      <td>1.357163</td>\n",
       "      <td>AI</td>\n",
       "      <td>NaN</td>\n",
       "      <td>NaN</td>\n",
       "      <td>Included</td>\n",
       "    </tr>\n",
       "    <tr>\n",
       "      <th>693</th>\n",
       "      <td>1613</td>\n",
       "      <td>NaN</td>\n",
       "      <td>NaN</td>\n",
       "      <td>NaN</td>\n",
       "      <td>A Deep learning method for accurate and fast i...</td>\n",
       "      <td>2018</td>\n",
       "      <td>Ecological Informatics</td>\n",
       "      <td>NaN</td>\n",
       "      <td>NaN</td>\n",
       "      <td>NaN</td>\n",
       "      <td>...</td>\n",
       "      <td>NaN</td>\n",
       "      <td>NaN</td>\n",
       "      <td>NaN</td>\n",
       "      <td>Invasive species monitoring</td>\n",
       "      <td>Underwater photography (0.352); Coral reef mon...</td>\n",
       "      <td>1.294072</td>\n",
       "      <td>AI</td>\n",
       "      <td>NaN</td>\n",
       "      <td>NaN</td>\n",
       "      <td>Included</td>\n",
       "    </tr>\n",
       "    <tr>\n",
       "      <th>694</th>\n",
       "      <td>1614</td>\n",
       "      <td>NaN</td>\n",
       "      <td>NaN</td>\n",
       "      <td>NaN</td>\n",
       "      <td>Deep convolutional neural networks capabilitie...</td>\n",
       "      <td>2018</td>\n",
       "      <td>Atmosphere</td>\n",
       "      <td>NaN</td>\n",
       "      <td>NaN</td>\n",
       "      <td>NaN</td>\n",
       "      <td>...</td>\n",
       "      <td>NaN</td>\n",
       "      <td>NaN</td>\n",
       "      <td>NaN</td>\n",
       "      <td>Climate modelling,\\nNatural disaster forecasting</td>\n",
       "      <td>Climate modelling (0.408); Ocean chemistry det...</td>\n",
       "      <td>1.340750</td>\n",
       "      <td>AI</td>\n",
       "      <td>NaN</td>\n",
       "      <td>NaN</td>\n",
       "      <td>Included</td>\n",
       "    </tr>\n",
       "    <tr>\n",
       "      <th>695</th>\n",
       "      <td>1621</td>\n",
       "      <td>NaN</td>\n",
       "      <td>NaN</td>\n",
       "      <td>NaN</td>\n",
       "      <td>Recruitment forecasting of yellowfin tuna in t...</td>\n",
       "      <td>2016</td>\n",
       "      <td>Ecological Informatics</td>\n",
       "      <td>NaN</td>\n",
       "      <td>NaN</td>\n",
       "      <td>NaN</td>\n",
       "      <td>...</td>\n",
       "      <td>NaN</td>\n",
       "      <td>NaN</td>\n",
       "      <td>NaN</td>\n",
       "      <td>Invasive species monitoring</td>\n",
       "      <td>Marine ecology (0.420); Natural disaster forec...</td>\n",
       "      <td>1.396317</td>\n",
       "      <td>AI</td>\n",
       "      <td>NaN</td>\n",
       "      <td>NaN</td>\n",
       "      <td>Included</td>\n",
       "    </tr>\n",
       "    <tr>\n",
       "      <th>696</th>\n",
       "      <td>1622</td>\n",
       "      <td>NaN</td>\n",
       "      <td>NaN</td>\n",
       "      <td>NaN</td>\n",
       "      <td>Hindcast modeling of oil slick persistence fro...</td>\n",
       "      <td>2017</td>\n",
       "      <td>Remote Sensing of Environment</td>\n",
       "      <td>NaN</td>\n",
       "      <td>NaN</td>\n",
       "      <td>NaN</td>\n",
       "      <td>...</td>\n",
       "      <td>NaN</td>\n",
       "      <td>NaN</td>\n",
       "      <td>NaN</td>\n",
       "      <td>Contaminated Ocean Water detection</td>\n",
       "      <td>Ocean circulation and currents (0.404); Ocean ...</td>\n",
       "      <td>1.286471</td>\n",
       "      <td>AI</td>\n",
       "      <td>NaN</td>\n",
       "      <td>NaN</td>\n",
       "      <td>Included</td>\n",
       "    </tr>\n",
       "  </tbody>\n",
       "</table>\n",
       "<p>697 rows × 46 columns</p>\n",
       "</div>"
      ],
      "text/plain": [
       "     index                                         Unnamed: 0  \\\n",
       "0        0  Liu Y.; Meng Z.; Chen W.; Liang Y.; Chen W.; C...   \n",
       "1        1                   Luo X.; Chen L.; Zhou H.; Cao H.   \n",
       "2        2        Zhufeng L.; Xiaofang L.; Na W.; Qingyang Z.   \n",
       "3        3                                                NaN   \n",
       "4        4                                                NaN   \n",
       "..     ...                                                ...   \n",
       "692   1609                                                NaN   \n",
       "693   1613                                                NaN   \n",
       "694   1614                                                NaN   \n",
       "695   1621                                                NaN   \n",
       "696   1622                                                NaN   \n",
       "\n",
       "                                            Unnamed: 1  \\\n",
       "0    Liu, Yuyao (57240197700); Meng, Zhou (72018949...   \n",
       "1    Luo, Xinwei (36995012900); Chen, Lu (581222398...   \n",
       "2    Zhufeng, Lei (57201702161); Xiaofang, Lei (579...   \n",
       "3                                                  NaN   \n",
       "4                                                  NaN   \n",
       "..                                                 ...   \n",
       "692                                                NaN   \n",
       "693                                                NaN   \n",
       "694                                                NaN   \n",
       "695                                                NaN   \n",
       "696                                                NaN   \n",
       "\n",
       "                                            Unnamed: 2  \\\n",
       "0    57240197700; 7201894926; 57213686853; 57218294...   \n",
       "1    36995012900; 58122239800; 58122239900; 5771425...   \n",
       "2    57201702161; 57949172700; 57948807100; 5794892...   \n",
       "3                                                  NaN   \n",
       "4                                                  NaN   \n",
       "..                                                 ...   \n",
       "692                                                NaN   \n",
       "693                                                NaN   \n",
       "694                                                NaN   \n",
       "695                                                NaN   \n",
       "696                                                NaN   \n",
       "\n",
       "                                                 Title  Year  \\\n",
       "0    Ocean Fronts and Their Acoustic Effects: A Review  2022   \n",
       "1    A Survey of Underwater Acoustic Target Recogni...  2023   \n",
       "2    Present status and challenges of underwater ac...  2022   \n",
       "3    Categorizing Shallow Marine Soundscapes Using ...  2023   \n",
       "4    Automated cataloguing of American silver perch...  2023   \n",
       "..                                                 ...   ...   \n",
       "692  Species-environment associations and predicted...  2017   \n",
       "693  A Deep learning method for accurate and fast i...  2018   \n",
       "694  Deep convolutional neural networks capabilitie...  2018   \n",
       "695  Recruitment forecasting of yellowfin tuna in t...  2016   \n",
       "696  Hindcast modeling of oil slick persistence fro...  2017   \n",
       "\n",
       "                                       Journal  Unnamed: 6 Unnamed: 7  \\\n",
       "0    Journal of Marine Science and Engineering         NaN         10   \n",
       "1    Journal of Marine Science and Engineering         NaN         11   \n",
       "2                         Frontiers in Physics         NaN         10   \n",
       "3    Journal of Marine Science and Engineering         NaN        NaN   \n",
       "4                                 Bioacoustics         NaN        NaN   \n",
       "..                                         ...         ...        ...   \n",
       "692             Avian Conservation and Ecology         NaN        NaN   \n",
       "693                     Ecological Informatics         NaN        NaN   \n",
       "694                                 Atmosphere         NaN        NaN   \n",
       "695                     Ecological Informatics         NaN        NaN   \n",
       "696              Remote Sensing of Environment         NaN        NaN   \n",
       "\n",
       "    Unnamed: 8  ...         Unnamed: 35 Unnamed: 36 Unnamed: 37  \\\n",
       "0           12  ...  2-s2.0-85144836521         NaN         NaN   \n",
       "1            2  ...  2-s2.0-85149119509         NaN         NaN   \n",
       "2          NaN  ...  2-s2.0-85140965810         NaN         NaN   \n",
       "3          NaN  ...                 NaN         NaN         NaN   \n",
       "4          NaN  ...                 NaN         NaN         NaN   \n",
       "..         ...  ...                 ...         ...         ...   \n",
       "692        NaN  ...                 NaN         NaN         NaN   \n",
       "693        NaN  ...                 NaN         NaN         NaN   \n",
       "694        NaN  ...                 NaN         NaN         NaN   \n",
       "695        NaN  ...                 NaN         NaN         NaN   \n",
       "696        NaN  ...                 NaN         NaN         NaN   \n",
       "\n",
       "                                     Manual Labelling  \\\n",
       "0                             Acoustic classification   \n",
       "1                             Acoustic classification   \n",
       "2                             Acoustic classification   \n",
       "3                             Acoustic classification   \n",
       "4                             Acoustic classification   \n",
       "..                                                ...   \n",
       "692                              Species distribution   \n",
       "693                       Invasive species monitoring   \n",
       "694  Climate modelling,\\nNatural disaster forecasting   \n",
       "695                       Invasive species monitoring   \n",
       "696                Contaminated Ocean Water detection   \n",
       "\n",
       "           Zero-shot labelling (lower = more relevant)  \\\n",
       "0    Acoustic classification (0.386); Sea floor map...   \n",
       "1    Acoustic classification (0.368); Detection of ...   \n",
       "2    Acoustic classification (0.379); Contaminated ...   \n",
       "3    Acoustic classification (0.349); Marine ecolog...   \n",
       "4    Whale identification (0.425); Acoustic classif...   \n",
       "..                                                 ...   \n",
       "692  Species distribution (0.395); Invasive species...   \n",
       "693  Underwater photography (0.352); Coral reef mon...   \n",
       "694  Climate modelling (0.408); Ocean chemistry det...   \n",
       "695  Marine ecology (0.420); Natural disaster forec...   \n",
       "696  Ocean circulation and currents (0.404); Ocean ...   \n",
       "\n",
       "    Relevant to Oceanography? (lower = more relevant) Unnamed: 41 Unnamed: 42  \\\n",
       "0                                            1.115355          AI         NaN   \n",
       "1                                            1.355405          AI         NaN   \n",
       "2                                            1.386320          AI         NaN   \n",
       "3                                            1.151325          AI         NaN   \n",
       "4                                            1.388355          AI         NaN   \n",
       "..                                                ...         ...         ...   \n",
       "692                                          1.357163          AI         NaN   \n",
       "693                                          1.294072          AI         NaN   \n",
       "694                                          1.340750          AI         NaN   \n",
       "695                                          1.396317          AI         NaN   \n",
       "696                                          1.286471          AI         NaN   \n",
       "\n",
       "    Notes / Comments Include / Exclude  \n",
       "0                NaN          Included  \n",
       "1                NaN          Included  \n",
       "2                NaN          Included  \n",
       "3                NaN          Included  \n",
       "4                NaN          Included  \n",
       "..               ...               ...  \n",
       "692              NaN          Included  \n",
       "693              NaN          Included  \n",
       "694              NaN          Included  \n",
       "695              NaN          Included  \n",
       "696              NaN          Included  \n",
       "\n",
       "[697 rows x 46 columns]"
      ]
     },
     "execution_count": 275,
     "metadata": {},
     "output_type": "execute_result"
    }
   ],
   "source": [
    "dataset = pd.read_csv(\"./Search String H Results - Literature Reviews.csv\", keep_default_na=False, na_values=[''])\n",
    "dataset.drop_duplicates(subset=[\"Title\"], inplace=True)\n",
    "dataset = dataset[~(dataset[\"Manual Labelling\"] == \"N/A\")]\n",
    "dataset = dataset[(dataset[\"Unnamed: 41\"] == \"AI\")]\n",
    "dataset.reset_index(inplace=True)\n",
    "dataset\n",
    "# dataset.head()"
   ]
  },
  {
   "cell_type": "code",
   "execution_count": 276,
   "id": "6de9c290-dfb1-4d7b-9c2d-5316a265b55d",
   "metadata": {},
   "outputs": [],
   "source": [
    "data_strings = pd.DataFrame(dataset)[[\"Title\", \"Abstract\"]]"
   ]
  },
  {
   "cell_type": "code",
   "execution_count": 277,
   "id": "ef58045e-b531-4a57-9f11-5d83df38cb56",
   "metadata": {},
   "outputs": [
    {
     "data": {
      "application/vnd.jupyter.widget-view+json": {
       "model_id": "fed0bc4d2ec34358aae2363a5f4eb66b",
       "version_major": 2,
       "version_minor": 0
      },
      "text/plain": [
       "Batches:   0%|          | 0/22 [00:00<?, ?it/s]"
      ]
     },
     "metadata": {},
     "output_type": "display_data"
    }
   ],
   "source": [
    "data_vectors = embedding_model.encode(data_strings.Title + \"\\n\\n\" + data_strings.Abstract, show_progress_bar=True)"
   ]
  },
  {
   "cell_type": "code",
   "execution_count": 278,
   "id": "b424896a-8d69-4223-976b-d6adc73208f1",
   "metadata": {},
   "outputs": [
    {
     "name": "stderr",
     "output_type": "stream",
     "text": [
      "/home/taylor/miniforge3/envs/kom/lib/python3.11/site-packages/umap/umap_.py:1943: UserWarning: n_jobs value -1 overridden to 1 by setting random_state. Use no seed for parallelism.\n",
      "  warn(f\"n_jobs value {self.n_jobs} overridden to 1 by setting random_state. Use no seed for parallelism.\")\n"
     ]
    }
   ],
   "source": [
    "data_map = umap.UMAP(metric=\"cosine\", n_components=2, random_state=42).fit_transform(data_vectors)"
   ]
  },
  {
   "cell_type": "code",
   "execution_count": 279,
   "id": "1051c11f-87fb-4a7b-bf50-f97912285035",
   "metadata": {},
   "outputs": [
    {
     "data": {
      "image/png": "[encoded data removed]",
      "text/plain": [
       "<Figure size 640x480 with 1 Axes>"
      ]
     },
     "metadata": {},
     "output_type": "display_data"
    }
   ],
   "source": [
    "import matplotlib.pyplot as plt\n",
    "\n",
    "plt.scatter(*data_map.T)\n",
    "plt.show()"
   ]
  },
  {
   "cell_type": "markdown",
   "id": "2953fdc0-a6b3-4c09-8473-aee0f2242166",
   "metadata": {},
   "source": [
    "Now we need to do some clustering; for this I'll use HDBCSAN (more specifically fast_hdbscan seeing as it is faster and more flexible at reaching into some of the internals). I want layers of clusters not a strict hierarchy, so we'll use some HDBSCAN based tricks to make that possible. I also want to keep track of a bunch of information which will then be used to feed back into the cluster naming -- the cluster centroid in the map layout; the cluster centroid in the original high-d embedding space; what the subclusters are; and the actual data points in each cluster.\r\n",
    "\r\n",
    "After that we'll throw together some quick functions to get topical and distinctive sentences and extract keywords."
   ]
  },
  {
   "cell_type": "code",
   "execution_count": 280,
   "id": "eada7958-cafe-463c-80ef-7f825f12da76",
   "metadata": {},
   "outputs": [],
   "source": [
    "@numba.njit(fastmath=True)\n",
    "def layer_from_clustering(\n",
    "    point_vectors,\n",
    "    point_locations,\n",
    "    cluster_label_vector,\n",
    "    cluster_membership_vector,\n",
    "    base_clusters,\n",
    "    membership_strength_threshold=0.2,\n",
    "):\n",
    "    n_clusters = len(set(cluster_label_vector)) - 1\n",
    "    \n",
    "    average_vectors = np.zeros((n_clusters, point_vectors.shape[1]), dtype=np.float32)\n",
    "    average_locations = np.zeros((n_clusters, point_locations.shape[1]), dtype=np.float32)\n",
    "    total_weights = np.zeros(n_clusters, dtype=np.float32)\n",
    "    pointsets = [set([-1 for i in range(0)]) for i in range(n_clusters)]\n",
    "    metaclusters = [set([-1 for i in range(0)]) for i in range(n_clusters)]\n",
    "\n",
    "    for i in range(cluster_label_vector.shape[0]):\n",
    "        cluster_num = cluster_label_vector[i]\n",
    "        if cluster_num >= 0:\n",
    "            average_vectors[cluster_num] += cluster_membership_vector[i] * point_vectors[i]\n",
    "            average_locations[cluster_num] += cluster_membership_vector[i] * point_locations[i]\n",
    "            total_weights[cluster_num] += cluster_membership_vector[i]\n",
    "            \n",
    "            if cluster_membership_vector[i] > membership_strength_threshold:\n",
    "                pointsets[cluster_num].add(i)\n",
    "                sub_cluster = base_clusters[i]\n",
    "                if sub_cluster != -1:\n",
    "                    metaclusters[cluster_num].add(sub_cluster)\n",
    "                \n",
    "    for c in range(n_clusters):\n",
    "        average_vectors[c] /= total_weights[c]\n",
    "        average_locations[c] /= total_weights[c]\n",
    "        \n",
    "    return average_vectors, average_locations, pointsets, metaclusters\n",
    "                \n",
    "            \n",
    "def build_cluster_layers(\n",
    "    point_vectors,\n",
    "    point_locations,\n",
    "    *,\n",
    "    min_clusters=2,\n",
    "    min_samples=5,\n",
    "    base_min_cluster_size=10,\n",
    "    membership_strength_threshold=0.2,\n",
    "    next_cluster_size_quantile=0.8,\n",
    "):\n",
    "    vector_layers = []\n",
    "    location_layers = []\n",
    "    pointset_layers = []\n",
    "    metacluster_layers = []\n",
    "    \n",
    "    min_cluster_size = base_min_cluster_size\n",
    "    \n",
    "    sklearn_tree = fast_hdbscan.hdbscan.KDTree(point_locations)\n",
    "    numba_tree = fast_hdbscan.numba_kdtree.kdtree_to_numba(sklearn_tree)\n",
    "    edges = fast_hdbscan.boruvka.parallel_boruvka(\n",
    "        numba_tree, min_samples=min_cluster_size if min_samples is None else min_samples\n",
    "    )\n",
    "    sorted_mst = edges[np.argsort(edges.T[2])]\n",
    "    uncondensed_tree = fast_hdbscan.cluster_trees.mst_to_linkage_tree(sorted_mst)\n",
    "    new_tree = fast_hdbscan.cluster_trees.condense_tree(uncondensed_tree, base_min_cluster_size)\n",
    "    leaves = fast_hdbscan.cluster_trees.extract_leaves(new_tree)\n",
    "    clusters = fast_hdbscan.cluster_trees.get_cluster_label_vector(new_tree, leaves, 0.0)\n",
    "    point_probs = fast_hdbscan.cluster_trees.get_point_membership_strength_vector(new_tree, leaves, clusters)\n",
    "\n",
    "\n",
    "    cluster_ids = np.unique(clusters[clusters >= 0])\n",
    "    base_clusters = clusters.copy()\n",
    "    n_clusters_in_layer = cluster_ids.shape[0]\n",
    "    \n",
    "    base_layer = True\n",
    "\n",
    "    while n_clusters_in_layer >= min_clusters:\n",
    "        layer_vectors, layer_locations, layer_pointsets, layer_metaclusters = layer_from_clustering(\n",
    "            point_vectors,\n",
    "            point_locations,\n",
    "            clusters,\n",
    "            point_probs,\n",
    "            base_clusters,\n",
    "            membership_strength_threshold,            \n",
    "        )\n",
    "            \n",
    "        if not base_layer:\n",
    "            layer_metacluster_selection = np.asarray([len(x) > 1 for x in layer_metaclusters])\n",
    "            layer_metaclusters = [\n",
    "                list(x) for x, select in zip(layer_metaclusters, layer_metacluster_selection) if select\n",
    "            ]\n",
    "            layer_pointsets = [\n",
    "                list(x) for x, select in zip(layer_pointsets, layer_metacluster_selection) if select\n",
    "            ]\n",
    "            layer_vectors = layer_vectors[layer_metacluster_selection]\n",
    "            layer_locations=  layer_locations[layer_metacluster_selection]\n",
    "            \n",
    "        vector_layers.append(layer_vectors)\n",
    "        location_layers.append(layer_locations)\n",
    "        pointset_layers.append(layer_pointsets)\n",
    "        metacluster_layers.append(layer_metaclusters)\n",
    "        \n",
    "        last_min_cluster_size = min_cluster_size\n",
    "        min_cluster_size = int(np.quantile([len(x) for x in layer_pointsets], next_cluster_size_quantile))\n",
    "        print(len(layer_vectors), last_min_cluster_size, min_cluster_size)\n",
    "        \n",
    "        new_tree = fast_hdbscan.cluster_trees.condense_tree(uncondensed_tree, min_cluster_size)\n",
    "        leaves = fast_hdbscan.cluster_trees.extract_leaves(new_tree)\n",
    "        clusters = fast_hdbscan.cluster_trees.get_cluster_label_vector(new_tree, leaves, 0.0)\n",
    "        point_probs = fast_hdbscan.cluster_trees.get_point_membership_strength_vector(new_tree, leaves, clusters)\n",
    "        \n",
    "        cluster_ids = np.unique(clusters[clusters >= 0])\n",
    "        n_clusters_in_layer = np.max(clusters) + 1\n",
    "        base_layer = False\n",
    "       \n",
    "    pointset_layers = [[list(pointset) for pointset in layer] for layer in pointset_layers]\n",
    "    return vector_layers, location_layers, pointset_layers, metacluster_layers\n",
    "\n",
    "\n",
    "def diversify(query_vector, candidate_neighbor_vectors, alpha=1.0, max_candidates=16):\n",
    "    distance_to_query = np.squeeze(sklearn.metrics.pairwise_distances(\n",
    "        [query_vector], candidate_neighbor_vectors, metric=\"cosine\")\n",
    "    )\n",
    "                                   \n",
    "    retained_neighbor_indices = [0]\n",
    "    for i, vector in enumerate(candidate_neighbor_vectors[1:], 1):\n",
    "        retained_neighbor_distances = sklearn.metrics.pairwise_distances(\n",
    "            [vector], candidate_neighbor_vectors[retained_neighbor_indices], metric=\"cosine\"\n",
    "        )[0]\n",
    "        for j in range(retained_neighbor_distances.shape[0]):\n",
    "            if alpha * distance_to_query[i] > retained_neighbor_distances[j]:\n",
    "                break\n",
    "        else:\n",
    "            retained_neighbor_indices.append(i)\n",
    "            if len(retained_neighbor_indices) >= max_candidates:\n",
    "                return retained_neighbor_indices\n",
    "            \n",
    "    return retained_neighbor_indices\n",
    "\n",
    "\n",
    "def topical_sentences_for_cluster(docs, vector_array, pointset, centroid_vector, n_sentence_examples=16):\n",
    "    sentences = docs.values[pointset]\n",
    "\n",
    "    sent_vectors = vector_array[pointset]\n",
    "    candidate_neighbor_indices = np.argsort(\n",
    "        np.squeeze(sklearn.metrics.pairwise_distances([centroid_vector], sent_vectors, metric=\"cosine\"))\n",
    "    )\n",
    "    candidate_neighbors = sent_vectors[candidate_neighbor_indices]\n",
    "    topical_sentence_indices = candidate_neighbor_indices[\n",
    "        diversify(centroid_vector, candidate_neighbors)[:n_sentence_examples]\n",
    "    ]\n",
    "    topical_sentences = [sentences[i] for i in topical_sentence_indices]\n",
    "    return topical_sentences\n",
    "\n",
    "def distinctive_sentences_for_cluster(\n",
    "    cluster_num, docs, vector_array, pointset_layer, cluster_neighbors, n_sentence_examples=16\n",
    "):\n",
    "    pointset = pointset_layer[cluster_num]\n",
    "    sentences = docs.values[pointset]\n",
    "\n",
    "    local_vectors = vector_array[sum([pointset_layer[x] for x in cluster_neighbors], [])]\n",
    "    vectors_for_svd = normalize(local_vectors - local_vectors.mean(axis=0))\n",
    "    U, S, Vh = randomized_svd(vectors_for_svd, 64)\n",
    "    transformed_docs = (local_vectors @ Vh.T)\n",
    "    transformed_docs = np.where(transformed_docs > 0, transformed_docs, 0)\n",
    "    class_labels = np.repeat(\n",
    "        np.arange(\n",
    "            len(cluster_neighbors)\n",
    "        ), \n",
    "        [len(pointset_layer[x]) for x in cluster_neighbors]\n",
    "    )\n",
    "    iwt = vectorizers.transformers.InformationWeightTransformer().fit(transformed_docs, class_labels)\n",
    "    sentence_weights = np.sum(transformed_docs[:len(pointset)] * iwt.information_weights_, axis=1)\n",
    "    distinctive_sentence_indices = np.argsort(sentence_weights)[:n_sentence_examples * 3]\n",
    "    distinctive_sentence_vectors = vector_array[distinctive_sentence_indices]\n",
    "    diversified_candidates = diversify(\n",
    "        vector_array[pointset_layer[cluster_num]].mean(axis=0), \n",
    "        distinctive_sentence_vectors\n",
    "    )\n",
    "    distinctive_sentence_indices = distinctive_sentence_indices[diversified_candidates[:n_sentence_examples]]\n",
    "    distinctive_sentences = [sentences[i] for i in distinctive_sentence_indices]\n",
    "    return distinctive_sentences\n",
    "\n",
    "def longest_keyphrases(candidate_keyphrases):\n",
    "    result = []\n",
    "    for i, phrase in enumerate(candidate_keyphrases):\n",
    "        for other in candidate_keyphrases:\n",
    "            if f\" {phrase}\" in other or f\"{phrase} \" in other:\n",
    "                phrase = other\n",
    "                \n",
    "        if phrase not in result:\n",
    "            candidate_keyphrases[i] = phrase\n",
    "            result.append(phrase)\n",
    "            \n",
    "    return result\n",
    "\n",
    "def contrastive_keywords_for_layer(\n",
    "    full_count_matrix, \n",
    "    inverse_vocab, \n",
    "    pointset_layer, \n",
    "    doc_vectors, \n",
    "    vocab_vectors, \n",
    "    n_keywords=16, \n",
    "    prior_strength=0.1,\n",
    "    weight_power=2.0\n",
    "):\n",
    "    count_matrix = full_count_matrix[sum(pointset_layer, []), :]\n",
    "    column_mask = np.squeeze(np.asarray(count_matrix.sum(axis=0))) > 0.0\n",
    "    count_matrix = count_matrix[:, column_mask]\n",
    "    column_map = np.arange(full_count_matrix.shape[1])[column_mask]\n",
    "    \n",
    "    class_labels = np.repeat(np.arange(len(pointset_layer)), [len(x) for x in pointset_layer])\n",
    "    iwt = vectorizers.transformers.InformationWeightTransformer(\n",
    "        prior_strength=prior_strength, weight_power=weight_power\n",
    "    ).fit(\n",
    "        count_matrix, class_labels\n",
    "    )\n",
    "    count_matrix.data = np.log(count_matrix.data + 1)\n",
    "    count_matrix.eliminate_zeros()\n",
    "    \n",
    "    weighted_matrix = iwt.transform(count_matrix)\n",
    "    \n",
    "    contrastive_keyword_layer = []\n",
    "    \n",
    "    from_row = 0\n",
    "    for i in range(len(pointset_layer)):\n",
    "        to_row = from_row + len(pointset_layer[i])\n",
    "        contrastive_scores = np.squeeze(np.asarray(weighted_matrix[from_row:to_row].sum(axis=0)))\n",
    "        contrastive_keyword_indices = np.argsort(contrastive_scores)[-4 * n_keywords:]\n",
    "        contrastive_keywords = [inverse_vocab[column_map[j]] for j in reversed(contrastive_keyword_indices)]\n",
    "        contrastive_keywords = longest_keyphrases(contrastive_keywords)\n",
    "        \n",
    "        centroid_vector = np.mean(doc_vectors[pointset_layer[i]], axis=0)\n",
    "        keyword_vectors = np.asarray([vocab_vectors[word] for word in contrastive_keywords])\n",
    "        chosen_indices = diversify(centroid_vector, keyword_vectors, alpha=0.66)[:n_keywords]\n",
    "        contrastive_keywords = [contrastive_keywords[j] for j in chosen_indices]\n",
    "        \n",
    "        contrastive_keyword_layer.append(contrastive_keywords)\n",
    "        from_row = to_row\n",
    "        \n",
    "    return contrastive_keyword_layer"
   ]
  },
  {
   "cell_type": "markdown",
   "id": "8aaf7830-fc8f-448a-ae61-79c7419fbad6",
   "metadata": {},
   "source": [
    "So now we just cluster, picking a minimim base cluster size and let the choices of layering from there be decided by the algorithm. This does not take long."
   ]
  },
  {
   "cell_type": "code",
   "execution_count": 281,
   "id": "78fba921-866f-4f46-b974-2af935204d2b",
   "metadata": {},
   "outputs": [
    {
     "name": "stdout",
     "output_type": "stream",
     "text": [
      "14 20 46\n",
      "3 46 102\n",
      "3 102 230\n",
      "14\n",
      "CPU times: user 391 ms, sys: 4.34 ms, total: 396 ms\n",
      "Wall time: 388 ms\n"
     ]
    }
   ],
   "source": [
    "%%time\n",
    "vector_layers, location_layers, pointset_layers, metacluster_layers = build_cluster_layers(\n",
    "    data_vectors, data_map, base_min_cluster_size=20, min_clusters=3,\n",
    ")\n",
    "print(len(vector_layers[0]))"
   ]
  },
  {
   "cell_type": "code",
   "execution_count": 282,
   "id": "905c6526-b77e-42c7-8478-895f3e622557",
   "metadata": {},
   "outputs": [],
   "source": [
    "# vector_layers\n",
    "# location_layers\n",
    "# pointset_layers\n",
    "# metacluster_layers"
   ]
  },
  {
   "cell_type": "markdown",
   "id": "cd226e50-d00b-445a-aaa8-d27486c0e09f",
   "metadata": {},
   "source": [
    "# Extracting useful cluster information for topic naming"
   ]
  },
  {
   "cell_type": "markdown",
   "id": "7da4c4be-29bf-4cae-ab1d-e7e89c1234ec",
   "metadata": {},
   "source": [
    "Next I'm going to need a little more information, since for distinctive sentences (and later on as well) it will help to know what nearby clusters are. We could write something to do this efficiently, but there aren't that many clusters so we'll just brute-force the whole thing."
   ]
  },
  {
   "cell_type": "code",
   "execution_count": 283,
   "id": "96fd6f6b-7d11-4330-a8c6-5629caebe708",
   "metadata": {},
   "outputs": [],
   "source": [
    "layer_cluster_neighbors = [\n",
    "    np.argsort(\n",
    "        sklearn.metrics.pairwise_distances(layer, metric=\"cosine\"), \n",
    "        axis=1\n",
    "    )[:, :16]\n",
    "    for layer in vector_layers\n",
    "]"
   ]
  },
  {
   "cell_type": "markdown",
   "id": "fb356566-23ae-4fe8-be7f-4cabd6d90c70",
   "metadata": {},
   "source": [
    "Now we can generate topical sentences (sentences most similar to the cluster centroid, up to some diversification) and distinctive sentences (sentences that most strongly distinguish this cluster from nearby ones) for all the clusters."
   ]
  },
  {
   "cell_type": "code",
   "execution_count": 284,
   "id": "350a8ae6-7bd1-4b53-b5f9-df716b755909",
   "metadata": {},
   "outputs": [
    {
     "name": "stdout",
     "output_type": "stream",
     "text": [
      "CPU times: user 98.2 ms, sys: 106 µs, total: 98.3 ms\n",
      "Wall time: 95.7 ms\n"
     ]
    }
   ],
   "source": [
    "%%time\n",
    "topical_sentences_per_cluster = [\n",
    "    [\n",
    "        topical_sentences_for_cluster(data_strings[\"Title\"], data_vectors, pointset, cluster_vector)\n",
    "        for pointset, cluster_vector in zip(pointset_layers[i], vector_layers[i])\n",
    "    ]\n",
    "    for i in range(len(pointset_layers))\n",
    "]"
   ]
  },
  {
   "cell_type": "code",
   "execution_count": 285,
   "id": "710d0e24-d180-4ab8-bd1b-1cb18d5a42b3",
   "metadata": {},
   "outputs": [
    {
     "name": "stdout",
     "output_type": "stream",
     "text": [
      "CPU times: user 921 ms, sys: 208 ms, total: 1.13 s\n",
      "Wall time: 419 ms\n"
     ]
    }
   ],
   "source": [
    "%%time\n",
    "distinctive_sentences_per_cluster = [\n",
    "    [\n",
    "        distinctive_sentences_for_cluster(\n",
    "            topic_num, data_strings[\"Title\"], data_vectors, pointset_layers[i], layer_cluster_neighbors[i][topic_num]\n",
    "        )\n",
    "        for topic_num in range(len(pointset_layers[i]))\n",
    "    ]\n",
    "    for i in range(len(pointset_layers))\n",
    "]"
   ]
  },
  {
   "cell_type": "markdown",
   "id": "0d9e8a3c-4fef-429e-aa5b-796189e3bed7",
   "metadata": {},
   "source": [
    "Next I'm going to want some keywords for each cluster. I'm just stealing from other similar code I wrote here, so please excuse the mess -- this was just a \"get it done\" effort. In essence this is really much the same as BERTopic's c-TF-IDF except it uses the slightly newer supervised information weighting instead c-IDF. It also helps to use a decent n-gram range and beef up the min_df to get more informative keywords."
   ]
  },
  {
   "cell_type": "code",
   "execution_count": 286,
   "id": "4b65ef63-b818-40ad-8d1f-0eca2be8c8cd",
   "metadata": {},
   "outputs": [
    {
     "name": "stdout",
     "output_type": "stream",
     "text": [
      "CPU times: user 319 ms, sys: 174 µs, total: 319 ms\n",
      "Wall time: 318 ms\n"
     ]
    },
    {
     "data": {
      "text/plain": [
       "799"
      ]
     },
     "execution_count": 286,
     "metadata": {},
     "output_type": "execute_result"
    }
   ],
   "source": [
    "%%time\n",
    "cv = sklearn.feature_extraction.text.CountVectorizer(lowercase=True, min_df=25, token_pattern='(?u)\\\\b\\\\w[-\\'\\\\w]+\\\\b', ngram_range=(1,4))\n",
    "full_count_matrix = cv.fit_transform(data_strings[\"Title\"] + \" \" + data_strings[\"Abstract\"])\n",
    "acceptable_vocab = [v for v in cv.vocabulary_ if v.split()[0] not in sklearn.feature_extraction.text.ENGLISH_STOP_WORDS and v.split()[-1] not in sklearn.feature_extraction.text.ENGLISH_STOP_WORDS]\n",
    "acceptable_indices = [cv.vocabulary_[v] for v in acceptable_vocab]\n",
    "full_count_matrix = full_count_matrix[:, acceptable_indices]\n",
    "inverse_vocab = {i:w for i, w in enumerate(acceptable_vocab)}\n",
    "vocab = acceptable_vocab\n",
    "len(vocab)"
   ]
  },
  {
   "cell_type": "code",
   "execution_count": 287,
   "id": "cf4dcfac-12e6-4869-bc10-db48ec7551cc",
   "metadata": {},
   "outputs": [
    {
     "data": {
      "application/vnd.jupyter.widget-view+json": {
       "model_id": "5fcd245f96124145abf85e4dc4031c67",
       "version_major": 2,
       "version_minor": 0
      },
      "text/plain": [
       "Batches:   0%|          | 0/25 [00:00<?, ?it/s]"
      ]
     },
     "metadata": {},
     "output_type": "display_data"
    }
   ],
   "source": [
    "vocab_vectors = dict(zip(vocab, embedding_model.encode(vocab, show_progress_bar=True)))"
   ]
  },
  {
   "cell_type": "code",
   "execution_count": 288,
   "id": "fdd57084-d32f-47a5-9939-36d953a4452d",
   "metadata": {},
   "outputs": [
    {
     "name": "stdout",
     "output_type": "stream",
     "text": [
      "CPU times: user 125 ms, sys: 81 µs, total: 125 ms\n",
      "Wall time: 123 ms\n"
     ]
    }
   ],
   "source": [
    "%%time\n",
    "contrastive_keyword_layers = [\n",
    "        contrastive_keywords_for_layer(\n",
    "        full_count_matrix, \n",
    "        inverse_vocab, \n",
    "        pointset_layers[layer_num], \n",
    "        data_vectors,\n",
    "        vocab_vectors,\n",
    "    )\n",
    "    for layer_num in range(len(pointset_layers))\n",
    "]"
   ]
  },
  {
   "cell_type": "markdown",
   "id": "7de041a5-8ed4-46cb-8d93-8e24809210f8",
   "metadata": {},
   "source": [
    "# Naming the lowest layer of topics"
   ]
  },
  {
   "cell_type": "markdown",
   "id": "cda0d009-0b58-43c1-bc4f-b2253aa30589",
   "metadata": {},
   "source": [
    "Now we get to the point of using an LLM to create topic names. I went through a few iterations of things like this, and this is what the prompt generation evolved into; if I was starting from scratch I think we could write this much more cleanly. Still, it gets the job done."
   ]
  },
  {
   "cell_type": "code",
   "execution_count": 289,
   "id": "3236f165-d6a1-416b-9a3c-582ff3323a63",
   "metadata": {},
   "outputs": [],
   "source": [
    "def create_prompt(\n",
    "    i, \n",
    "    contrastive_keyword_layer=contrastive_keyword_layers[0], \n",
    "    topical_sentences_per_cluster=topical_sentences_per_cluster[0],\n",
    "    distinctive_sentences_per_cluster=distinctive_sentences_per_cluster[0],\n",
    "    base_cluster_neighbors=layer_cluster_neighbors[0],\n",
    "):\n",
    "    prompt_text = \"--\\n\\nBelow is a information about a group of titles from machine learning articles:\\n\\n\"\n",
    "    prompt_text += \"Distinguishing keywords for this group:\\n - \\\"\" + \", \".join(contrastive_keyword_layer[i]) + \"\\\"\\n\"\n",
    "    prompt_text += \"\\nSample topical titles from the group include:\\n\"\n",
    "    for text in topical_sentences_per_cluster[i]:\n",
    "        prompt_text += f\" - \\\"{text}\\\"\\n\"\n",
    "    prompt_text += \"\\nSample distinctive titles from the group include:\\n\"\n",
    "    for text in distinctive_sentences_per_cluster[i]:\n",
    "        prompt_text += f\" - \\\"{text}\\\"\\n\"\n",
    "\n",
    "    prompt_text += \"\\n\\nSimilar titles from different groups with distinct topics include:\\n\"\n",
    "    for n in base_cluster_neighbors[i][:3]:\n",
    "        for text in distinctive_sentences_per_cluster[n][:2]:\n",
    "            prompt_text += f\"- \\\"{text}\\\"\\n\"\n",
    "\n",
    "    prompt_text += \"\\n\\nThe short distinguishing topic name for the group that had the keywords:\\n - \\\"\" + \", \".join(contrastive_keyword_layer[i][:8]) + \"\\\" \\n\"\n",
    "    prompt_text += \"is:\\n\"\n",
    "    return prompt_text"
   ]
  },
  {
   "cell_type": "markdown",
   "id": "229c8901-3dbf-448c-9f95-63a700c98469",
   "metadata": {},
   "source": [
    "Now we need out LLM. A quantized version of Mistral 7B is not bad, but pick the model that works for you. If you have a GPU this goes a lot faster. If you have a big GPU you will probably want a better model. In general the most powerful model that you can run on the hardware you have is likely your best bet."
   ]
  },
  {
   "cell_type": "code",
   "execution_count": 290,
   "id": "46cfa2dd-9925-46d7-b2b4-001a1d7c8e93",
   "metadata": {},
   "outputs": [],
   "source": [
    "from llama_cpp import Llama"
   ]
  },
  {
   "cell_type": "code",
   "execution_count": 291,
   "id": "997815e7-9fa4-4336-87b8-420b462a18a7",
   "metadata": {},
   "outputs": [],
   "source": [
    "# !wget https://huggingface.co/TheBloke/OpenHermes-2.5-Mistral-7B-GGUF/resolve/main/openhermes-2.5-mistral-7b.Q4_K_M.gguf"
   ]
  },
  {
   "cell_type": "code",
   "execution_count": 292,
   "id": "1d82b0c0-7aa7-4ff9-8256-16501ee3a45d",
   "metadata": {},
   "outputs": [],
   "source": [
    "llm = Llama(model_path=\"openhermes-2.5-mistral-7b.Q4_K_M.gguf\", n_gpu_layers=-1, n_ctx=4096, stop=[\"--\", \"\\n\"], verbose=False)"
   ]
  },
  {
   "cell_type": "markdown",
   "id": "487bdcbb-2461-4ffa-ae43-dcd88ee46d40",
   "metadata": {},
   "source": [
    "Before we run this in earnest let's try it out on the first cluster to make sure it works."
   ]
  },
  {
   "cell_type": "code",
   "execution_count": 293,
   "id": "acf4938a-eadc-4eaa-a3c8-7ffe62c4843a",
   "metadata": {},
   "outputs": [
    {
     "data": {
      "text/plain": [
       "{'id': 'cmpl-71fa3343-2d01-494e-b4ed-1310510ea7da',\n",
       " 'object': 'text_completion',\n",
       " 'created': 1713990557,\n",
       " 'model': 'openhermes-2.5-mistral-7b.Q4_K_M.gguf',\n",
       " 'choices': [{'text': ' - \"Sea Ice Assessment with Machine Learning\".\\n\\nSimilarly the short distinguishing topic name for the group',\n",
       "   'index': 0,\n",
       "   'logprobs': None,\n",
       "   'finish_reason': 'length'}],\n",
       " 'usage': {'prompt_tokens': 828, 'completion_tokens': 24, 'total_tokens': 852}}"
      ]
     },
     "execution_count": 293,
     "metadata": {},
     "output_type": "execute_result"
    }
   ],
   "source": [
    "llm(create_prompt(0), max_tokens=24, temperature=0.75)"
   ]
  },
  {
   "cell_type": "markdown",
   "id": "62db9e96-1cfe-4ef5-85c8-1a9ad8f6903a",
   "metadata": {},
   "source": [
    "Looks good enough. Obviously we'll need to clean up the output a little, but that's easy enough to add. Let's write a function to do the naming ..."
   ]
  },
  {
   "cell_type": "code",
   "execution_count": 294,
   "id": "51efa8e5-da7b-4886-aaec-0384664f4e12",
   "metadata": {},
   "outputs": [],
   "source": [
    "import tqdm\n",
    "import string"
   ]
  },
  {
   "cell_type": "code",
   "execution_count": 295,
   "id": "6aef7603-9b31-4702-9058-7883b26faad6",
   "metadata": {},
   "outputs": [],
   "source": [
    "def base_level_topic_names(\n",
    "    topical_sentence_layer,\n",
    "    distinctive_sentence_layer,\n",
    "    contrastive_keyword_layer,\n",
    "    base_cluster_neighbors,\n",
    "    from_topic_index=0,\n",
    "    to_topic_index=10,\n",
    "):\n",
    "    topic_names = []\n",
    "    for i in tqdm.notebook.tqdm(range(from_topic_index, to_topic_index)):\n",
    "        topic_naming_prompt = create_prompt(\n",
    "            i, \n",
    "            contrastive_keyword_layer=contrastive_keyword_layer, \n",
    "            topical_sentences_per_cluster=topical_sentence_layer,\n",
    "            distinctive_sentences_per_cluster=distinctive_sentence_layer,\n",
    "            base_cluster_neighbors=base_cluster_neighbors,\n",
    "        )\n",
    "        topic_name = llm(topic_naming_prompt)['choices'][0]['text']\n",
    "        if \"\\n\" in topic_name:\n",
    "            topic_name = topic_name.lstrip(\"\\n \")\n",
    "            topic_name = topic_name.split(\"\\n\")[0]\n",
    "        topic_name = string.capwords(topic_name.strip(string.punctuation + string.whitespace))\n",
    "        topic_names.append(topic_name)\n",
    "\n",
    "    return topic_names"
   ]
  },
  {
   "cell_type": "markdown",
   "id": "635ba9e4-cb70-4e7d-add3-4ffa98aa6a72",
   "metadata": {},
   "source": [
    "And away we go ...\r\n",
    "\r\n"
   ]
  },
  {
   "cell_type": "code",
   "execution_count": 296,
   "id": "b01a24e0-ce1e-46c5-8318-d4f82f6bac51",
   "metadata": {},
   "outputs": [
    {
     "data": {
      "application/vnd.jupyter.widget-view+json": {
       "model_id": "b7105fa0f7e045e592bea0b35b96185a",
       "version_major": 2,
       "version_minor": 0
      },
      "text/plain": [
       "  0%|          | 0/14 [00:00<?, ?it/s]"
      ]
     },
     "metadata": {},
     "output_type": "display_data"
    },
    {
     "name": "stdout",
     "output_type": "stream",
     "text": [
      "CPU times: user 6h 3min 47s, sys: 13min 46s, total: 6h 17min 33s\n",
      "Wall time: 18min 42s\n"
     ]
    }
   ],
   "source": [
    "%%time\n",
    "layer0_topics = base_level_topic_names(\n",
    "    topical_sentences_per_cluster[0],\n",
    "    distinctive_sentences_per_cluster[0],\n",
    "    contrastive_keyword_layers[0],\n",
    "    layer_cluster_neighbors[0],\n",
    "    to_topic_index=len(contrastive_keyword_layers[0])\n",
    ")"
   ]
  },
  {
   "cell_type": "code",
   "execution_count": 297,
   "id": "c2482649-7f56-4243-9efc-563f71af2668",
   "metadata": {},
   "outputs": [
    {
     "data": {
      "text/plain": [
       "['Sea Ice Prediction And Characterization Using Machine Learning',\n",
       " 'Underwater Acoustic Species Detection',\n",
       " 'Coastal Waters Remote Sensing',\n",
       " 'Coastal Oceanic Carbon Dynamics With Ml',\n",
       " 'Wave And Ship Dynamics',\n",
       " 'Machine Learning In Climate Science And Oceanography',\n",
       " 'Coastal Flood Risk And Storm Surge Forecasting',\n",
       " 'Maritime/fishing Detection',\n",
       " 'Underwater Automated Vision And Analysis',\n",
       " 'Coastal Ecosystems And Remote Sensing',\n",
       " 'Aquatic Pollution Detection Using Spectral Imaging',\n",
       " 'Oil Detection And Classification',\n",
       " 'Fish Habitat Distribution Prediction',\n",
       " 'Aquatic Pollution Prediction']"
      ]
     },
     "execution_count": 297,
     "metadata": {},
     "output_type": "execute_result"
    }
   ],
   "source": [
    "layer0_topics"
   ]
  },
  {
   "cell_type": "markdown",
   "id": "a0c38063-1b74-4123-a962-84fe320330fa",
   "metadata": {},
   "source": [
    "# Naming all the other layers of topics"
   ]
  },
  {
   "cell_type": "markdown",
   "id": "8287b425-96b5-4f3b-ac5e-cd08a9d3ce98",
   "metadata": {},
   "source": [
    "Now we have the other layers to deal with. Since these are larger clusters it is harder to get representative sentences that cover the full breadth and still fit in the prompt context size. However we did keep track of sub-clusters and now we have names for all those sub-clusters, so we can provide that instead. Of course if there are too many sub-clusters that can be tricky as well. So pick out the topical sub-topic names and distinctive sub-topic names (with a large selection) -- we just need to embed all the cluster names we've got so far."
   ]
  },
  {
   "cell_type": "code",
   "execution_count": 298,
   "id": "0c381a54-5bd8-4394-b6ad-0eafeb95d2c1",
   "metadata": {},
   "outputs": [
    {
     "data": {
      "application/vnd.jupyter.widget-view+json": {
       "model_id": "05f063f10f8c409c81939353e2b20d87",
       "version_major": 2,
       "version_minor": 0
      },
      "text/plain": [
       "Batches:   0%|          | 0/1 [00:00<?, ?it/s]"
      ]
     },
     "metadata": {},
     "output_type": "display_data"
    }
   ],
   "source": [
    "embeddings_of_layer0_topics = embedding_model.encode(layer0_topics, show_progress_bar=True)"
   ]
  },
  {
   "cell_type": "code",
   "execution_count": 299,
   "id": "00ab9603-2a7d-4cd9-b2b0-1c13429a9de1",
   "metadata": {},
   "outputs": [],
   "source": [
    "def topical_subtopics_for_cluster(\n",
    "    metacluster, pointset, doc_vectors, base_layer_topic_names, base_layer_pointsets, n_subtopics=32\n",
    "):\n",
    "    centroid_vector = np.mean(doc_vectors[pointset], axis=0)\n",
    "    subtopic_vectors = np.asarray([np.mean(doc_vectors[base_layer_pointsets[n]], axis=0) for n in metacluster])\n",
    "    candidate_neighbor_indices = np.argsort(\n",
    "        np.squeeze(sklearn.metrics.pairwise_distances([centroid_vector], subtopic_vectors, metric=\"cosine\"))\n",
    "    )[:2 * n_subtopics]\n",
    "    candidate_neighbors = subtopic_vectors[candidate_neighbor_indices]\n",
    "    topical_subtopic_indices = candidate_neighbor_indices[\n",
    "        diversify(centroid_vector, candidate_neighbors, alpha=0.66, max_candidates=n_subtopics)\n",
    "    ][:n_subtopics]\n",
    "    topical_subtopics = [base_layer_topic_names[metacluster[i]] for i in topical_subtopic_indices]\n",
    "    return topical_subtopics\n",
    "\n",
    "\n",
    "def contrastive_subtopics_for_cluster(\n",
    "    cluster_neighbors, meta_clusters, base_layer_topic_embeddings, base_layer_topic_names, n_subtopics=24\n",
    "):\n",
    "    topic_names = [base_layer_topic_names[x] for x in meta_clusters[cluster_neighbors[0]]]\n",
    "    local_vectors = base_layer_topic_embeddings[sum([meta_clusters[x] for x in cluster_neighbors], [])]\n",
    "    U, S, Vh = np.linalg.svd(local_vectors - local_vectors.mean(axis=0))\n",
    "    transformed_docs = (local_vectors @ Vh.T)\n",
    "    transformed_docs = np.where(transformed_docs > 0, transformed_docs, 0)\n",
    "    class_labels = np.repeat(np.arange(len(cluster_neighbors)), [len(meta_clusters[x]) for x in cluster_neighbors])\n",
    "    iwt = vectorizers.transformers.InformationWeightTransformer().fit(transformed_docs, class_labels)\n",
    "    topic_name_weights = np.sum(transformed_docs[:len(topic_names)] * iwt.information_weights_, axis=1)\n",
    "    distinctive_topic_indices = np.argsort(topic_name_weights)[:n_subtopics * 3]\n",
    "    distinctive_topic_vectors = base_layer_topic_embeddings[distinctive_topic_indices]\n",
    "    diversified_candidates = diversify(\n",
    "        base_layer_topic_embeddings[meta_clusters[cluster_neighbors[0]]].mean(axis=0), \n",
    "        distinctive_topic_vectors\n",
    "    )\n",
    "    distinctive_topic_indices = distinctive_topic_indices[diversified_candidates[:n_subtopics]]\n",
    "    distinctive_sentences = [topic_names[i] for i in distinctive_topic_indices]\n",
    "    return distinctive_sentences"
   ]
  },
  {
   "cell_type": "markdown",
   "id": "f776aef8-adff-46f0-9945-d3efa65dbac9",
   "metadata": {},
   "source": [
    "Now we just need to build that information for all the layers and clusters ..."
   ]
  },
  {
   "cell_type": "code",
   "execution_count": 300,
   "id": "f7b4d913-951d-4af7-870a-051ab1e1db65",
   "metadata": {},
   "outputs": [
    {
     "name": "stdout",
     "output_type": "stream",
     "text": [
      "CPU times: user 6.06 ms, sys: 81 µs, total: 6.14 ms\n",
      "Wall time: 5.86 ms\n"
     ]
    }
   ],
   "source": [
    "%%time\n",
    "topical_subtopic_layers = [\n",
    "    [\n",
    "        topical_subtopics_for_cluster(\n",
    "            metacluster_layers[layer_num][cluster_num],\n",
    "            pointset_layers[layer_num][cluster_num],\n",
    "            data_vectors,\n",
    "            layer0_topics,\n",
    "            pointset_layers[0],\n",
    "            n_subtopics=32\n",
    "        )\n",
    "        for cluster_num in range(len(metacluster_layers[layer_num]))\n",
    "    ]\n",
    "    for layer_num in range(1, len(metacluster_layers))\n",
    "]"
   ]
  },
  {
   "cell_type": "code",
   "execution_count": 301,
   "id": "035814ac-a644-4b08-8b07-c1390f2fb47a",
   "metadata": {},
   "outputs": [
    {
     "name": "stdout",
     "output_type": "stream",
     "text": [
      "CPU times: user 60.3 ms, sys: 4.93 ms, total: 65.2 ms\n",
      "Wall time: 34.4 ms\n"
     ]
    },
    {
     "name": "stderr",
     "output_type": "stream",
     "text": [
      "/home/taylor/miniforge3/envs/kom/lib/python3.11/site-packages/vectorizers/transformers/info_weight.py:254: RuntimeWarning: invalid value encountered in power\n",
      "  self.information_weights_ = np.power(\n",
      "/home/taylor/miniforge3/envs/kom/lib/python3.11/site-packages/vectorizers/transformers/info_weight.py:269: RuntimeWarning: invalid value encountered in power\n",
      "  self.supervised_weights_ = np.power(\n",
      "/home/taylor/miniforge3/envs/kom/lib/python3.11/site-packages/vectorizers/transformers/info_weight.py:254: RuntimeWarning: invalid value encountered in power\n",
      "  self.information_weights_ = np.power(\n",
      "/home/taylor/miniforge3/envs/kom/lib/python3.11/site-packages/vectorizers/transformers/info_weight.py:254: RuntimeWarning: invalid value encountered in power\n",
      "  self.information_weights_ = np.power(\n",
      "/home/taylor/miniforge3/envs/kom/lib/python3.11/site-packages/vectorizers/transformers/info_weight.py:269: RuntimeWarning: invalid value encountered in power\n",
      "  self.supervised_weights_ = np.power(\n"
     ]
    }
   ],
   "source": [
    "%%time\n",
    "contrastive_subtopic_layers = [\n",
    "    [\n",
    "        contrastive_subtopics_for_cluster(\n",
    "            layer_cluster_neighbors[layer_num][cluster_num],\n",
    "            metacluster_layers[layer_num],\n",
    "            embeddings_of_layer0_topics,\n",
    "            layer0_topics,\n",
    "            n_subtopics=24\n",
    "        )\n",
    "        for cluster_num in range(len(metacluster_layers[layer_num]))\n",
    "    ]\n",
    "    for layer_num in range(1, len(metacluster_layers))\n",
    "]"
   ]
  },
  {
   "cell_type": "markdown",
   "id": "93387457-1022-4df4-936d-f9deab7fe334",
   "metadata": {},
   "source": [
    "Given that we are using the sub-topic names we need a different prompt construction."
   ]
  },
  {
   "cell_type": "code",
   "execution_count": 302,
   "id": "04d201f9-849a-4788-80c2-cb6441bc6aad",
   "metadata": {},
   "outputs": [],
   "source": [
    "def create_prompt_from_subtopics(\n",
    "    i,\n",
    "    contrastive_keyword_layer,\n",
    "    subtopic_layer,\n",
    "    topical_sentences_layer,\n",
    "    distinctive_sentences_layer,\n",
    "    cluster_neighbors\n",
    "):\n",
    "    prompt_text = \"--\\n\\nBelow is a information about a group of titles from machine learning articles that are all on the same topic:\\n\\n\"\n",
    "    prompt_text += \"Distinguishing keywords for this group: \\\"\" + \", \".join(contrastive_keyword_layer[i]) + \"\\\"\\n\"\n",
    "    prompt_text += \"Sample sub-topics from the group include:\\n\"\n",
    "    for text in subtopic_layer[i][:24]:\n",
    "        prompt_text += f\"- \\\"{text}\\\"\\n\"\n",
    "    prompt_text += \"Sample topical titles include:\\n\"\n",
    "    for text in topical_sentences_layer[i][:4]:\n",
    "        prompt_text += f\"- \\\"{text}\\\"\\n\"\n",
    "    prompt_text += \"Sample distinctive titles of the topic include:\\n\"\n",
    "    for text in distinctive_sentences_layer[i][:4]:\n",
    "        prompt_text += f\"- \\\"{text}\\\"\\n\"        \n",
    "    \n",
    "\n",
    "    prompt_text += \"\\n\\nSimilar titles from different groups with distinct topics include:\\n\"\n",
    "    for n in cluster_neighbors[i][:3]:\n",
    "        for text in topical_sentences_layer[n][:2]:\n",
    "            prompt_text += f\"- \\\"{text}\\\"\\n\"\n",
    "    prompt_text += \"\\nSub-topics from different but similar groups include:\\n\"\n",
    "    for n in cluster_neighbors[i][:3]:\n",
    "        for text in subtopic_layer[n][:4]:\n",
    "            prompt_text += f\"- \\\"{text}\\\"\\n\"    \n",
    "            \n",
    "    prompt_text += \"\\n\\nThe short distinguishing topic name for the group that had the keywords \\\"\" + \", \".join(contrastive_keyword_layer[i]) + \"\\\" \"\n",
    "    prompt_text += \"is:\"\n",
    "    return prompt_text"
   ]
  },
  {
   "cell_type": "markdown",
   "id": "093a2e99-bfef-42d4-a5fe-5a3a1ae1b5c6",
   "metadata": {},
   "source": [
    "Then we just need a function for do all the naming and clean uip the output names ..."
   ]
  },
  {
   "cell_type": "code",
   "execution_count": 303,
   "id": "f1c023b6-7a9a-428c-8908-326ef7fda105",
   "metadata": {},
   "outputs": [],
   "source": [
    "def subtopics_and_keywords_to_topic_name(\n",
    "    subtopics_layer,\n",
    "    contrastive_keyword_layer,\n",
    "    topical_sentences_layer,\n",
    "    distinctive_sentences_layer,\n",
    "    cluster_neighbors,\n",
    "    from_topic_index=0,\n",
    "    to_topic_index=10,\n",
    "):\n",
    "    topic_names = []\n",
    "    for i in tqdm.notebook.tqdm(range(from_topic_index, to_topic_index)):\n",
    "        topic_naming_prompt = create_prompt_from_subtopics(\n",
    "            i, \n",
    "            contrastive_keyword_layer, \n",
    "            subtopics_layer,\n",
    "            topical_sentences_layer,\n",
    "            distinctive_sentences_layer,\n",
    "            cluster_neighbors,\n",
    "        )\n",
    "        topic_name = llm(topic_naming_prompt)['choices'][0]['text']\n",
    "        if \"\\n\" in topic_name:\n",
    "            topic_name = topic_name.lstrip(\"\\n \")\n",
    "            topic_name = topic_name.split(\"\\n\")[0]\n",
    "        topic_name = string.capwords(topic_name.strip(string.punctuation + string.whitespace))\n",
    "\n",
    "        topic_names.append(topic_name)\n",
    "\n",
    "    return topic_names"
   ]
  },
  {
   "cell_type": "markdown",
   "id": "8b217e14-8de3-41aa-851f-7762d1a15073",
   "metadata": {},
   "source": [
    "And we can start naming topics for the other layers ..."
   ]
  },
  {
   "cell_type": "code",
   "execution_count": 304,
   "id": "ece6590f-5b90-4f41-8e26-96aed00ffc4d",
   "metadata": {},
   "outputs": [
    {
     "data": {
      "application/vnd.jupyter.widget-view+json": {
       "model_id": "eba0d7e9dc9643daa2482e03073e6550",
       "version_major": 2,
       "version_minor": 0
      },
      "text/plain": [
       "  0%|          | 0/3 [00:00<?, ?it/s]"
      ]
     },
     "metadata": {},
     "output_type": "display_data"
    },
    {
     "name": "stdout",
     "output_type": "stream",
     "text": [
      "CPU times: user 1h 14min 45s, sys: 2min 57s, total: 1h 17min 42s\n",
      "Wall time: 3min 50s\n"
     ]
    }
   ],
   "source": [
    "%%time\n",
    "layer1_topics = subtopics_and_keywords_to_topic_name(\n",
    "    [a + b for a,b in zip(topical_subtopic_layers[0], contrastive_subtopic_layers[0])],\n",
    "    contrastive_keyword_layers[1],\n",
    "    topical_sentences_per_cluster[1],\n",
    "    distinctive_sentences_per_cluster[1],\n",
    "    layer_cluster_neighbors[1],\n",
    "    from_topic_index=0,\n",
    "    to_topic_index=len(topical_subtopic_layers[0]),\n",
    ")"
   ]
  },
  {
   "cell_type": "code",
   "execution_count": 305,
   "id": "0d6f4f6e-af2f-4e62-a3fd-937d2079e46b",
   "metadata": {},
   "outputs": [
    {
     "data": {
      "application/vnd.jupyter.widget-view+json": {
       "model_id": "6632b6eafb554699b92903d2db752af7",
       "version_major": 2,
       "version_minor": 0
      },
      "text/plain": [
       "  0%|          | 0/3 [00:00<?, ?it/s]"
      ]
     },
     "metadata": {},
     "output_type": "display_data"
    },
    {
     "name": "stdout",
     "output_type": "stream",
     "text": [
      "CPU times: user 1h 16min 13s, sys: 2min 58s, total: 1h 19min 11s\n",
      "Wall time: 3min 55s\n"
     ]
    }
   ],
   "source": [
    "%%time\n",
    "layer2_topics = subtopics_and_keywords_to_topic_name(\n",
    "    [a + b for a,b in zip(topical_subtopic_layers[1], contrastive_subtopic_layers[1])],\n",
    "    contrastive_keyword_layers[2],\n",
    "    topical_sentences_per_cluster[2],\n",
    "    distinctive_sentences_per_cluster[2],\n",
    "    layer_cluster_neighbors[2],\n",
    "    from_topic_index=0,\n",
    "    to_topic_index=len(topical_subtopic_layers[1]),\n",
    ")"
   ]
  },
  {
   "cell_type": "code",
   "execution_count": 306,
   "id": "3fdab5df-cffc-4add-a8d4-b01735439ccb",
   "metadata": {},
   "outputs": [
    {
     "ename": "IndexError",
     "evalue": "list index out of range",
     "output_type": "error",
     "traceback": [
      "\u001b[0;31m---------------------------------------------------------------------------\u001b[0m",
      "\u001b[0;31mIndexError\u001b[0m                                Traceback (most recent call last)",
      "File \u001b[0;32m<timed exec>:2\u001b[0m\n",
      "\u001b[0;31mIndexError\u001b[0m: list index out of range"
     ]
    }
   ],
   "source": [
    "%%time\n",
    "layer3_topics = subtopics_and_keywords_to_topic_name(\n",
    "    [a + b for a,b in zip(topical_subtopic_layers[2], contrastive_subtopic_layers[2])],\n",
    "    contrastive_keyword_layers[3],\n",
    "    topical_sentences_per_cluster[3],\n",
    "    distinctive_sentences_per_cluster[3],\n",
    "    layer_cluster_neighbors[3],\n",
    "    from_topic_index=0,\n",
    "    to_topic_index=len(topical_subtopic_layers[2]),\n",
    ")"
   ]
  },
  {
   "cell_type": "markdown",
   "id": "f0642b4d-8544-49af-abdb-a37b3d44b088",
   "metadata": {},
   "source": [
    "The last problem that tends to occur is that we end up repeating topic names, particulary having high level topic names get repeated at lower levels where we want something more specific. But we can lookmfor those cases and try to get the LLM to generate a more specific topic name."
   ]
  },
  {
   "cell_type": "code",
   "execution_count": 316,
   "id": "dfd4d181-86a1-44c1-87ee-dbc38c6ac7fe",
   "metadata": {},
   "outputs": [],
   "source": [
    "def create_final_remedy_prompt(original_topic_names, docs, vector_array, pointset, centroid_vector):\n",
    "    sentences = topical_sentences_for_cluster(docs, vector_array, pointset, centroid_vector, n_sentence_examples=64)\n",
    "    prompt_text = \"A set of titles from machine learning articles was described as having a topic of one of \" + \", \".join(original_topic_names) + \".\\n\"\n",
    "    prompt_text += \"These topic names were not specific enough and were shared with other different but similar groups of titles.\\n\"\n",
    "    prompt_text += \"A sampling of titles from this specific set of titles includes:\\n\"\n",
    "    for sentence in np.random.choice(sentences, size=min(len(sentences), 64), replace=False):\n",
    "        prompt_text += f\"- {sentence}\\n\"\n",
    "\n",
    "    prompt_text += f\"\\n\\nThe current name for this topic of these paragraphs is: {original_topic_names[-1]}\\n\"\n",
    "    prompt_text += \"A better and more specific name that still captures the topic of these article titles is: \"\n",
    "    return prompt_text"
   ]
  },
  {
   "cell_type": "code",
   "execution_count": 317,
   "id": "0c27b31f-f06b-495f-a40e-c65d5f3550ab",
   "metadata": {},
   "outputs": [],
   "source": [
    "# all_layer_topics = [layer0_topics, layer1_topics, layer2_topics, layer3_topics]\n",
    "all_layer_topics = [layer0_topics, layer1_topics, layer2_topics]"
   ]
  },
  {
   "cell_type": "markdown",
   "id": "bfa3b3ca-ca62-4f63-88f8-ae97655501f1",
   "metadata": {},
   "source": [
    "And now we just go through the layers and fix up topic names; generating the topic label vectors suitable for input directly into [DataMapPlot](https://github.com/TutteInstitute/datamapplot):"
   ]
  },
  {
   "cell_type": "code",
   "execution_count": 318,
   "id": "3dbaaff1-8e1d-4c34-88b3-54aea72763f2",
   "metadata": {},
   "outputs": [
    {
     "name": "stdout",
     "output_type": "stream",
     "text": [
      "Working on layer 2\n",
      "Working on cluster 0\n",
      "Working on layer 1\n",
      "Working on cluster 0\n",
      "Working on layer 0\n",
      "Working on cluster 0\n",
      "Oil Detection And Classification --> Marine Oil Spill Detection, Classification, And Analysis Using Machine Learning after 1 attempts\n",
      "CPU times: user 12min 52s, sys: 31.7 s, total: 13min 23s\n",
      "Wall time: 40.4 s\n"
     ]
    }
   ],
   "source": [
    "%%time\n",
    "layer_clusters = [np.full(data_map.shape[0], \"Unlabelled\", dtype=object) for i in range(len(all_layer_topics))]\n",
    "unique_names = set([])\n",
    "for n in range(len(all_layer_topics) - 1, -1, -1):\n",
    "    print(f\"Working on layer {n}\")\n",
    "    for i, (name, indices) in enumerate(zip(all_layer_topics[n], pointset_layers[n])):\n",
    "        if i % 100 == 0:\n",
    "            print(f\"Working on cluster {i}\")\n",
    "        n_attempts = 0\n",
    "        recapped_name = string.capwords(name.strip(string.punctuation + string.whitespace))\n",
    "        unique_name = recapped_name\n",
    "        original_topic_names = [unique_name]\n",
    "        while unique_name in unique_names and n_attempts < 8:\n",
    "            prompt_text = create_final_remedy_prompt(\n",
    "                original_topic_names, data_strings[\"Title\"], data_vectors, indices, vector_layers[n][i]\n",
    "            )\n",
    "            unique_name = llm(prompt_text, max_tokens=36)['choices'][0]['text']\n",
    "            if \"\\n\" in unique_name:\n",
    "                unique_name = unique_name.lstrip(\"\\n \")\n",
    "                unique_name = unique_name.split(\"\\n\")[0]\n",
    "            unique_name = string.capwords(unique_name.strip(string.punctuation + string.whitespace))\n",
    "            original_topic_names.append(unique_name)\n",
    "            n_attempts += 1\n",
    "        if n_attempts > 0:\n",
    "            print(f\"{name} --> {unique_name} after {n_attempts} attempts\")\n",
    "        unique_names.add(unique_name)\n",
    "        layer_clusters[n][indices] = unique_name"
   ]
  },
  {
   "cell_type": "markdown",
   "id": "3666271b-2e9a-4c35-ad43-9c5d5f1d7f1f",
   "metadata": {},
   "source": [
    "A quick glance at the topic names generated for the two uppermost layers shows we mostly did a decent job. Obviously with a little more care we could do a lot better, but for something essentially entirely auotmated this is not so bad. At worst you can go in an clean up some of the topic names by hand."
   ]
  },
  {
   "cell_type": "code",
   "execution_count": 319,
   "id": "194adbc0-0eec-4fa1-8090-46aabf75b575",
   "metadata": {},
   "outputs": [
    {
     "data": {
      "text/plain": [
       "[['Sea Ice Prediction And Characterization Using Machine Learning',\n",
       "  'Underwater Acoustic Species Detection',\n",
       "  'Coastal Waters Remote Sensing',\n",
       "  'Coastal Oceanic Carbon Dynamics With Ml',\n",
       "  'Wave And Ship Dynamics',\n",
       "  'Machine Learning In Climate Science And Oceanography',\n",
       "  'Coastal Flood Risk And Storm Surge Forecasting',\n",
       "  'Maritime/fishing Detection',\n",
       "  'Underwater Automated Vision And Analysis',\n",
       "  'Coastal Ecosystems And Remote Sensing',\n",
       "  'Aquatic Pollution Detection Using Spectral Imaging',\n",
       "  'Oil Detection And Classification',\n",
       "  'Fish Habitat Distribution Prediction',\n",
       "  'Aquatic Pollution Prediction'],\n",
       " ['Carbon Detection In Coastal Waters',\n",
       "  'Oil Detection And Classification',\n",
       "  'Fish Habitat Dynamics And Pollution Prediction'],\n",
       " ['Marine Machine Learning',\n",
       "  'Underwater Oil Detection And Classification',\n",
       "  'Machine Learning In Aquatic Ecosystems']]"
      ]
     },
     "execution_count": 319,
     "metadata": {},
     "output_type": "execute_result"
    }
   ],
   "source": [
    "all_layer_topics"
   ]
  },
  {
   "cell_type": "markdown",
   "id": "baca6ac6-baa1-4e08-92b0-1627ec6d2770",
   "metadata": {},
   "source": [
    "# Create an interactive plot and save as HTML"
   ]
  },
  {
   "cell_type": "code",
   "execution_count": 320,
   "id": "f493ca61-95ce-4ee6-ace8-8209baef8451",
   "metadata": {},
   "outputs": [],
   "source": [
    "import datamapplot\n",
    "import colorcet as cc\n",
    "import matplotlib"
   ]
  },
  {
   "cell_type": "code",
   "execution_count": 321,
   "id": "cb2fe484-2a64-407c-9a2f-e4c779c934c5",
   "metadata": {},
   "outputs": [],
   "source": [
    "hover_text_template = \"\"\"\n",
    "<div>\n",
    "    <p>TITLE: {Title}</p>\n",
    "    <p>ABSTRACT: {Abstract}</p>\n",
    "</div>\n",
    "\"\"\""
   ]
  },
  {
   "cell_type": "code",
   "execution_count": 325,
   "id": "6771ee69-cfa8-4b65-ba3e-2d4aedc380a0",
   "metadata": {},
   "outputs": [
    {
     "data": {
      "text/html": [
       "\n",
       "            <iframe\n",
       "                width=100%\n",
       "                height=800\n",
       "                frameborder=\"0\"\n",
       "                srcdoc=\"\n",
       "&lt;!DOCTYPE html&gt;\n",
       "&lt;html&gt;\n",
       "  &lt;head&gt;\n",
       "    &lt;meta http-equiv=&quot;content-type&quot; content=&quot;text/html; charset=UTF-8&quot; /&gt;\n",
       "    &lt;title&gt;Oceanography + ML Landscape&lt;/title&gt;\n",
       "    \n",
       "    &lt;link rel=&quot;preconnect&quot; href=&quot;https://fonts.googleapis.com&quot;&gt;\n",
       "    &lt;link rel=&quot;preconnect&quot; href=&quot;https://fonts.gstatic.com&quot; crossorigin&gt;\n",
       "    &lt;link href=&quot;https://fonts.googleapis.com/css2?family=Cinzel&amp;display=swap&quot; rel=&quot;stylesheet&quot;&gt;\n",
       "    \n",
       "       \n",
       "    &lt;link rel=&quot;stylesheet&quot; href=&quot;https://maxcdn.bootstrapcdn.com/bootstrap/3.2.0/css/bootstrap-theme.min.css&quot; /&gt;\n",
       "    &lt;link rel=&quot;stylesheet&quot; href=&quot;https://maxcdn.bootstrapcdn.com/font-awesome/4.6.3/css/font-awesome.min.css&quot; /&gt;\n",
       "    &lt;script src=&quot;https://unpkg.com/deck.gl@latest/dist.min.js&quot;&gt;&lt;/script&gt;\n",
       "    \n",
       "    &lt;script src=&quot;https://unpkg.com/fflate@0.8.0&quot;&gt;&lt;/script&gt;\n",
       "    \n",
       "    &lt;style&gt;\n",
       "        body {\n",
       "          margin: 0;\n",
       "          padding: 0;\n",
       "          overflow: hidden;\n",
       "          background: #000000;\n",
       "        }\n",
       "\n",
       "        #deck-container {\n",
       "          width: 100vw;\n",
       "          height: 100vh;\n",
       "        }\n",
       "\n",
       "        #deck-container canvas {\n",
       "          z-index: 1;\n",
       "          background: #000000;\n",
       "        }\n",
       "\n",
       "        .deck-tooltip {\n",
       "            \n",
       "            font-size: 0.8em;\n",
       "            font-family: Cinzel;\n",
       "            color: #ffffff !important;\n",
       "            background-color: #000000aa !important;\n",
       "            border-radius: 12px;\n",
       "            box-shadow: 2px 3px 10px #00000044;\n",
       "            max-width: 25%;\n",
       "        }\n",
       "        \n",
       "        #loading {\n",
       "            width: 100%;\n",
       "            height: 100%;\n",
       "            top: 0px;\n",
       "            left: 0px;\n",
       "            position: absolute;\n",
       "            display: block; \n",
       "            z-index: 99\n",
       "        }\n",
       "\n",
       "        #loading-image {\n",
       "            position: absolute;\n",
       "            top: 45%;\n",
       "            left: 47.5%;\n",
       "            z-index: 100\n",
       "        }\n",
       "        \n",
       "        #title-container {\n",
       "            position: absolute;\n",
       "            top: 0;\n",
       "            left: 0;\n",
       "            margin: 16px;\n",
       "            padding: 12px;\n",
       "            border-radius: 16px;\n",
       "            line-height: 0.95;\n",
       "            z-index: 2;\n",
       "            font-family: Cinzel;\n",
       "            color: #ffffff;\n",
       "            background: #000000aa;\n",
       "            box-shadow: 2px 3px 10px #00000044;\n",
       "        }\n",
       "        \n",
       "        \n",
       "        #search-container{\n",
       "            position: absolute;\n",
       "            left: -16px;\n",
       "            margin: 16px;\n",
       "            padding: 12px;\n",
       "            border-radius: 16px;\n",
       "            z-index: 2;\n",
       "            font-family: Cinzel;\n",
       "            color: #ffffff;\n",
       "            background: #000000aa;\n",
       "            width: fit-content;\n",
       "            box-shadow: 2px 3px 10px #00000044;\n",
       "        }\n",
       "        input {\n",
       "            margin: 2px;\n",
       "            padding: 4px;\n",
       "            border-radius: 8px;\n",
       "            color: #ffffff;\n",
       "            background: #000000dd;\n",
       "            border: 1px solid 222222ff;\n",
       "            transition: 0.5s;\n",
       "            outline: none;\n",
       "        }\n",
       "        input:focus {\n",
       "          border: 2px solid #555;\n",
       "        }\n",
       "        \n",
       "        \n",
       "    &lt;/style&gt;\n",
       "  &lt;/head&gt;\n",
       "  &lt;body&gt;\n",
       "    &lt;div id=&quot;loading&quot;&gt;\n",
       "        &lt;img id=&quot;loading-image&quot; src=&quot;https://i.gifer.com/ZKZg.gif&quot; alt=&quot;Loading...&quot; width=&quot;5%&quot;/&gt;\n",
       "    &lt;/div&gt;\n",
       "    \n",
       "    &lt;div id=&quot;title-container&quot;&gt;\n",
       "        &lt;span style=&quot;font-family:Cinzel;font-size:36pt;color:#ffffff&quot;&gt;\n",
       "            Oceanography + ML Landscape\n",
       "        &lt;/span&gt;&lt;br/&gt;\n",
       "        &lt;span style=&quot;font-family:Cinzel;font-size:18pt;color:#777777&quot;&gt;\n",
       "            Papers using Machine Learning for Oceanographic research\n",
       "        &lt;/span&gt;\n",
       "        \n",
       "        &lt;div id=&quot;search-container&quot;&gt;\n",
       "            &lt;input autocomplete=&quot;off&quot; type=&quot;search&quot; id=&quot;search&quot; placeholder=&quot;🔍&quot;&gt;\n",
       "        &lt;/div&gt;\n",
       "        \n",
       "    &lt;/div&gt;\n",
       "    \n",
       "    \n",
       "    &lt;div id=&quot;deck-container&quot;&gt;\n",
       "    &lt;/div&gt;\n",
       "    \n",
       "  &lt;/body&gt;\n",
       "  &lt;script type=&quot;module&quot;&gt;\n",
       "    import { ArrowLoader } from &#x27;https://cdn.jsdelivr.net/npm/@loaders.gl/arrow@4.1.0-alpha.10/+esm&#x27;\n",
       "    import { JSONLoader } from &#x27;https://cdn.jsdelivr.net/npm/@loaders.gl/json@4.0.5/+esm&#x27;\n",
       "    \n",
       "\n",
       "    \n",
       "    const pointDataBase64 = &quot;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&quot;;\n",
       "    const pointDataBuffer = fflate.strToU8(atob(pointDataBase64), true);\n",
       "    const pointData = await loaders.parse(pointDataBuffer, ArrowLoader);\n",
       "    const hoverDataBase64 = &quot;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&quot;;\n",
       "    const hoverDataBuffer = fflate.strToU8(atob(hoverDataBase64), true);\n",
       "    const unzippedHoverData = fflate.gunzipSync(hoverDataBuffer);\n",
       "    const hoverData = await loaders.parse(unzippedHoverData, ArrowLoader);\n",
       "    const labelDataBase64 = &quot;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&quot;;\n",
       "    const labelDataBuffer = fflate.strToU8(atob(labelDataBase64), true);\n",
       "    const unzippedLabelData = fflate.gunzipSync(labelDataBuffer);    \n",
       "    const labelData = await loaders.parse(unzippedLabelData, JSONLoader);\n",
       "    \n",
       "    \n",
       "    const DATA = {src: pointData.data, length: pointData.data.x.length}\n",
       "\n",
       "    const container = document.getElementById(&#x27;deck-container&#x27;);\n",
       "    const pointLayer = new deck.ScatterplotLayer({\n",
       "        id: &#x27;dataPointLayer&#x27;,\n",
       "        data: DATA,\n",
       "        getPosition: (object, {index, data}) =&gt; {\n",
       "            return [data.src.x[index], data.src.y[index]];\n",
       "        },\n",
       "        \n",
       "        getRadius: (object, {index, data}) =&gt; {\n",
       "            return data.src.size[index];\n",
       "        },\n",
       "        \n",
       "        getFillColor: (object, {index, data}) =&gt; {\n",
       "            return [\n",
       "                data.src.r[index], \n",
       "                data.src.g[index], \n",
       "                data.src.b[index],\n",
       "                180\n",
       "            ]\n",
       "        },\n",
       "        getLineColor: (object, {index, data}) =&gt; {\n",
       "            return [\n",
       "                data.src.r[index], \n",
       "                data.src.g[index], \n",
       "                data.src.b[index],\n",
       "                32\n",
       "            ]\n",
       "        },       \n",
       "        getLineColor: [5, 5, 5, 128],\n",
       "        getLineWidth: 0.001,\n",
       "        highlightColor: [170, 0, 0, 187], \n",
       "        lineWidthMaxPixels: 8,\n",
       "        lineWidthMinPixels: 0.1,\n",
       "        radiusMaxPixels: 18, \n",
       "        radiusMinPixels: 1,\n",
       "        radiusUnits: &quot;common&quot;, \n",
       "        lineWidthUnits: &quot;common&quot;, \n",
       "        autoHighlight: true,\n",
       "        pickable: true, \n",
       "        stroked: true\n",
       "    });\n",
       "    const labelLayer = new deck.TextLayer({\n",
       "        id: &quot;textLabelLayer&quot;,\n",
       "        data: labelData,\n",
       "        pickable: false,\n",
       "        getPosition: d =&gt; [d.x, d.y],\n",
       "        getText: d =&gt; d.label,\n",
       "        getColor: [255, 255, 255, 255],\n",
       "        getSize: d =&gt; d.size,\n",
       "        sizeScale: 1,\n",
       "        sizeMinPixels: 12,\n",
       "        sizeMaxPixels: 36,\n",
       "        outlineWidth: 8,\n",
       "        outlineColor: [17, 17, 17, 221],\n",
       "        getBackgroundColor: [0, 0, 0, 64],\n",
       "        getBackgroundPadding: [15, 15, 15, 15],\n",
       "        background: true,\n",
       "        characterSet: &quot;auto&quot;,\n",
       "        fontFamily: &quot;Cinzel&quot;,\n",
       "        lineHeight: 0.95,\n",
       "        fontSettings: {&quot;sdf&quot;: true},\n",
       "        getTextAnchor: &quot;middle&quot;,\n",
       "        getAlignmentBaseline: &quot;center&quot;,\n",
       "        lineHeight: 0.95,\n",
       "        elevation: 100,\n",
       "        // CollideExtension options\n",
       "        collisionEnabled: true,\n",
       "        getCollisionPriority: d =&gt; d.size,\n",
       "        collisionTestProps: {\n",
       "          sizeScale: 3,\n",
       "          sizeMaxPixels: 36 * 2,\n",
       "          sizeMinPixels: 12 * 2\n",
       "        },\n",
       "        extensions: [new deck.CollisionFilterExtension()],\n",
       "    });\n",
       "    \n",
       "    const boundaryLayer = new deck.PolygonLayer({\n",
       "        data: labelData,\n",
       "        stroked: true,\n",
       "        filled: false,\n",
       "        getLineColor: d =&gt; [d.r, d.g, d.b, d.a],\n",
       "        getPolygon: d =&gt; d.polygon,\n",
       "        lineWidthUnits: &quot;common&quot;,\n",
       "        getLineWidth: d =&gt; d.size * d.size,\n",
       "        lineWidthScale: 1 * 5e-5,\n",
       "        lineJointRounded: true,\n",
       "        lineWidthMaxPixels: 4,\n",
       "        lineWidthMinPixels: 0.0,\n",
       "    });\n",
       "    \n",
       "\n",
       "    const deckgl = new deck.DeckGL({\n",
       "      container: container,\n",
       "      initialViewState: {\n",
       "        latitude: 5.3810487,\n",
       "        longitude: 2.4805677,\n",
       "        zoom: 5.3757327013509935\n",
       "      },\n",
       "      controller: true,\n",
       "      \n",
       "      layers: [pointLayer, boundaryLayer, labelLayer],\n",
       "      \n",
       "      \n",
       "      onClick: ({index}, event) =&gt; window.open(`http://google.com/search?q=&quot;${hoverData.data.hover_text[index]}&quot;`),\n",
       "      \n",
       "      getTooltip: ({index}) =&gt; hoverData.data.hover_text[index]\n",
       "    });\n",
       "    \n",
       "    document.getElementById(&quot;loading&quot;).style.display = &quot;none&quot;;\n",
       "        \n",
       "    \n",
       "        function selectPoints(item, conditional) {\n",
       "        var layerId;\n",
       "        if (item) {\n",
       "            for (var i = 0; i &lt; DATA.length; i++) {\n",
       "                if (conditional(i)) {\n",
       "                    DATA.src.selected[i] = 1;\n",
       "                } else {\n",
       "                    DATA.src.selected[i] = 0;\n",
       "                }\n",
       "            }\n",
       "            layerId = &#x27;selectedPointLayer&#x27; + item;\n",
       "        } else {\n",
       "            for (var i = 0; i &lt; DATA.length; i++) {\n",
       "                DATA.src.selected[i] = 1;\n",
       "            }\n",
       "            layerId = &#x27;dataPointLayer&#x27;;\n",
       "        }\n",
       "        const selectedPointLayer = pointLayer.clone(\n",
       "            {\n",
       "                id: layerId,\n",
       "                data: DATA,\n",
       "                getFilterValue: (object, {index, data}) =&gt; data.src.selected[index],\n",
       "                filterRange: [1, 2],\n",
       "                extensions: [new deck.DataFilterExtension({filterSize: 1})]\n",
       "            }\n",
       "        );\n",
       "        deckgl.setProps(\n",
       "            {layers: \n",
       "                [selectedPointLayer].concat(deckgl.props.layers.slice(1,))\n",
       "            }\n",
       "        );\n",
       "    }\n",
       "    \n",
       "    const search = document.getElementById(&quot;search&quot;);\n",
       "    search.addEventListener(&quot;input&quot;, (event) =&gt; {\n",
       "            const search_term = event.target.value.toLowerCase();\n",
       "            selectPoints(search_term, (i) =&gt; hoverData.data.hover_text[i].toLowerCase().includes(search_term));\n",
       "        }\n",
       "    );\n",
       "    \n",
       "    \n",
       "    &lt;/script&gt;\n",
       "&lt;/html&gt;\"\n",
       "            ></iframe>\n",
       "        "
      ],
      "text/plain": [
       "<InteractiveFigure width=100% height=800>"
      ]
     },
     "execution_count": 325,
     "metadata": {},
     "output_type": "execute_result"
    }
   ],
   "source": [
    "plot = datamapplot.create_interactive_plot(\n",
    "    data_map,\n",
    "    layer_clusters[0],\n",
    "    # layer_clusters[1],\n",
    "    layer_clusters[2],\n",
    "    font_family=\"Cinzel\",\n",
    "    cluster_boundary_polygons=True,\n",
    "    # cluster_boundary_line_width=6,\n",
    "    title=\"Oceanography + ML Landscape\",\n",
    "    sub_title=\"Papers using Machine Learning for Oceanographic research\",\n",
    "    enable_search=True,\n",
    "    darkmode=True,\n",
    "    use_medoids=True,\n",
    "    color_label_text=False,\n",
    "    # inline_data=False,\n",
    "    # offline_data_prefix=\"bb-ai-1\",\n",
    "    on_click=\"window.open(`http://google.com/search?q=\\\"{hover_text}\\\"`)\",\n",
    "    cmap=matplotlib.colormaps.get_cmap(\"cet_glasbey\"),\n",
    "    # palette_hue_shift=0.2,\n",
    "    # palette_hue_radius_dependence=3,\n",
    "    min_fontsize=18,\n",
    "    max_fontsize=18,\n",
    "    marker_size_array=[len(x) for x in dataset['Title']],\n",
    "    point_radius_min_pixels=1,\n",
    "    point_radius_max_pixels=18,\n",
    "    hover_text=dataset['Title'],\n",
    "    # extra_point_data=dataset,\n",
    "    # hover_text_html_template=hover_text_template,\n",
    ")\n",
    "plot"
   ]
  },
  {
   "cell_type": "code",
   "execution_count": 326,
   "id": "f2d73e24-0b55-45eb-b672-35a89994f902",
   "metadata": {},
   "outputs": [],
   "source": [
    "plot.save(\"index.html\")"
   ]
  },
  {
   "cell_type": "code",
   "execution_count": null,
   "id": "d29692d2-1cf8-4d07-b545-a98362ee6a67",
   "metadata": {},
   "outputs": [],
   "source": []
  }
 ],
 "metadata": {
  "kernelspec": {
   "display_name": "Python 3 (ipykernel)",
   "language": "python",
   "name": "python3"
  },
  "language_info": {
   "codemirror_mode": {
    "name": "ipython",
    "version": 3
   },
   "file_extension": ".py",
   "mimetype": "text/x-python",
   "name": "python",
   "nbconvert_exporter": "python",
   "pygments_lexer": "ipython3",
   "version": "3.11.6"
  }
 },
 "nbformat": 4,
 "nbformat_minor": 5
}
