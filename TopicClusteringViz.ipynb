{
 "cells": [
  {
   "cell_type": "markdown",
   "id": "21b03da2-e168-4730-889e-997ca763cbcc",
   "metadata": {},
   "source": [
    "Adapted code from: https://gist.github.com/lmcinnes/7a39a9f103f25300aee07201bb0a9b8a\n",
    "\n",
    "For vis: https://lmcinnes.github.io/datamapplot_examples/ArXiv_data_map_example.html"
   ]
  },
  {
   "cell_type": "code",
   "execution_count": 1,
   "id": "1c32b9d2-d3f5-4e92-82fc-bd282c86e14c",
   "metadata": {},
   "outputs": [],
   "source": [
    "import numpy as np\n",
    "import pandas as pd\n",
    "# import datasets\n",
    "import fast_hdbscan\n",
    "import umap\n",
    "import numba\n",
    "import matplotlib.pyplot as plt\n",
    "\n",
    "import sklearn .metrics\n",
    "import vectorizers\n",
    "import vectorizers.transformers\n",
    "import sklearn.feature_extraction\n",
    "import scipy.sparse\n",
    "\n",
    "import sentence_transformers\n",
    "\n",
    "from sklearn.utils.extmath import randomized_svd\n",
    "from sklearn.preprocessing import normalize\n",
    "\n",
    "import datamapplot\n",
    "import colorcet as cc\n",
    "import matplotlib\n",
    "\n",
    "import tqdm\n",
    "import string\n",
    "from llama_cpp import Llama"
   ]
  },
  {
   "cell_type": "markdown",
   "id": "d6df6f02-4a63-441b-9a9f-3235e9fcecbd",
   "metadata": {},
   "source": [
    "# Building a map and clusters"
   ]
  },
  {
   "cell_type": "code",
   "execution_count": 2,
   "id": "d98a3049-21da-4263-b0e7-9e2e03f15009",
   "metadata": {},
   "outputs": [],
   "source": [
    "embedding_model = sentence_transformers.SentenceTransformer(\"all-mpnet-base-v2\", device=\"cuda\")"
   ]
  },
  {
   "cell_type": "code",
   "execution_count": 3,
   "id": "154e064a-eec4-4180-9d62-4bba6329e95c",
   "metadata": {
    "scrolled": true
   },
   "outputs": [
    {
     "data": {
      "text/html": [
       "<div>\n",
       "<style scoped>\n",
       "    .dataframe tbody tr th:only-of-type {\n",
       "        vertical-align: middle;\n",
       "    }\n",
       "\n",
       "    .dataframe tbody tr th {\n",
       "        vertical-align: top;\n",
       "    }\n",
       "\n",
       "    .dataframe thead th {\n",
       "        text-align: right;\n",
       "    }\n",
       "</style>\n",
       "<table border=\"1\" class=\"dataframe\">\n",
       "  <thead>\n",
       "    <tr style=\"text-align: right;\">\n",
       "      <th></th>\n",
       "      <th>index</th>\n",
       "      <th>Unnamed: 0</th>\n",
       "      <th>Unnamed: 1</th>\n",
       "      <th>Unnamed: 2</th>\n",
       "      <th>Title</th>\n",
       "      <th>Year</th>\n",
       "      <th>Journal</th>\n",
       "      <th>Unnamed: 6</th>\n",
       "      <th>Unnamed: 7</th>\n",
       "      <th>Unnamed: 8</th>\n",
       "      <th>...</th>\n",
       "      <th>Unnamed: 35</th>\n",
       "      <th>Unnamed: 36</th>\n",
       "      <th>Unnamed: 37</th>\n",
       "      <th>Manual Labelling</th>\n",
       "      <th>Zero-shot labelling (lower = more relevant)</th>\n",
       "      <th>Relevant to Oceanography? (lower = more relevant)</th>\n",
       "      <th>Unnamed: 41</th>\n",
       "      <th>Unnamed: 42</th>\n",
       "      <th>Notes / Comments</th>\n",
       "      <th>Include / Exclude</th>\n",
       "    </tr>\n",
       "  </thead>\n",
       "  <tbody>\n",
       "    <tr>\n",
       "      <th>0</th>\n",
       "      <td>0</td>\n",
       "      <td>Liu Y.; Meng Z.; Chen W.; Liang Y.; Chen W.; C...</td>\n",
       "      <td>Liu, Yuyao (57240197700); Meng, Zhou (72018949...</td>\n",
       "      <td>57240197700; 7201894926; 57213686853; 57218294...</td>\n",
       "      <td>Ocean Fronts and Their Acoustic Effects: A Review</td>\n",
       "      <td>2022</td>\n",
       "      <td>Journal of Marine Science and Engineering</td>\n",
       "      <td>NaN</td>\n",
       "      <td>10</td>\n",
       "      <td>12</td>\n",
       "      <td>...</td>\n",
       "      <td>2-s2.0-85144836521</td>\n",
       "      <td>NaN</td>\n",
       "      <td>NaN</td>\n",
       "      <td>Acoustic classification</td>\n",
       "      <td>Acoustic classification (0.386); Sea floor map...</td>\n",
       "      <td>1.115355</td>\n",
       "      <td>AI</td>\n",
       "      <td>NaN</td>\n",
       "      <td>NaN</td>\n",
       "      <td>Included</td>\n",
       "    </tr>\n",
       "    <tr>\n",
       "      <th>1</th>\n",
       "      <td>1</td>\n",
       "      <td>Luo X.; Chen L.; Zhou H.; Cao H.</td>\n",
       "      <td>Luo, Xinwei (36995012900); Chen, Lu (581222398...</td>\n",
       "      <td>36995012900; 58122239800; 58122239900; 5771425...</td>\n",
       "      <td>A Survey of Underwater Acoustic Target Recogni...</td>\n",
       "      <td>2023</td>\n",
       "      <td>Journal of Marine Science and Engineering</td>\n",
       "      <td>NaN</td>\n",
       "      <td>11</td>\n",
       "      <td>2</td>\n",
       "      <td>...</td>\n",
       "      <td>2-s2.0-85149119509</td>\n",
       "      <td>NaN</td>\n",
       "      <td>NaN</td>\n",
       "      <td>Acoustic classification</td>\n",
       "      <td>Acoustic classification (0.368); Detection of ...</td>\n",
       "      <td>1.355405</td>\n",
       "      <td>AI</td>\n",
       "      <td>NaN</td>\n",
       "      <td>NaN</td>\n",
       "      <td>Included</td>\n",
       "    </tr>\n",
       "    <tr>\n",
       "      <th>2</th>\n",
       "      <td>2</td>\n",
       "      <td>Zhufeng L.; Xiaofang L.; Na W.; Qingyang Z.</td>\n",
       "      <td>Zhufeng, Lei (57201702161); Xiaofang, Lei (579...</td>\n",
       "      <td>57201702161; 57949172700; 57948807100; 5794892...</td>\n",
       "      <td>Present status and challenges of underwater ac...</td>\n",
       "      <td>2022</td>\n",
       "      <td>Frontiers in Physics</td>\n",
       "      <td>NaN</td>\n",
       "      <td>10</td>\n",
       "      <td>NaN</td>\n",
       "      <td>...</td>\n",
       "      <td>2-s2.0-85140965810</td>\n",
       "      <td>NaN</td>\n",
       "      <td>NaN</td>\n",
       "      <td>Acoustic classification</td>\n",
       "      <td>Acoustic classification (0.379); Contaminated ...</td>\n",
       "      <td>1.386320</td>\n",
       "      <td>AI</td>\n",
       "      <td>NaN</td>\n",
       "      <td>NaN</td>\n",
       "      <td>Included</td>\n",
       "    </tr>\n",
       "    <tr>\n",
       "      <th>3</th>\n",
       "      <td>3</td>\n",
       "      <td>NaN</td>\n",
       "      <td>NaN</td>\n",
       "      <td>NaN</td>\n",
       "      <td>Categorizing Shallow Marine Soundscapes Using ...</td>\n",
       "      <td>2023</td>\n",
       "      <td>Journal of Marine Science and Engineering</td>\n",
       "      <td>NaN</td>\n",
       "      <td>NaN</td>\n",
       "      <td>NaN</td>\n",
       "      <td>...</td>\n",
       "      <td>NaN</td>\n",
       "      <td>NaN</td>\n",
       "      <td>NaN</td>\n",
       "      <td>Acoustic classification</td>\n",
       "      <td>Acoustic classification (0.349); Marine ecolog...</td>\n",
       "      <td>1.151325</td>\n",
       "      <td>AI</td>\n",
       "      <td>NaN</td>\n",
       "      <td>NaN</td>\n",
       "      <td>Included</td>\n",
       "    </tr>\n",
       "    <tr>\n",
       "      <th>4</th>\n",
       "      <td>4</td>\n",
       "      <td>NaN</td>\n",
       "      <td>NaN</td>\n",
       "      <td>NaN</td>\n",
       "      <td>Automated cataloguing of American silver perch...</td>\n",
       "      <td>2023</td>\n",
       "      <td>Bioacoustics</td>\n",
       "      <td>NaN</td>\n",
       "      <td>NaN</td>\n",
       "      <td>NaN</td>\n",
       "      <td>...</td>\n",
       "      <td>NaN</td>\n",
       "      <td>NaN</td>\n",
       "      <td>NaN</td>\n",
       "      <td>Acoustic classification</td>\n",
       "      <td>Whale identification (0.425); Acoustic classif...</td>\n",
       "      <td>1.388355</td>\n",
       "      <td>AI</td>\n",
       "      <td>NaN</td>\n",
       "      <td>NaN</td>\n",
       "      <td>Included</td>\n",
       "    </tr>\n",
       "    <tr>\n",
       "      <th>...</th>\n",
       "      <td>...</td>\n",
       "      <td>...</td>\n",
       "      <td>...</td>\n",
       "      <td>...</td>\n",
       "      <td>...</td>\n",
       "      <td>...</td>\n",
       "      <td>...</td>\n",
       "      <td>...</td>\n",
       "      <td>...</td>\n",
       "      <td>...</td>\n",
       "      <td>...</td>\n",
       "      <td>...</td>\n",
       "      <td>...</td>\n",
       "      <td>...</td>\n",
       "      <td>...</td>\n",
       "      <td>...</td>\n",
       "      <td>...</td>\n",
       "      <td>...</td>\n",
       "      <td>...</td>\n",
       "      <td>...</td>\n",
       "      <td>...</td>\n",
       "    </tr>\n",
       "    <tr>\n",
       "      <th>692</th>\n",
       "      <td>1609</td>\n",
       "      <td>NaN</td>\n",
       "      <td>NaN</td>\n",
       "      <td>NaN</td>\n",
       "      <td>Species-environment associations and predicted...</td>\n",
       "      <td>2017</td>\n",
       "      <td>Avian Conservation and Ecology</td>\n",
       "      <td>NaN</td>\n",
       "      <td>NaN</td>\n",
       "      <td>NaN</td>\n",
       "      <td>...</td>\n",
       "      <td>NaN</td>\n",
       "      <td>NaN</td>\n",
       "      <td>NaN</td>\n",
       "      <td>Species distribution</td>\n",
       "      <td>Species distribution (0.395); Invasive species...</td>\n",
       "      <td>1.357163</td>\n",
       "      <td>AI</td>\n",
       "      <td>NaN</td>\n",
       "      <td>NaN</td>\n",
       "      <td>Included</td>\n",
       "    </tr>\n",
       "    <tr>\n",
       "      <th>693</th>\n",
       "      <td>1613</td>\n",
       "      <td>NaN</td>\n",
       "      <td>NaN</td>\n",
       "      <td>NaN</td>\n",
       "      <td>A Deep learning method for accurate and fast i...</td>\n",
       "      <td>2018</td>\n",
       "      <td>Ecological Informatics</td>\n",
       "      <td>NaN</td>\n",
       "      <td>NaN</td>\n",
       "      <td>NaN</td>\n",
       "      <td>...</td>\n",
       "      <td>NaN</td>\n",
       "      <td>NaN</td>\n",
       "      <td>NaN</td>\n",
       "      <td>Invasive species monitoring</td>\n",
       "      <td>Underwater photography (0.352); Coral reef mon...</td>\n",
       "      <td>1.294072</td>\n",
       "      <td>AI</td>\n",
       "      <td>NaN</td>\n",
       "      <td>NaN</td>\n",
       "      <td>Included</td>\n",
       "    </tr>\n",
       "    <tr>\n",
       "      <th>694</th>\n",
       "      <td>1614</td>\n",
       "      <td>NaN</td>\n",
       "      <td>NaN</td>\n",
       "      <td>NaN</td>\n",
       "      <td>Deep convolutional neural networks capabilitie...</td>\n",
       "      <td>2018</td>\n",
       "      <td>Atmosphere</td>\n",
       "      <td>NaN</td>\n",
       "      <td>NaN</td>\n",
       "      <td>NaN</td>\n",
       "      <td>...</td>\n",
       "      <td>NaN</td>\n",
       "      <td>NaN</td>\n",
       "      <td>NaN</td>\n",
       "      <td>Climate modelling,\\nNatural disaster forecasting</td>\n",
       "      <td>Climate modelling (0.408); Ocean chemistry det...</td>\n",
       "      <td>1.340750</td>\n",
       "      <td>AI</td>\n",
       "      <td>NaN</td>\n",
       "      <td>NaN</td>\n",
       "      <td>Included</td>\n",
       "    </tr>\n",
       "    <tr>\n",
       "      <th>695</th>\n",
       "      <td>1621</td>\n",
       "      <td>NaN</td>\n",
       "      <td>NaN</td>\n",
       "      <td>NaN</td>\n",
       "      <td>Recruitment forecasting of yellowfin tuna in t...</td>\n",
       "      <td>2016</td>\n",
       "      <td>Ecological Informatics</td>\n",
       "      <td>NaN</td>\n",
       "      <td>NaN</td>\n",
       "      <td>NaN</td>\n",
       "      <td>...</td>\n",
       "      <td>NaN</td>\n",
       "      <td>NaN</td>\n",
       "      <td>NaN</td>\n",
       "      <td>Invasive species monitoring</td>\n",
       "      <td>Marine ecology (0.420); Natural disaster forec...</td>\n",
       "      <td>1.396317</td>\n",
       "      <td>AI</td>\n",
       "      <td>NaN</td>\n",
       "      <td>NaN</td>\n",
       "      <td>Included</td>\n",
       "    </tr>\n",
       "    <tr>\n",
       "      <th>696</th>\n",
       "      <td>1622</td>\n",
       "      <td>NaN</td>\n",
       "      <td>NaN</td>\n",
       "      <td>NaN</td>\n",
       "      <td>Hindcast modeling of oil slick persistence fro...</td>\n",
       "      <td>2017</td>\n",
       "      <td>Remote Sensing of Environment</td>\n",
       "      <td>NaN</td>\n",
       "      <td>NaN</td>\n",
       "      <td>NaN</td>\n",
       "      <td>...</td>\n",
       "      <td>NaN</td>\n",
       "      <td>NaN</td>\n",
       "      <td>NaN</td>\n",
       "      <td>Contaminated Ocean Water detection</td>\n",
       "      <td>Ocean circulation and currents (0.404); Ocean ...</td>\n",
       "      <td>1.286471</td>\n",
       "      <td>AI</td>\n",
       "      <td>NaN</td>\n",
       "      <td>NaN</td>\n",
       "      <td>Included</td>\n",
       "    </tr>\n",
       "  </tbody>\n",
       "</table>\n",
       "<p>697 rows × 46 columns</p>\n",
       "</div>"
      ],
      "text/plain": [
       "     index                                         Unnamed: 0  \\\n",
       "0        0  Liu Y.; Meng Z.; Chen W.; Liang Y.; Chen W.; C...   \n",
       "1        1                   Luo X.; Chen L.; Zhou H.; Cao H.   \n",
       "2        2        Zhufeng L.; Xiaofang L.; Na W.; Qingyang Z.   \n",
       "3        3                                                NaN   \n",
       "4        4                                                NaN   \n",
       "..     ...                                                ...   \n",
       "692   1609                                                NaN   \n",
       "693   1613                                                NaN   \n",
       "694   1614                                                NaN   \n",
       "695   1621                                                NaN   \n",
       "696   1622                                                NaN   \n",
       "\n",
       "                                            Unnamed: 1  \\\n",
       "0    Liu, Yuyao (57240197700); Meng, Zhou (72018949...   \n",
       "1    Luo, Xinwei (36995012900); Chen, Lu (581222398...   \n",
       "2    Zhufeng, Lei (57201702161); Xiaofang, Lei (579...   \n",
       "3                                                  NaN   \n",
       "4                                                  NaN   \n",
       "..                                                 ...   \n",
       "692                                                NaN   \n",
       "693                                                NaN   \n",
       "694                                                NaN   \n",
       "695                                                NaN   \n",
       "696                                                NaN   \n",
       "\n",
       "                                            Unnamed: 2  \\\n",
       "0    57240197700; 7201894926; 57213686853; 57218294...   \n",
       "1    36995012900; 58122239800; 58122239900; 5771425...   \n",
       "2    57201702161; 57949172700; 57948807100; 5794892...   \n",
       "3                                                  NaN   \n",
       "4                                                  NaN   \n",
       "..                                                 ...   \n",
       "692                                                NaN   \n",
       "693                                                NaN   \n",
       "694                                                NaN   \n",
       "695                                                NaN   \n",
       "696                                                NaN   \n",
       "\n",
       "                                                 Title  Year  \\\n",
       "0    Ocean Fronts and Their Acoustic Effects: A Review  2022   \n",
       "1    A Survey of Underwater Acoustic Target Recogni...  2023   \n",
       "2    Present status and challenges of underwater ac...  2022   \n",
       "3    Categorizing Shallow Marine Soundscapes Using ...  2023   \n",
       "4    Automated cataloguing of American silver perch...  2023   \n",
       "..                                                 ...   ...   \n",
       "692  Species-environment associations and predicted...  2017   \n",
       "693  A Deep learning method for accurate and fast i...  2018   \n",
       "694  Deep convolutional neural networks capabilitie...  2018   \n",
       "695  Recruitment forecasting of yellowfin tuna in t...  2016   \n",
       "696  Hindcast modeling of oil slick persistence fro...  2017   \n",
       "\n",
       "                                       Journal  Unnamed: 6 Unnamed: 7  \\\n",
       "0    Journal of Marine Science and Engineering         NaN         10   \n",
       "1    Journal of Marine Science and Engineering         NaN         11   \n",
       "2                         Frontiers in Physics         NaN         10   \n",
       "3    Journal of Marine Science and Engineering         NaN        NaN   \n",
       "4                                 Bioacoustics         NaN        NaN   \n",
       "..                                         ...         ...        ...   \n",
       "692             Avian Conservation and Ecology         NaN        NaN   \n",
       "693                     Ecological Informatics         NaN        NaN   \n",
       "694                                 Atmosphere         NaN        NaN   \n",
       "695                     Ecological Informatics         NaN        NaN   \n",
       "696              Remote Sensing of Environment         NaN        NaN   \n",
       "\n",
       "    Unnamed: 8  ...         Unnamed: 35 Unnamed: 36 Unnamed: 37  \\\n",
       "0           12  ...  2-s2.0-85144836521         NaN         NaN   \n",
       "1            2  ...  2-s2.0-85149119509         NaN         NaN   \n",
       "2          NaN  ...  2-s2.0-85140965810         NaN         NaN   \n",
       "3          NaN  ...                 NaN         NaN         NaN   \n",
       "4          NaN  ...                 NaN         NaN         NaN   \n",
       "..         ...  ...                 ...         ...         ...   \n",
       "692        NaN  ...                 NaN         NaN         NaN   \n",
       "693        NaN  ...                 NaN         NaN         NaN   \n",
       "694        NaN  ...                 NaN         NaN         NaN   \n",
       "695        NaN  ...                 NaN         NaN         NaN   \n",
       "696        NaN  ...                 NaN         NaN         NaN   \n",
       "\n",
       "                                     Manual Labelling  \\\n",
       "0                             Acoustic classification   \n",
       "1                             Acoustic classification   \n",
       "2                             Acoustic classification   \n",
       "3                             Acoustic classification   \n",
       "4                             Acoustic classification   \n",
       "..                                                ...   \n",
       "692                              Species distribution   \n",
       "693                       Invasive species monitoring   \n",
       "694  Climate modelling,\\nNatural disaster forecasting   \n",
       "695                       Invasive species monitoring   \n",
       "696                Contaminated Ocean Water detection   \n",
       "\n",
       "           Zero-shot labelling (lower = more relevant)  \\\n",
       "0    Acoustic classification (0.386); Sea floor map...   \n",
       "1    Acoustic classification (0.368); Detection of ...   \n",
       "2    Acoustic classification (0.379); Contaminated ...   \n",
       "3    Acoustic classification (0.349); Marine ecolog...   \n",
       "4    Whale identification (0.425); Acoustic classif...   \n",
       "..                                                 ...   \n",
       "692  Species distribution (0.395); Invasive species...   \n",
       "693  Underwater photography (0.352); Coral reef mon...   \n",
       "694  Climate modelling (0.408); Ocean chemistry det...   \n",
       "695  Marine ecology (0.420); Natural disaster forec...   \n",
       "696  Ocean circulation and currents (0.404); Ocean ...   \n",
       "\n",
       "    Relevant to Oceanography? (lower = more relevant) Unnamed: 41 Unnamed: 42  \\\n",
       "0                                            1.115355          AI         NaN   \n",
       "1                                            1.355405          AI         NaN   \n",
       "2                                            1.386320          AI         NaN   \n",
       "3                                            1.151325          AI         NaN   \n",
       "4                                            1.388355          AI         NaN   \n",
       "..                                                ...         ...         ...   \n",
       "692                                          1.357163          AI         NaN   \n",
       "693                                          1.294072          AI         NaN   \n",
       "694                                          1.340750          AI         NaN   \n",
       "695                                          1.396317          AI         NaN   \n",
       "696                                          1.286471          AI         NaN   \n",
       "\n",
       "    Notes / Comments Include / Exclude  \n",
       "0                NaN          Included  \n",
       "1                NaN          Included  \n",
       "2                NaN          Included  \n",
       "3                NaN          Included  \n",
       "4                NaN          Included  \n",
       "..               ...               ...  \n",
       "692              NaN          Included  \n",
       "693              NaN          Included  \n",
       "694              NaN          Included  \n",
       "695              NaN          Included  \n",
       "696              NaN          Included  \n",
       "\n",
       "[697 rows x 46 columns]"
      ]
     },
     "execution_count": 3,
     "metadata": {},
     "output_type": "execute_result"
    }
   ],
   "source": [
    "dataset = pd.read_csv(\"./Search String H Results - Literature Reviews.csv\", keep_default_na=False, na_values=[''])\n",
    "dataset.drop_duplicates(subset=[\"Title\"], inplace=True)\n",
    "dataset = dataset[~(dataset[\"Manual Labelling\"] == \"N/A\")]\n",
    "dataset = dataset[(dataset[\"Unnamed: 41\"] == \"AI\")]\n",
    "dataset.reset_index(inplace=True)\n",
    "dataset\n",
    "# dataset.head()"
   ]
  },
  {
   "cell_type": "code",
   "execution_count": 4,
   "id": "6de9c290-dfb1-4d7b-9c2d-5316a265b55d",
   "metadata": {},
   "outputs": [],
   "source": [
    "data_strings = pd.DataFrame(dataset)[[\"Title\", \"Abstract\"]]"
   ]
  },
  {
   "cell_type": "code",
   "execution_count": 5,
   "id": "ef58045e-b531-4a57-9f11-5d83df38cb56",
   "metadata": {},
   "outputs": [
    {
     "data": {
      "application/vnd.jupyter.widget-view+json": {
       "model_id": "041701da2dc646ba99dacef0307d28ea",
       "version_major": 2,
       "version_minor": 0
      },
      "text/plain": [
       "Batches:   0%|          | 0/22 [00:00<?, ?it/s]"
      ]
     },
     "metadata": {},
     "output_type": "display_data"
    }
   ],
   "source": [
    "data_vectors = embedding_model.encode(data_strings.Title + \"\\n\\n\" + data_strings.Abstract, show_progress_bar=True)"
   ]
  },
  {
   "cell_type": "code",
   "execution_count": 6,
   "id": "b424896a-8d69-4223-976b-d6adc73208f1",
   "metadata": {},
   "outputs": [
    {
     "name": "stderr",
     "output_type": "stream",
     "text": [
      "/home/taylor/miniforge3/envs/kom/lib/python3.11/site-packages/umap/umap_.py:1943: UserWarning: n_jobs value -1 overridden to 1 by setting random_state. Use no seed for parallelism.\n",
      "  warn(f\"n_jobs value {self.n_jobs} overridden to 1 by setting random_state. Use no seed for parallelism.\")\n"
     ]
    }
   ],
   "source": [
    "data_map = umap.UMAP(metric=\"cosine\", n_components=2, random_state=42).fit_transform(data_vectors)"
   ]
  },
  {
   "cell_type": "code",
   "execution_count": 7,
   "id": "1051c11f-87fb-4a7b-bf50-f97912285035",
   "metadata": {},
   "outputs": [
    {
     "data": {
      "image/png": "[encoded data removed]",
      "text/plain": [
       "<Figure size 640x480 with 1 Axes>"
      ]
     },
     "metadata": {},
     "output_type": "display_data"
    }
   ],
   "source": [
    "plt.scatter(*data_map.T)\n",
    "plt.show()"
   ]
  },
  {
   "cell_type": "markdown",
   "id": "2953fdc0-a6b3-4c09-8473-aee0f2242166",
   "metadata": {},
   "source": [
    "Now we need to do some clustering; for this I'll use HDBCSAN (more specifically fast_hdbscan seeing as it is faster and more flexible at reaching into some of the internals). I want layers of clusters not a strict hierarchy, so we'll use some HDBSCAN based tricks to make that possible. I also want to keep track of a bunch of information which will then be used to feed back into the cluster naming -- the cluster centroid in the map layout; the cluster centroid in the original high-d embedding space; what the subclusters are; and the actual data points in each cluster.\r\n",
    "\r\n",
    "After that we'll throw together some quick functions to get topical and distinctive sentences and extract keywords."
   ]
  },
  {
   "cell_type": "code",
   "execution_count": 8,
   "id": "eada7958-cafe-463c-80ef-7f825f12da76",
   "metadata": {},
   "outputs": [],
   "source": [
    "@numba.njit(fastmath=True)\n",
    "def layer_from_clustering(\n",
    "    point_vectors,\n",
    "    point_locations,\n",
    "    cluster_label_vector,\n",
    "    cluster_membership_vector,\n",
    "    base_clusters,\n",
    "    membership_strength_threshold=0.2,\n",
    "):\n",
    "    n_clusters = len(set(cluster_label_vector)) - 1\n",
    "    \n",
    "    average_vectors = np.zeros((n_clusters, point_vectors.shape[1]), dtype=np.float32)\n",
    "    average_locations = np.zeros((n_clusters, point_locations.shape[1]), dtype=np.float32)\n",
    "    total_weights = np.zeros(n_clusters, dtype=np.float32)\n",
    "    pointsets = [set([-1 for i in range(0)]) for i in range(n_clusters)]\n",
    "    metaclusters = [set([-1 for i in range(0)]) for i in range(n_clusters)]\n",
    "\n",
    "    for i in range(cluster_label_vector.shape[0]):\n",
    "        cluster_num = cluster_label_vector[i]\n",
    "        if cluster_num >= 0:\n",
    "            average_vectors[cluster_num] += cluster_membership_vector[i] * point_vectors[i]\n",
    "            average_locations[cluster_num] += cluster_membership_vector[i] * point_locations[i]\n",
    "            total_weights[cluster_num] += cluster_membership_vector[i]\n",
    "            \n",
    "            if cluster_membership_vector[i] > membership_strength_threshold:\n",
    "                pointsets[cluster_num].add(i)\n",
    "                sub_cluster = base_clusters[i]\n",
    "                if sub_cluster != -1:\n",
    "                    metaclusters[cluster_num].add(sub_cluster)\n",
    "                \n",
    "    for c in range(n_clusters):\n",
    "        average_vectors[c] /= total_weights[c]\n",
    "        average_locations[c] /= total_weights[c]\n",
    "        \n",
    "    return average_vectors, average_locations, pointsets, metaclusters\n",
    "                \n",
    "            \n",
    "def build_cluster_layers(\n",
    "    point_vectors,\n",
    "    point_locations,\n",
    "    *,\n",
    "    min_clusters=2,\n",
    "    min_samples=5,\n",
    "    base_min_cluster_size=10,\n",
    "    membership_strength_threshold=0.2,\n",
    "    next_cluster_size_quantile=0.8,\n",
    "):\n",
    "    vector_layers = []\n",
    "    location_layers = []\n",
    "    pointset_layers = []\n",
    "    metacluster_layers = []\n",
    "    \n",
    "    min_cluster_size = base_min_cluster_size\n",
    "    \n",
    "    sklearn_tree = fast_hdbscan.hdbscan.KDTree(point_locations)\n",
    "    numba_tree = fast_hdbscan.numba_kdtree.kdtree_to_numba(sklearn_tree)\n",
    "    edges = fast_hdbscan.boruvka.parallel_boruvka(\n",
    "        numba_tree, min_samples=min_cluster_size if min_samples is None else min_samples\n",
    "    )\n",
    "    sorted_mst = edges[np.argsort(edges.T[2])]\n",
    "    uncondensed_tree = fast_hdbscan.cluster_trees.mst_to_linkage_tree(sorted_mst)\n",
    "    new_tree = fast_hdbscan.cluster_trees.condense_tree(uncondensed_tree, base_min_cluster_size)\n",
    "    leaves = fast_hdbscan.cluster_trees.extract_leaves(new_tree)\n",
    "    clusters = fast_hdbscan.cluster_trees.get_cluster_label_vector(new_tree, leaves, 0.0)\n",
    "    point_probs = fast_hdbscan.cluster_trees.get_point_membership_strength_vector(new_tree, leaves, clusters)\n",
    "\n",
    "\n",
    "    cluster_ids = np.unique(clusters[clusters >= 0])\n",
    "    base_clusters = clusters.copy()\n",
    "    n_clusters_in_layer = cluster_ids.shape[0]\n",
    "    \n",
    "    base_layer = True\n",
    "\n",
    "    while n_clusters_in_layer >= min_clusters:\n",
    "        layer_vectors, layer_locations, layer_pointsets, layer_metaclusters = layer_from_clustering(\n",
    "            point_vectors,\n",
    "            point_locations,\n",
    "            clusters,\n",
    "            point_probs,\n",
    "            base_clusters,\n",
    "            membership_strength_threshold,            \n",
    "        )\n",
    "            \n",
    "        if not base_layer:\n",
    "            layer_metacluster_selection = np.asarray([len(x) > 1 for x in layer_metaclusters])\n",
    "            layer_metaclusters = [\n",
    "                list(x) for x, select in zip(layer_metaclusters, layer_metacluster_selection) if select\n",
    "            ]\n",
    "            layer_pointsets = [\n",
    "                list(x) for x, select in zip(layer_pointsets, layer_metacluster_selection) if select\n",
    "            ]\n",
    "            layer_vectors = layer_vectors[layer_metacluster_selection]\n",
    "            layer_locations=  layer_locations[layer_metacluster_selection]\n",
    "            \n",
    "        vector_layers.append(layer_vectors)\n",
    "        location_layers.append(layer_locations)\n",
    "        pointset_layers.append(layer_pointsets)\n",
    "        metacluster_layers.append(layer_metaclusters)\n",
    "        \n",
    "        last_min_cluster_size = min_cluster_size\n",
    "        min_cluster_size = int(np.quantile([len(x) for x in layer_pointsets], next_cluster_size_quantile))\n",
    "        print(len(layer_vectors), last_min_cluster_size, min_cluster_size)\n",
    "        \n",
    "        new_tree = fast_hdbscan.cluster_trees.condense_tree(uncondensed_tree, min_cluster_size)\n",
    "        leaves = fast_hdbscan.cluster_trees.extract_leaves(new_tree)\n",
    "        clusters = fast_hdbscan.cluster_trees.get_cluster_label_vector(new_tree, leaves, 0.0)\n",
    "        point_probs = fast_hdbscan.cluster_trees.get_point_membership_strength_vector(new_tree, leaves, clusters)\n",
    "        \n",
    "        cluster_ids = np.unique(clusters[clusters >= 0])\n",
    "        n_clusters_in_layer = np.max(clusters) + 1\n",
    "        base_layer = False\n",
    "       \n",
    "    pointset_layers = [[list(pointset) for pointset in layer] for layer in pointset_layers]\n",
    "    return vector_layers, location_layers, pointset_layers, metacluster_layers\n",
    "\n",
    "\n",
    "def diversify(query_vector, candidate_neighbor_vectors, alpha=1.0, max_candidates=16):\n",
    "    distance_to_query = np.squeeze(sklearn.metrics.pairwise_distances(\n",
    "        [query_vector], candidate_neighbor_vectors, metric=\"cosine\")\n",
    "    )\n",
    "                                   \n",
    "    retained_neighbor_indices = [0]\n",
    "    for i, vector in enumerate(candidate_neighbor_vectors[1:], 1):\n",
    "        retained_neighbor_distances = sklearn.metrics.pairwise_distances(\n",
    "            [vector], candidate_neighbor_vectors[retained_neighbor_indices], metric=\"cosine\"\n",
    "        )[0]\n",
    "        for j in range(retained_neighbor_distances.shape[0]):\n",
    "            if alpha * distance_to_query[i] > retained_neighbor_distances[j]:\n",
    "                break\n",
    "        else:\n",
    "            retained_neighbor_indices.append(i)\n",
    "            if len(retained_neighbor_indices) >= max_candidates:\n",
    "                return retained_neighbor_indices\n",
    "            \n",
    "    return retained_neighbor_indices\n",
    "\n",
    "\n",
    "def topical_sentences_for_cluster(docs, vector_array, pointset, centroid_vector, n_sentence_examples=16):\n",
    "    sentences = docs.values[pointset]\n",
    "\n",
    "    sent_vectors = vector_array[pointset]\n",
    "    candidate_neighbor_indices = np.argsort(\n",
    "        np.squeeze(sklearn.metrics.pairwise_distances([centroid_vector], sent_vectors, metric=\"cosine\"))\n",
    "    )\n",
    "    candidate_neighbors = sent_vectors[candidate_neighbor_indices]\n",
    "    topical_sentence_indices = candidate_neighbor_indices[\n",
    "        diversify(centroid_vector, candidate_neighbors)[:n_sentence_examples]\n",
    "    ]\n",
    "    topical_sentences = [sentences[i] for i in topical_sentence_indices]\n",
    "    return topical_sentences\n",
    "\n",
    "def distinctive_sentences_for_cluster(\n",
    "    cluster_num, docs, vector_array, pointset_layer, cluster_neighbors, n_sentence_examples=16\n",
    "):\n",
    "    pointset = pointset_layer[cluster_num]\n",
    "    sentences = docs.values[pointset]\n",
    "\n",
    "    local_vectors = vector_array[sum([pointset_layer[x] for x in cluster_neighbors], [])]\n",
    "    vectors_for_svd = normalize(local_vectors - local_vectors.mean(axis=0))\n",
    "    U, S, Vh = randomized_svd(vectors_for_svd, 64)\n",
    "    transformed_docs = (local_vectors @ Vh.T)\n",
    "    transformed_docs = np.where(transformed_docs > 0, transformed_docs, 0)\n",
    "    class_labels = np.repeat(\n",
    "        np.arange(\n",
    "            len(cluster_neighbors)\n",
    "        ), \n",
    "        [len(pointset_layer[x]) for x in cluster_neighbors]\n",
    "    )\n",
    "    iwt = vectorizers.transformers.InformationWeightTransformer().fit(transformed_docs, class_labels)\n",
    "    sentence_weights = np.sum(transformed_docs[:len(pointset)] * iwt.information_weights_, axis=1)\n",
    "    distinctive_sentence_indices = np.argsort(sentence_weights)[:n_sentence_examples * 3]\n",
    "    distinctive_sentence_vectors = vector_array[distinctive_sentence_indices]\n",
    "    diversified_candidates = diversify(\n",
    "        vector_array[pointset_layer[cluster_num]].mean(axis=0), \n",
    "        distinctive_sentence_vectors\n",
    "    )\n",
    "    distinctive_sentence_indices = distinctive_sentence_indices[diversified_candidates[:n_sentence_examples]]\n",
    "    distinctive_sentences = [sentences[i] for i in distinctive_sentence_indices]\n",
    "    return distinctive_sentences\n",
    "\n",
    "def longest_keyphrases(candidate_keyphrases):\n",
    "    result = []\n",
    "    for i, phrase in enumerate(candidate_keyphrases):\n",
    "        for other in candidate_keyphrases:\n",
    "            if f\" {phrase}\" in other or f\"{phrase} \" in other:\n",
    "                phrase = other\n",
    "                \n",
    "        if phrase not in result:\n",
    "            candidate_keyphrases[i] = phrase\n",
    "            result.append(phrase)\n",
    "            \n",
    "    return result\n",
    "\n",
    "def contrastive_keywords_for_layer(\n",
    "    full_count_matrix, \n",
    "    inverse_vocab, \n",
    "    pointset_layer, \n",
    "    doc_vectors, \n",
    "    vocab_vectors, \n",
    "    n_keywords=16, \n",
    "    prior_strength=0.1,\n",
    "    weight_power=2.0\n",
    "):\n",
    "    count_matrix = full_count_matrix[sum(pointset_layer, []), :]\n",
    "    column_mask = np.squeeze(np.asarray(count_matrix.sum(axis=0))) > 0.0\n",
    "    count_matrix = count_matrix[:, column_mask]\n",
    "    column_map = np.arange(full_count_matrix.shape[1])[column_mask]\n",
    "    \n",
    "    class_labels = np.repeat(np.arange(len(pointset_layer)), [len(x) for x in pointset_layer])\n",
    "    iwt = vectorizers.transformers.InformationWeightTransformer(\n",
    "        prior_strength=prior_strength, weight_power=weight_power\n",
    "    ).fit(\n",
    "        count_matrix, class_labels\n",
    "    )\n",
    "    count_matrix.data = np.log(count_matrix.data + 1)\n",
    "    count_matrix.eliminate_zeros()\n",
    "    \n",
    "    weighted_matrix = iwt.transform(count_matrix)\n",
    "    \n",
    "    contrastive_keyword_layer = []\n",
    "    \n",
    "    from_row = 0\n",
    "    for i in range(len(pointset_layer)):\n",
    "        to_row = from_row + len(pointset_layer[i])\n",
    "        contrastive_scores = np.squeeze(np.asarray(weighted_matrix[from_row:to_row].sum(axis=0)))\n",
    "        contrastive_keyword_indices = np.argsort(contrastive_scores)[-4 * n_keywords:]\n",
    "        contrastive_keywords = [inverse_vocab[column_map[j]] for j in reversed(contrastive_keyword_indices)]\n",
    "        contrastive_keywords = longest_keyphrases(contrastive_keywords)\n",
    "        \n",
    "        centroid_vector = np.mean(doc_vectors[pointset_layer[i]], axis=0)\n",
    "        keyword_vectors = np.asarray([vocab_vectors[word] for word in contrastive_keywords])\n",
    "        chosen_indices = diversify(centroid_vector, keyword_vectors, alpha=0.66)[:n_keywords]\n",
    "        contrastive_keywords = [contrastive_keywords[j] for j in chosen_indices]\n",
    "        \n",
    "        contrastive_keyword_layer.append(contrastive_keywords)\n",
    "        from_row = to_row\n",
    "        \n",
    "    return contrastive_keyword_layer"
   ]
  },
  {
   "cell_type": "markdown",
   "id": "8aaf7830-fc8f-448a-ae61-79c7419fbad6",
   "metadata": {},
   "source": [
    "So now we just cluster, picking a minimim base cluster size and let the choices of layering from there be decided by the algorithm. This does not take long."
   ]
  },
  {
   "cell_type": "code",
   "execution_count": 15,
   "id": "78fba921-866f-4f46-b974-2af935204d2b",
   "metadata": {},
   "outputs": [
    {
     "name": "stdout",
     "output_type": "stream",
     "text": [
      "21 10 38\n",
      "6 38 81\n",
      "4 81 163\n",
      "2 163 389\n",
      "21\n",
      "CPU times: user 14.3 ms, sys: 409 µs, total: 14.7 ms\n",
      "Wall time: 7.55 ms\n"
     ]
    }
   ],
   "source": [
    "%%time\n",
    "vector_layers, location_layers, pointset_layers, metacluster_layers = build_cluster_layers(\n",
    "    data_vectors, data_map, base_min_cluster_size=10, min_clusters=2,\n",
    ")\n",
    "print(len(vector_layers[0]))"
   ]
  },
  {
   "cell_type": "code",
   "execution_count": 16,
   "id": "bb8c3828-7d1c-49d5-a5ba-2c5e5876b927",
   "metadata": {},
   "outputs": [
    {
     "data": {
      "text/plain": [
       "[[{0},\n",
       "  {1},\n",
       "  {2},\n",
       "  {3},\n",
       "  {4},\n",
       "  {5},\n",
       "  {6},\n",
       "  {7},\n",
       "  {8},\n",
       "  {9},\n",
       "  {10},\n",
       "  {11},\n",
       "  {12},\n",
       "  {13},\n",
       "  {14},\n",
       "  {15},\n",
       "  {16},\n",
       "  {17},\n",
       "  {18},\n",
       "  {19},\n",
       "  {20}],\n",
       " [[5, 6], [1, 2], [8, 7], [11, 12], [14, 15], [19, 20]],\n",
       " [[3, 4, 7, 8, 11, 12], [1, 2], [19, 20, 14, 15], [16, 17, 18, 13]],\n",
       " [[5, 6, 9, 10, 13, 14, 15, 16, 17, 18, 19, 20],\n",
       "  [0, 1, 2, 3, 4, 7, 8, 11, 12]]]"
      ]
     },
     "execution_count": 16,
     "metadata": {},
     "output_type": "execute_result"
    }
   ],
   "source": [
    "metacluster_layers"
   ]
  },
  {
   "cell_type": "markdown",
   "id": "cd226e50-d00b-445a-aaa8-d27486c0e09f",
   "metadata": {},
   "source": [
    "# Extracting useful cluster information for topic naming"
   ]
  },
  {
   "cell_type": "markdown",
   "id": "7da4c4be-29bf-4cae-ab1d-e7e89c1234ec",
   "metadata": {},
   "source": [
    "Next I'm going to need a little more information, since for distinctive sentences (and later on as well) it will help to know what nearby clusters are. We could write something to do this efficiently, but there aren't that many clusters so we'll just brute-force the whole thing."
   ]
  },
  {
   "cell_type": "code",
   "execution_count": 17,
   "id": "96fd6f6b-7d11-4330-a8c6-5629caebe708",
   "metadata": {},
   "outputs": [],
   "source": [
    "layer_cluster_neighbors = [\n",
    "    np.argsort(\n",
    "        sklearn.metrics.pairwise_distances(layer, metric=\"cosine\"), \n",
    "        axis=1\n",
    "    )[:, :16]\n",
    "    for layer in vector_layers\n",
    "]"
   ]
  },
  {
   "cell_type": "markdown",
   "id": "fb356566-23ae-4fe8-be7f-4cabd6d90c70",
   "metadata": {},
   "source": [
    "Now we can generate topical sentences (sentences most similar to the cluster centroid, up to some diversification) and distinctive sentences (sentences that most strongly distinguish this cluster from nearby ones) for all the clusters."
   ]
  },
  {
   "cell_type": "code",
   "execution_count": 18,
   "id": "350a8ae6-7bd1-4b53-b5f9-df716b755909",
   "metadata": {},
   "outputs": [
    {
     "name": "stdout",
     "output_type": "stream",
     "text": [
      "CPU times: user 134 ms, sys: 4 ms, total: 138 ms\n",
      "Wall time: 135 ms\n"
     ]
    }
   ],
   "source": [
    "%%time\n",
    "topical_sentences_per_cluster = [\n",
    "    [\n",
    "        topical_sentences_for_cluster(data_strings[\"Title\"], data_vectors, pointset, cluster_vector)\n",
    "        for pointset, cluster_vector in zip(pointset_layers[i], vector_layers[i])\n",
    "    ]\n",
    "    for i in range(len(pointset_layers))\n",
    "]"
   ]
  },
  {
   "cell_type": "code",
   "execution_count": 19,
   "id": "710d0e24-d180-4ab8-bd1b-1cb18d5a42b3",
   "metadata": {},
   "outputs": [
    {
     "name": "stdout",
     "output_type": "stream",
     "text": [
      "CPU times: user 2.5 s, sys: 1.11 s, total: 3.61 s\n",
      "Wall time: 1.34 s\n"
     ]
    }
   ],
   "source": [
    "%%time\n",
    "distinctive_sentences_per_cluster = [\n",
    "    [\n",
    "        distinctive_sentences_for_cluster(\n",
    "            topic_num, data_strings[\"Title\"], data_vectors, pointset_layers[i], layer_cluster_neighbors[i][topic_num]\n",
    "        )\n",
    "        for topic_num in range(len(pointset_layers[i]))\n",
    "    ]\n",
    "    for i in range(len(pointset_layers))\n",
    "]"
   ]
  },
  {
   "cell_type": "markdown",
   "id": "0d9e8a3c-4fef-429e-aa5b-796189e3bed7",
   "metadata": {},
   "source": [
    "Next I'm going to want some keywords for each cluster. I'm just stealing from other similar code I wrote here, so please excuse the mess -- this was just a \"get it done\" effort. In essence this is really much the same as BERTopic's c-TF-IDF except it uses the slightly newer supervised information weighting instead c-IDF. It also helps to use a decent n-gram range and beef up the min_df to get more informative keywords."
   ]
  },
  {
   "cell_type": "code",
   "execution_count": 20,
   "id": "4b65ef63-b818-40ad-8d1f-0eca2be8c8cd",
   "metadata": {},
   "outputs": [
    {
     "name": "stdout",
     "output_type": "stream",
     "text": [
      "CPU times: user 270 ms, sys: 31.8 ms, total: 302 ms\n",
      "Wall time: 301 ms\n"
     ]
    },
    {
     "data": {
      "text/plain": [
       "799"
      ]
     },
     "execution_count": 20,
     "metadata": {},
     "output_type": "execute_result"
    }
   ],
   "source": [
    "%%time\n",
    "cv = sklearn.feature_extraction.text.CountVectorizer(lowercase=True, min_df=25, token_pattern='(?u)\\\\b\\\\w[-\\'\\\\w]+\\\\b', ngram_range=(1,4))\n",
    "full_count_matrix = cv.fit_transform(data_strings[\"Title\"] + \" \" + data_strings[\"Abstract\"])\n",
    "acceptable_vocab = [v for v in cv.vocabulary_ if v.split()[0] not in sklearn.feature_extraction.text.ENGLISH_STOP_WORDS and v.split()[-1] not in sklearn.feature_extraction.text.ENGLISH_STOP_WORDS]\n",
    "acceptable_indices = [cv.vocabulary_[v] for v in acceptable_vocab]\n",
    "full_count_matrix = full_count_matrix[:, acceptable_indices]\n",
    "inverse_vocab = {i:w for i, w in enumerate(acceptable_vocab)}\n",
    "vocab = acceptable_vocab\n",
    "len(vocab)"
   ]
  },
  {
   "cell_type": "code",
   "execution_count": 21,
   "id": "cf4dcfac-12e6-4869-bc10-db48ec7551cc",
   "metadata": {},
   "outputs": [
    {
     "data": {
      "application/vnd.jupyter.widget-view+json": {
       "model_id": "5ff62441d8804d14aa32a0add9010c8a",
       "version_major": 2,
       "version_minor": 0
      },
      "text/plain": [
       "Batches:   0%|          | 0/25 [00:00<?, ?it/s]"
      ]
     },
     "metadata": {},
     "output_type": "display_data"
    }
   ],
   "source": [
    "vocab_vectors = dict(zip(vocab, embedding_model.encode(vocab, show_progress_bar=True)))"
   ]
  },
  {
   "cell_type": "code",
   "execution_count": 22,
   "id": "fdd57084-d32f-47a5-9939-36d953a4452d",
   "metadata": {},
   "outputs": [
    {
     "name": "stdout",
     "output_type": "stream",
     "text": [
      "CPU times: user 650 ms, sys: 19.2 ms, total: 669 ms\n",
      "Wall time: 667 ms\n"
     ]
    }
   ],
   "source": [
    "%%time\n",
    "contrastive_keyword_layers = [\n",
    "        contrastive_keywords_for_layer(\n",
    "        full_count_matrix, \n",
    "        inverse_vocab, \n",
    "        pointset_layers[layer_num], \n",
    "        data_vectors,\n",
    "        vocab_vectors,\n",
    "    )\n",
    "    for layer_num in range(len(pointset_layers))\n",
    "]"
   ]
  },
  {
   "cell_type": "markdown",
   "id": "7de041a5-8ed4-46cb-8d93-8e24809210f8",
   "metadata": {},
   "source": [
    "# Naming the lowest layer of topics"
   ]
  },
  {
   "cell_type": "markdown",
   "id": "cda0d009-0b58-43c1-bc4f-b2253aa30589",
   "metadata": {},
   "source": [
    "Now we get to the point of using an LLM to create topic names. I went through a few iterations of things like this, and this is what the prompt generation evolved into; if I was starting from scratch I think we could write this much more cleanly. Still, it gets the job done."
   ]
  },
  {
   "cell_type": "code",
   "execution_count": 23,
   "id": "3236f165-d6a1-416b-9a3c-582ff3323a63",
   "metadata": {},
   "outputs": [],
   "source": [
    "def create_prompt(\n",
    "    i, \n",
    "    contrastive_keyword_layer=contrastive_keyword_layers[0], \n",
    "    topical_sentences_per_cluster=topical_sentences_per_cluster[0],\n",
    "    distinctive_sentences_per_cluster=distinctive_sentences_per_cluster[0],\n",
    "    base_cluster_neighbors=layer_cluster_neighbors[0],\n",
    "):\n",
    "    prompt_text = \"--\\n\\nBelow is a information about a group of titles from machine learning articles:\\n\\n\"\n",
    "    prompt_text += \"Distinguishing keywords for this group:\\n - \\\"\" + \", \".join(contrastive_keyword_layer[i]) + \"\\\"\\n\"\n",
    "    prompt_text += \"\\nSample topical titles from the group include:\\n\"\n",
    "    for text in topical_sentences_per_cluster[i]:\n",
    "        prompt_text += f\" - \\\"{text}\\\"\\n\"\n",
    "    prompt_text += \"\\nSample distinctive titles from the group include:\\n\"\n",
    "    for text in distinctive_sentences_per_cluster[i]:\n",
    "        prompt_text += f\" - \\\"{text}\\\"\\n\"\n",
    "\n",
    "    prompt_text += \"\\n\\nSimilar titles from different groups with distinct topics include:\\n\"\n",
    "    for n in base_cluster_neighbors[i][:3]:\n",
    "        for text in distinctive_sentences_per_cluster[n][:2]:\n",
    "            prompt_text += f\"- \\\"{text}\\\"\\n\"\n",
    "\n",
    "    prompt_text += \"\\n\\nThe short distinguishing topic name for the group that had the keywords:\\n - \\\"\" + \", \".join(contrastive_keyword_layer[i][:8]) + \"\\\" \\n\"\n",
    "    prompt_text += \"is:\\n\"\n",
    "    return prompt_text"
   ]
  },
  {
   "cell_type": "markdown",
   "id": "229c8901-3dbf-448c-9f95-63a700c98469",
   "metadata": {},
   "source": [
    "Now we need out LLM. A quantized version of Mistral 7B is not bad, but pick the model that works for you. If you have a GPU this goes a lot faster. If you have a big GPU you will probably want a better model. In general the most powerful model that you can run on the hardware you have is likely your best bet."
   ]
  },
  {
   "cell_type": "code",
   "execution_count": 24,
   "id": "b502396b-ce52-4cca-bb6d-1258ffd01ef5",
   "metadata": {},
   "outputs": [],
   "source": [
    "# !wget https://huggingface.co/TheBloke/OpenHermes-2.5-Mistral-7B-GGUF/resolve/main/openhermes-2.5-mistral-7b.Q4_K_M.gguf\n",
    "# !wget https://huggingface.co/QuantFactory/Meta-Llama-3-8B-Instruct-GGUF/resolve/main/Meta-Llama-3-8B-Instruct.Q4_K_M.gguf\n",
    "# !wget https://huggingface.co/QuantFactory/Meta-Llama-3-70B-Instruct-GGUF/resolve/main/Meta-Llama-3-70B-Instruct.Q4_K_M.gguf"
   ]
  },
  {
   "cell_type": "code",
   "execution_count": 25,
   "id": "1d82b0c0-7aa7-4ff9-8256-16501ee3a45d",
   "metadata": {},
   "outputs": [],
   "source": [
    "llm = Llama(model_path=\"openhermes-2.5-mistral-7b.Q4_K_M.gguf\", n_gpu_layers=-1, n_ctx=4096, stop=[\"--\", \"\\n\"], verbose=False)\n",
    "# llm = Llama(model_path=\"Meta-Llama-3-8B-Instruct.Q4_K_M.gguf\", n_gpu_layers=-1, n_ctx=4096, stop=[\"--\", \"\\n\"], verbose=False)\n",
    "# llm = Llama(model_path=\"Meta-Llama-3-70B-Instruct.Q4_K_M.gguf\", n_gpu_layers=-1, n_ctx=4096, stop=[\"--\", \"\\n\"], verbose=False)"
   ]
  },
  {
   "cell_type": "markdown",
   "id": "487bdcbb-2461-4ffa-ae43-dcd88ee46d40",
   "metadata": {},
   "source": [
    "Before we run this in earnest let's try it out on the first cluster to make sure it works."
   ]
  },
  {
   "cell_type": "code",
   "execution_count": 97,
   "id": "acf4938a-eadc-4eaa-a3c8-7ffe62c4843a",
   "metadata": {},
   "outputs": [
    {
     "data": {
      "text/plain": [
       "{'id': 'cmpl-9cb6c35f-9cae-4d3d-b709-10bfc20e2e0d',\n",
       " 'object': 'text_completion',\n",
       " 'created': 1713998437,\n",
       " 'model': 'openhermes-2.5-mistral-7b.Q4_K_M.gguf',\n",
       " 'choices': [{'text': '\\n**Coastal Water Phytoplankton Satellite Remote Sensing**\\n\\nThe short distingu',\n",
       "   'index': 0,\n",
       "   'logprobs': None,\n",
       "   'finish_reason': 'length'}],\n",
       " 'usage': {'prompt_tokens': 1013,\n",
       "  'completion_tokens': 24,\n",
       "  'total_tokens': 1037}}"
      ]
     },
     "execution_count": 97,
     "metadata": {},
     "output_type": "execute_result"
    }
   ],
   "source": [
    "llm(create_prompt(0), max_tokens=24, temperature=0.75)"
   ]
  },
  {
   "cell_type": "markdown",
   "id": "62db9e96-1cfe-4ef5-85c8-1a9ad8f6903a",
   "metadata": {},
   "source": [
    "Looks good enough. Obviously we'll need to clean up the output a little, but that's easy enough to add. Let's write a function to do the naming ..."
   ]
  },
  {
   "cell_type": "code",
   "execution_count": 26,
   "id": "6aef7603-9b31-4702-9058-7883b26faad6",
   "metadata": {},
   "outputs": [],
   "source": [
    "def base_level_topic_names(\n",
    "    topical_sentence_layer,\n",
    "    distinctive_sentence_layer,\n",
    "    contrastive_keyword_layer,\n",
    "    base_cluster_neighbors,\n",
    "    from_topic_index=0,\n",
    "    to_topic_index=10,\n",
    "):\n",
    "    topic_names = []\n",
    "    for i in tqdm.notebook.tqdm(range(from_topic_index, to_topic_index)):\n",
    "        topic_naming_prompt = create_prompt(\n",
    "            i, \n",
    "            contrastive_keyword_layer=contrastive_keyword_layer, \n",
    "            topical_sentences_per_cluster=topical_sentence_layer,\n",
    "            distinctive_sentences_per_cluster=distinctive_sentence_layer,\n",
    "            base_cluster_neighbors=base_cluster_neighbors,\n",
    "        )\n",
    "        topic_name = llm(topic_naming_prompt)['choices'][0]['text']\n",
    "        if \"\\n\" in topic_name:\n",
    "            topic_name = topic_name.lstrip(\"\\n \")\n",
    "            topic_name = topic_name.split(\"\\n\")[0]\n",
    "        topic_name = string.capwords(topic_name.strip(string.punctuation + string.whitespace))\n",
    "        topic_names.append(topic_name)\n",
    "\n",
    "    return topic_names"
   ]
  },
  {
   "cell_type": "markdown",
   "id": "635ba9e4-cb70-4e7d-add3-4ffa98aa6a72",
   "metadata": {},
   "source": [
    "And away we go ...\r\n",
    "\r\n"
   ]
  },
  {
   "cell_type": "code",
   "execution_count": 27,
   "id": "b01a24e0-ce1e-46c5-8318-d4f82f6bac51",
   "metadata": {},
   "outputs": [
    {
     "data": {
      "application/vnd.jupyter.widget-view+json": {
       "model_id": "3351ad00d523441591bed458439dfb4a",
       "version_major": 2,
       "version_minor": 0
      },
      "text/plain": [
       "  0%|          | 0/21 [00:00<?, ?it/s]"
      ]
     },
     "metadata": {},
     "output_type": "display_data"
    },
    {
     "name": "stdout",
     "output_type": "stream",
     "text": [
      "CPU times: user 9h 12min 54s, sys: 21min 47s, total: 9h 34min 42s\n",
      "Wall time: 28min 29s\n"
     ]
    }
   ],
   "source": [
    "%%time\n",
    "layer0_topics = base_level_topic_names(\n",
    "    topical_sentences_per_cluster[0],\n",
    "    distinctive_sentences_per_cluster[0],\n",
    "    contrastive_keyword_layers[0],\n",
    "    layer_cluster_neighbors[0],\n",
    "    to_topic_index=len(contrastive_keyword_layers[0])\n",
    ")"
   ]
  },
  {
   "cell_type": "code",
   "execution_count": 28,
   "id": "c2482649-7f56-4243-9efc-563f71af2668",
   "metadata": {},
   "outputs": [
    {
     "data": {
      "text/plain": [
       "['Sea Ice Classification And Forecasting',\n",
       " 'Satellite Remote Sensing Of Coastal Waters And Ph',\n",
       " 'Ocean Carbon Flux Reconstruction And Estimation',\n",
       " 'Flood Control And Water Quality Management With Machine Learning',\n",
       " 'Climate, Ocean & Atmospheric Waves',\n",
       " 'Underwater Acoustic Target Recognition',\n",
       " 'Passive Acoustics In Marine Mammals',\n",
       " 'Ship & Wave Dynamics',\n",
       " 'Wave And Power Forecasting',\n",
       " 'Maritime Vehicle Detection',\n",
       " 'Automatic Maritime Detection And Analysis',\n",
       " 'Coastal Flood Risk Analysis And Mitigation Ai Models',\n",
       " 'Storm Surge Prediction And Mitigation With Machine Learning',\n",
       " 'Coastal Wetland Changes Detection Using Machine Learning',\n",
       " 'Ocean Pollution Detection And Monitoring With Ai',\n",
       " 'Machine Learning Techniques For Oil Detection And Analysis',\n",
       " 'Sea Ice Changes & Antarctic Ecosystems',\n",
       " 'Marine Fish Habitat Distributions And Conservation',\n",
       " 'Aquatic Chemical Prediction',\n",
       " 'Fish & Underwater Imaging Classification',\n",
       " 'Automated Marine Mammal Detection And Classification']"
      ]
     },
     "execution_count": 28,
     "metadata": {},
     "output_type": "execute_result"
    }
   ],
   "source": [
    "layer0_topics"
   ]
  },
  {
   "cell_type": "markdown",
   "id": "a0c38063-1b74-4123-a962-84fe320330fa",
   "metadata": {},
   "source": [
    "# Naming all the other layers of topics"
   ]
  },
  {
   "cell_type": "markdown",
   "id": "8287b425-96b5-4f3b-ac5e-cd08a9d3ce98",
   "metadata": {},
   "source": [
    "Now we have the other layers to deal with. Since these are larger clusters it is harder to get representative sentences that cover the full breadth and still fit in the prompt context size. However we did keep track of sub-clusters and now we have names for all those sub-clusters, so we can provide that instead. Of course if there are too many sub-clusters that can be tricky as well. So pick out the topical sub-topic names and distinctive sub-topic names (with a large selection) -- we just need to embed all the cluster names we've got so far."
   ]
  },
  {
   "cell_type": "code",
   "execution_count": 29,
   "id": "0c381a54-5bd8-4394-b6ad-0eafeb95d2c1",
   "metadata": {},
   "outputs": [
    {
     "data": {
      "application/vnd.jupyter.widget-view+json": {
       "model_id": "1e33b56b06684096b211275ddb521abc",
       "version_major": 2,
       "version_minor": 0
      },
      "text/plain": [
       "Batches:   0%|          | 0/1 [00:00<?, ?it/s]"
      ]
     },
     "metadata": {},
     "output_type": "display_data"
    }
   ],
   "source": [
    "embeddings_of_layer0_topics = embedding_model.encode(layer0_topics, show_progress_bar=True)"
   ]
  },
  {
   "cell_type": "code",
   "execution_count": 30,
   "id": "00ab9603-2a7d-4cd9-b2b0-1c13429a9de1",
   "metadata": {},
   "outputs": [],
   "source": [
    "def topical_subtopics_for_cluster(\n",
    "    metacluster, pointset, doc_vectors, base_layer_topic_names, base_layer_pointsets, n_subtopics=32\n",
    "):\n",
    "    centroid_vector = np.mean(doc_vectors[pointset], axis=0)\n",
    "    subtopic_vectors = np.asarray([np.mean(doc_vectors[base_layer_pointsets[n]], axis=0) for n in metacluster])\n",
    "    candidate_neighbor_indices = np.argsort(\n",
    "        np.squeeze(sklearn.metrics.pairwise_distances([centroid_vector], subtopic_vectors, metric=\"cosine\"))\n",
    "    )[:2 * n_subtopics]\n",
    "    candidate_neighbors = subtopic_vectors[candidate_neighbor_indices]\n",
    "    topical_subtopic_indices = candidate_neighbor_indices[\n",
    "        diversify(centroid_vector, candidate_neighbors, alpha=0.66, max_candidates=n_subtopics)\n",
    "    ][:n_subtopics]\n",
    "    topical_subtopics = [base_layer_topic_names[metacluster[i]] for i in topical_subtopic_indices]\n",
    "    return topical_subtopics\n",
    "\n",
    "\n",
    "def contrastive_subtopics_for_cluster(\n",
    "    cluster_neighbors, meta_clusters, base_layer_topic_embeddings, base_layer_topic_names, n_subtopics=24\n",
    "):\n",
    "    topic_names = [base_layer_topic_names[x] for x in meta_clusters[cluster_neighbors[0]]]\n",
    "    local_vectors = base_layer_topic_embeddings[sum([meta_clusters[x] for x in cluster_neighbors], [])]\n",
    "    U, S, Vh = np.linalg.svd(local_vectors - local_vectors.mean(axis=0))\n",
    "    transformed_docs = (local_vectors @ Vh.T)\n",
    "    transformed_docs = np.where(transformed_docs > 0, transformed_docs, 0)\n",
    "    class_labels = np.repeat(np.arange(len(cluster_neighbors)), [len(meta_clusters[x]) for x in cluster_neighbors])\n",
    "    iwt = vectorizers.transformers.InformationWeightTransformer().fit(transformed_docs, class_labels)\n",
    "    topic_name_weights = np.sum(transformed_docs[:len(topic_names)] * iwt.information_weights_, axis=1)\n",
    "    distinctive_topic_indices = np.argsort(topic_name_weights)[:n_subtopics * 3]\n",
    "    distinctive_topic_vectors = base_layer_topic_embeddings[distinctive_topic_indices]\n",
    "    diversified_candidates = diversify(\n",
    "        base_layer_topic_embeddings[meta_clusters[cluster_neighbors[0]]].mean(axis=0), \n",
    "        distinctive_topic_vectors\n",
    "    )\n",
    "    distinctive_topic_indices = distinctive_topic_indices[diversified_candidates[:n_subtopics]]\n",
    "    distinctive_sentences = [topic_names[i] for i in distinctive_topic_indices]\n",
    "    return distinctive_sentences"
   ]
  },
  {
   "cell_type": "markdown",
   "id": "f776aef8-adff-46f0-9945-d3efa65dbac9",
   "metadata": {},
   "source": [
    "Now we just need to build that information for all the layers and clusters ..."
   ]
  },
  {
   "cell_type": "code",
   "execution_count": 31,
   "id": "f7b4d913-951d-4af7-870a-051ab1e1db65",
   "metadata": {},
   "outputs": [
    {
     "name": "stdout",
     "output_type": "stream",
     "text": [
      "CPU times: user 16.2 ms, sys: 12 µs, total: 16.2 ms\n",
      "Wall time: 15.8 ms\n"
     ]
    }
   ],
   "source": [
    "%%time\n",
    "topical_subtopic_layers = [\n",
    "    [\n",
    "        topical_subtopics_for_cluster(\n",
    "            metacluster_layers[layer_num][cluster_num],\n",
    "            pointset_layers[layer_num][cluster_num],\n",
    "            data_vectors,\n",
    "            layer0_topics,\n",
    "            pointset_layers[0],\n",
    "            n_subtopics=32\n",
    "        )\n",
    "        for cluster_num in range(len(metacluster_layers[layer_num]))\n",
    "    ]\n",
    "    for layer_num in range(1, len(metacluster_layers))\n",
    "]"
   ]
  },
  {
   "cell_type": "code",
   "execution_count": 32,
   "id": "035814ac-a644-4b08-8b07-c1390f2fb47a",
   "metadata": {},
   "outputs": [
    {
     "name": "stdout",
     "output_type": "stream",
     "text": [
      "CPU times: user 206 ms, sys: 5.95 ms, total: 212 ms\n",
      "Wall time: 99.9 ms\n"
     ]
    },
    {
     "name": "stderr",
     "output_type": "stream",
     "text": [
      "/home/taylor/miniforge3/envs/kom/lib/python3.11/site-packages/vectorizers/transformers/info_weight.py:269: RuntimeWarning: invalid value encountered in power\n",
      "  self.supervised_weights_ = np.power(\n",
      "/home/taylor/miniforge3/envs/kom/lib/python3.11/site-packages/vectorizers/transformers/info_weight.py:269: RuntimeWarning: invalid value encountered in power\n",
      "  self.supervised_weights_ = np.power(\n",
      "/home/taylor/miniforge3/envs/kom/lib/python3.11/site-packages/vectorizers/transformers/info_weight.py:269: RuntimeWarning: invalid value encountered in power\n",
      "  self.supervised_weights_ = np.power(\n",
      "/home/taylor/miniforge3/envs/kom/lib/python3.11/site-packages/vectorizers/transformers/info_weight.py:269: RuntimeWarning: invalid value encountered in power\n",
      "  self.supervised_weights_ = np.power(\n",
      "/home/taylor/miniforge3/envs/kom/lib/python3.11/site-packages/vectorizers/transformers/info_weight.py:254: RuntimeWarning: invalid value encountered in power\n",
      "  self.information_weights_ = np.power(\n",
      "/home/taylor/miniforge3/envs/kom/lib/python3.11/site-packages/vectorizers/transformers/info_weight.py:269: RuntimeWarning: invalid value encountered in power\n",
      "  self.supervised_weights_ = np.power(\n"
     ]
    }
   ],
   "source": [
    "%%time\n",
    "contrastive_subtopic_layers = [\n",
    "    [\n",
    "        contrastive_subtopics_for_cluster(\n",
    "            layer_cluster_neighbors[layer_num][cluster_num],\n",
    "            metacluster_layers[layer_num],\n",
    "            embeddings_of_layer0_topics,\n",
    "            layer0_topics,\n",
    "            n_subtopics=24\n",
    "        )\n",
    "        for cluster_num in range(len(metacluster_layers[layer_num]))\n",
    "    ]\n",
    "    for layer_num in range(1, len(metacluster_layers))\n",
    "]"
   ]
  },
  {
   "cell_type": "markdown",
   "id": "93387457-1022-4df4-936d-f9deab7fe334",
   "metadata": {},
   "source": [
    "Given that we are using the sub-topic names we need a different prompt construction."
   ]
  },
  {
   "cell_type": "code",
   "execution_count": 33,
   "id": "04d201f9-849a-4788-80c2-cb6441bc6aad",
   "metadata": {},
   "outputs": [],
   "source": [
    "def create_prompt_from_subtopics(\n",
    "    i,\n",
    "    contrastive_keyword_layer,\n",
    "    subtopic_layer,\n",
    "    topical_sentences_layer,\n",
    "    distinctive_sentences_layer,\n",
    "    cluster_neighbors\n",
    "):\n",
    "    prompt_text = \"--\\n\\nBelow is a information about a group of titles from machine learning articles that are all on the same topic:\\n\\n\"\n",
    "    prompt_text += \"Distinguishing keywords for this group: \\\"\" + \", \".join(contrastive_keyword_layer[i]) + \"\\\"\\n\"\n",
    "    prompt_text += \"Sample sub-topics from the group include:\\n\"\n",
    "    for text in subtopic_layer[i][:24]:\n",
    "        prompt_text += f\"- \\\"{text}\\\"\\n\"\n",
    "    prompt_text += \"Sample topical titles include:\\n\"\n",
    "    for text in topical_sentences_layer[i][:4]:\n",
    "        prompt_text += f\"- \\\"{text}\\\"\\n\"\n",
    "    prompt_text += \"Sample distinctive titles of the topic include:\\n\"\n",
    "    for text in distinctive_sentences_layer[i][:4]:\n",
    "        prompt_text += f\"- \\\"{text}\\\"\\n\"        \n",
    "    \n",
    "\n",
    "    prompt_text += \"\\n\\nSimilar titles from different groups with distinct topics include:\\n\"\n",
    "    for n in cluster_neighbors[i][:3]:\n",
    "        for text in topical_sentences_layer[n][:2]:\n",
    "            prompt_text += f\"- \\\"{text}\\\"\\n\"\n",
    "    prompt_text += \"\\nSub-topics from different but similar groups include:\\n\"\n",
    "    for n in cluster_neighbors[i][:3]:\n",
    "        for text in subtopic_layer[n][:4]:\n",
    "            prompt_text += f\"- \\\"{text}\\\"\\n\"    \n",
    "            \n",
    "    prompt_text += \"\\n\\nThe short distinguishing topic name for the group that had the keywords \\\"\" + \", \".join(contrastive_keyword_layer[i]) + \"\\\" \"\n",
    "    prompt_text += \"is:\"\n",
    "    return prompt_text"
   ]
  },
  {
   "cell_type": "markdown",
   "id": "093a2e99-bfef-42d4-a5fe-5a3a1ae1b5c6",
   "metadata": {},
   "source": [
    "Then we just need a function for do all the naming and clean uip the output names ..."
   ]
  },
  {
   "cell_type": "code",
   "execution_count": 34,
   "id": "f1c023b6-7a9a-428c-8908-326ef7fda105",
   "metadata": {},
   "outputs": [],
   "source": [
    "def subtopics_and_keywords_to_topic_name(\n",
    "    subtopics_layer,\n",
    "    contrastive_keyword_layer,\n",
    "    topical_sentences_layer,\n",
    "    distinctive_sentences_layer,\n",
    "    cluster_neighbors,\n",
    "    from_topic_index=0,\n",
    "    to_topic_index=10,\n",
    "):\n",
    "    topic_names = []\n",
    "    for i in tqdm.notebook.tqdm(range(from_topic_index, to_topic_index)):\n",
    "        topic_naming_prompt = create_prompt_from_subtopics(\n",
    "            i, \n",
    "            contrastive_keyword_layer, \n",
    "            subtopics_layer,\n",
    "            topical_sentences_layer,\n",
    "            distinctive_sentences_layer,\n",
    "            cluster_neighbors,\n",
    "        )\n",
    "        topic_name = llm(topic_naming_prompt)['choices'][0]['text']\n",
    "        if \"\\n\" in topic_name:\n",
    "            topic_name = topic_name.lstrip(\"\\n \")\n",
    "            topic_name = topic_name.split(\"\\n\")[0]\n",
    "        topic_name = string.capwords(topic_name.strip(string.punctuation + string.whitespace))\n",
    "\n",
    "        topic_names.append(topic_name)\n",
    "\n",
    "    return topic_names"
   ]
  },
  {
   "cell_type": "markdown",
   "id": "8b217e14-8de3-41aa-851f-7762d1a15073",
   "metadata": {},
   "source": [
    "And we can start naming topics for the other layers ..."
   ]
  },
  {
   "cell_type": "code",
   "execution_count": 35,
   "id": "ece6590f-5b90-4f41-8e26-96aed00ffc4d",
   "metadata": {},
   "outputs": [
    {
     "data": {
      "application/vnd.jupyter.widget-view+json": {
       "model_id": "cd95a858d1634d01999e7e7e0da0500c",
       "version_major": 2,
       "version_minor": 0
      },
      "text/plain": [
       "  0%|          | 0/6 [00:00<?, ?it/s]"
      ]
     },
     "metadata": {},
     "output_type": "display_data"
    },
    {
     "name": "stdout",
     "output_type": "stream",
     "text": [
      "CPU times: user 2h 27min 8s, sys: 5min 43s, total: 2h 32min 51s\n",
      "Wall time: 7min 34s\n"
     ]
    }
   ],
   "source": [
    "%%time\n",
    "layer1_topics = subtopics_and_keywords_to_topic_name(\n",
    "    [a + b for a,b in zip(topical_subtopic_layers[0], contrastive_subtopic_layers[0])],\n",
    "    contrastive_keyword_layers[1],\n",
    "    topical_sentences_per_cluster[1],\n",
    "    distinctive_sentences_per_cluster[1],\n",
    "    layer_cluster_neighbors[1],\n",
    "    from_topic_index=0,\n",
    "    to_topic_index=len(topical_subtopic_layers[0]),\n",
    ")"
   ]
  },
  {
   "cell_type": "code",
   "execution_count": 36,
   "id": "0d6f4f6e-af2f-4e62-a3fd-937d2079e46b",
   "metadata": {},
   "outputs": [
    {
     "data": {
      "application/vnd.jupyter.widget-view+json": {
       "model_id": "efbe21014e344bf1a024513ac1f6eae2",
       "version_major": 2,
       "version_minor": 0
      },
      "text/plain": [
       "  0%|          | 0/4 [00:00<?, ?it/s]"
      ]
     },
     "metadata": {},
     "output_type": "display_data"
    },
    {
     "name": "stdout",
     "output_type": "stream",
     "text": [
      "CPU times: user 1h 42min 54s, sys: 3min 52s, total: 1h 46min 47s\n",
      "Wall time: 5min 17s\n"
     ]
    }
   ],
   "source": [
    "%%time\n",
    "layer2_topics = subtopics_and_keywords_to_topic_name(\n",
    "    [a + b for a,b in zip(topical_subtopic_layers[1], contrastive_subtopic_layers[1])],\n",
    "    contrastive_keyword_layers[2],\n",
    "    topical_sentences_per_cluster[2],\n",
    "    distinctive_sentences_per_cluster[2],\n",
    "    layer_cluster_neighbors[2],\n",
    "    from_topic_index=0,\n",
    "    to_topic_index=len(topical_subtopic_layers[1]),\n",
    ")"
   ]
  },
  {
   "cell_type": "code",
   "execution_count": 37,
   "id": "3fdab5df-cffc-4add-a8d4-b01735439ccb",
   "metadata": {},
   "outputs": [
    {
     "data": {
      "application/vnd.jupyter.widget-view+json": {
       "model_id": "da6ec60c155a4cc6944b44ba38400dd5",
       "version_major": 2,
       "version_minor": 0
      },
      "text/plain": [
       "  0%|          | 0/2 [00:00<?, ?it/s]"
      ]
     },
     "metadata": {},
     "output_type": "display_data"
    },
    {
     "name": "stdout",
     "output_type": "stream",
     "text": [
      "CPU times: user 50min 21s, sys: 2min, total: 52min 22s\n",
      "Wall time: 2min 34s\n"
     ]
    }
   ],
   "source": [
    "%%time\n",
    "layer3_topics = subtopics_and_keywords_to_topic_name(\n",
    "    [a + b for a,b in zip(topical_subtopic_layers[2], contrastive_subtopic_layers[2])],\n",
    "    contrastive_keyword_layers[3],\n",
    "    topical_sentences_per_cluster[3],\n",
    "    distinctive_sentences_per_cluster[3],\n",
    "    layer_cluster_neighbors[3],\n",
    "    from_topic_index=0,\n",
    "    to_topic_index=len(topical_subtopic_layers[2]),\n",
    ")"
   ]
  },
  {
   "cell_type": "markdown",
   "id": "f0642b4d-8544-49af-abdb-a37b3d44b088",
   "metadata": {},
   "source": [
    "The last problem that tends to occur is that we end up repeating topic names, particulary having high level topic names get repeated at lower levels where we want something more specific. But we can lookmfor those cases and try to get the LLM to generate a more specific topic name."
   ]
  },
  {
   "cell_type": "code",
   "execution_count": 38,
   "id": "dfd4d181-86a1-44c1-87ee-dbc38c6ac7fe",
   "metadata": {},
   "outputs": [],
   "source": [
    "def create_final_remedy_prompt(original_topic_names, docs, vector_array, pointset, centroid_vector):\n",
    "    sentences = topical_sentences_for_cluster(docs, vector_array, pointset, centroid_vector, n_sentence_examples=64)\n",
    "    prompt_text = \"A set of titles from machine learning articles was described as having a topic of one of \" + \", \".join(original_topic_names) + \".\\n\"\n",
    "    prompt_text += \"These topic names were not specific enough and were shared with other different but similar groups of titles.\\n\"\n",
    "    prompt_text += \"A sampling of titles from this specific set of titles includes:\\n\"\n",
    "    for sentence in np.random.choice(sentences, size=min(len(sentences), 64), replace=False):\n",
    "        prompt_text += f\"- {sentence}\\n\"\n",
    "\n",
    "    prompt_text += f\"\\n\\nThe current name for this topic of these paragraphs is: {original_topic_names[-1]}\\n\"\n",
    "    prompt_text += \"A better and more specific name that still captures the topic of these article titles is: \"\n",
    "    return prompt_text"
   ]
  },
  {
   "cell_type": "code",
   "execution_count": 39,
   "id": "0c27b31f-f06b-495f-a40e-c65d5f3550ab",
   "metadata": {},
   "outputs": [],
   "source": [
    "# all_layer_topics = [layer0_topics, layer1_topics, layer2_topics, layer3_topics]\n",
    "# all_layer_topics = [layer0_topics, layer1_topics, layer2_topics]"
   ]
  },
  {
   "cell_type": "code",
   "execution_count": 40,
   "id": "c4c2ebcf-2d4d-454f-b7c0-087a9476e7c6",
   "metadata": {},
   "outputs": [],
   "source": [
    "all_layer_topics = [layer0_topics, layer1_topics, layer2_topics, layer3_topics]"
   ]
  },
  {
   "cell_type": "code",
   "execution_count": 41,
   "id": "a50cec10-b961-4cd7-ba84-4c9bc2a32527",
   "metadata": {},
   "outputs": [],
   "source": [
    "from tqdm.auto import trange"
   ]
  },
  {
   "cell_type": "markdown",
   "id": "bfa3b3ca-ca62-4f63-88f8-ae97655501f1",
   "metadata": {},
   "source": [
    "And now we just go through the layers and fix up topic names; generating the topic label vectors suitable for input directly into [DataMapPlot](https://github.com/TutteInstitute/datamapplot):"
   ]
  },
  {
   "cell_type": "code",
   "execution_count": 42,
   "id": "3dbaaff1-8e1d-4c34-88b3-54aea72763f2",
   "metadata": {},
   "outputs": [
    {
     "data": {
      "application/vnd.jupyter.widget-view+json": {
       "model_id": "bf67661678e848efafee6fd967a33442",
       "version_major": 2,
       "version_minor": 0
      },
      "text/plain": [
       "  0%|          | 0/4 [00:00<?, ?it/s]"
      ]
     },
     "metadata": {},
     "output_type": "display_data"
    },
    {
     "name": "stdout",
     "output_type": "stream",
     "text": [
      "Working on layer 3\n",
      "Working on cluster 0\n",
      "Working on layer 2\n",
      "Working on cluster 0\n",
      "Working on layer 1\n",
      "Working on cluster 0\n",
      "Working on layer 0\n",
      "Working on cluster 0\n",
      "CPU times: user 4.04 ms, sys: 17 µs, total: 4.05 ms\n",
      "Wall time: 3.5 ms\n"
     ]
    }
   ],
   "source": [
    "%%time\n",
    "layer_clusters = [np.full(data_map.shape[0], \"Unlabelled\", dtype=object) for i in range(len(all_layer_topics))]\n",
    "unique_names = set([])\n",
    "\n",
    "for n in trange(len(all_layer_topics) - 1, -1, -1):\n",
    "    print(f\"Working on layer {n}\")\n",
    "    for i, (name, indices) in enumerate(zip(all_layer_topics[n], pointset_layers[n])):\n",
    "        if i % 100 == 0:\n",
    "            print(f\"Working on cluster {i}\")\n",
    "        n_attempts = 0\n",
    "        recapped_name = string.capwords(name.strip(string.punctuation + string.whitespace))\n",
    "        unique_name = recapped_name\n",
    "        original_topic_names = [unique_name]\n",
    "        while unique_name in unique_names and n_attempts < 8:\n",
    "            prompt_text = create_final_remedy_prompt(\n",
    "                original_topic_names, data_strings[\"Title\"], data_vectors, indices, vector_layers[n][i]\n",
    "            )\n",
    "            unique_name = llm(prompt_text, max_tokens=36)['choices'][0]['text']\n",
    "            if \"\\n\" in unique_name:\n",
    "                unique_name = unique_name.lstrip(\"\\n \")\n",
    "                unique_name = unique_name.split(\"\\n\")[0]\n",
    "            unique_name = string.capwords(unique_name.strip(string.punctuation + string.whitespace))\n",
    "            original_topic_names.append(unique_name)\n",
    "            n_attempts += 1\n",
    "        if n_attempts > 0:\n",
    "            print(f\"{name} --> {unique_name} after {n_attempts} attempts\")\n",
    "        unique_names.add(unique_name)\n",
    "        layer_clusters[n][indices] = unique_name"
   ]
  },
  {
   "cell_type": "markdown",
   "id": "3666271b-2e9a-4c35-ad43-9c5d5f1d7f1f",
   "metadata": {},
   "source": [
    "A quick glance at the topic names generated for the two uppermost layers shows we mostly did a decent job. Obviously with a little more care we could do a lot better, but for something essentially entirely auotmated this is not so bad. At worst you can go in an clean up some of the topic names by hand."
   ]
  },
  {
   "cell_type": "code",
   "execution_count": 43,
   "id": "194adbc0-0eec-4fa1-8090-46aabf75b575",
   "metadata": {},
   "outputs": [
    {
     "data": {
      "text/plain": [
       "['Machine Learning In Aquatic Studies', 'Waves And Climate']"
      ]
     },
     "execution_count": 43,
     "metadata": {},
     "output_type": "execute_result"
    }
   ],
   "source": [
    "all_layer_topics[-1]"
   ]
  },
  {
   "cell_type": "code",
   "execution_count": 51,
   "id": "10c4f65c-4ad5-4365-95b7-f2e1dcd4e7ed",
   "metadata": {},
   "outputs": [
    {
     "data": {
      "text/plain": [
       "['Marine Dynamics And Prediction',\n",
       " 'Satellite Remote Sensing And Machine Learning For Marine Bioge',\n",
       " 'Underwater Image Classification Using Convolutional Neural Networks',\n",
       " 'Marine Ecosystem Detection And Prediction']"
      ]
     },
     "execution_count": 51,
     "metadata": {},
     "output_type": "execute_result"
    }
   ],
   "source": [
    "all_layer_topics[-2]"
   ]
  },
  {
   "cell_type": "markdown",
   "id": "baca6ac6-baa1-4e08-92b0-1627ec6d2770",
   "metadata": {},
   "source": [
    "# Create an interactive plot and save as HTML"
   ]
  },
  {
   "cell_type": "code",
   "execution_count": null,
   "id": "f493ca61-95ce-4ee6-ace8-8209baef8451",
   "metadata": {},
   "outputs": [],
   "source": []
  },
  {
   "cell_type": "code",
   "execution_count": 57,
   "id": "6771ee69-cfa8-4b65-ba3e-2d4aedc380a0",
   "metadata": {},
   "outputs": [
    {
     "data": {
      "text/html": [
       "\n",
       "            <iframe\n",
       "                width=100%\n",
       "                height=800\n",
       "                frameborder=\"0\"\n",
       "                srcdoc=\"\n",
       "&lt;!DOCTYPE html&gt;\n",
       "&lt;html&gt;\n",
       "  &lt;head&gt;\n",
       "    &lt;meta http-equiv=&quot;content-type&quot; content=&quot;text/html; charset=UTF-8&quot; /&gt;\n",
       "    &lt;title&gt;Oceanography + ML Landscape&lt;/title&gt;\n",
       "    \n",
       "    &lt;link rel=&quot;preconnect&quot; href=&quot;https://fonts.googleapis.com&quot;&gt;\n",
       "    &lt;link rel=&quot;preconnect&quot; href=&quot;https://fonts.gstatic.com&quot; crossorigin&gt;\n",
       "    &lt;link href=&quot;https://fonts.googleapis.com/css2?family=Cinzel&amp;display=swap&quot; rel=&quot;stylesheet&quot;&gt;\n",
       "    \n",
       "       \n",
       "    &lt;link rel=&quot;stylesheet&quot; href=&quot;https://maxcdn.bootstrapcdn.com/bootstrap/3.2.0/css/bootstrap-theme.min.css&quot; /&gt;\n",
       "    &lt;link rel=&quot;stylesheet&quot; href=&quot;https://maxcdn.bootstrapcdn.com/font-awesome/4.6.3/css/font-awesome.min.css&quot; /&gt;\n",
       "    &lt;script src=&quot;https://unpkg.com/deck.gl@latest/dist.min.js&quot;&gt;&lt;/script&gt;\n",
       "    \n",
       "    &lt;script src=&quot;https://unpkg.com/fflate@0.8.0&quot;&gt;&lt;/script&gt;\n",
       "    \n",
       "    &lt;style&gt;\n",
       "        body {\n",
       "          margin: 0;\n",
       "          padding: 0;\n",
       "          overflow: hidden;\n",
       "          background: #000000;\n",
       "        }\n",
       "\n",
       "        #deck-container {\n",
       "          width: 100vw;\n",
       "          height: 100vh;\n",
       "        }\n",
       "\n",
       "        #deck-container canvas {\n",
       "          z-index: 1;\n",
       "          background: #000000;\n",
       "        }\n",
       "\n",
       "        .deck-tooltip {\n",
       "            \n",
       "            font-size: 0.8em;\n",
       "            font-family: Cinzel;\n",
       "            color: #ffffff !important;\n",
       "            background-color: #000000aa !important;\n",
       "            border-radius: 12px;\n",
       "            box-shadow: 2px 3px 10px #00000044;\n",
       "            max-width: 25%;\n",
       "        }\n",
       "        \n",
       "        #loading {\n",
       "            width: 100%;\n",
       "            height: 100%;\n",
       "            top: 0px;\n",
       "            left: 0px;\n",
       "            position: absolute;\n",
       "            display: block; \n",
       "            z-index: 99\n",
       "        }\n",
       "\n",
       "        #loading-image {\n",
       "            position: absolute;\n",
       "            top: 45%;\n",
       "            left: 47.5%;\n",
       "            z-index: 100\n",
       "        }\n",
       "        \n",
       "        #title-container {\n",
       "            position: absolute;\n",
       "            top: 0;\n",
       "            left: 0;\n",
       "            margin: 16px;\n",
       "            padding: 12px;\n",
       "            border-radius: 16px;\n",
       "            line-height: 0.95;\n",
       "            z-index: 2;\n",
       "            font-family: Cinzel;\n",
       "            color: #ffffff;\n",
       "            background: #000000aa;\n",
       "            box-shadow: 2px 3px 10px #00000044;\n",
       "        }\n",
       "        \n",
       "        \n",
       "        #search-container{\n",
       "            position: absolute;\n",
       "            left: -16px;\n",
       "            margin: 16px;\n",
       "            padding: 12px;\n",
       "            border-radius: 16px;\n",
       "            z-index: 2;\n",
       "            font-family: Cinzel;\n",
       "            color: #ffffff;\n",
       "            background: #000000aa;\n",
       "            width: fit-content;\n",
       "            box-shadow: 2px 3px 10px #00000044;\n",
       "        }\n",
       "        input {\n",
       "            margin: 2px;\n",
       "            padding: 4px;\n",
       "            border-radius: 8px;\n",
       "            color: #ffffff;\n",
       "            background: #000000dd;\n",
       "            border: 1px solid 222222ff;\n",
       "            transition: 0.5s;\n",
       "            outline: none;\n",
       "        }\n",
       "        input:focus {\n",
       "          border: 2px solid #555;\n",
       "        }\n",
       "        \n",
       "        \n",
       "    &lt;/style&gt;\n",
       "  &lt;/head&gt;\n",
       "  &lt;body&gt;\n",
       "    &lt;div id=&quot;loading&quot;&gt;\n",
       "        &lt;img id=&quot;loading-image&quot; src=&quot;https://i.gifer.com/ZKZg.gif&quot; alt=&quot;Loading...&quot; width=&quot;5%&quot;/&gt;\n",
       "    &lt;/div&gt;\n",
       "    \n",
       "    &lt;div id=&quot;title-container&quot;&gt;\n",
       "        &lt;span style=&quot;font-family:Cinzel;font-size:36pt;color:#ffffff&quot;&gt;\n",
       "            Oceanography + ML Landscape\n",
       "        &lt;/span&gt;&lt;br/&gt;\n",
       "        &lt;span style=&quot;font-family:Cinzel;font-size:18pt;color:#777777&quot;&gt;\n",
       "            Papers using Machine Learning for Oceanographic research\n",
       "        &lt;/span&gt;\n",
       "        \n",
       "        &lt;div id=&quot;search-container&quot;&gt;\n",
       "            &lt;input autocomplete=&quot;off&quot; type=&quot;search&quot; id=&quot;search&quot; placeholder=&quot;🔍&quot;&gt;\n",
       "        &lt;/div&gt;\n",
       "        \n",
       "    &lt;/div&gt;\n",
       "    \n",
       "    \n",
       "    &lt;div id=&quot;deck-container&quot;&gt;\n",
       "    &lt;/div&gt;\n",
       "    \n",
       "  &lt;/body&gt;\n",
       "  &lt;script type=&quot;module&quot;&gt;\n",
       "    import { ArrowLoader } from &#x27;https://cdn.jsdelivr.net/npm/@loaders.gl/arrow@4.1.0-alpha.10/+esm&#x27;\n",
       "    import { JSONLoader } from &#x27;https://cdn.jsdelivr.net/npm/@loaders.gl/json@4.0.5/+esm&#x27;\n",
       "    \n",
       "\n",
       "    \n",
       "    const pointDataBase64 = &quot;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&quot;;\n",
       "    const pointDataBuffer = fflate.strToU8(atob(pointDataBase64), true);\n",
       "    const pointData = await loaders.parse(pointDataBuffer, ArrowLoader);\n",
       "    const hoverDataBase64 = &quot;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&quot;;\n",
       "    const hoverDataBuffer = fflate.strToU8(atob(hoverDataBase64), true);\n",
       "    const unzippedHoverData = fflate.gunzipSync(hoverDataBuffer);\n",
       "    const hoverData = await loaders.parse(unzippedHoverData, ArrowLoader);\n",
       "    const labelDataBase64 = &quot;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&quot;;\n",
       "    const labelDataBuffer = fflate.strToU8(atob(labelDataBase64), true);\n",
       "    const unzippedLabelData = fflate.gunzipSync(labelDataBuffer);    \n",
       "    const labelData = await loaders.parse(unzippedLabelData, JSONLoader);\n",
       "    \n",
       "    \n",
       "    const DATA = {src: pointData.data, length: pointData.data.x.length}\n",
       "\n",
       "    const container = document.getElementById(&#x27;deck-container&#x27;);\n",
       "    const pointLayer = new deck.ScatterplotLayer({\n",
       "        id: &#x27;dataPointLayer&#x27;,\n",
       "        data: DATA,\n",
       "        getPosition: (object, {index, data}) =&gt; {\n",
       "            return [data.src.x[index], data.src.y[index]];\n",
       "        },\n",
       "        \n",
       "        getRadius: (object, {index, data}) =&gt; {\n",
       "            return data.src.size[index];\n",
       "        },\n",
       "        \n",
       "        getFillColor: (object, {index, data}) =&gt; {\n",
       "            return [\n",
       "                data.src.r[index], \n",
       "                data.src.g[index], \n",
       "                data.src.b[index],\n",
       "                180\n",
       "            ]\n",
       "        },\n",
       "        getLineColor: (object, {index, data}) =&gt; {\n",
       "            return [\n",
       "                data.src.r[index], \n",
       "                data.src.g[index], \n",
       "                data.src.b[index],\n",
       "                32\n",
       "            ]\n",
       "        },       \n",
       "        getLineColor: [5, 5, 5, 128],\n",
       "        getLineWidth: 0.001,\n",
       "        highlightColor: [170, 0, 0, 187], \n",
       "        lineWidthMaxPixels: 8,\n",
       "        lineWidthMinPixels: 0.1,\n",
       "        radiusMaxPixels: 18, \n",
       "        radiusMinPixels: 1,\n",
       "        radiusUnits: &quot;common&quot;, \n",
       "        lineWidthUnits: &quot;common&quot;, \n",
       "        autoHighlight: true,\n",
       "        pickable: true, \n",
       "        stroked: true\n",
       "    });\n",
       "    const labelLayer = new deck.TextLayer({\n",
       "        id: &quot;textLabelLayer&quot;,\n",
       "        data: labelData,\n",
       "        pickable: false,\n",
       "        getPosition: d =&gt; [d.x, d.y],\n",
       "        getText: d =&gt; d.label,\n",
       "        getColor: [255, 255, 255, 255],\n",
       "        getSize: d =&gt; d.size,\n",
       "        sizeScale: 1,\n",
       "        sizeMinPixels: 12,\n",
       "        sizeMaxPixels: 36,\n",
       "        outlineWidth: 8,\n",
       "        outlineColor: [17, 17, 17, 221],\n",
       "        getBackgroundColor: [0, 0, 0, 64],\n",
       "        getBackgroundPadding: [15, 15, 15, 15],\n",
       "        background: true,\n",
       "        characterSet: &quot;auto&quot;,\n",
       "        fontFamily: &quot;Cinzel&quot;,\n",
       "        lineHeight: 0.95,\n",
       "        fontSettings: {&quot;sdf&quot;: true},\n",
       "        getTextAnchor: &quot;middle&quot;,\n",
       "        getAlignmentBaseline: &quot;center&quot;,\n",
       "        lineHeight: 0.95,\n",
       "        elevation: 100,\n",
       "        // CollideExtension options\n",
       "        collisionEnabled: true,\n",
       "        getCollisionPriority: d =&gt; d.size,\n",
       "        collisionTestProps: {\n",
       "          sizeScale: 3,\n",
       "          sizeMaxPixels: 36 * 2,\n",
       "          sizeMinPixels: 12 * 2\n",
       "        },\n",
       "        extensions: [new deck.CollisionFilterExtension()],\n",
       "    });\n",
       "    \n",
       "    const boundaryLayer = new deck.PolygonLayer({\n",
       "        data: labelData,\n",
       "        stroked: true,\n",
       "        filled: false,\n",
       "        getLineColor: d =&gt; [d.r, d.g, d.b, d.a],\n",
       "        getPolygon: d =&gt; d.polygon,\n",
       "        lineWidthUnits: &quot;common&quot;,\n",
       "        getLineWidth: d =&gt; d.size * d.size,\n",
       "        lineWidthScale: 1 * 5e-5,\n",
       "        lineJointRounded: true,\n",
       "        lineWidthMaxPixels: 4,\n",
       "        lineWidthMinPixels: 0.0,\n",
       "    });\n",
       "    \n",
       "\n",
       "    const deckgl = new deck.DeckGL({\n",
       "      container: container,\n",
       "      initialViewState: {\n",
       "        latitude: 5.3810487,\n",
       "        longitude: 2.4805677,\n",
       "        zoom: 5.3757327013509935\n",
       "      },\n",
       "      controller: true,\n",
       "      \n",
       "      layers: [pointLayer, boundaryLayer, labelLayer],\n",
       "      \n",
       "      \n",
       "      onClick: ({index}, event) =&gt; window.open(`http://google.com/search?q=&quot;${hoverData.data.hover_text[index]}&quot;`),\n",
       "      \n",
       "      getTooltip: ({index}) =&gt; hoverData.data.hover_text[index]\n",
       "    });\n",
       "    \n",
       "    document.getElementById(&quot;loading&quot;).style.display = &quot;none&quot;;\n",
       "        \n",
       "    \n",
       "        function selectPoints(item, conditional) {\n",
       "        var layerId;\n",
       "        if (item) {\n",
       "            for (var i = 0; i &lt; DATA.length; i++) {\n",
       "                if (conditional(i)) {\n",
       "                    DATA.src.selected[i] = 1;\n",
       "                } else {\n",
       "                    DATA.src.selected[i] = 0;\n",
       "                }\n",
       "            }\n",
       "            layerId = &#x27;selectedPointLayer&#x27; + item;\n",
       "        } else {\n",
       "            for (var i = 0; i &lt; DATA.length; i++) {\n",
       "                DATA.src.selected[i] = 1;\n",
       "            }\n",
       "            layerId = &#x27;dataPointLayer&#x27;;\n",
       "        }\n",
       "        const selectedPointLayer = pointLayer.clone(\n",
       "            {\n",
       "                id: layerId,\n",
       "                data: DATA,\n",
       "                getFilterValue: (object, {index, data}) =&gt; data.src.selected[index],\n",
       "                filterRange: [1, 2],\n",
       "                extensions: [new deck.DataFilterExtension({filterSize: 1})]\n",
       "            }\n",
       "        );\n",
       "        deckgl.setProps(\n",
       "            {layers: \n",
       "                [selectedPointLayer].concat(deckgl.props.layers.slice(1,))\n",
       "            }\n",
       "        );\n",
       "    }\n",
       "    \n",
       "    const search = document.getElementById(&quot;search&quot;);\n",
       "    search.addEventListener(&quot;input&quot;, (event) =&gt; {\n",
       "            const search_term = event.target.value.toLowerCase();\n",
       "            selectPoints(search_term, (i) =&gt; hoverData.data.hover_text[i].toLowerCase().includes(search_term));\n",
       "        }\n",
       "    );\n",
       "    \n",
       "    \n",
       "    &lt;/script&gt;\n",
       "&lt;/html&gt;\"\n",
       "            ></iframe>\n",
       "        "
      ],
      "text/plain": [
       "<InteractiveFigure width=100% height=800>"
      ]
     },
     "execution_count": 57,
     "metadata": {},
     "output_type": "execute_result"
    }
   ],
   "source": [
    "plot = datamapplot.create_interactive_plot(\n",
    "    data_map,\n",
    "    layer_clusters[0],\n",
    "    layer_clusters[1],\n",
    "    # layer_clusters[2],\n",
    "    layer_clusters[3],\n",
    "    font_family=\"Cinzel\",\n",
    "    cluster_boundary_polygons=True,\n",
    "    # cluster_boundary_line_width=6,\n",
    "    title=\"Oceanography + ML Landscape\",\n",
    "    sub_title=\"Papers using Machine Learning for Oceanographic research\",\n",
    "    enable_search=True,\n",
    "    darkmode=True,\n",
    "    # use_medoids=True,\n",
    "    color_label_text=False,\n",
    "    # inline_data=False,\n",
    "    # offline_data_prefix=\"bb-ai-1\",\n",
    "    on_click=\"window.open(`http://google.com/search?q=\\\"{hover_text}\\\"`)\",\n",
    "    cmap=matplotlib.colormaps.get_cmap(\"cet_glasbey\"),\n",
    "    min_fontsize=18,\n",
    "    max_fontsize=18,\n",
    "    marker_size_array=[len(x) for x in dataset['Title']],\n",
    "    point_radius_min_pixels=1,\n",
    "    point_radius_max_pixels=18,\n",
    "    hover_text=dataset['Title'],\n",
    ")\n",
    "plot"
   ]
  },
  {
   "cell_type": "code",
   "execution_count": null,
   "id": "f2d73e24-0b55-45eb-b672-35a89994f902",
   "metadata": {},
   "outputs": [],
   "source": [
    "plot.save(\"index.html\")"
   ]
  },
  {
   "cell_type": "code",
   "execution_count": null,
   "id": "d29692d2-1cf8-4d07-b545-a98362ee6a67",
   "metadata": {},
   "outputs": [],
   "source": []
  }
 ],
 "metadata": {
  "kernelspec": {
   "display_name": "Python 3 (ipykernel)",
   "language": "python",
   "name": "python3"
  },
  "language_info": {
   "codemirror_mode": {
    "name": "ipython",
    "version": 3
   },
   "file_extension": ".py",
   "mimetype": "text/x-python",
   "name": "python",
   "nbconvert_exporter": "python",
   "pygments_lexer": "ipython3",
   "version": "3.11.6"
  }
 },
 "nbformat": 4,
 "nbformat_minor": 5
}
